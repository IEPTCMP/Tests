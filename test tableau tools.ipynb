{
 "cells": [
  {
   "cell_type": "code",
   "execution_count": 29,
   "id": "tough-reception",
   "metadata": {},
   "outputs": [],
   "source": [
    "from cirq_bifurcation_rg import *\n",
    "from tableau_tools import *"
   ]
  },
  {
   "cell_type": "code",
   "execution_count": 30,
   "id": "opposite-alignment",
   "metadata": {},
   "outputs": [],
   "source": [
    "L = 7"
   ]
  },
  {
   "cell_type": "code",
   "execution_count": 31,
   "id": "blessed-passage",
   "metadata": {
    "scrolled": true
   },
   "outputs": [
    {
     "name": "stdout",
     "output_type": "stream",
     "text": [
      "diagonalizing\n",
      "were here\n",
      "max_residual_term (0.7889221950285694+0j)*X(4)*X(5)\n",
      "N 0\n",
      "heres the term and clifford\n",
      "this is the clifford [cirq.SWAP(cirq.LineQubit(4), cirq.LineQubit(0)), cirq.PauliSum(cirq.LinearDict({frozenset({(cirq.LineQubit(4), cirq.Y), (cirq.LineQubit(5), cirq.X)}): -0.7071067811865475j, frozenset(): (0.7071067811865475+0j)}))]\n",
      "last sigma term -0.309*X(0)*X(5)+0.503*Y(0)*Y(5)\n",
      "were here\n",
      "max_residual_term (0.6732578262617481+0j)*Z(1)\n",
      "N 1\n",
      "there is one z 1 [(cirq.LineQubit(1), cirq.Z)]\n",
      "heres the term and clifford\n",
      "this is the clifford []\n",
      "last sigma term 0.476*X(1)*X(4)+0.283*X(1)*X(2)\n",
      "were here\n",
      "max_residual_term (0.5813464017746388+0j)*X(4)*X(6)\n",
      "N 2\n",
      "heres the term and clifford\n",
      "this is the clifford [cirq.SWAP(cirq.LineQubit(4), cirq.LineQubit(2)), cirq.PauliSum(cirq.LinearDict({frozenset({(cirq.LineQubit(4), cirq.Y), (cirq.LineQubit(6), cirq.X)}): -0.7071067811865475j, frozenset(): (0.7071067811865475+0j)}))]\n",
      "last sigma term -0.528*X(2)*X(6)+0.102*Y(2)*Y(6)\n",
      "were here\n",
      "max_residual_term (0.3649178856626385+0j)*X(5)*X(6)\n",
      "N 3\n",
      "heres the term and clifford\n",
      "this is the clifford [cirq.SWAP(cirq.LineQubit(5), cirq.LineQubit(3)), cirq.PauliSum(cirq.LinearDict({frozenset({(cirq.LineQubit(6), cirq.X), (cirq.LineQubit(5), cirq.Y)}): -0.7071067811865475j, frozenset(): (0.7071067811865475+0j)}))]\n",
      "last sigma term -0.197*X(3)*X(6)+0.092*Y(3)*Y(6)\n",
      "were here\n",
      "max_residual_term (0.36405190439259777+0j)*Z(5)\n",
      "N 4\n",
      "there is one z 1 [(cirq.LineQubit(5), cirq.Z)]\n",
      "heres the term and clifford\n",
      "this is the clifford [cirq.SWAP(cirq.LineQubit(5), cirq.LineQubit(4))]\n",
      "last sigma term 0.357*X(4)*X(5)+0.354*Z(0)*Z(3)*X(4)*X(6)\n",
      "were here\n",
      "max_residual_term (0.3470037383527687+0j)*Z(0)*Z(3)*Z(4)*X(5)*X(6)\n",
      "N 5\n",
      "heres the term and clifford\n",
      "this is the clifford [cirq.PauliSum(cirq.LinearDict({frozenset({(cirq.LineQubit(6), cirq.X), (cirq.LineQubit(5), cirq.Y), (cirq.LineQubit(0), cirq.Z), (cirq.LineQubit(4), cirq.Z), (cirq.LineQubit(3), cirq.Z)}): -0.7071067811865475j, frozenset(): (0.7071067811865475+0j)}))]\n",
      "last sigma term -0.281*Z(0)*Z(3)*Z(4)*X(5)*X(6)+0.050*Z(0)*Z(3)*Z(4)*Y(5)*Y(6)\n",
      "were here\n",
      "max_residual_term (0.04031958401665791+0j)*Z(6)\n",
      "N 6\n",
      "there is one z 1 [(cirq.LineQubit(6), cirq.Z)]\n",
      "heres the term and clifford\n",
      "this is the clifford []\n"
     ]
    }
   ],
   "source": [
    "ham_generator = give_tfim_1d_hamiltonian_generator(\n",
    "    n=L,\n",
    "    j0=1,\n",
    "    k0=0,\n",
    "    h0=1,\n",
    "    gamma0=1,\n",
    "    periodic=True,\n",
    ")\n",
    "\n",
    "\n",
    "test_ham = ham_generator()\n",
    "\n",
    "sbrg_object=BifurcationRG(\n",
    "    hamiltonian=test_ham.copy(),\n",
    "    growth_rate=10**4,\n",
    ")\n",
    "\n",
    "sbrg_object.diagonalize()\n",
    "\n",
    "dham = sbrg_object.hamiltonian"
   ]
  },
  {
   "cell_type": "code",
   "execution_count": 73,
   "id": "279eb7ca",
   "metadata": {},
   "outputs": [
    {
     "data": {
      "text/plain": [
       "cirq.PauliSum(cirq.LinearDict({frozenset({(cirq.LineQubit(0), cirq.Z)}): (1.2304612533046817+0j), frozenset({(cirq.LineQubit(3), cirq.Z)}): (0.4944492730872727+0j), frozenset({(cirq.LineQubit(2), cirq.Z)}): (1.0779580207811028+0j), frozenset({(cirq.LineQubit(1), cirq.Z)}): (1.127676430511583+0j), frozenset({(cirq.LineQubit(5), cirq.Z)}): (0.5822793440221011+0j), frozenset({(cirq.LineQubit(4), cirq.Z)}): (1.058082881279439+0j), frozenset({(cirq.LineQubit(5), cirq.Z), (cirq.LineQubit(0), cirq.Z), (cirq.LineQubit(4), cirq.Z), (cirq.LineQubit(3), cirq.Z), (cirq.LineQubit(1), cirq.Z), (cirq.LineQubit(2), cirq.Z)}): (0.1995390738346593+0j), frozenset({(cirq.LineQubit(6), cirq.Z)}): (0.04031958401665791+0j)}))"
      ]
     },
     "execution_count": 73,
     "metadata": {},
     "output_type": "execute_result"
    }
   ],
   "source": [
    "dham"
   ]
  },
  {
   "cell_type": "code",
   "execution_count": 32,
   "id": "executed-reviewer",
   "metadata": {},
   "outputs": [],
   "source": [
    "stabilizers = tuple([cirq.Z(cirq.LineQubit(x)) for x in range(L)])\n",
    "\n",
    "destabilizers = tuple([cirq.X(cirq.LineQubit(x)) for x in range(L)])"
   ]
  },
  {
   "cell_type": "code",
   "execution_count": 33,
   "id": "f835cf94",
   "metadata": {},
   "outputs": [
    {
     "data": {
      "text/plain": [
       "cirq.PauliSum(cirq.LinearDict({}))"
      ]
     },
     "execution_count": 33,
     "metadata": {},
     "output_type": "execute_result"
    }
   ],
   "source": [
    "destabilizers[0]*stabilizers[1]-stabilizers[1]*destabilizers[0]"
   ]
  },
  {
   "cell_type": "code",
   "execution_count": 34,
   "id": "reasonable-feelings",
   "metadata": {},
   "outputs": [],
   "source": [
    "check_commutation = True\n",
    "\n",
    "if check_commutation:\n",
    "    \n",
    "    for s1 in stabilizers:\n",
    "        for s2 in stabilizers:\n",
    "            comm = s1*s2-s2*s1\n",
    "            \n",
    "            for term in comm:\n",
    "                assert False, term\n",
    "    \n",
    "    for s1 in destabilizers:\n",
    "        for s2 in destabilizers:\n",
    "            comm = s1*s2-s2*s1\n",
    "            \n",
    "            for term in comm:\n",
    "                assert False, term\n",
    "    \n",
    "    for s, d in zip(stabilizers, destabilizers):\n",
    "        acomm = s*d+d*s\n",
    "        \n",
    "        for term in acomm:\n",
    "            assert False, term\n",
    "    \n",
    "    for i, s in enumerate(stabilizers):\n",
    "        for j, d in enumerate(destabilizers):\n",
    "            if i==j:\n",
    "                acomm = s*d+d*s\n",
    "                for term in acomm:\n",
    "                    assert False, term\n",
    "            else:\n",
    "                comm = s1*s2-s2*s1\n",
    "                for term in comm:\n",
    "                    assert False, term"
   ]
  },
  {
   "cell_type": "code",
   "execution_count": 35,
   "id": "unsigned-persian",
   "metadata": {},
   "outputs": [],
   "source": [
    "modded_stabilizer_ps = tuple(\n",
    "    [\n",
    "        sbrg_object.apply_clifford_diagonalization(\n",
    "            hamiltonian=cirq.PauliSum()+cirq.Z(cirq.LineQubit(x))\n",
    "        ) for x in range(L)\n",
    "    ]\n",
    ")\n",
    "\n",
    "modded_stabilizers = []\n",
    "for stab in modded_stabilizer_ps:\n",
    "    for term in stab:\n",
    "        modded_stabilizers.append(term)\n",
    "\n",
    "modded_destabilizers_ps = tuple(\n",
    "    [\n",
    "        sbrg_object.apply_clifford_diagonalization(\n",
    "            hamiltonian=cirq.PauliSum()+cirq.X(cirq.LineQubit(x))\n",
    "        ) for x in range(L)\n",
    "    ]\n",
    ")\n",
    "\n",
    "modded_destabilizers = []\n",
    "for stab in modded_destabilizers_ps:\n",
    "    for term in stab:\n",
    "        modded_destabilizers.append(term)\n"
   ]
  },
  {
   "cell_type": "code",
   "execution_count": 36,
   "id": "identified-speaker",
   "metadata": {},
   "outputs": [],
   "source": [
    "if check_commutation:\n",
    "    \n",
    "    for s1 in modded_stabilizers:\n",
    "        for s2 in modded_stabilizers:\n",
    "            comm = s1*s2-s2*s1\n",
    "            \n",
    "            for term in comm:\n",
    "                assert False, term\n",
    "    \n",
    "    for s1 in modded_destabilizers:\n",
    "        for s2 in modded_destabilizers:\n",
    "            comm = s1*s2-s2*s1\n",
    "            \n",
    "            for term in comm:\n",
    "                assert False, term\n",
    "    \n",
    "    for s, d in zip(modded_stabilizers, modded_destabilizers):\n",
    "        acomm = s*d+d*s\n",
    "        \n",
    "        for term in acomm:\n",
    "            assert False, term\n",
    "    \n",
    "    for i, s in enumerate(modded_stabilizers):\n",
    "        for j, d in enumerate(modded_destabilizers):\n",
    "            if i==j:\n",
    "                acomm = s*d+d*s\n",
    "                for term in acomm:\n",
    "                    assert False, term\n",
    "            else:\n",
    "                comm = s1*s2-s2*s1\n",
    "                for term in comm:\n",
    "                    assert False, term"
   ]
  },
  {
   "cell_type": "markdown",
   "id": "substantial-james",
   "metadata": {},
   "source": [
    "### Pauli decomposition"
   ]
  },
  {
   "cell_type": "code",
   "execution_count": 37,
   "id": "color-scholarship",
   "metadata": {},
   "outputs": [
    {
     "name": "stdout",
     "output_type": "stream",
     "text": [
      "test passed\n"
     ]
    }
   ],
   "source": [
    "pauli_terms = [\n",
    "    cirq.X(cirq.LineQubit(np.random.choice(L)))*cirq.Y(cirq.LineQubit(np.random.choice(L)))*cirq.Z(cirq.LineQubit(np.random.choice(L)))*cirq.X(cirq.LineQubit(np.random.choice(L))),\n",
    "    cirq.Y(cirq.LineQubit(np.random.choice(L))),\n",
    "    cirq.Z(cirq.LineQubit(np.random.choice(L))),\n",
    "    cirq.Y(cirq.LineQubit(np.random.choice(L)))*cirq.Z(cirq.LineQubit(np.random.choice(L))),\n",
    "    cirq.Y(cirq.LineQubit(np.random.choice(L)))*cirq.Y(cirq.LineQubit(np.random.choice(L))),\n",
    "]\n",
    "\n",
    "for pauli_term in pauli_terms:\n",
    "    alpha, s_vec, d_vec = give_decomposition(pauli_term, stabilizers, destabilizers)\n",
    "\n",
    "    pauli_term_1 = alpha*np.prod(\n",
    "        [cirq.PauliSum()+d for i, d in zip(d_vec, destabilizers) if i==1]\n",
    "    )*np.prod(\n",
    "        [cirq.PauliSum()+s for i, s in zip(s_vec, stabilizers) if i==1]\n",
    "    )\n",
    "\n",
    "    for term in (pauli_term_1 - pauli_term):\n",
    "        if abs(term.coefficient)>10**-10:\n",
    "            assert False\n",
    "\n",
    "    modded_alpha, modded_s_vec, modded_d_vec = give_decomposition(\n",
    "        pauli_term, modded_stabilizers, modded_destabilizers\n",
    "    )\n",
    "\n",
    "    pauli_term_2 = modded_alpha*np.prod(\n",
    "        [cirq.PauliSum()+d for i, d in zip(modded_d_vec, modded_destabilizers) if i==1]\n",
    "    )*np.prod(\n",
    "        [cirq.PauliSum()+s for i, s in zip(modded_s_vec, modded_stabilizers) if i==1]\n",
    "    )\n",
    "\n",
    "    for term in (pauli_term_2 - pauli_term):\n",
    "\n",
    "        if abs(term.coefficient)>10**-10:\n",
    "            assert False\n",
    "\n",
    "print(\"test passed\")"
   ]
  },
  {
   "cell_type": "code",
   "execution_count": 38,
   "id": "associate-wheel",
   "metadata": {},
   "outputs": [
    {
     "name": "stdout",
     "output_type": "stream",
     "text": [
      "test passed\n"
     ]
    }
   ],
   "source": [
    "\n",
    "ints = [1, 50, 321, 1000000000001]\n",
    "\n",
    "for i in ints:\n",
    "    assert i == convert_bin_to_idx(convert_idx_to_bin(i))\n",
    "\n",
    "bins = [(1,0,1,1), (0,) , (0,1), (0,0,0,0,1)]\n",
    "\n",
    "for binary in bins:\n",
    "    assert binary == convert_idx_to_bin(convert_bin_to_idx(binary))\n",
    "print(\"test passed\")"
   ]
  },
  {
   "cell_type": "code",
   "execution_count": 39,
   "id": "nominated-teaching",
   "metadata": {},
   "outputs": [
    {
     "name": "stdout",
     "output_type": "stream",
     "text": [
      "test passed\n"
     ]
    }
   ],
   "source": [
    "for _ in range(10):\n",
    "    binary1, binary2 = tuple(np.random.choice(2, size=L)), tuple(np.random.choice(2, size=L))\n",
    "    \n",
    "    added_binary = binary_add(binary1, binary2)\n",
    "    \n",
    "    checked_added_binary = convert_bin_to_idx([(a+b)%2 for a, b in zip(binary1, binary2)])\n",
    "    \n",
    "    assert checked_added_binary == added_binary\n",
    "print(\"test passed\")"
   ]
  },
  {
   "cell_type": "code",
   "execution_count": 40,
   "id": "violent-logging",
   "metadata": {},
   "outputs": [
    {
     "name": "stdout",
     "output_type": "stream",
     "text": [
      "test passed\n"
     ]
    }
   ],
   "source": [
    "for _ in range(10):\n",
    "    binary1, binary2 = tuple(np.random.choice(2, size=L)), tuple(np.random.choice(2, size=L))\n",
    "    \n",
    "    assert binary_dot(binary1, binary2) == sum([a*b for a, b in zip(binary1, binary2)])%2\n",
    "print(\"test passed\")"
   ]
  },
  {
   "cell_type": "markdown",
   "id": "amazing-battle",
   "metadata": {},
   "source": [
    "### Mapping $\\chi$ to density matrices"
   ]
  },
  {
   "cell_type": "code",
   "execution_count": 41,
   "id": "concerned-messenger",
   "metadata": {},
   "outputs": [
    {
     "name": "stdout",
     "output_type": "stream",
     "text": [
      "test passed\n"
     ]
    }
   ],
   "source": [
    "\n",
    "for rep in range(1):\n",
    "\n",
    "    test_chi_1 = dict()\n",
    "\n",
    "    stab_state_1 = np.prod([cirq.PauliSum()+(1+s)/2 for s in stabilizers])\n",
    "\n",
    "    modded_stab_state_1 = np.prod([cirq.PauliSum()+(1+s)/2 for s in modded_stabilizers])\n",
    "\n",
    "    output_density_1 = cirq.PauliSum()\n",
    "    modded_output_density_1 = cirq.PauliSum()\n",
    "\n",
    "    for idx in range(40):\n",
    "\n",
    "        i = np.random.randint(2**L)\n",
    "        j = np.random.randint(2**L)\n",
    "\n",
    "        if i!=j:\n",
    "            imag_coeff = np.random.randn()\n",
    "        else:\n",
    "            imag_coeff = 0\n",
    "\n",
    "        real_coeff = np.random.randn()\n",
    "\n",
    "        coeff = real_coeff+1j*imag_coeff\n",
    "        conj_coeff = real_coeff-1j*imag_coeff\n",
    "\n",
    "        if (i, j) in test_chi_1:\n",
    "            test_chi_1[(i, j)]+=coeff\n",
    "        else:\n",
    "            test_chi_1[(i, j)]=coeff\n",
    "\n",
    "        if (j, i) in test_chi_1:\n",
    "            test_chi_1[(j, i)]+=conj_coeff\n",
    "        else:\n",
    "            test_chi_1[(j, i)]=conj_coeff\n",
    "\n",
    "        d_vec_i = convert_idx_to_bin(i)\n",
    "        d_pauli_sum_i = np.prod([cirq.PauliSum() + d for d, b in zip(destabilizers, d_vec_i) if b==1])\n",
    "        modded_d_pauli_sum_i = np.prod([cirq.PauliSum() + d for d, b in zip(modded_destabilizers, d_vec_i) if b==1])\n",
    "\n",
    "        d_vec_j = convert_idx_to_bin(j)\n",
    "        d_pauli_sum_j = np.prod([cirq.PauliSum() + d for d, b in zip(destabilizers, d_vec_j) if b==1])\n",
    "        modded_d_pauli_sum_j = np.prod([cirq.PauliSum() + d for d, b in zip(modded_destabilizers, d_vec_j) if b==1])\n",
    "\n",
    "        output_density_1 += coeff*d_pauli_sum_i*stab_state_1*d_pauli_sum_j\n",
    "        output_density_1 += conj_coeff*d_pauli_sum_j*stab_state_1*d_pauli_sum_i\n",
    "\n",
    "        modded_output_density_1 += coeff*modded_d_pauli_sum_i*modded_stab_state_1*modded_d_pauli_sum_j\n",
    "        modded_output_density_1 += conj_coeff*modded_d_pauli_sum_j*modded_stab_state_1*modded_d_pauli_sum_i\n",
    "\n",
    "\n",
    "    # add some diags\n",
    "    for _ in range(90):\n",
    "\n",
    "        i = np.random.randint(2**L)\n",
    "        d_vec_i = convert_idx_to_bin(i)\n",
    "\n",
    "        d_pauli_sum_i = np.prod([cirq.PauliSum() + d for d, b in zip(destabilizers, d_vec_i) if b==1])\n",
    "        modded_d_pauli_sum_i = np.prod([cirq.PauliSum() + d for d, b in zip(modded_destabilizers, d_vec_i) if b==1])\n",
    "\n",
    "        real_coeff = np.random.randn()\n",
    "\n",
    "        if (i, i) in test_chi_1:\n",
    "            test_chi_1[(i, i)]+=real_coeff\n",
    "        else:\n",
    "            test_chi_1[(i, i)]=real_coeff\n",
    "\n",
    "        output_density_1 += real_coeff*d_pauli_sum_i*stab_state_1*d_pauli_sum_i\n",
    "        modded_output_density_1 += real_coeff*modded_d_pauli_sum_i*modded_stab_state_1*modded_d_pauli_sum_i\n",
    "\n",
    "    \"\"\"\n",
    "    Now compute what this should be\n",
    "    \"\"\"\n",
    "\n",
    "    density_matrix_2 = map_chi_to_density_matrix(test_chi_1, stabilizers, destabilizers)\n",
    "    modded_density_matrix_2 = map_chi_to_density_matrix(test_chi_1, modded_stabilizers, modded_destabilizers)\n",
    "\n",
    "    \"\"\"\n",
    "    do we find a difference here\n",
    "    \"\"\"\n",
    "    diff = density_matrix_2 - output_density_1\n",
    "    modded_diff = modded_density_matrix_2 - modded_output_density_1\n",
    "\n",
    "    for term in diff:\n",
    "        assert abs(term.coefficient) <10**-10\n",
    "\n",
    "    for term in modded_diff:\n",
    "        assert abs(term.coefficient) <10**-10\n",
    "\n",
    "print(\"test passed\")"
   ]
  },
  {
   "cell_type": "markdown",
   "id": "royal-panel",
   "metadata": {},
   "source": [
    "### Testing Pauli Channel"
   ]
  },
  {
   "cell_type": "code",
   "execution_count": 42,
   "id": "preceding-associate",
   "metadata": {},
   "outputs": [
    {
     "name": "stdout",
     "output_type": "stream",
     "text": [
      "all tests passed\n"
     ]
    }
   ],
   "source": [
    "\n",
    "\n",
    "test_chi_1 = dict()\n",
    "\n",
    "for _ in range(10):\n",
    "    \n",
    "    i = np.random.randint(2**L)\n",
    "    j = np.random.randint(2**L)\n",
    "    \n",
    "    test_chi_1[(i, j)] = np.random.randn()+ 1j*np.random.randn()\n",
    "    \n",
    "#print(test_chi_1)\n",
    "    \n",
    "#b1 = 10*cirq.Z(cirq.LineQubit(np.random.choice(L)))*cirq.X(cirq.LineQubit(np.random.choice(L)))*cirq.Y(cirq.LineQubit(np.random.choice(L)))\n",
    "#b2 = 1j*cirq.X(cirq.LineQubit(np.random.choice(L)))*cirq.Y(cirq.LineQubit(np.random.choice(L)))\n",
    "\n",
    "b1 = 1*cirq.Z(cirq.LineQubit(1))\n",
    "b2 = 1*cirq.X(cirq.LineQubit(1))\n",
    "\n",
    "\n",
    "coeff = np.random.randn()+np.random.randn()*1j\n",
    "\n",
    "out_chi = PauliChannel(test_chi_1, b1, b2, stabilizers, destabilizers, phi = coeff)\n",
    "out_density_matrix = map_chi_to_density_matrix(out_chi, stabilizers, destabilizers)\n",
    "\n",
    "explicit_density = b1*map_chi_to_density_matrix(test_chi_1, stabilizers, destabilizers)*b2*coeff\n",
    "\n",
    "diff1 = (out_density_matrix - explicit_density)\n",
    "\n",
    "for term in diff1:\n",
    "    assert abs(term.coefficient)<10**-10\n",
    "\n",
    "modded_out_chi = PauliChannel(test_chi_1, b1, b2, modded_stabilizers, modded_destabilizers, phi = coeff)\n",
    "        \n",
    "modded_out_density_matrix = map_chi_to_density_matrix(modded_out_chi, modded_stabilizers, modded_destabilizers)\n",
    "modded_explicit_density = b1*map_chi_to_density_matrix(test_chi_1, modded_stabilizers, modded_destabilizers)*b2*coeff\n",
    "\n",
    "for term in (modded_out_density_matrix - modded_explicit_density):\n",
    "    assert abs(term.coefficient)<10**-10\n",
    "\n",
    "    \n",
    "print(\"all tests passed\")"
   ]
  },
  {
   "cell_type": "markdown",
   "id": "important-prairie",
   "metadata": {},
   "source": [
    "### combining sparse dictionaries"
   ]
  },
  {
   "cell_type": "code",
   "execution_count": 43,
   "id": "printable-selling",
   "metadata": {},
   "outputs": [
    {
     "name": "stdout",
     "output_type": "stream",
     "text": [
      "all tests passed\n"
     ]
    }
   ],
   "source": [
    "test_chi_1 = dict()\n",
    "\n",
    "for _ in range(10):\n",
    "    \n",
    "    i = np.random.randint(2**L)\n",
    "    j = np.random.randint(2**L)\n",
    "    \n",
    "    test_chi_1[(i, j)] = np.random.randn()+ 1j*np.random.randn()\n",
    "\n",
    "test_chi_2 = dict()\n",
    "\n",
    "for _ in range(10):\n",
    "    \n",
    "    i = np.random.randint(2**L)\n",
    "    j = np.random.randint(2**L)\n",
    "    \n",
    "    test_chi_2[(i, j)] = np.random.randn()+ 1j*np.random.randn()\n",
    "\n",
    "combined_chi = dict()\n",
    "\n",
    "for (i, j) in test_chi_1:\n",
    "    \n",
    "    combined_chi[(i, j)] = test_chi_1[(i, j)]\n",
    "\n",
    "for (i, j) in test_chi_2:\n",
    "    if (i, j) in combined_chi:\n",
    "        combined_chi[(i, j)] += test_chi_2[(i, j)]\n",
    "    else:\n",
    "        combined_chi[(i, j)] = test_chi_2[(i, j)]\n",
    "\n",
    "out_chi = combine_sparse_dicts(test_chi_1, test_chi_2)\n",
    "\n",
    "assert out_chi == combined_chi \n",
    "\n",
    "print(\"all tests passed\")"
   ]
  },
  {
   "cell_type": "markdown",
   "id": "driven-franklin",
   "metadata": {},
   "source": [
    "### Testing Pauli Sum"
   ]
  },
  {
   "cell_type": "code",
   "execution_count": 44,
   "id": "limited-alabama",
   "metadata": {},
   "outputs": [],
   "source": [
    "positions = np.random.randint(L, size=100)"
   ]
  },
  {
   "cell_type": "code",
   "execution_count": 45,
   "id": "greater-venture",
   "metadata": {},
   "outputs": [],
   "source": [
    "paulis = cirq.PauliSum() + 1\n",
    "\n",
    "paulis += 1j*cirq.X(cirq.LineQubit(positions[0]))\n",
    "paulis += 10*cirq.Z(cirq.LineQubit(positions[1]))*cirq.X(cirq.LineQubit(positions[2]))*cirq.Y(cirq.LineQubit(positions[3]))\n",
    "paulis += np.pi*cirq.Y(cirq.LineQubit(positions[4]))*cirq.Y(cirq.LineQubit(positions[5]))\n",
    "paulis += (1+np.pi)*cirq.X(cirq.LineQubit(positions[6]))*cirq.Z(cirq.LineQubit(positions[7]))\n",
    "paulis += 0.000001*cirq.Y(cirq.LineQubit(positions[8]))*cirq.Y(cirq.LineQubit(positions[9]))\n",
    "\n",
    "\n",
    "conj_paulis = cirq.PauliSum()\n",
    "\n",
    "for term in paulis:\n",
    "    newterm = np.conjugate(term.coefficient) * (cirq.PauliSum() + term) / term.coefficient\n",
    "    \n",
    "    conj_paulis+=newterm\n",
    "    "
   ]
  },
  {
   "cell_type": "code",
   "execution_count": 46,
   "id": "operational-corner",
   "metadata": {},
   "outputs": [],
   "source": [
    "\"\"\"\n",
    "Generate a state with a known chi\n",
    "\"\"\"\n",
    "\n",
    "test_chi_1 = dict()\n",
    "\n",
    "for _ in range(40):\n",
    "    \n",
    "    i = np.random.randint(2**L)\n",
    "    j = np.random.randint(2**L)\n",
    "    \n",
    "    if i!=j:\n",
    "        test_chi_1[(i, j)] = np.random.randn()+ 1j*np.random.randn()\n",
    "\n",
    "\n",
    "for _ in range(40):\n",
    "    \n",
    "    i = np.random.randint(2**L)\n",
    "    \n",
    "    test_chi_1[(i, i)] = np.random.randn()\n",
    "\n",
    "test_density = map_chi_to_density_matrix(test_chi_1, stabilizers, destabilizers)\n",
    "modded_test_density = map_chi_to_density_matrix(test_chi_1, modded_stabilizers, modded_destabilizers)"
   ]
  },
  {
   "cell_type": "code",
   "execution_count": 47,
   "id": "incorporated-tolerance",
   "metadata": {},
   "outputs": [],
   "source": [
    "\"\"\"\n",
    "apply this paulisum to a state with a known chi\n",
    "\"\"\"\n",
    "\n",
    "sandwiched_test_density = paulis*test_density*conj_paulis\n",
    "modded_sandwiched_test_density = paulis*modded_test_density*conj_paulis"
   ]
  },
  {
   "cell_type": "code",
   "execution_count": 48,
   "id": "controlling-coordinate",
   "metadata": {},
   "outputs": [],
   "source": [
    "evolved_density = map_chi_to_density_matrix(\n",
    "    evolve_under_paulisum(paulis, test_chi_1, stabilizers, destabilizers),\n",
    "    stabilizers, \n",
    "    destabilizers,\n",
    ")\n",
    "\n",
    "evolved_modded_density = map_chi_to_density_matrix(\n",
    "    evolve_under_paulisum(paulis, test_chi_1, modded_stabilizers, modded_destabilizers),\n",
    "    modded_stabilizers, \n",
    "    modded_destabilizers,\n",
    ")"
   ]
  },
  {
   "cell_type": "code",
   "execution_count": 49,
   "id": "baking-lexington",
   "metadata": {},
   "outputs": [
    {
     "name": "stdout",
     "output_type": "stream",
     "text": [
      "passes test\n"
     ]
    }
   ],
   "source": [
    "diff_2 = evolved_modded_density - modded_sandwiched_test_density\n",
    "\n",
    "for term in diff_2:\n",
    "    assert abs(term.coefficient)<10**-10\n",
    "\n",
    "diff_1 = evolved_density - sandwiched_test_density\n",
    "\n",
    "for term in diff_1:\n",
    "    assert abs(term.coefficient)<10**-10\n",
    "\n",
    "print(\"passes test\")"
   ]
  },
  {
   "cell_type": "markdown",
   "id": "transparent-reduction",
   "metadata": {},
   "source": [
    "### measuring with a stabilizer"
   ]
  },
  {
   "cell_type": "code",
   "execution_count": 50,
   "id": "respiratory-begin",
   "metadata": {},
   "outputs": [],
   "source": [
    "test_chi_1 = {(0,0):1}\n",
    "\n",
    "alphas = [-1, 1]\n",
    "\n",
    "for alpha in alphas:\n",
    "    projected_chi = project_with_stabilizer(test_chi_1, alpha, 0, stabilizers, destabilizers)\n",
    "\n",
    "    if alpha==-1:\n",
    "        assert projected_chi=={}\n",
    "    elif alpha==1:\n",
    "        assert projected_chi=={(0,0):1}"
   ]
  },
  {
   "cell_type": "markdown",
   "id": "separated-middle",
   "metadata": {},
   "source": [
    "### testing trace sparse"
   ]
  },
  {
   "cell_type": "code",
   "execution_count": 63,
   "id": "pursuant-denmark",
   "metadata": {},
   "outputs": [
    {
     "name": "stdout",
     "output_type": "stream",
     "text": [
      "passes test\n"
     ]
    }
   ],
   "source": [
    "test_chi_1 = dict()\n",
    "\n",
    "for _ in range(10):\n",
    "    \n",
    "    i = np.random.randint(2**L)\n",
    "    j = np.random.randint(2**L)\n",
    "    \n",
    "    test_chi_1[(i, j)] = np.random.randn()+ 1j*np.random.randn()\n",
    "\n",
    "\n",
    "for _ in range(10):\n",
    "    \n",
    "    i = np.random.randint(2**L)\n",
    "    \n",
    "    test_chi_1[(i, i)] = np.random.randn()\n",
    "    \n",
    "trace = np.sum([v for k, v in test_chi_1.items() if k[0]==k[1]])\n",
    "\n",
    "assert abs(trace_sparse(test_chi_1)-trace)<10**-10\n",
    "\n",
    "density_1 = map_chi_to_density_matrix(test_chi_1, modded_stabilizers, modded_destabilizers)\n",
    "\n",
    "density_2 = map_chi_to_density_matrix(test_chi_1, stabilizers, destabilizers)\n",
    "\n",
    "num_trace1 = np.trace(density_1.matrix(cirq.LineQubit.range(L)))\n",
    "num_trace2 = np.trace(density_2.matrix(cirq.LineQubit.range(L)))\n",
    "\n",
    "\n",
    "assert np.abs(num_trace1-num_trace2)<10**-10\n",
    "\n",
    "assert np.abs(trace_sparse(test_chi_1) - num_trace1)<10**-10\n",
    "\n",
    "print(\"passes test\")"
   ]
  },
  {
   "cell_type": "code",
   "execution_count": 64,
   "id": "f9373483",
   "metadata": {},
   "outputs": [
    {
     "data": {
      "text/plain": [
       "-2.681105726193442"
      ]
     },
     "execution_count": 64,
     "metadata": {},
     "output_type": "execute_result"
    }
   ],
   "source": [
    "trace_sparse(test_chi_1)"
   ]
  },
  {
   "cell_type": "code",
   "execution_count": 65,
   "id": "0825bf61",
   "metadata": {},
   "outputs": [
    {
     "data": {
      "text/plain": [
       "-2.681105726193442"
      ]
     },
     "execution_count": 65,
     "metadata": {},
     "output_type": "execute_result"
    }
   ],
   "source": [
    "trace"
   ]
  },
  {
   "cell_type": "markdown",
   "id": "executed-witness",
   "metadata": {},
   "source": [
    "### testing sparse normalization"
   ]
  },
  {
   "cell_type": "code",
   "execution_count": 66,
   "id": "dried-measurement",
   "metadata": {},
   "outputs": [
    {
     "name": "stdout",
     "output_type": "stream",
     "text": [
      "passes test\n"
     ]
    }
   ],
   "source": [
    "\n",
    "test_chi_1 = dict()\n",
    "\n",
    "for _ in range(10):\n",
    "    \n",
    "    i = np.random.randint(2**L)\n",
    "    j = np.random.randint(2**L)\n",
    "    \n",
    "    test_chi_1[(i, j)] = np.random.randn()+ 1j*np.random.randn()\n",
    "\n",
    "\n",
    "for _ in range(10):\n",
    "    \n",
    "    i = np.random.randint(2**L)\n",
    "    \n",
    "    test_chi_1[(i, i)] = np.random.randn()\n",
    "    \n",
    "trace = np.sum([v for k, v in test_chi_1.items() if k[0]==k[1]])\n",
    "\n",
    "normed_chi_1 = {k:v/trace for k, v in test_chi_1.items()}\n",
    "\n",
    "normed_chi_2 = normalize_sparse(test_chi_1)\n",
    "\n",
    "assert set(normed_chi_1.keys())==set(normed_chi_2.keys())\n",
    "\n",
    "for k1 in normed_chi_1:\n",
    "    \n",
    "    assert np.abs(normed_chi_1[k1]-normed_chi_2[k1])<10**-10\n",
    "\n",
    "print(\"passes test\")"
   ]
  },
  {
   "cell_type": "markdown",
   "id": "wireless-imagination",
   "metadata": {},
   "source": [
    "### testing measuring arbitrary paulis\n",
    "\n",
    "here we'll create a state and apply projections "
   ]
  },
  {
   "cell_type": "code",
   "execution_count": 67,
   "id": "neutral-leadership",
   "metadata": {},
   "outputs": [],
   "source": [
    "paulis_to_measure = [\n",
    "    cirq.Z(cirq.LineQubit(0)),\n",
    "    cirq.X(cirq.LineQubit(1)),\n",
    "    cirq.Y(cirq.LineQubit(2)),\n",
    "    cirq.X(cirq.LineQubit(0))*cirq.Z(cirq.LineQubit(3))*cirq.Y(cirq.LineQubit(2)),\n",
    "    cirq.Z(cirq.LineQubit(0))*cirq.Z(cirq.LineQubit(1))*cirq.Z(cirq.LineQubit(2))*cirq.X(cirq.LineQubit(3))\n",
    "]"
   ]
  },
  {
   "cell_type": "markdown",
   "id": "01596493",
   "metadata": {},
   "source": [
    "def project_pauli(pauli, chi, stabilizers, destabilizers):\n",
    "    \"\"\"\n",
    "    Measure an arbitrary pauli\n",
    "    \"\"\"\n",
    "    \n",
    "    alpha, s_vec, d_vec = give_decomposition(\n",
    "        pauli_term=pauli, \n",
    "        stabilizers=stabilizers, \n",
    "        destabilizers=destabilizers,\n",
    "    )\n",
    "    \n",
    "    empty_chi = dict()\n",
    "    \n",
    "    if set(d_vec)=={0}:\n",
    "        assert alpha in {-1, 1}\n",
    "        \n",
    "        for i, j in chi:\n",
    "\n",
    "            binary_i = convert_idx_to_bin(i)\n",
    "            binary_j = convert_idx_to_bin(j)\n",
    "            \n",
    "            i_dot_c = binary_dot(binary_i, s_vec)\n",
    "            j_dot_c = binary_dot(binary_j, s_vec)\n",
    "\n",
    "            if (alpha * (-1)**i_dot_c == 1) and (alpha * (-1)**j_dot_c == 1):\n",
    "                \n",
    "                if (i, j) in empty_chi:\n",
    "                    empty_chi[(i, j)]+=chi[(i, j)]\n",
    "                else:\n",
    "                    empty_chi[(i, j)]=chi[(i, j)]\n",
    "        \n",
    "        updated_stabs = [s for s in stabilizers]\n",
    "        updated_destabs = [d for d in destabilizers]\n",
    "        \n",
    "    else:\n",
    "        k_index=d_vec.index(1)\n",
    "        k_vec = [0]*len(d_vec)\n",
    "        k_vec[k_index]=1\n",
    "        \n",
    "        for i, j in chi:\n",
    "            x = i\n",
    "            y = j\n",
    "            \n",
    "            q=1\n",
    "            \n",
    "            binary_i = convert_idx_to_bin(i)\n",
    "            binary_j = convert_idx_to_bin(j)\n",
    "            \n",
    "            if 1 == binary_dot(binary_i, k_vec):\n",
    "                \n",
    "                q = q*alpha* (-1)**(binary_dot(binary_i, s_vec))\n",
    "                \n",
    "                x = binary_add(binary_i, d_vec)\n",
    "            \n",
    "            if 1 == binary_dot(binary_j, k_vec):\n",
    "                \n",
    "                q = q*np.conjugate(alpha)* (-1)**(binary_dot(binary_j, s_vec))\n",
    "                \n",
    "                y = binary_add(binary_j, d_vec)\n",
    "            \n",
    "            if (x, y) in empty_chi:\n",
    "                empty_chi[(x, y)] += q*chi[(i, j)]/2\n",
    "            else:\n",
    "                empty_chi[(x, y)] = q*chi[(i, j)]/2\n",
    "        \n",
    "        \"\"\"\n",
    "        make new stabilizers destabilizers\n",
    "        \"\"\"\n",
    "        updated_stabs = []\n",
    "        updated_destabs = []\n",
    "        \n",
    "        for i, s in enumerate(stabilizers):\n",
    "            if d_vec[i]==1:\n",
    "                updated_stabs.append(s*stabilizers[k_index])\n",
    "            else:\n",
    "                updated_stabs.append(s)\n",
    "        \n",
    "        for i, ds in enumerate(destabilizers):\n",
    "            if s_vec[i]==1 and i!= k_index:\n",
    "                updated_destabs.append(ds*stabilizers[k_index])\n",
    "            else:\n",
    "                updated_destabs.append(ds)\n",
    "        \n",
    "        updated_destabs[k_index]=stabilizers[k_index]\n",
    "        updated_stabs[k_index]=pauli\n",
    "        \n",
    "    return empty_chi, updated_stabs, updated_destabs"
   ]
  },
  {
   "cell_type": "code",
   "execution_count": 75,
   "id": "private-emperor",
   "metadata": {},
   "outputs": [],
   "source": [
    "def explicit_project(pauli, chi, stabilizers=stabilizers, destabilizers=destabilizers):\n",
    "    \n",
    "    density_mat = map_chi_to_density_matrix(chi, stabilizers, destabilizers)\n",
    "    \n",
    "    projected = (1+pauli)*density_mat*(1+pauli)/4\n",
    "    \n",
    "    return projected"
   ]
  },
  {
   "cell_type": "code",
   "execution_count": 69,
   "id": "completed-fluid",
   "metadata": {},
   "outputs": [],
   "source": [
    "def algorithmic_project(pauli, chi, stabilizers=stabilizers, destabilizers=destabilizers):\n",
    "    \n",
    "    new_chi, updated_stabs, updated_destabs = project_pauli(pauli, chi, stabilizers, destabilizers)\n",
    "    \n",
    "    density = map_chi_to_density_matrix(\n",
    "        new_chi,\n",
    "        updated_stabs, \n",
    "        updated_destabs,\n",
    "    )\n",
    "    \n",
    "    return density"
   ]
  },
  {
   "cell_type": "code",
   "execution_count": 1,
   "id": "771d27eb",
   "metadata": {},
   "outputs": [
    {
     "ename": "NameError",
     "evalue": "name 'cirq' is not defined",
     "output_type": "error",
     "traceback": [
      "\u001b[1;31m---------------------------------------------------------------------------\u001b[0m",
      "\u001b[1;31mNameError\u001b[0m                                 Traceback (most recent call last)",
      "\u001b[1;32m<ipython-input-1-457a379345d4>\u001b[0m in \u001b[0;36m<module>\u001b[1;34m\u001b[0m\n\u001b[0;32m      3\u001b[0m \u001b[1;33m\u001b[0m\u001b[0m\n\u001b[0;32m      4\u001b[0m paulis = [\n\u001b[1;32m----> 5\u001b[1;33m     \u001b[0mcirq\u001b[0m\u001b[1;33m.\u001b[0m\u001b[0mZ\u001b[0m\u001b[1;33m(\u001b[0m\u001b[0mcirq\u001b[0m\u001b[1;33m.\u001b[0m\u001b[0mLineQubit\u001b[0m\u001b[1;33m(\u001b[0m\u001b[1;36m0\u001b[0m\u001b[1;33m)\u001b[0m\u001b[1;33m)\u001b[0m\u001b[1;33m,\u001b[0m\u001b[1;33m\u001b[0m\u001b[1;33m\u001b[0m\u001b[0m\n\u001b[0m\u001b[0;32m      6\u001b[0m     \u001b[0mcirq\u001b[0m\u001b[1;33m.\u001b[0m\u001b[0mZ\u001b[0m\u001b[1;33m(\u001b[0m\u001b[0mcirq\u001b[0m\u001b[1;33m.\u001b[0m\u001b[0mLineQubit\u001b[0m\u001b[1;33m(\u001b[0m\u001b[1;36m0\u001b[0m\u001b[1;33m)\u001b[0m\u001b[1;33m)\u001b[0m\u001b[1;33m*\u001b[0m\u001b[0mcirq\u001b[0m\u001b[1;33m.\u001b[0m\u001b[0mZ\u001b[0m\u001b[1;33m(\u001b[0m\u001b[0mcirq\u001b[0m\u001b[1;33m.\u001b[0m\u001b[0mLineQubit\u001b[0m\u001b[1;33m(\u001b[0m\u001b[1;36m1\u001b[0m\u001b[1;33m)\u001b[0m\u001b[1;33m)\u001b[0m\u001b[1;33m,\u001b[0m\u001b[1;33m\u001b[0m\u001b[1;33m\u001b[0m\u001b[0m\n\u001b[0;32m      7\u001b[0m     \u001b[0mcirq\u001b[0m\u001b[1;33m.\u001b[0m\u001b[0mZ\u001b[0m\u001b[1;33m(\u001b[0m\u001b[0mcirq\u001b[0m\u001b[1;33m.\u001b[0m\u001b[0mLineQubit\u001b[0m\u001b[1;33m(\u001b[0m\u001b[1;36m1\u001b[0m\u001b[1;33m)\u001b[0m\u001b[1;33m)\u001b[0m\u001b[1;33m,\u001b[0m\u001b[1;33m\u001b[0m\u001b[1;33m\u001b[0m\u001b[0m\n",
      "\u001b[1;31mNameError\u001b[0m: name 'cirq' is not defined"
     ]
    }
   ],
   "source": [
    "# simple test with only stabilizers\n",
    "chi = {(0,0): 1, (1,1): 1, (0,1): 1, (1,0): 1}\n",
    "\n",
    "paulis = [\n",
    "    cirq.Z(cirq.LineQubit(0)),\n",
    "    cirq.Z(cirq.LineQubit(0))*cirq.Z(cirq.LineQubit(1)),\n",
    "    cirq.Z(cirq.LineQubit(1)),\n",
    "    -1*cirq.Z(cirq.LineQubit(0)),\n",
    "    -1*cirq.Z(cirq.LineQubit(0))*cirq.Z(cirq.LineQubit(1)),\n",
    "    -1*cirq.Z(cirq.LineQubit(1)),\n",
    "]\n",
    "\n",
    "for pauli in paulis:\n",
    "\n",
    "    d1 = explicit_project(pauli, chi, stabilizers=stabilizers[:2], destabilizers=destabilizers[:2])\n",
    "    d2 = algorithmic_project(pauli, chi, stabilizers=stabilizers[:2], destabilizers=destabilizers[:2])\n",
    "    \n",
    "    diff = d1-d2\n",
    "    \n",
    "    for term in diff:\n",
    "        \n",
    "        assert abs(term.coefficient)<10**-10\n",
    "\n",
    "print(\"all tests passed\")"
   ]
  },
  {
   "cell_type": "code",
   "execution_count": 71,
   "id": "restricted-revolution",
   "metadata": {
    "scrolled": true
   },
   "outputs": [
    {
     "name": "stdout",
     "output_type": "stream",
     "text": [
      "all tests passed\n"
     ]
    }
   ],
   "source": [
    "# simple test\n",
    "chis = [\n",
    "    {(0,0): 1},\n",
    "    {(1,0): 1},\n",
    "    {(0,1): 1},\n",
    "    {(1,1): 1},\n",
    "]\n",
    "\n",
    "paulis = [\n",
    "    cirq.X(cirq.LineQubit(0)),\n",
    "    cirq.Z(cirq.LineQubit(0)),\n",
    "    cirq.X(cirq.LineQubit(0))*cirq.X(cirq.LineQubit(1)),\n",
    "    cirq.Z(cirq.LineQubit(0))*cirq.Z(cirq.LineQubit(1)),\n",
    "    cirq.X(cirq.LineQubit(0))*cirq.Z(cirq.LineQubit(1)),\n",
    "    cirq.Z(cirq.LineQubit(0))*cirq.X(cirq.LineQubit(1)),\n",
    "    cirq.Y(cirq.LineQubit(0)),\n",
    "    cirq.Y(cirq.LineQubit(0))*cirq.Y(cirq.LineQubit(1)),\n",
    "    cirq.Y(cirq.LineQubit(0))*cirq.Z(cirq.LineQubit(1)),\n",
    "    cirq.X(cirq.LineQubit(0))*cirq.Y(cirq.LineQubit(1)),\n",
    "]\n",
    "\n",
    "for chi in chis:\n",
    "\n",
    "    for pauli in paulis:\n",
    "\n",
    "        d1 = explicit_project(pauli, chi, stabilizers=stabilizers[:2], destabilizers=destabilizers[:2])\n",
    "\n",
    "        #print(pauli)\n",
    "        d2 = algorithmic_project(pauli, chi, stabilizers=stabilizers[:2], destabilizers=destabilizers[:2])\n",
    "\n",
    "        diff = d1-d2\n",
    "\n",
    "        for term in diff:\n",
    "\n",
    "            assert abs(term.coefficient)<10**-10\n",
    "\n",
    "print(\"all tests passed\")\n",
    "        "
   ]
  },
  {
   "cell_type": "markdown",
   "id": "8a15e8b1",
   "metadata": {},
   "source": [
    "### Now we'll experiment with complex chi's and projections"
   ]
  },
  {
   "cell_type": "code",
   "execution_count": 81,
   "id": "bf9dda18",
   "metadata": {},
   "outputs": [
    {
     "name": "stdout",
     "output_type": "stream",
     "text": [
      "all tests passed\n"
     ]
    }
   ],
   "source": [
    "test_reps = 25\n",
    "projection_choices = 10\n",
    "\n",
    "for rep in range(test_reps):\n",
    "    \n",
    "    \"\"\"\n",
    "    make test chi\n",
    "    \"\"\"\n",
    "    test_chi = dict()\n",
    "    \n",
    "    for _ in range(10):\n",
    "\n",
    "        i = np.random.randint(2**L)\n",
    "        j = np.random.randint(2**L)\n",
    "\n",
    "        if i!=j:\n",
    "            test_chi[(i, j)] = np.random.randn()+ 1j*np.random.randn()\n",
    "\n",
    "\n",
    "    for _ in range(10):\n",
    "\n",
    "        i = np.random.randint(2**L)\n",
    "\n",
    "        test_chi[(i, i)] = np.random.randn()\n",
    "    \n",
    "    \"\"\"\n",
    "    generate projections\n",
    "    \"\"\"\n",
    "    projection_paulis = [\n",
    "        cirq.X(\n",
    "            cirq.LineQubit(np.random.randint(2))\n",
    "        )*1*cirq.Y(\n",
    "            cirq.LineQubit(np.random.randint(2,4))\n",
    "        )*1*cirq.Z(\n",
    "            cirq.LineQubit(np.random.randint(4,L))\n",
    "        ),\n",
    "        cirq.X(\n",
    "            cirq.LineQubit(np.random.randint(4))\n",
    "        )*1*cirq.Z(\n",
    "            cirq.LineQubit(np.random.randint(4,L))\n",
    "        ),\n",
    "        cirq.Z(\n",
    "            cirq.LineQubit(np.random.randint(L))\n",
    "        ),\n",
    "        cirq.Y(\n",
    "            cirq.LineQubit(np.random.randint(L))\n",
    "        ),\n",
    "        cirq.X(\n",
    "            cirq.LineQubit(np.random.randint(L))\n",
    "        ),\n",
    "        cirq.X(\n",
    "            cirq.LineQubit(0)\n",
    "        )*cirq.Y(\n",
    "            cirq.LineQubit(1)\n",
    "        )*cirq.Z(\n",
    "            cirq.LineQubit(2)\n",
    "        )*cirq.Y(\n",
    "            cirq.LineQubit(3)\n",
    "        )*cirq.Z(\n",
    "            cirq.LineQubit(4)\n",
    "        )*cirq.Y(\n",
    "            cirq.LineQubit(5)\n",
    "        )*cirq.Z(\n",
    "            cirq.LineQubit(6)\n",
    "        ),\n",
    "        cirq.Z(\n",
    "            cirq.LineQubit(0)\n",
    "        )*cirq.Z(\n",
    "            cirq.LineQubit(1)\n",
    "        )*cirq.Z(\n",
    "            cirq.LineQubit(2)\n",
    "        )*cirq.Z(\n",
    "            cirq.LineQubit(3)\n",
    "        )*cirq.Z(\n",
    "            cirq.LineQubit(4)\n",
    "        )*cirq.Z(\n",
    "            cirq.LineQubit(5)\n",
    "        )*cirq.Z(\n",
    "            cirq.LineQubit(6)\n",
    "        ),\n",
    "        cirq.Y(\n",
    "            cirq.LineQubit(0)\n",
    "        )*cirq.Y(\n",
    "            cirq.LineQubit(1)\n",
    "        )*cirq.Y(\n",
    "            cirq.LineQubit(2)\n",
    "        )*cirq.Y(\n",
    "            cirq.LineQubit(3)\n",
    "        )*cirq.Y(\n",
    "            cirq.LineQubit(4)\n",
    "        )*cirq.Y(\n",
    "            cirq.LineQubit(5)\n",
    "        )*cirq.Y(\n",
    "            cirq.LineQubit(6)\n",
    "        )\n",
    "        ,\n",
    "        cirq.Y(\n",
    "            cirq.LineQubit(0)\n",
    "        )*cirq.Y(\n",
    "            cirq.LineQubit(1)\n",
    "        )*cirq.Y(\n",
    "            cirq.LineQubit(2)\n",
    "        )\n",
    "    ]\n",
    "    \n",
    "    for pauli in projection_paulis:\n",
    "        \n",
    "        pauli._coefficient = np.random.choice([-1, 1])\n",
    "        \n",
    "        d1 = explicit_project(pauli, test_chi, stabilizers, destabilizers)\n",
    "        d2 = algorithmic_project(pauli, test_chi, stabilizers, destabilizers)\n",
    "\n",
    "        diff = d1-d2\n",
    "\n",
    "        for term in diff:\n",
    "\n",
    "            assert abs(term.coefficient)<10**-10\n",
    "        \n",
    "        d1 = explicit_project(pauli, test_chi, modded_stabilizers, modded_destabilizers)\n",
    "        d2 = algorithmic_project(pauli, test_chi, modded_stabilizers, modded_destabilizers)\n",
    "\n",
    "        diff = d1-d2\n",
    "\n",
    "        for term in diff:\n",
    "\n",
    "            assert abs(term.coefficient)<10**-10\n",
    "print(\"all tests passed\")"
   ]
  },
  {
   "cell_type": "code",
   "execution_count": 82,
   "id": "b1a14922",
   "metadata": {},
   "outputs": [
    {
     "data": {
      "text/plain": [
       "cirq.PauliSum(cirq.LinearDict({frozenset({(cirq.LineQubit(6), cirq.Y), (cirq.LineQubit(3), cirq.Z), (cirq.LineQubit(1), cirq.X), (cirq.LineQubit(0), cirq.X)}): (0.011545974843919372+0.003124283201936735j), frozenset({(cirq.LineQubit(6), cirq.X), (cirq.LineQubit(3), cirq.X), (cirq.LineQubit(1), cirq.X), (cirq.LineQubit(2), cirq.Y), (cirq.LineQubit(0), cirq.X)}): (-0.0014984005719309431+0.007026348910389702j), frozenset({(cirq.LineQubit(6), cirq.Y), (cirq.LineQubit(3), cirq.X), (cirq.LineQubit(1), cirq.X), (cirq.LineQubit(0), cirq.Z)}): (0.01154597484391938+0.0031242832019367376j), frozenset({(cirq.LineQubit(6), cirq.X), (cirq.LineQubit(1), cirq.X), (cirq.LineQubit(0), cirq.Z), (cirq.LineQubit(3), cirq.Z), (cirq.LineQubit(2), cirq.Y)}): (0.001498400571930944-0.007026348910389707j), frozenset({(cirq.LineQubit(3), cirq.Z), (cirq.LineQubit(1), cirq.X), (cirq.LineQubit(5), cirq.Y), (cirq.LineQubit(0), cirq.Z), (cirq.LineQubit(4), cirq.Z), (cirq.LineQubit(6), cirq.Y)}): (-0.007026348910389702-0.0014984005719309431j), frozenset({(cirq.LineQubit(6), cirq.X), (cirq.LineQubit(3), cirq.X), (cirq.LineQubit(1), cirq.X), (cirq.LineQubit(5), cirq.Y), (cirq.LineQubit(0), cirq.Z), (cirq.LineQubit(4), cirq.Z), (cirq.LineQubit(2), cirq.Y)}): (-0.0031242832019367393+0.011545974843919388j), frozenset({(cirq.LineQubit(3), cirq.X), (cirq.LineQubit(1), cirq.X), (cirq.LineQubit(5), cirq.Y), (cirq.LineQubit(4), cirq.Z), (cirq.LineQubit(6), cirq.Y), (cirq.LineQubit(0), cirq.X)}): (0.007026348910389707+0.001498400571930944j), frozenset({(cirq.LineQubit(6), cirq.X), (cirq.LineQubit(1), cirq.X), (cirq.LineQubit(5), cirq.Y), (cirq.LineQubit(4), cirq.Z), (cirq.LineQubit(3), cirq.Z), (cirq.LineQubit(2), cirq.Y), (cirq.LineQubit(0), cirq.X)}): (-0.003124283201936742+0.011545974843919397j), frozenset({(cirq.LineQubit(6), cirq.Y), (cirq.LineQubit(1), cirq.X), (cirq.LineQubit(4), cirq.Z), (cirq.LineQubit(3), cirq.Z), (cirq.LineQubit(0), cirq.X)}): (0.01154597484391938+0.0031242832019367376j), frozenset({(cirq.LineQubit(6), cirq.X), (cirq.LineQubit(3), cirq.X), (cirq.LineQubit(1), cirq.X), (cirq.LineQubit(4), cirq.Z), (cirq.LineQubit(2), cirq.Y), (cirq.LineQubit(0), cirq.X)}): (-0.001498400571930944+0.007026348910389707j), frozenset({(cirq.LineQubit(3), cirq.X), (cirq.LineQubit(1), cirq.X), (cirq.LineQubit(0), cirq.Z), (cirq.LineQubit(4), cirq.Z), (cirq.LineQubit(6), cirq.Y)}): (0.011545974843919388+0.0031242832019367393j), frozenset({(cirq.LineQubit(6), cirq.X), (cirq.LineQubit(1), cirq.X), (cirq.LineQubit(0), cirq.Z), (cirq.LineQubit(4), cirq.Z), (cirq.LineQubit(3), cirq.Z), (cirq.LineQubit(2), cirq.Y)}): (0.0014984005719309449-0.0070263489103897115j), frozenset({(cirq.LineQubit(3), cirq.Z), (cirq.LineQubit(1), cirq.X), (cirq.LineQubit(0), cirq.Z), (cirq.LineQubit(5), cirq.Y), (cirq.LineQubit(6), cirq.Y)}): (-0.007026348910389707-0.001498400571930944j), frozenset({(cirq.LineQubit(6), cirq.X), (cirq.LineQubit(3), cirq.X), (cirq.LineQubit(1), cirq.X), (cirq.LineQubit(5), cirq.Y), (cirq.LineQubit(0), cirq.Z), (cirq.LineQubit(2), cirq.Y)}): (-0.003124283201936742+0.011545974843919397j), frozenset({(cirq.LineQubit(3), cirq.X), (cirq.LineQubit(1), cirq.X), (cirq.LineQubit(5), cirq.Y), (cirq.LineQubit(6), cirq.Y), (cirq.LineQubit(0), cirq.X)}): (0.0070263489103897115+0.0014984005719309449j), frozenset({(cirq.LineQubit(6), cirq.X), (cirq.LineQubit(1), cirq.X), (cirq.LineQubit(5), cirq.Y), (cirq.LineQubit(3), cirq.Z), (cirq.LineQubit(2), cirq.Y), (cirq.LineQubit(0), cirq.X)}): (-0.0031242832019367436+0.011545974843919404j), frozenset({(cirq.LineQubit(1), cirq.X), (cirq.LineQubit(2), cirq.X), (cirq.LineQubit(0), cirq.Y), (cirq.LineQubit(5), cirq.X), (cirq.LineQubit(4), cirq.Z), (cirq.LineQubit(6), cirq.Y)}): (-0.007026348910389707-0.001498400571930944j), frozenset({(cirq.LineQubit(6), cirq.X), (cirq.LineQubit(1), cirq.X), (cirq.LineQubit(0), cirq.Y), (cirq.LineQubit(3), cirq.Y), (cirq.LineQubit(5), cirq.X), (cirq.LineQubit(4), cirq.Z), (cirq.LineQubit(2), cirq.Z)}): (0.003124283201936742-0.011545974843919397j), frozenset({(cirq.LineQubit(1), cirq.X), (cirq.LineQubit(2), cirq.X), (cirq.LineQubit(5), cirq.X), (cirq.LineQubit(4), cirq.Z), (cirq.LineQubit(6), cirq.Y), (cirq.LineQubit(3), cirq.Y)}): (-0.0070263489103897115-0.0014984005719309449j), frozenset({(cirq.LineQubit(6), cirq.X), (cirq.LineQubit(1), cirq.X), (cirq.LineQubit(5), cirq.X), (cirq.LineQubit(4), cirq.Z), (cirq.LineQubit(2), cirq.Z)}): (0.0031242832019367436-0.011545974843919404j), frozenset({(cirq.LineQubit(6), cirq.Y), (cirq.LineQubit(1), cirq.X), (cirq.LineQubit(2), cirq.X), (cirq.LineQubit(5), cirq.Z)}): (-0.011545974843919397-0.003124283201936742j), frozenset({(cirq.LineQubit(6), cirq.X), (cirq.LineQubit(5), cirq.Z), (cirq.LineQubit(1), cirq.X), (cirq.LineQubit(3), cirq.Y), (cirq.LineQubit(2), cirq.Z)}): (-0.0014984005719309466+0.007026348910389717j), frozenset({(cirq.LineQubit(5), cirq.Z), (cirq.LineQubit(1), cirq.X), (cirq.LineQubit(2), cirq.X), (cirq.LineQubit(0), cirq.Y), (cirq.LineQubit(6), cirq.Y), (cirq.LineQubit(3), cirq.Y)}): (-0.011545974843919404-0.0031242832019367436j), frozenset({(cirq.LineQubit(6), cirq.X), (cirq.LineQubit(5), cirq.Z), (cirq.LineQubit(1), cirq.X), (cirq.LineQubit(0), cirq.Y), (cirq.LineQubit(2), cirq.Z)}): (-0.0014984005719309475+0.007026348910389721j), frozenset({(cirq.LineQubit(1), cirq.X), (cirq.LineQubit(2), cirq.X), (cirq.LineQubit(0), cirq.Y), (cirq.LineQubit(5), cirq.X), (cirq.LineQubit(6), cirq.Y)}): (-0.0070263489103897115-0.0014984005719309449j), frozenset({(cirq.LineQubit(6), cirq.X), (cirq.LineQubit(1), cirq.X), (cirq.LineQubit(0), cirq.Y), (cirq.LineQubit(5), cirq.X), (cirq.LineQubit(3), cirq.Y), (cirq.LineQubit(2), cirq.Z)}): (0.0031242832019367436-0.011545974843919404j), frozenset({(cirq.LineQubit(1), cirq.X), (cirq.LineQubit(2), cirq.X), (cirq.LineQubit(5), cirq.X), (cirq.LineQubit(6), cirq.Y), (cirq.LineQubit(3), cirq.Y)}): (-0.007026348910389717-0.0014984005719309466j), frozenset({(cirq.LineQubit(6), cirq.X), (cirq.LineQubit(1), cirq.X), (cirq.LineQubit(2), cirq.Z), (cirq.LineQubit(5), cirq.X)}): (0.0031242832019367462-0.01154597484391941j), frozenset({(cirq.LineQubit(5), cirq.Z), (cirq.LineQubit(1), cirq.X), (cirq.LineQubit(2), cirq.X), (cirq.LineQubit(4), cirq.Z), (cirq.LineQubit(6), cirq.Y)}): (-0.011545974843919404-0.0031242832019367436j), frozenset({(cirq.LineQubit(6), cirq.X), (cirq.LineQubit(5), cirq.Z), (cirq.LineQubit(1), cirq.X), (cirq.LineQubit(3), cirq.Y), (cirq.LineQubit(4), cirq.Z), (cirq.LineQubit(2), cirq.Z)}): (-0.0014984005719309475+0.007026348910389721j), frozenset({(cirq.LineQubit(5), cirq.Z), (cirq.LineQubit(1), cirq.X), (cirq.LineQubit(2), cirq.X), (cirq.LineQubit(0), cirq.Y), (cirq.LineQubit(4), cirq.Z), (cirq.LineQubit(6), cirq.Y), (cirq.LineQubit(3), cirq.Y)}): (-0.01154597484391941-0.0031242832019367462j), frozenset({(cirq.LineQubit(6), cirq.X), (cirq.LineQubit(5), cirq.Z), (cirq.LineQubit(1), cirq.X), (cirq.LineQubit(0), cirq.Y), (cirq.LineQubit(4), cirq.Z), (cirq.LineQubit(2), cirq.Z)}): (-0.0014984005719309483+0.007026348910389726j), frozenset({(cirq.LineQubit(2), cirq.X), (cirq.LineQubit(6), cirq.Z), (cirq.LineQubit(3), cirq.Z), (cirq.LineQubit(1), cirq.Y), (cirq.LineQubit(0), cirq.X)}): (-0.001498400571930944+0.007026348910389707j), frozenset({(cirq.LineQubit(3), cirq.X), (cirq.LineQubit(2), cirq.Z), (cirq.LineQubit(1), cirq.Y), (cirq.LineQubit(0), cirq.X)}): (0.011545974843919397+0.003124283201936742j), frozenset({(cirq.LineQubit(3), cirq.X), (cirq.LineQubit(2), cirq.X), (cirq.LineQubit(0), cirq.Z), (cirq.LineQubit(6), cirq.Z), (cirq.LineQubit(1), cirq.Y)}): (-0.0014984005719309449+0.0070263489103897115j), frozenset({(cirq.LineQubit(3), cirq.Z), (cirq.LineQubit(2), cirq.Z), (cirq.LineQubit(1), cirq.Y), (cirq.LineQubit(0), cirq.Z)}): (-0.011545974843919404-0.0031242832019367436j), frozenset({(cirq.LineQubit(2), cirq.X), (cirq.LineQubit(5), cirq.Y), (cirq.LineQubit(0), cirq.Z), (cirq.LineQubit(6), cirq.Z), (cirq.LineQubit(4), cirq.Z), (cirq.LineQubit(3), cirq.Z), (cirq.LineQubit(1), cirq.Y)}): (-0.003124283201936742+0.011545974843919397j), frozenset({(cirq.LineQubit(3), cirq.X), (cirq.LineQubit(5), cirq.Y), (cirq.LineQubit(0), cirq.Z), (cirq.LineQubit(4), cirq.Z), (cirq.LineQubit(2), cirq.Z), (cirq.LineQubit(1), cirq.Y)}): (-0.007026348910389717-0.0014984005719309466j), frozenset({(cirq.LineQubit(3), cirq.X), (cirq.LineQubit(2), cirq.X), (cirq.LineQubit(5), cirq.Y), (cirq.LineQubit(6), cirq.Z), (cirq.LineQubit(4), cirq.Z), (cirq.LineQubit(1), cirq.Y), (cirq.LineQubit(0), cirq.X)}): (0.0031242832019367436-0.011545974843919404j), frozenset({(cirq.LineQubit(5), cirq.Y), (cirq.LineQubit(4), cirq.Z), (cirq.LineQubit(3), cirq.Z), (cirq.LineQubit(2), cirq.Z), (cirq.LineQubit(1), cirq.Y), (cirq.LineQubit(0), cirq.X)}): (-0.007026348910389721-0.0014984005719309475j), frozenset({(cirq.LineQubit(2), cirq.X), (cirq.LineQubit(6), cirq.Z), (cirq.LineQubit(4), cirq.Z), (cirq.LineQubit(3), cirq.Z), (cirq.LineQubit(1), cirq.Y), (cirq.LineQubit(0), cirq.X)}): (-0.0014984005719309449+0.0070263489103897115j), frozenset({(cirq.LineQubit(3), cirq.X), (cirq.LineQubit(4), cirq.Z), (cirq.LineQubit(2), cirq.Z), (cirq.LineQubit(1), cirq.Y), (cirq.LineQubit(0), cirq.X)}): (0.011545974843919404+0.0031242832019367436j), frozenset({(cirq.LineQubit(3), cirq.X), (cirq.LineQubit(2), cirq.X), (cirq.LineQubit(0), cirq.Z), (cirq.LineQubit(6), cirq.Z), (cirq.LineQubit(4), cirq.Z), (cirq.LineQubit(1), cirq.Y)}): (-0.0014984005719309466+0.007026348910389717j), frozenset({(cirq.LineQubit(0), cirq.Z), (cirq.LineQubit(4), cirq.Z), (cirq.LineQubit(3), cirq.Z), (cirq.LineQubit(2), cirq.Z), (cirq.LineQubit(1), cirq.Y)}): (-0.01154597484391941-0.0031242832019367462j), frozenset({(cirq.LineQubit(2), cirq.X), (cirq.LineQubit(5), cirq.Y), (cirq.LineQubit(0), cirq.Z), (cirq.LineQubit(6), cirq.Z), (cirq.LineQubit(3), cirq.Z), (cirq.LineQubit(1), cirq.Y)}): (-0.0031242832019367436+0.011545974843919404j), frozenset({(cirq.LineQubit(3), cirq.X), (cirq.LineQubit(0), cirq.Z), (cirq.LineQubit(5), cirq.Y), (cirq.LineQubit(2), cirq.Z), (cirq.LineQubit(1), cirq.Y)}): (-0.007026348910389721-0.0014984005719309475j), frozenset({(cirq.LineQubit(3), cirq.X), (cirq.LineQubit(2), cirq.X), (cirq.LineQubit(5), cirq.Y), (cirq.LineQubit(6), cirq.Z), (cirq.LineQubit(1), cirq.Y), (cirq.LineQubit(0), cirq.X)}): (0.0031242832019367462-0.01154597484391941j), frozenset({(cirq.LineQubit(1), cirq.Y), (cirq.LineQubit(5), cirq.Y), (cirq.LineQubit(3), cirq.Z), (cirq.LineQubit(2), cirq.Z), (cirq.LineQubit(0), cirq.X)}): (-0.007026348910389726-0.0014984005719309483j), frozenset({(cirq.LineQubit(0), cirq.Y), (cirq.LineQubit(6), cirq.Z), (cirq.LineQubit(5), cirq.X), (cirq.LineQubit(4), cirq.Z), (cirq.LineQubit(1), cirq.Y)}): (-0.0031242832019367436+0.011545974843919404j), frozenset({(cirq.LineQubit(2), cirq.Y), (cirq.LineQubit(0), cirq.Y), (cirq.LineQubit(5), cirq.X), (cirq.LineQubit(4), cirq.Z), (cirq.LineQubit(3), cirq.Y), (cirq.LineQubit(1), cirq.Y)}): (-0.007026348910389721-0.0014984005719309475j), frozenset({(cirq.LineQubit(6), cirq.Z), (cirq.LineQubit(5), cirq.X), (cirq.LineQubit(4), cirq.Z), (cirq.LineQubit(3), cirq.Y), (cirq.LineQubit(1), cirq.Y)}): (-0.0031242832019367462+0.01154597484391941j), frozenset({(cirq.LineQubit(4), cirq.Z), (cirq.LineQubit(2), cirq.Y), (cirq.LineQubit(5), cirq.X), (cirq.LineQubit(1), cirq.Y)}): (-0.007026348910389726-0.0014984005719309483j), frozenset({(cirq.LineQubit(6), cirq.Z), (cirq.LineQubit(1), cirq.Y), (cirq.LineQubit(5), cirq.Z)}): (0.0014984005719309475-0.007026348910389721j), frozenset({(cirq.LineQubit(1), cirq.Y), (cirq.LineQubit(3), cirq.Y), (cirq.LineQubit(2), cirq.Y), (cirq.LineQubit(5), cirq.Z)}): (-0.011545974843919418-0.003124283201936748j), frozenset({(cirq.LineQubit(5), cirq.Z), (cirq.LineQubit(0), cirq.Y), (cirq.LineQubit(6), cirq.Z), (cirq.LineQubit(3), cirq.Y), (cirq.LineQubit(1), cirq.Y)}): (0.0014984005719309483-0.007026348910389726j), frozenset({(cirq.LineQubit(0), cirq.Y), (cirq.LineQubit(1), cirq.Y), (cirq.LineQubit(2), cirq.Y), (cirq.LineQubit(5), cirq.Z)}): (-0.011545974843919426-0.0031242832019367506j), frozenset({(cirq.LineQubit(0), cirq.Y), (cirq.LineQubit(6), cirq.Z), (cirq.LineQubit(5), cirq.X), (cirq.LineQubit(1), cirq.Y)}): (-0.0031242832019367462+0.01154597484391941j), frozenset({(cirq.LineQubit(2), cirq.Y), (cirq.LineQubit(0), cirq.Y), (cirq.LineQubit(5), cirq.X), (cirq.LineQubit(3), cirq.Y), (cirq.LineQubit(1), cirq.Y)}): (-0.007026348910389726-0.0014984005719309483j), frozenset({(cirq.LineQubit(6), cirq.Z), (cirq.LineQubit(3), cirq.Y), (cirq.LineQubit(5), cirq.X), (cirq.LineQubit(1), cirq.Y)}): (-0.003124283201936748+0.011545974843919418j), frozenset({(cirq.LineQubit(2), cirq.Y), (cirq.LineQubit(5), cirq.X), (cirq.LineQubit(1), cirq.Y)}): (-0.007026348910389731-0.0014984005719309492j), frozenset({(cirq.LineQubit(4), cirq.Z), (cirq.LineQubit(6), cirq.Z), (cirq.LineQubit(1), cirq.Y), (cirq.LineQubit(5), cirq.Z)}): (0.0014984005719309483-0.007026348910389726j), frozenset({(cirq.LineQubit(5), cirq.Z), (cirq.LineQubit(2), cirq.Y), (cirq.LineQubit(4), cirq.Z), (cirq.LineQubit(3), cirq.Y), (cirq.LineQubit(1), cirq.Y)}): (-0.011545974843919426-0.0031242832019367506j), frozenset({(cirq.LineQubit(5), cirq.Z), (cirq.LineQubit(0), cirq.Y), (cirq.LineQubit(6), cirq.Z), (cirq.LineQubit(4), cirq.Z), (cirq.LineQubit(3), cirq.Y), (cirq.LineQubit(1), cirq.Y)}): (0.0014984005719309492-0.007026348910389731j), frozenset({(cirq.LineQubit(5), cirq.Z), (cirq.LineQubit(2), cirq.Y), (cirq.LineQubit(0), cirq.Y), (cirq.LineQubit(4), cirq.Z), (cirq.LineQubit(1), cirq.Y)}): (-0.011545974843919435-0.0031242832019367523j), frozenset({(cirq.LineQubit(6), cirq.Y), (cirq.LineQubit(0), cirq.Z), (cirq.LineQubit(3), cirq.Z), (cirq.LineQubit(1), cirq.Z), (cirq.LineQubit(2), cirq.Y)}): (0.011545974843919372+0.003124283201936735j), frozenset({(cirq.LineQubit(3), cirq.X), (cirq.LineQubit(6), cirq.X), (cirq.LineQubit(1), cirq.Z), (cirq.LineQubit(0), cirq.Z)}): (-0.0014984005719309431+0.007026348910389702j), frozenset({(cirq.LineQubit(3), cirq.X), (cirq.LineQubit(6), cirq.Y), (cirq.LineQubit(1), cirq.Z), (cirq.LineQubit(2), cirq.Y), (cirq.LineQubit(0), cirq.X)}): (-0.01154597484391938-0.0031242832019367376j), frozenset({(cirq.LineQubit(6), cirq.X), (cirq.LineQubit(3), cirq.Z), (cirq.LineQubit(1), cirq.Z), (cirq.LineQubit(0), cirq.X)}): (-0.001498400571930944+0.007026348910389707j), frozenset({(cirq.LineQubit(3), cirq.Z), (cirq.LineQubit(5), cirq.Y), (cirq.LineQubit(4), cirq.Z), (cirq.LineQubit(6), cirq.Y), (cirq.LineQubit(1), cirq.Z), (cirq.LineQubit(2), cirq.Y), (cirq.LineQubit(0), cirq.X)}): (0.007026348910389702+0.0014984005719309431j), frozenset({(cirq.LineQubit(6), cirq.X), (cirq.LineQubit(3), cirq.X), (cirq.LineQubit(5), cirq.Y), (cirq.LineQubit(4), cirq.Z), (cirq.LineQubit(1), cirq.Z), (cirq.LineQubit(0), cirq.X)}): (0.0031242832019367393-0.011545974843919388j), frozenset({(cirq.LineQubit(3), cirq.X), (cirq.LineQubit(5), cirq.Y), (cirq.LineQubit(0), cirq.Z), (cirq.LineQubit(4), cirq.Z), (cirq.LineQubit(6), cirq.Y), (cirq.LineQubit(1), cirq.Z), (cirq.LineQubit(2), cirq.Y)}): (0.007026348910389707+0.001498400571930944j), frozenset({(cirq.LineQubit(6), cirq.X), (cirq.LineQubit(5), cirq.Y), (cirq.LineQubit(0), cirq.Z), (cirq.LineQubit(4), cirq.Z), (cirq.LineQubit(3), cirq.Z), (cirq.LineQubit(1), cirq.Z)}): (-0.003124283201936742+0.011545974843919397j), frozenset({(cirq.LineQubit(6), cirq.Y), (cirq.LineQubit(0), cirq.Z), (cirq.LineQubit(4), cirq.Z), (cirq.LineQubit(3), cirq.Z), (cirq.LineQubit(1), cirq.Z), (cirq.LineQubit(2), cirq.Y)}): (0.01154597484391938+0.0031242832019367376j), frozenset({(cirq.LineQubit(6), cirq.X), (cirq.LineQubit(3), cirq.X), (cirq.LineQubit(0), cirq.Z), (cirq.LineQubit(4), cirq.Z), (cirq.LineQubit(1), cirq.Z)}): (-0.001498400571930944+0.007026348910389707j), frozenset({(cirq.LineQubit(3), cirq.X), (cirq.LineQubit(4), cirq.Z), (cirq.LineQubit(6), cirq.Y), (cirq.LineQubit(1), cirq.Z), (cirq.LineQubit(2), cirq.Y), (cirq.LineQubit(0), cirq.X)}): (-0.011545974843919388-0.0031242832019367393j), frozenset({(cirq.LineQubit(6), cirq.X), (cirq.LineQubit(4), cirq.Z), (cirq.LineQubit(3), cirq.Z), (cirq.LineQubit(1), cirq.Z), (cirq.LineQubit(0), cirq.X)}): (-0.0014984005719309449+0.0070263489103897115j), frozenset({(cirq.LineQubit(6), cirq.Y), (cirq.LineQubit(5), cirq.Y), (cirq.LineQubit(3), cirq.Z), (cirq.LineQubit(1), cirq.Z), (cirq.LineQubit(2), cirq.Y), (cirq.LineQubit(0), cirq.X)}): (0.007026348910389707+0.001498400571930944j), frozenset({(cirq.LineQubit(6), cirq.X), (cirq.LineQubit(3), cirq.X), (cirq.LineQubit(5), cirq.Y), (cirq.LineQubit(1), cirq.Z), (cirq.LineQubit(0), cirq.X)}): (0.003124283201936742-0.011545974843919397j), frozenset({(cirq.LineQubit(3), cirq.X), (cirq.LineQubit(5), cirq.Y), (cirq.LineQubit(0), cirq.Z), (cirq.LineQubit(6), cirq.Y), (cirq.LineQubit(1), cirq.Z), (cirq.LineQubit(2), cirq.Y)}): (0.0070263489103897115+0.0014984005719309449j), frozenset({(cirq.LineQubit(6), cirq.X), (cirq.LineQubit(0), cirq.Z), (cirq.LineQubit(5), cirq.Y), (cirq.LineQubit(3), cirq.Z), (cirq.LineQubit(1), cirq.Z)}): (-0.0031242832019367436+0.011545974843919404j), frozenset({(cirq.LineQubit(1), cirq.Z), (cirq.LineQubit(5), cirq.X), (cirq.LineQubit(4), cirq.Z), (cirq.LineQubit(6), cirq.Y), (cirq.LineQubit(2), cirq.Z)}): (-0.007026348910389707-0.001498400571930944j), frozenset({(cirq.LineQubit(6), cirq.X), (cirq.LineQubit(2), cirq.X), (cirq.LineQubit(3), cirq.Y), (cirq.LineQubit(5), cirq.X), (cirq.LineQubit(4), cirq.Z), (cirq.LineQubit(1), cirq.Z)}): (-0.003124283201936742+0.011545974843919397j), frozenset({(cirq.LineQubit(1), cirq.Z), (cirq.LineQubit(0), cirq.Y), (cirq.LineQubit(3), cirq.Y), (cirq.LineQubit(5), cirq.X), (cirq.LineQubit(4), cirq.Z), (cirq.LineQubit(6), cirq.Y), (cirq.LineQubit(2), cirq.Z)}): (-0.0070263489103897115-0.0014984005719309449j), frozenset({(cirq.LineQubit(6), cirq.X), (cirq.LineQubit(2), cirq.X), (cirq.LineQubit(0), cirq.Y), (cirq.LineQubit(5), cirq.X), (cirq.LineQubit(4), cirq.Z), (cirq.LineQubit(1), cirq.Z)}): (-0.0031242832019367436+0.011545974843919404j), frozenset({(cirq.LineQubit(5), cirq.Z), (cirq.LineQubit(0), cirq.Y), (cirq.LineQubit(6), cirq.Y), (cirq.LineQubit(1), cirq.Z), (cirq.LineQubit(2), cirq.Z)}): (-0.011545974843919397-0.003124283201936742j), frozenset({(cirq.LineQubit(1), cirq.Z), (cirq.LineQubit(6), cirq.X), (cirq.LineQubit(5), cirq.Z), (cirq.LineQubit(2), cirq.X), (cirq.LineQubit(0), cirq.Y), (cirq.LineQubit(3), cirq.Y)}): (0.0014984005719309466-0.007026348910389717j), frozenset({(cirq.LineQubit(5), cirq.Z), (cirq.LineQubit(3), cirq.Y), (cirq.LineQubit(6), cirq.Y), (cirq.LineQubit(1), cirq.Z), (cirq.LineQubit(2), cirq.Z)}): (-0.011545974843919404-0.0031242832019367436j), frozenset({(cirq.LineQubit(6), cirq.X), (cirq.LineQubit(2), cirq.X), (cirq.LineQubit(1), cirq.Z), (cirq.LineQubit(5), cirq.Z)}): (0.0014984005719309475-0.007026348910389721j), frozenset({(cirq.LineQubit(1), cirq.Z), (cirq.LineQubit(6), cirq.Y), (cirq.LineQubit(2), cirq.Z), (cirq.LineQubit(5), cirq.X)}): (-0.0070263489103897115-0.0014984005719309449j), frozenset({(cirq.LineQubit(1), cirq.Z), (cirq.LineQubit(6), cirq.X), (cirq.LineQubit(2), cirq.X), (cirq.LineQubit(5), cirq.X), (cirq.LineQubit(3), cirq.Y)}): (-0.0031242832019367436+0.011545974843919404j), frozenset({(cirq.LineQubit(0), cirq.Y), (cirq.LineQubit(3), cirq.Y), (cirq.LineQubit(5), cirq.X), (cirq.LineQubit(6), cirq.Y), (cirq.LineQubit(1), cirq.Z), (cirq.LineQubit(2), cirq.Z)}): (-0.007026348910389717-0.0014984005719309466j), frozenset({(cirq.LineQubit(6), cirq.X), (cirq.LineQubit(2), cirq.X), (cirq.LineQubit(0), cirq.Y), (cirq.LineQubit(5), cirq.X), (cirq.LineQubit(1), cirq.Z)}): (-0.0031242832019367462+0.01154597484391941j), frozenset({(cirq.LineQubit(5), cirq.Z), (cirq.LineQubit(0), cirq.Y), (cirq.LineQubit(4), cirq.Z), (cirq.LineQubit(6), cirq.Y), (cirq.LineQubit(1), cirq.Z), (cirq.LineQubit(2), cirq.Z)}): (-0.011545974843919404-0.0031242832019367436j), frozenset({(cirq.LineQubit(6), cirq.X), (cirq.LineQubit(5), cirq.Z), (cirq.LineQubit(2), cirq.X), (cirq.LineQubit(0), cirq.Y), (cirq.LineQubit(3), cirq.Y), (cirq.LineQubit(4), cirq.Z), (cirq.LineQubit(1), cirq.Z)}): (0.0014984005719309475-0.007026348910389721j), frozenset({(cirq.LineQubit(5), cirq.Z), (cirq.LineQubit(3), cirq.Y), (cirq.LineQubit(4), cirq.Z), (cirq.LineQubit(6), cirq.Y), (cirq.LineQubit(1), cirq.Z), (cirq.LineQubit(2), cirq.Z)}): (-0.01154597484391941-0.0031242832019367462j), frozenset({(cirq.LineQubit(6), cirq.X), (cirq.LineQubit(5), cirq.Z), (cirq.LineQubit(2), cirq.X), (cirq.LineQubit(4), cirq.Z), (cirq.LineQubit(1), cirq.Z)}): (0.0014984005719309483-0.007026348910389726j), frozenset({(cirq.LineQubit(3), cirq.Z), (cirq.LineQubit(6), cirq.Z), (cirq.LineQubit(2), cirq.Z), (cirq.LineQubit(0), cirq.Z)}): (-0.001498400571930944+0.007026348910389707j), frozenset({(cirq.LineQubit(3), cirq.X), (cirq.LineQubit(2), cirq.X), (cirq.LineQubit(0), cirq.Z)}): (-0.011545974843919397-0.003124283201936742j), frozenset({(cirq.LineQubit(3), cirq.X), (cirq.LineQubit(6), cirq.Z), (cirq.LineQubit(2), cirq.Z), (cirq.LineQubit(0), cirq.X)}): (0.0014984005719309449-0.0070263489103897115j), frozenset({(cirq.LineQubit(3), cirq.Z), (cirq.LineQubit(2), cirq.X), (cirq.LineQubit(0), cirq.X)}): (-0.011545974843919404-0.0031242832019367436j), frozenset({(cirq.LineQubit(5), cirq.Y), (cirq.LineQubit(6), cirq.Z), (cirq.LineQubit(4), cirq.Z), (cirq.LineQubit(3), cirq.Z), (cirq.LineQubit(2), cirq.Z), (cirq.LineQubit(0), cirq.X)}): (0.003124283201936742-0.011545974843919397j), frozenset({(cirq.LineQubit(3), cirq.X), (cirq.LineQubit(2), cirq.X), (cirq.LineQubit(5), cirq.Y), (cirq.LineQubit(4), cirq.Z), (cirq.LineQubit(0), cirq.X)}): (-0.007026348910389717-0.0014984005719309466j), frozenset({(cirq.LineQubit(3), cirq.X), (cirq.LineQubit(5), cirq.Y), (cirq.LineQubit(0), cirq.Z), (cirq.LineQubit(6), cirq.Z), (cirq.LineQubit(4), cirq.Z), (cirq.LineQubit(2), cirq.Z)}): (0.0031242832019367436-0.011545974843919404j), frozenset({(cirq.LineQubit(2), cirq.X), (cirq.LineQubit(0), cirq.Z), (cirq.LineQubit(5), cirq.Y), (cirq.LineQubit(4), cirq.Z), (cirq.LineQubit(3), cirq.Z)}): (0.007026348910389721+0.0014984005719309475j), frozenset({(cirq.LineQubit(0), cirq.Z), (cirq.LineQubit(6), cirq.Z), (cirq.LineQubit(4), cirq.Z), (cirq.LineQubit(3), cirq.Z), (cirq.LineQubit(2), cirq.Z)}): (-0.0014984005719309449+0.0070263489103897115j), frozenset({(cirq.LineQubit(4), cirq.Z), (cirq.LineQubit(3), cirq.X), (cirq.LineQubit(2), cirq.X), (cirq.LineQubit(0), cirq.Z)}): (-0.011545974843919404-0.0031242832019367436j), frozenset({(cirq.LineQubit(3), cirq.X), (cirq.LineQubit(6), cirq.Z), (cirq.LineQubit(4), cirq.Z), (cirq.LineQubit(2), cirq.Z), (cirq.LineQubit(0), cirq.X)}): (0.0014984005719309466-0.007026348910389717j), frozenset({(cirq.LineQubit(4), cirq.Z), (cirq.LineQubit(3), cirq.Z), (cirq.LineQubit(2), cirq.X), (cirq.LineQubit(0), cirq.X)}): (-0.01154597484391941-0.0031242832019367462j), frozenset({(cirq.LineQubit(5), cirq.Y), (cirq.LineQubit(6), cirq.Z), (cirq.LineQubit(3), cirq.Z), (cirq.LineQubit(2), cirq.Z), (cirq.LineQubit(0), cirq.X)}): (0.0031242832019367436-0.011545974843919404j), frozenset({(cirq.LineQubit(3), cirq.X), (cirq.LineQubit(2), cirq.X), (cirq.LineQubit(0), cirq.X), (cirq.LineQubit(5), cirq.Y)}): (-0.007026348910389721-0.0014984005719309475j), frozenset({(cirq.LineQubit(3), cirq.X), (cirq.LineQubit(0), cirq.Z), (cirq.LineQubit(5), cirq.Y), (cirq.LineQubit(6), cirq.Z), (cirq.LineQubit(2), cirq.Z)}): (0.0031242832019367462-0.01154597484391941j), frozenset({(cirq.LineQubit(0), cirq.Z), (cirq.LineQubit(3), cirq.Z), (cirq.LineQubit(2), cirq.X), (cirq.LineQubit(5), cirq.Y)}): (0.007026348910389726+0.0014984005719309483j), frozenset({(cirq.LineQubit(4), cirq.Z), (cirq.LineQubit(2), cirq.Y), (cirq.LineQubit(6), cirq.Z), (cirq.LineQubit(5), cirq.X)}): (0.0031242832019367436-0.011545974843919404j), frozenset({(cirq.LineQubit(4), cirq.Z), (cirq.LineQubit(3), cirq.Y), (cirq.LineQubit(5), cirq.X)}): (0.007026348910389721+0.0014984005719309475j), frozenset({(cirq.LineQubit(0), cirq.Y), (cirq.LineQubit(6), cirq.Z), (cirq.LineQubit(5), cirq.X), (cirq.LineQubit(4), cirq.Z), (cirq.LineQubit(3), cirq.Y), (cirq.LineQubit(2), cirq.Y)}): (0.0031242832019367462-0.01154597484391941j), frozenset({(cirq.LineQubit(0), cirq.Y), (cirq.LineQubit(4), cirq.Z), (cirq.LineQubit(5), cirq.X)}): (0.007026348910389726+0.0014984005719309483j), frozenset({(cirq.LineQubit(0), cirq.Y), (cirq.LineQubit(6), cirq.Z), (cirq.LineQubit(2), cirq.Y), (cirq.LineQubit(5), cirq.Z)}): (-0.0014984005719309475+0.007026348910389721j), frozenset({(cirq.LineQubit(0), cirq.Y), (cirq.LineQubit(3), cirq.Y), (cirq.LineQubit(5), cirq.Z)}): (0.011545974843919418+0.003124283201936748j), frozenset({(cirq.LineQubit(6), cirq.Z), (cirq.LineQubit(3), cirq.Y), (cirq.LineQubit(2), cirq.Y), (cirq.LineQubit(5), cirq.Z)}): (-0.0014984005719309483+0.007026348910389726j), frozenset({(cirq.LineQubit(5), cirq.Z)}): (0.011545974843919426+0.0031242832019367506j), frozenset({(cirq.LineQubit(2), cirq.Y), (cirq.LineQubit(6), cirq.Z), (cirq.LineQubit(5), cirq.X)}): (0.0031242832019367462-0.01154597484391941j), frozenset({(cirq.LineQubit(3), cirq.Y), (cirq.LineQubit(5), cirq.X)}): (0.007026348910389726+0.0014984005719309483j), frozenset({(cirq.LineQubit(0), cirq.Y), (cirq.LineQubit(6), cirq.Z), (cirq.LineQubit(5), cirq.X), (cirq.LineQubit(3), cirq.Y), (cirq.LineQubit(2), cirq.Y)}): (0.003124283201936748-0.011545974843919418j), frozenset({(cirq.LineQubit(0), cirq.Y), (cirq.LineQubit(5), cirq.X)}): (0.007026348910389731+0.0014984005719309492j), frozenset({(cirq.LineQubit(5), cirq.Z), (cirq.LineQubit(0), cirq.Y), (cirq.LineQubit(6), cirq.Z), (cirq.LineQubit(4), cirq.Z), (cirq.LineQubit(2), cirq.Y)}): (-0.0014984005719309483+0.007026348910389726j), frozenset({(cirq.LineQubit(0), cirq.Y), (cirq.LineQubit(4), cirq.Z), (cirq.LineQubit(3), cirq.Y), (cirq.LineQubit(5), cirq.Z)}): (0.011545974843919426+0.0031242832019367506j), frozenset({(cirq.LineQubit(5), cirq.Z), (cirq.LineQubit(6), cirq.Z), (cirq.LineQubit(4), cirq.Z), (cirq.LineQubit(3), cirq.Y), (cirq.LineQubit(2), cirq.Y)}): (-0.0014984005719309492+0.007026348910389731j), frozenset({(cirq.LineQubit(4), cirq.Z), (cirq.LineQubit(5), cirq.Z)}): (0.011545974843919435+0.0031242832019367523j), frozenset({(cirq.LineQubit(0), cirq.Y), (cirq.LineQubit(4), cirq.Y), (cirq.LineQubit(6), cirq.Y), (cirq.LineQubit(5), cirq.Y)}): (0.005805346574412139-0.0012941249978599923j), frozenset({(cirq.LineQubit(6), cirq.X), (cirq.LineQubit(5), cirq.Y), (cirq.LineQubit(0), cirq.Y), (cirq.LineQubit(4), cirq.Y), (cirq.LineQubit(3), cirq.Y), (cirq.LineQubit(2), cirq.Y)}): (-0.008401665768599291+0.0005484531932806987j), frozenset({(cirq.LineQubit(4), cirq.Y), (cirq.LineQubit(6), cirq.Y), (cirq.LineQubit(3), cirq.Y), (cirq.LineQubit(5), cirq.Y)}): (-0.005805346574412142+0.0012941249978599932j), frozenset({(cirq.LineQubit(4), cirq.Y), (cirq.LineQubit(6), cirq.X), (cirq.LineQubit(2), cirq.Y), (cirq.LineQubit(5), cirq.Y)}): (0.008401665768599296-0.0005484531932806991j), frozenset({(cirq.LineQubit(4), cirq.X), (cirq.LineQubit(6), cirq.Y)}): (-0.0012941249978599932-0.005805346574412142j), frozenset({(cirq.LineQubit(4), cirq.X), (cirq.LineQubit(6), cirq.X), (cirq.LineQubit(3), cirq.Y), (cirq.LineQubit(2), cirq.Y)}): (0.0005484531932806991+0.008401665768599296j), frozenset({(cirq.LineQubit(0), cirq.Y), (cirq.LineQubit(3), cirq.Y), (cirq.LineQubit(6), cirq.Y), (cirq.LineQubit(4), cirq.X)}): (0.0012941249978599945+0.005805346574412146j), frozenset({(cirq.LineQubit(0), cirq.Y), (cirq.LineQubit(6), cirq.X), (cirq.LineQubit(4), cirq.X), (cirq.LineQubit(2), cirq.Y)}): (-0.0005484531932806996-0.008401665768599301j), frozenset({(cirq.LineQubit(0), cirq.Y), (cirq.LineQubit(6), cirq.Y), (cirq.LineQubit(4), cirq.X), (cirq.LineQubit(5), cirq.Y)}): (-0.0012941249978599932-0.005805346574412142j), frozenset({(cirq.LineQubit(6), cirq.X), (cirq.LineQubit(4), cirq.X), (cirq.LineQubit(5), cirq.Y), (cirq.LineQubit(0), cirq.Y), (cirq.LineQubit(3), cirq.Y), (cirq.LineQubit(2), cirq.Y)}): (0.0005484531932806991+0.008401665768599296j), frozenset({(cirq.LineQubit(4), cirq.X), (cirq.LineQubit(6), cirq.Y), (cirq.LineQubit(3), cirq.Y), (cirq.LineQubit(5), cirq.Y)}): (0.0012941249978599945+0.005805346574412146j), frozenset({(cirq.LineQubit(4), cirq.X), (cirq.LineQubit(6), cirq.X), (cirq.LineQubit(2), cirq.Y), (cirq.LineQubit(5), cirq.Y)}): (-0.0005484531932806996-0.008401665768599301j), frozenset({(cirq.LineQubit(4), cirq.Y), (cirq.LineQubit(6), cirq.Y)}): (0.005805346574412146-0.0012941249978599945j), frozenset({(cirq.LineQubit(4), cirq.Y), (cirq.LineQubit(6), cirq.X), (cirq.LineQubit(3), cirq.Y), (cirq.LineQubit(2), cirq.Y)}): (-0.008401665768599301+0.0005484531932806996j), frozenset({(cirq.LineQubit(0), cirq.Y), (cirq.LineQubit(4), cirq.Y), (cirq.LineQubit(6), cirq.Y), (cirq.LineQubit(3), cirq.Y)}): (-0.00580534657441215+0.0012941249978599945j), frozenset({(cirq.LineQubit(0), cirq.Y), (cirq.LineQubit(4), cirq.Y), (cirq.LineQubit(6), cirq.X), (cirq.LineQubit(2), cirq.Y)}): (0.008401665768599308-0.0005484531932807j), frozenset({(cirq.LineQubit(5), cirq.Z), (cirq.LineQubit(4), cirq.X), (cirq.LineQubit(3), cirq.Z), (cirq.LineQubit(2), cirq.X), (cirq.LineQubit(6), cirq.Y), (cirq.LineQubit(0), cirq.X)}): (0.0012941249978599945+0.005805346574412146j), frozenset({(cirq.LineQubit(6), cirq.X), (cirq.LineQubit(5), cirq.Z), (cirq.LineQubit(4), cirq.X), (cirq.LineQubit(3), cirq.X), (cirq.LineQubit(2), cirq.Z), (cirq.LineQubit(0), cirq.X)}): (-0.0005484531932806996-0.008401665768599301j), frozenset({(cirq.LineQubit(5), cirq.Z), (cirq.LineQubit(4), cirq.X), (cirq.LineQubit(3), cirq.X), (cirq.LineQubit(2), cirq.X), (cirq.LineQubit(0), cirq.Z), (cirq.LineQubit(6), cirq.Y)}): (-0.0012941249978599945-0.00580534657441215j), frozenset({(cirq.LineQubit(6), cirq.X), (cirq.LineQubit(5), cirq.Z), (cirq.LineQubit(4), cirq.X), (cirq.LineQubit(0), cirq.Z), (cirq.LineQubit(3), cirq.Z), (cirq.LineQubit(2), cirq.Z)}): (-0.0005484531932807-0.008401665768599308j), frozenset({(cirq.LineQubit(3), cirq.Z), (cirq.LineQubit(2), cirq.X), (cirq.LineQubit(0), cirq.Z), (cirq.LineQubit(5), cirq.X), (cirq.LineQubit(4), cirq.Y), (cirq.LineQubit(6), cirq.Y)}): (-0.00580534657441215+0.0012941249978599945j), frozenset({(cirq.LineQubit(6), cirq.X), (cirq.LineQubit(3), cirq.X), (cirq.LineQubit(0), cirq.Z), (cirq.LineQubit(5), cirq.X), (cirq.LineQubit(4), cirq.Y), (cirq.LineQubit(2), cirq.Z)}): (0.008401665768599308-0.0005484531932807j), frozenset({(cirq.LineQubit(3), cirq.X), (cirq.LineQubit(2), cirq.X), (cirq.LineQubit(5), cirq.X), (cirq.LineQubit(4), cirq.Y), (cirq.LineQubit(6), cirq.Y), (cirq.LineQubit(0), cirq.X)}): (-0.005805346574412154+0.0012941249978599958j), frozenset({(cirq.LineQubit(6), cirq.X), (cirq.LineQubit(5), cirq.X), (cirq.LineQubit(4), cirq.Y), (cirq.LineQubit(3), cirq.Z), (cirq.LineQubit(2), cirq.Z), (cirq.LineQubit(0), cirq.X)}): (-0.008401665768599314+0.0005484531932807004j), frozenset({(cirq.LineQubit(5), cirq.Z), (cirq.LineQubit(3), cirq.Z), (cirq.LineQubit(2), cirq.X), (cirq.LineQubit(4), cirq.Y), (cirq.LineQubit(6), cirq.Y), (cirq.LineQubit(0), cirq.X)}): (-0.00580534657441215+0.0012941249978599945j), frozenset({(cirq.LineQubit(6), cirq.X), (cirq.LineQubit(5), cirq.Z), (cirq.LineQubit(3), cirq.X), (cirq.LineQubit(4), cirq.Y), (cirq.LineQubit(2), cirq.Z), (cirq.LineQubit(0), cirq.X)}): (0.008401665768599308-0.0005484531932807j), frozenset({(cirq.LineQubit(5), cirq.Z), (cirq.LineQubit(3), cirq.X), (cirq.LineQubit(2), cirq.X), (cirq.LineQubit(0), cirq.Z), (cirq.LineQubit(4), cirq.Y), (cirq.LineQubit(6), cirq.Y)}): (0.005805346574412154-0.0012941249978599958j), frozenset({(cirq.LineQubit(6), cirq.X), (cirq.LineQubit(5), cirq.Z), (cirq.LineQubit(0), cirq.Z), (cirq.LineQubit(4), cirq.Y), (cirq.LineQubit(3), cirq.Z), (cirq.LineQubit(2), cirq.Z)}): (0.008401665768599314-0.0005484531932807004j), frozenset({(cirq.LineQubit(4), cirq.X), (cirq.LineQubit(3), cirq.Z), (cirq.LineQubit(2), cirq.X), (cirq.LineQubit(0), cirq.Z), (cirq.LineQubit(5), cirq.X), (cirq.LineQubit(6), cirq.Y)}): (0.0012941249978599958+0.005805346574412154j), frozenset({(cirq.LineQubit(6), cirq.X), (cirq.LineQubit(4), cirq.X), (cirq.LineQubit(3), cirq.X), (cirq.LineQubit(0), cirq.Z), (cirq.LineQubit(5), cirq.X), (cirq.LineQubit(2), cirq.Z)}): (-0.0005484531932807004-0.008401665768599314j), frozenset({(cirq.LineQubit(4), cirq.X), (cirq.LineQubit(3), cirq.X), (cirq.LineQubit(2), cirq.X), (cirq.LineQubit(5), cirq.X), (cirq.LineQubit(6), cirq.Y), (cirq.LineQubit(0), cirq.X)}): (0.0012941249978599967+0.005805346574412158j), frozenset({(cirq.LineQubit(6), cirq.X), (cirq.LineQubit(4), cirq.X), (cirq.LineQubit(5), cirq.X), (cirq.LineQubit(3), cirq.Z), (cirq.LineQubit(2), cirq.Z), (cirq.LineQubit(0), cirq.X)}): (0.0005484531932807004+0.008401665768599319j), frozenset({(cirq.LineQubit(2), cirq.X), (cirq.LineQubit(5), cirq.Y), (cirq.LineQubit(0), cirq.Y), (cirq.LineQubit(6), cirq.Z), (cirq.LineQubit(4), cirq.Y), (cirq.LineQubit(1), cirq.Z)}): (-0.008401665768599296+0.0005484531932806991j), frozenset({(cirq.LineQubit(1), cirq.Z), (cirq.LineQubit(5), cirq.Y), (cirq.LineQubit(0), cirq.Y), (cirq.LineQubit(3), cirq.Y), (cirq.LineQubit(4), cirq.Y), (cirq.LineQubit(2), cirq.Z)}): (-0.00580534657441215+0.0012941249978599945j), frozenset({(cirq.LineQubit(2), cirq.X), (cirq.LineQubit(5), cirq.Y), (cirq.LineQubit(6), cirq.Z), (cirq.LineQubit(3), cirq.Y), (cirq.LineQubit(4), cirq.Y), (cirq.LineQubit(1), cirq.Z)}): (0.008401665768599301-0.0005484531932806996j), frozenset({(cirq.LineQubit(4), cirq.Y), (cirq.LineQubit(2), cirq.Z), (cirq.LineQubit(1), cirq.Z), (cirq.LineQubit(5), cirq.Y)}): (0.005805346574412154-0.0012941249978599958j), frozenset({(cirq.LineQubit(4), cirq.X), (cirq.LineQubit(2), cirq.X), (cirq.LineQubit(6), cirq.Z), (cirq.LineQubit(1), cirq.Z)}): (0.0005484531932806996+0.008401665768599301j), frozenset({(cirq.LineQubit(4), cirq.X), (cirq.LineQubit(3), cirq.Y), (cirq.LineQubit(1), cirq.Z), (cirq.LineQubit(2), cirq.Z)}): (0.0012941249978599958+0.005805346574412154j), frozenset({(cirq.LineQubit(4), cirq.X), (cirq.LineQubit(2), cirq.X), (cirq.LineQubit(0), cirq.Y), (cirq.LineQubit(6), cirq.Z), (cirq.LineQubit(3), cirq.Y), (cirq.LineQubit(1), cirq.Z)}): (-0.0005484531932807-0.008401665768599308j), frozenset({(cirq.LineQubit(0), cirq.Y), (cirq.LineQubit(4), cirq.X), (cirq.LineQubit(1), cirq.Z), (cirq.LineQubit(2), cirq.Z)}): (-0.0012941249978599967-0.005805346574412158j), frozenset({(cirq.LineQubit(4), cirq.X), (cirq.LineQubit(2), cirq.X), (cirq.LineQubit(5), cirq.Y), (cirq.LineQubit(0), cirq.Y), (cirq.LineQubit(6), cirq.Z), (cirq.LineQubit(1), cirq.Z)}): (0.0005484531932806996+0.008401665768599301j), frozenset({(cirq.LineQubit(1), cirq.Z), (cirq.LineQubit(4), cirq.X), (cirq.LineQubit(5), cirq.Y), (cirq.LineQubit(0), cirq.Y), (cirq.LineQubit(3), cirq.Y), (cirq.LineQubit(2), cirq.Z)}): (0.0012941249978599958+0.005805346574412154j), frozenset({(cirq.LineQubit(4), cirq.X), (cirq.LineQubit(2), cirq.X), (cirq.LineQubit(5), cirq.Y), (cirq.LineQubit(6), cirq.Z), (cirq.LineQubit(3), cirq.Y), (cirq.LineQubit(1), cirq.Z)}): (-0.0005484531932807-0.008401665768599308j), frozenset({(cirq.LineQubit(4), cirq.X), (cirq.LineQubit(2), cirq.Z), (cirq.LineQubit(1), cirq.Z), (cirq.LineQubit(5), cirq.Y)}): (-0.0012941249978599967-0.005805346574412158j), frozenset({(cirq.LineQubit(2), cirq.X), (cirq.LineQubit(4), cirq.Y), (cirq.LineQubit(6), cirq.Z), (cirq.LineQubit(1), cirq.Z)}): (-0.008401665768599308+0.0005484531932807j), frozenset({(cirq.LineQubit(3), cirq.Y), (cirq.LineQubit(4), cirq.Y), (cirq.LineQubit(1), cirq.Z), (cirq.LineQubit(2), cirq.Z)}): (-0.005805346574412158+0.0012941249978599967j), frozenset({(cirq.LineQubit(2), cirq.X), (cirq.LineQubit(0), cirq.Y), (cirq.LineQubit(6), cirq.Z), (cirq.LineQubit(3), cirq.Y), (cirq.LineQubit(4), cirq.Y), (cirq.LineQubit(1), cirq.Z)}): (0.008401665768599314-0.0005484531932807004j), frozenset({(cirq.LineQubit(0), cirq.Y), (cirq.LineQubit(4), cirq.Y), (cirq.LineQubit(1), cirq.Z), (cirq.LineQubit(2), cirq.Z)}): (0.005805346574412162-0.001294124997859998j), frozenset({(cirq.LineQubit(5), cirq.Z), (cirq.LineQubit(4), cirq.X), (cirq.LineQubit(6), cirq.Z), (cirq.LineQubit(3), cirq.Z), (cirq.LineQubit(1), cirq.Z), (cirq.LineQubit(0), cirq.X)}): (-0.0005484531932807-0.008401665768599308j), frozenset({(cirq.LineQubit(5), cirq.Z), (cirq.LineQubit(4), cirq.X), (cirq.LineQubit(3), cirq.X), (cirq.LineQubit(1), cirq.Z), (cirq.LineQubit(2), cirq.Y), (cirq.LineQubit(0), cirq.X)}): (0.0012941249978599967+0.005805346574412158j), frozenset({(cirq.LineQubit(5), cirq.Z), (cirq.LineQubit(4), cirq.X), (cirq.LineQubit(3), cirq.X), (cirq.LineQubit(0), cirq.Z), (cirq.LineQubit(6), cirq.Z), (cirq.LineQubit(1), cirq.Z)}): (0.0005484531932807004+0.008401665768599314j), frozenset({(cirq.LineQubit(5), cirq.Z), (cirq.LineQubit(4), cirq.X), (cirq.LineQubit(0), cirq.Z), (cirq.LineQubit(3), cirq.Z), (cirq.LineQubit(1), cirq.Z), (cirq.LineQubit(2), cirq.Y)}): (0.001294124997859998+0.005805346574412162j), frozenset({(cirq.LineQubit(0), cirq.Z), (cirq.LineQubit(6), cirq.Z), (cirq.LineQubit(5), cirq.X), (cirq.LineQubit(4), cirq.Y), (cirq.LineQubit(3), cirq.Z), (cirq.LineQubit(1), cirq.Z)}): (0.008401665768599314-0.0005484531932807004j), frozenset({(cirq.LineQubit(3), cirq.X), (cirq.LineQubit(0), cirq.Z), (cirq.LineQubit(5), cirq.X), (cirq.LineQubit(4), cirq.Y), (cirq.LineQubit(1), cirq.Z), (cirq.LineQubit(2), cirq.Y)}): (-0.005805346574412162+0.001294124997859998j), frozenset({(cirq.LineQubit(3), cirq.X), (cirq.LineQubit(6), cirq.Z), (cirq.LineQubit(5), cirq.X), (cirq.LineQubit(4), cirq.Y), (cirq.LineQubit(1), cirq.Z), (cirq.LineQubit(0), cirq.X)}): (0.008401665768599319-0.0005484531932807004j), frozenset({(cirq.LineQubit(5), cirq.X), (cirq.LineQubit(4), cirq.Y), (cirq.LineQubit(3), cirq.Z), (cirq.LineQubit(1), cirq.Z), (cirq.LineQubit(2), cirq.Y), (cirq.LineQubit(0), cirq.X)}): (0.005805346574412166-0.0012941249978599984j), frozenset({(cirq.LineQubit(5), cirq.Z), (cirq.LineQubit(6), cirq.Z), (cirq.LineQubit(4), cirq.Y), (cirq.LineQubit(3), cirq.Z), (cirq.LineQubit(1), cirq.Z), (cirq.LineQubit(0), cirq.X)}): (0.008401665768599314-0.0005484531932807004j), frozenset({(cirq.LineQubit(5), cirq.Z), (cirq.LineQubit(3), cirq.X), (cirq.LineQubit(4), cirq.Y), (cirq.LineQubit(1), cirq.Z), (cirq.LineQubit(2), cirq.Y), (cirq.LineQubit(0), cirq.X)}): (-0.005805346574412162+0.001294124997859998j), frozenset({(cirq.LineQubit(5), cirq.Z), (cirq.LineQubit(3), cirq.X), (cirq.LineQubit(0), cirq.Z), (cirq.LineQubit(6), cirq.Z), (cirq.LineQubit(4), cirq.Y), (cirq.LineQubit(1), cirq.Z)}): (-0.008401665768599319+0.0005484531932807004j), frozenset({(cirq.LineQubit(5), cirq.Z), (cirq.LineQubit(0), cirq.Z), (cirq.LineQubit(4), cirq.Y), (cirq.LineQubit(3), cirq.Z), (cirq.LineQubit(1), cirq.Z), (cirq.LineQubit(2), cirq.Y)}): (-0.005805346574412166+0.0012941249978599984j), frozenset({(cirq.LineQubit(4), cirq.X), (cirq.LineQubit(0), cirq.Z), (cirq.LineQubit(6), cirq.Z), (cirq.LineQubit(5), cirq.X), (cirq.LineQubit(3), cirq.Z), (cirq.LineQubit(1), cirq.Z)}): (-0.0005484531932807004-0.008401665768599319j), frozenset({(cirq.LineQubit(4), cirq.X), (cirq.LineQubit(3), cirq.X), (cirq.LineQubit(0), cirq.Z), (cirq.LineQubit(5), cirq.X), (cirq.LineQubit(1), cirq.Z), (cirq.LineQubit(2), cirq.Y)}): (0.0012941249978599984+0.005805346574412166j), frozenset({(cirq.LineQubit(4), cirq.X), (cirq.LineQubit(3), cirq.X), (cirq.LineQubit(6), cirq.Z), (cirq.LineQubit(5), cirq.X), (cirq.LineQubit(1), cirq.Z), (cirq.LineQubit(0), cirq.X)}): (-0.0005484531932807004-0.008401665768599324j), frozenset({(cirq.LineQubit(4), cirq.X), (cirq.LineQubit(5), cirq.X), (cirq.LineQubit(3), cirq.Z), (cirq.LineQubit(1), cirq.Z), (cirq.LineQubit(2), cirq.Y), (cirq.LineQubit(0), cirq.X)}): (-0.0012941249978599993-0.00580534657441217j), frozenset({(cirq.LineQubit(1), cirq.Y), (cirq.LineQubit(5), cirq.Y), (cirq.LineQubit(4), cirq.Y), (cirq.LineQubit(6), cirq.Y), (cirq.LineQubit(2), cirq.Y)}): (-0.005805346574412139+0.0012941249978599923j), frozenset({(cirq.LineQubit(6), cirq.X), (cirq.LineQubit(5), cirq.Y), (cirq.LineQubit(4), cirq.Y), (cirq.LineQubit(3), cirq.Y), (cirq.LineQubit(1), cirq.Y)}): (0.008401665768599291-0.0005484531932806987j), frozenset({(cirq.LineQubit(2), cirq.Y), (cirq.LineQubit(5), cirq.Y), (cirq.LineQubit(0), cirq.Y), (cirq.LineQubit(4), cirq.Y), (cirq.LineQubit(6), cirq.Y), (cirq.LineQubit(3), cirq.Y), (cirq.LineQubit(1), cirq.Y)}): (0.005805346574412142-0.0012941249978599932j), frozenset({(cirq.LineQubit(6), cirq.X), (cirq.LineQubit(5), cirq.Y), (cirq.LineQubit(0), cirq.Y), (cirq.LineQubit(4), cirq.Y), (cirq.LineQubit(1), cirq.Y)}): (-0.008401665768599296+0.0005484531932806991j), frozenset({(cirq.LineQubit(1), cirq.Y), (cirq.LineQubit(4), cirq.X), (cirq.LineQubit(0), cirq.Y), (cirq.LineQubit(6), cirq.Y), (cirq.LineQubit(2), cirq.Y)}): (0.0012941249978599932+0.005805346574412142j), frozenset({(cirq.LineQubit(6), cirq.X), (cirq.LineQubit(4), cirq.X), (cirq.LineQubit(0), cirq.Y), (cirq.LineQubit(3), cirq.Y), (cirq.LineQubit(1), cirq.Y)}): (-0.0005484531932806991-0.008401665768599296j), frozenset({(cirq.LineQubit(1), cirq.Y), (cirq.LineQubit(4), cirq.X), (cirq.LineQubit(6), cirq.Y), (cirq.LineQubit(3), cirq.Y), (cirq.LineQubit(2), cirq.Y)}): (-0.0012941249978599945-0.005805346574412146j), frozenset({(cirq.LineQubit(4), cirq.X), (cirq.LineQubit(6), cirq.X), (cirq.LineQubit(1), cirq.Y)}): (0.0005484531932806996+0.008401665768599301j), frozenset({(cirq.LineQubit(1), cirq.Y), (cirq.LineQubit(4), cirq.X), (cirq.LineQubit(5), cirq.Y), (cirq.LineQubit(6), cirq.Y), (cirq.LineQubit(2), cirq.Y)}): (0.0012941249978599932+0.005805346574412142j), frozenset({(cirq.LineQubit(6), cirq.X), (cirq.LineQubit(4), cirq.X), (cirq.LineQubit(5), cirq.Y), (cirq.LineQubit(3), cirq.Y), (cirq.LineQubit(1), cirq.Y)}): (-0.0005484531932806991-0.008401665768599296j), frozenset({(cirq.LineQubit(4), cirq.X), (cirq.LineQubit(2), cirq.Y), (cirq.LineQubit(5), cirq.Y), (cirq.LineQubit(0), cirq.Y), (cirq.LineQubit(6), cirq.Y), (cirq.LineQubit(3), cirq.Y), (cirq.LineQubit(1), cirq.Y)}): (-0.0012941249978599945-0.005805346574412146j), frozenset({(cirq.LineQubit(6), cirq.X), (cirq.LineQubit(4), cirq.X), (cirq.LineQubit(5), cirq.Y), (cirq.LineQubit(0), cirq.Y), (cirq.LineQubit(1), cirq.Y)}): (0.0005484531932806996+0.008401665768599301j), frozenset({(cirq.LineQubit(1), cirq.Y), (cirq.LineQubit(0), cirq.Y), (cirq.LineQubit(4), cirq.Y), (cirq.LineQubit(6), cirq.Y), (cirq.LineQubit(2), cirq.Y)}): (-0.005805346574412146+0.0012941249978599945j), frozenset({(cirq.LineQubit(6), cirq.X), (cirq.LineQubit(0), cirq.Y), (cirq.LineQubit(4), cirq.Y), (cirq.LineQubit(3), cirq.Y), (cirq.LineQubit(1), cirq.Y)}): (0.008401665768599301-0.0005484531932806996j), frozenset({(cirq.LineQubit(1), cirq.Y), (cirq.LineQubit(4), cirq.Y), (cirq.LineQubit(6), cirq.Y), (cirq.LineQubit(3), cirq.Y), (cirq.LineQubit(2), cirq.Y)}): (0.00580534657441215-0.0012941249978599945j), frozenset({(cirq.LineQubit(4), cirq.Y), (cirq.LineQubit(6), cirq.X), (cirq.LineQubit(1), cirq.Y)}): (-0.008401665768599308+0.0005484531932807j), frozenset({(cirq.LineQubit(5), cirq.Z), (cirq.LineQubit(4), cirq.X), (cirq.LineQubit(3), cirq.Z), (cirq.LineQubit(0), cirq.Z), (cirq.LineQubit(6), cirq.Y), (cirq.LineQubit(2), cirq.Z), (cirq.LineQubit(1), cirq.Y)}): (0.0012941249978599945+0.005805346574412146j), frozenset({(cirq.LineQubit(6), cirq.X), (cirq.LineQubit(5), cirq.Z), (cirq.LineQubit(4), cirq.X), (cirq.LineQubit(3), cirq.X), (cirq.LineQubit(2), cirq.X), (cirq.LineQubit(0), cirq.Z), (cirq.LineQubit(1), cirq.Y)}): (0.0005484531932806996+0.008401665768599301j), frozenset({(cirq.LineQubit(5), cirq.Z), (cirq.LineQubit(4), cirq.X), (cirq.LineQubit(1), cirq.Y), (cirq.LineQubit(3), cirq.X), (cirq.LineQubit(6), cirq.Y), (cirq.LineQubit(2), cirq.Z), (cirq.LineQubit(0), cirq.X)}): (0.0012941249978599945+0.00580534657441215j), frozenset({(cirq.LineQubit(6), cirq.X), (cirq.LineQubit(5), cirq.Z), (cirq.LineQubit(4), cirq.X), (cirq.LineQubit(1), cirq.Y), (cirq.LineQubit(2), cirq.X), (cirq.LineQubit(3), cirq.Z), (cirq.LineQubit(0), cirq.X)}): (-0.0005484531932807-0.008401665768599308j), frozenset({(cirq.LineQubit(1), cirq.Y), (cirq.LineQubit(3), cirq.Z), (cirq.LineQubit(5), cirq.X), (cirq.LineQubit(4), cirq.Y), (cirq.LineQubit(6), cirq.Y), (cirq.LineQubit(2), cirq.Z), (cirq.LineQubit(0), cirq.X)}): (0.00580534657441215-0.0012941249978599945j), frozenset({(cirq.LineQubit(6), cirq.X), (cirq.LineQubit(1), cirq.Y), (cirq.LineQubit(3), cirq.X), (cirq.LineQubit(2), cirq.X), (cirq.LineQubit(5), cirq.X), (cirq.LineQubit(4), cirq.Y), (cirq.LineQubit(0), cirq.X)}): (0.008401665768599308-0.0005484531932807j), frozenset({(cirq.LineQubit(3), cirq.X), (cirq.LineQubit(0), cirq.Z), (cirq.LineQubit(5), cirq.X), (cirq.LineQubit(4), cirq.Y), (cirq.LineQubit(6), cirq.Y), (cirq.LineQubit(2), cirq.Z), (cirq.LineQubit(1), cirq.Y)}): (-0.005805346574412154+0.0012941249978599958j), frozenset({(cirq.LineQubit(6), cirq.X), (cirq.LineQubit(2), cirq.X), (cirq.LineQubit(0), cirq.Z), (cirq.LineQubit(5), cirq.X), (cirq.LineQubit(4), cirq.Y), (cirq.LineQubit(3), cirq.Z), (cirq.LineQubit(1), cirq.Y)}): (0.008401665768599314-0.0005484531932807004j), frozenset({(cirq.LineQubit(5), cirq.Z), (cirq.LineQubit(3), cirq.Z), (cirq.LineQubit(0), cirq.Z), (cirq.LineQubit(4), cirq.Y), (cirq.LineQubit(6), cirq.Y), (cirq.LineQubit(2), cirq.Z), (cirq.LineQubit(1), cirq.Y)}): (-0.00580534657441215+0.0012941249978599945j), frozenset({(cirq.LineQubit(6), cirq.X), (cirq.LineQubit(5), cirq.Z), (cirq.LineQubit(3), cirq.X), (cirq.LineQubit(2), cirq.X), (cirq.LineQubit(0), cirq.Z), (cirq.LineQubit(4), cirq.Y), (cirq.LineQubit(1), cirq.Y)}): (-0.008401665768599308+0.0005484531932807j), frozenset({(cirq.LineQubit(5), cirq.Z), (cirq.LineQubit(1), cirq.Y), (cirq.LineQubit(3), cirq.X), (cirq.LineQubit(4), cirq.Y), (cirq.LineQubit(6), cirq.Y), (cirq.LineQubit(2), cirq.Z), (cirq.LineQubit(0), cirq.X)}): (-0.005805346574412154+0.0012941249978599958j), frozenset({(cirq.LineQubit(6), cirq.X), (cirq.LineQubit(5), cirq.Z), (cirq.LineQubit(1), cirq.Y), (cirq.LineQubit(2), cirq.X), (cirq.LineQubit(4), cirq.Y), (cirq.LineQubit(3), cirq.Z), (cirq.LineQubit(0), cirq.X)}): (0.008401665768599314-0.0005484531932807004j), frozenset({(cirq.LineQubit(1), cirq.Y), (cirq.LineQubit(4), cirq.X), (cirq.LineQubit(3), cirq.Z), (cirq.LineQubit(5), cirq.X), (cirq.LineQubit(6), cirq.Y), (cirq.LineQubit(2), cirq.Z), (cirq.LineQubit(0), cirq.X)}): (-0.0012941249978599958-0.005805346574412154j), frozenset({(cirq.LineQubit(6), cirq.X), (cirq.LineQubit(1), cirq.Y), (cirq.LineQubit(4), cirq.X), (cirq.LineQubit(3), cirq.X), (cirq.LineQubit(2), cirq.X), (cirq.LineQubit(5), cirq.X), (cirq.LineQubit(0), cirq.X)}): (-0.0005484531932807004-0.008401665768599314j), frozenset({(cirq.LineQubit(4), cirq.X), (cirq.LineQubit(3), cirq.X), (cirq.LineQubit(0), cirq.Z), (cirq.LineQubit(5), cirq.X), (cirq.LineQubit(6), cirq.Y), (cirq.LineQubit(2), cirq.Z), (cirq.LineQubit(1), cirq.Y)}): (0.0012941249978599967+0.005805346574412158j), frozenset({(cirq.LineQubit(6), cirq.X), (cirq.LineQubit(4), cirq.X), (cirq.LineQubit(2), cirq.X), (cirq.LineQubit(0), cirq.Z), (cirq.LineQubit(5), cirq.X), (cirq.LineQubit(3), cirq.Z), (cirq.LineQubit(1), cirq.Y)}): (-0.0005484531932807004-0.008401665768599319j), frozenset({(cirq.LineQubit(1), cirq.X), (cirq.LineQubit(5), cirq.Y), (cirq.LineQubit(6), cirq.Z), (cirq.LineQubit(4), cirq.Y), (cirq.LineQubit(2), cirq.Z)}): (0.008401665768599296-0.0005484531932806991j), frozenset({(cirq.LineQubit(2), cirq.X), (cirq.LineQubit(1), cirq.X), (cirq.LineQubit(5), cirq.Y), (cirq.LineQubit(4), cirq.Y), (cirq.LineQubit(3), cirq.Y)}): (-0.00580534657441215+0.0012941249978599945j), frozenset({(cirq.LineQubit(1), cirq.X), (cirq.LineQubit(5), cirq.Y), (cirq.LineQubit(0), cirq.Y), (cirq.LineQubit(6), cirq.Z), (cirq.LineQubit(3), cirq.Y), (cirq.LineQubit(4), cirq.Y), (cirq.LineQubit(2), cirq.Z)}): (-0.008401665768599301+0.0005484531932806996j), frozenset({(cirq.LineQubit(2), cirq.X), (cirq.LineQubit(1), cirq.X), (cirq.LineQubit(5), cirq.Y), (cirq.LineQubit(0), cirq.Y), (cirq.LineQubit(4), cirq.Y)}): (0.005805346574412154-0.0012941249978599958j), frozenset({(cirq.LineQubit(4), cirq.X), (cirq.LineQubit(1), cirq.X), (cirq.LineQubit(0), cirq.Y), (cirq.LineQubit(6), cirq.Z), (cirq.LineQubit(2), cirq.Z)}): (-0.0005484531932806996-0.008401665768599301j), frozenset({(cirq.LineQubit(4), cirq.X), (cirq.LineQubit(2), cirq.X), (cirq.LineQubit(1), cirq.X), (cirq.LineQubit(0), cirq.Y), (cirq.LineQubit(3), cirq.Y)}): (0.0012941249978599958+0.005805346574412154j), frozenset({(cirq.LineQubit(4), cirq.X), (cirq.LineQubit(1), cirq.X), (cirq.LineQubit(6), cirq.Z), (cirq.LineQubit(3), cirq.Y), (cirq.LineQubit(2), cirq.Z)}): (0.0005484531932807+0.008401665768599308j), frozenset({(cirq.LineQubit(4), cirq.X), (cirq.LineQubit(2), cirq.X), (cirq.LineQubit(1), cirq.X)}): (-0.0012941249978599967-0.005805346574412158j), frozenset({(cirq.LineQubit(4), cirq.X), (cirq.LineQubit(1), cirq.X), (cirq.LineQubit(5), cirq.Y), (cirq.LineQubit(6), cirq.Z), (cirq.LineQubit(2), cirq.Z)}): (-0.0005484531932806996-0.008401665768599301j), frozenset({(cirq.LineQubit(4), cirq.X), (cirq.LineQubit(2), cirq.X), (cirq.LineQubit(1), cirq.X), (cirq.LineQubit(5), cirq.Y), (cirq.LineQubit(3), cirq.Y)}): (0.0012941249978599958+0.005805346574412154j), frozenset({(cirq.LineQubit(4), cirq.X), (cirq.LineQubit(1), cirq.X), (cirq.LineQubit(5), cirq.Y), (cirq.LineQubit(0), cirq.Y), (cirq.LineQubit(6), cirq.Z), (cirq.LineQubit(3), cirq.Y), (cirq.LineQubit(2), cirq.Z)}): (0.0005484531932807+0.008401665768599308j), frozenset({(cirq.LineQubit(4), cirq.X), (cirq.LineQubit(2), cirq.X), (cirq.LineQubit(1), cirq.X), (cirq.LineQubit(5), cirq.Y), (cirq.LineQubit(0), cirq.Y)}): (-0.0012941249978599967-0.005805346574412158j), frozenset({(cirq.LineQubit(1), cirq.X), (cirq.LineQubit(0), cirq.Y), (cirq.LineQubit(6), cirq.Z), (cirq.LineQubit(4), cirq.Y), (cirq.LineQubit(2), cirq.Z)}): (0.008401665768599308-0.0005484531932807j), frozenset({(cirq.LineQubit(2), cirq.X), (cirq.LineQubit(1), cirq.X), (cirq.LineQubit(0), cirq.Y), (cirq.LineQubit(4), cirq.Y), (cirq.LineQubit(3), cirq.Y)}): (-0.005805346574412158+0.0012941249978599967j), frozenset({(cirq.LineQubit(1), cirq.X), (cirq.LineQubit(6), cirq.Z), (cirq.LineQubit(4), cirq.Y), (cirq.LineQubit(3), cirq.Y), (cirq.LineQubit(2), cirq.Z)}): (-0.008401665768599314+0.0005484531932807004j), frozenset({(cirq.LineQubit(2), cirq.X), (cirq.LineQubit(4), cirq.Y), (cirq.LineQubit(1), cirq.X)}): (0.005805346574412162-0.001294124997859998j), frozenset({(cirq.LineQubit(5), cirq.Z), (cirq.LineQubit(4), cirq.X), (cirq.LineQubit(1), cirq.X), (cirq.LineQubit(0), cirq.Z), (cirq.LineQubit(6), cirq.Z), (cirq.LineQubit(3), cirq.Z), (cirq.LineQubit(2), cirq.Y)}): (0.0005484531932807+0.008401665768599308j), frozenset({(cirq.LineQubit(5), cirq.Z), (cirq.LineQubit(4), cirq.X), (cirq.LineQubit(3), cirq.X), (cirq.LineQubit(1), cirq.X), (cirq.LineQubit(0), cirq.Z)}): (-0.0012941249978599967-0.005805346574412158j), frozenset({(cirq.LineQubit(5), cirq.Z), (cirq.LineQubit(4), cirq.X), (cirq.LineQubit(2), cirq.Y), (cirq.LineQubit(3), cirq.X), (cirq.LineQubit(1), cirq.X), (cirq.LineQubit(6), cirq.Z), (cirq.LineQubit(0), cirq.X)}): (0.0005484531932807004+0.008401665768599314j), frozenset({(cirq.LineQubit(5), cirq.Z), (cirq.LineQubit(4), cirq.X), (cirq.LineQubit(1), cirq.X), (cirq.LineQubit(3), cirq.Z), (cirq.LineQubit(0), cirq.X)}): (0.001294124997859998+0.005805346574412162j), frozenset({(cirq.LineQubit(2), cirq.Y), (cirq.LineQubit(1), cirq.X), (cirq.LineQubit(6), cirq.Z), (cirq.LineQubit(5), cirq.X), (cirq.LineQubit(4), cirq.Y), (cirq.LineQubit(3), cirq.Z), (cirq.LineQubit(0), cirq.X)}): (0.008401665768599314-0.0005484531932807004j), frozenset({(cirq.LineQubit(3), cirq.X), (cirq.LineQubit(1), cirq.X), (cirq.LineQubit(5), cirq.X), (cirq.LineQubit(4), cirq.Y), (cirq.LineQubit(0), cirq.X)}): (-0.005805346574412162+0.001294124997859998j), frozenset({(cirq.LineQubit(3), cirq.X), (cirq.LineQubit(1), cirq.X), (cirq.LineQubit(0), cirq.Z), (cirq.LineQubit(6), cirq.Z), (cirq.LineQubit(5), cirq.X), (cirq.LineQubit(4), cirq.Y), (cirq.LineQubit(2), cirq.Y)}): (-0.008401665768599319+0.0005484531932807004j), frozenset({(cirq.LineQubit(1), cirq.X), (cirq.LineQubit(0), cirq.Z), (cirq.LineQubit(5), cirq.X), (cirq.LineQubit(4), cirq.Y), (cirq.LineQubit(3), cirq.Z)}): (-0.005805346574412166+0.0012941249978599984j), frozenset({(cirq.LineQubit(5), cirq.Z), (cirq.LineQubit(1), cirq.X), (cirq.LineQubit(0), cirq.Z), (cirq.LineQubit(6), cirq.Z), (cirq.LineQubit(4), cirq.Y), (cirq.LineQubit(3), cirq.Z), (cirq.LineQubit(2), cirq.Y)}): (-0.008401665768599314+0.0005484531932807004j), frozenset({(cirq.LineQubit(5), cirq.Z), (cirq.LineQubit(3), cirq.X), (cirq.LineQubit(1), cirq.X), (cirq.LineQubit(0), cirq.Z), (cirq.LineQubit(4), cirq.Y)}): (0.005805346574412162-0.001294124997859998j), frozenset({(cirq.LineQubit(5), cirq.Z), (cirq.LineQubit(2), cirq.Y), (cirq.LineQubit(3), cirq.X), (cirq.LineQubit(1), cirq.X), (cirq.LineQubit(6), cirq.Z), (cirq.LineQubit(4), cirq.Y), (cirq.LineQubit(0), cirq.X)}): (-0.008401665768599319+0.0005484531932807004j), frozenset({(cirq.LineQubit(5), cirq.Z), (cirq.LineQubit(1), cirq.X), (cirq.LineQubit(4), cirq.Y), (cirq.LineQubit(3), cirq.Z), (cirq.LineQubit(0), cirq.X)}): (-0.005805346574412166+0.0012941249978599984j), frozenset({(cirq.LineQubit(4), cirq.X), (cirq.LineQubit(2), cirq.Y), (cirq.LineQubit(1), cirq.X), (cirq.LineQubit(6), cirq.Z), (cirq.LineQubit(5), cirq.X), (cirq.LineQubit(3), cirq.Z), (cirq.LineQubit(0), cirq.X)}): (-0.0005484531932807004-0.008401665768599319j), frozenset({(cirq.LineQubit(4), cirq.X), (cirq.LineQubit(3), cirq.X), (cirq.LineQubit(1), cirq.X), (cirq.LineQubit(5), cirq.X), (cirq.LineQubit(0), cirq.X)}): (0.0012941249978599984+0.005805346574412166j), frozenset({(cirq.LineQubit(4), cirq.X), (cirq.LineQubit(3), cirq.X), (cirq.LineQubit(1), cirq.X), (cirq.LineQubit(0), cirq.Z), (cirq.LineQubit(6), cirq.Z), (cirq.LineQubit(5), cirq.X), (cirq.LineQubit(2), cirq.Y)}): (0.0005484531932807004+0.008401665768599324j), frozenset({(cirq.LineQubit(4), cirq.X), (cirq.LineQubit(1), cirq.X), (cirq.LineQubit(0), cirq.Z), (cirq.LineQubit(5), cirq.X), (cirq.LineQubit(3), cirq.Z)}): (0.0012941249978599993+0.00580534657441217j), frozenset({(cirq.LineQubit(1), cirq.X), (cirq.LineQubit(6), cirq.Y), (cirq.LineQubit(0), cirq.X)}): (-0.00334466199965117-0.0005510350669427998j), frozenset({(cirq.LineQubit(6), cirq.X), (cirq.LineQubit(1), cirq.X), (cirq.LineQubit(3), cirq.Y), (cirq.LineQubit(2), cirq.Y), (cirq.LineQubit(0), cirq.X)}): (0.0005510350669428001-0.0033446619996511722j), frozenset({(cirq.LineQubit(1), cirq.X), (cirq.LineQubit(6), cirq.Y), (cirq.LineQubit(3), cirq.Y), (cirq.LineQubit(0), cirq.Z)}): (-0.0005510350669428001+0.0033446619996511722j), frozenset({(cirq.LineQubit(6), cirq.X), (cirq.LineQubit(1), cirq.X), (cirq.LineQubit(2), cirq.Y), (cirq.LineQubit(0), cirq.Z)}): (-0.0033446619996511744-0.0005510350669428004j), frozenset({(cirq.LineQubit(1), cirq.X), (cirq.LineQubit(0), cirq.Z), (cirq.LineQubit(5), cirq.Y), (cirq.LineQubit(4), cirq.Z), (cirq.LineQubit(6), cirq.Y)}): (0.0005510350669428001-0.0033446619996511722j), frozenset({(cirq.LineQubit(6), cirq.X), (cirq.LineQubit(1), cirq.X), (cirq.LineQubit(5), cirq.Y), (cirq.LineQubit(0), cirq.Z), (cirq.LineQubit(4), cirq.Z), (cirq.LineQubit(3), cirq.Y), (cirq.LineQubit(2), cirq.Y)}): (0.0033446619996511744+0.0005510350669428004j), frozenset({(cirq.LineQubit(1), cirq.X), (cirq.LineQubit(5), cirq.Y), (cirq.LineQubit(4), cirq.Z), (cirq.LineQubit(6), cirq.Y), (cirq.LineQubit(3), cirq.Y), (cirq.LineQubit(0), cirq.X)}): (0.0033446619996511744+0.0005510350669428004j), frozenset({(cirq.LineQubit(6), cirq.X), (cirq.LineQubit(1), cirq.X), (cirq.LineQubit(5), cirq.Y), (cirq.LineQubit(4), cirq.Z), (cirq.LineQubit(2), cirq.Y), (cirq.LineQubit(0), cirq.X)}): (-0.0005510350669428009+0.0033446619996511766j), frozenset({(cirq.LineQubit(4), cirq.Z), (cirq.LineQubit(1), cirq.X), (cirq.LineQubit(6), cirq.Y), (cirq.LineQubit(0), cirq.X)}): (-0.0033446619996511722-0.0005510350669428001j), frozenset({(cirq.LineQubit(6), cirq.X), (cirq.LineQubit(1), cirq.X), (cirq.LineQubit(4), cirq.Z), (cirq.LineQubit(3), cirq.Y), (cirq.LineQubit(2), cirq.Y), (cirq.LineQubit(0), cirq.X)}): (0.0005510350669428004-0.0033446619996511744j), frozenset({(cirq.LineQubit(1), cirq.X), (cirq.LineQubit(0), cirq.Z), (cirq.LineQubit(4), cirq.Z), (cirq.LineQubit(6), cirq.Y), (cirq.LineQubit(3), cirq.Y)}): (-0.0005510350669428004+0.0033446619996511744j), frozenset({(cirq.LineQubit(6), cirq.X), (cirq.LineQubit(1), cirq.X), (cirq.LineQubit(0), cirq.Z), (cirq.LineQubit(4), cirq.Z), (cirq.LineQubit(2), cirq.Y)}): (-0.0033446619996511766-0.0005510350669428009j), frozenset({(cirq.LineQubit(6), cirq.Y), (cirq.LineQubit(0), cirq.Z), (cirq.LineQubit(1), cirq.X), (cirq.LineQubit(5), cirq.Y)}): (0.0005510350669428004-0.0033446619996511744j), frozenset({(cirq.LineQubit(6), cirq.X), (cirq.LineQubit(1), cirq.X), (cirq.LineQubit(0), cirq.Z), (cirq.LineQubit(5), cirq.Y), (cirq.LineQubit(3), cirq.Y), (cirq.LineQubit(2), cirq.Y)}): (0.0033446619996511766+0.0005510350669428009j), frozenset({(cirq.LineQubit(1), cirq.X), (cirq.LineQubit(5), cirq.Y), (cirq.LineQubit(6), cirq.Y), (cirq.LineQubit(3), cirq.Y), (cirq.LineQubit(0), cirq.X)}): (0.0033446619996511766+0.0005510350669428009j), frozenset({(cirq.LineQubit(6), cirq.X), (cirq.LineQubit(2), cirq.Y), (cirq.LineQubit(1), cirq.X), (cirq.LineQubit(5), cirq.Y), (cirq.LineQubit(0), cirq.X)}): (-0.0005510350669428012+0.003344661999651179j), frozenset({(cirq.LineQubit(3), cirq.Z), (cirq.LineQubit(1), cirq.X), (cirq.LineQubit(2), cirq.X), (cirq.LineQubit(0), cirq.Y), (cirq.LineQubit(5), cirq.X), (cirq.LineQubit(4), cirq.Z), (cirq.LineQubit(6), cirq.Y)}): (-0.0005510350669428004+0.0033446619996511744j), frozenset({(cirq.LineQubit(6), cirq.X), (cirq.LineQubit(3), cirq.X), (cirq.LineQubit(1), cirq.X), (cirq.LineQubit(0), cirq.Y), (cirq.LineQubit(5), cirq.X), (cirq.LineQubit(4), cirq.Z), (cirq.LineQubit(2), cirq.Z)}): (-0.0033446619996511766-0.0005510350669428009j), frozenset({(cirq.LineQubit(3), cirq.X), (cirq.LineQubit(2), cirq.X), (cirq.LineQubit(1), cirq.X), (cirq.LineQubit(5), cirq.X), (cirq.LineQubit(4), cirq.Z), (cirq.LineQubit(6), cirq.Y)}): (-0.0033446619996511766-0.0005510350669428009j), frozenset({(cirq.LineQubit(6), cirq.X), (cirq.LineQubit(1), cirq.X), (cirq.LineQubit(5), cirq.X), (cirq.LineQubit(4), cirq.Z), (cirq.LineQubit(3), cirq.Z), (cirq.LineQubit(2), cirq.Z)}): (-0.0005510350669428012+0.003344661999651179j), frozenset({(cirq.LineQubit(6), cirq.Y), (cirq.LineQubit(5), cirq.Z), (cirq.LineQubit(2), cirq.X), (cirq.LineQubit(1), cirq.X), (cirq.LineQubit(3), cirq.Z)}): (-0.0033446619996511766-0.0005510350669428009j), frozenset({(cirq.LineQubit(6), cirq.X), (cirq.LineQubit(5), cirq.Z), (cirq.LineQubit(3), cirq.X), (cirq.LineQubit(1), cirq.X), (cirq.LineQubit(2), cirq.Z)}): (0.0005510350669428012-0.003344661999651179j), frozenset({(cirq.LineQubit(5), cirq.Z), (cirq.LineQubit(3), cirq.X), (cirq.LineQubit(1), cirq.X), (cirq.LineQubit(2), cirq.X), (cirq.LineQubit(0), cirq.Y), (cirq.LineQubit(6), cirq.Y)}): (0.0005510350669428012-0.003344661999651179j), frozenset({(cirq.LineQubit(6), cirq.X), (cirq.LineQubit(5), cirq.Z), (cirq.LineQubit(1), cirq.X), (cirq.LineQubit(0), cirq.Y), (cirq.LineQubit(3), cirq.Z), (cirq.LineQubit(2), cirq.Z)}): (-0.0033446619996511814-0.0005510350669428016j), frozenset({(cirq.LineQubit(3), cirq.Z), (cirq.LineQubit(1), cirq.X), (cirq.LineQubit(2), cirq.X), (cirq.LineQubit(0), cirq.Y), (cirq.LineQubit(5), cirq.X), (cirq.LineQubit(6), cirq.Y)}): (-0.0005510350669428009+0.0033446619996511766j), frozenset({(cirq.LineQubit(6), cirq.X), (cirq.LineQubit(3), cirq.X), (cirq.LineQubit(1), cirq.X), (cirq.LineQubit(0), cirq.Y), (cirq.LineQubit(5), cirq.X), (cirq.LineQubit(2), cirq.Z)}): (-0.003344661999651179-0.0005510350669428012j), frozenset({(cirq.LineQubit(3), cirq.X), (cirq.LineQubit(1), cirq.X), (cirq.LineQubit(2), cirq.X), (cirq.LineQubit(5), cirq.X), (cirq.LineQubit(6), cirq.Y)}): (-0.003344661999651179-0.0005510350669428012j), frozenset({(cirq.LineQubit(6), cirq.X), (cirq.LineQubit(1), cirq.X), (cirq.LineQubit(5), cirq.X), (cirq.LineQubit(3), cirq.Z), (cirq.LineQubit(2), cirq.Z)}): (-0.0005510350669428016+0.0033446619996511814j), frozenset({(cirq.LineQubit(5), cirq.Z), (cirq.LineQubit(3), cirq.Z), (cirq.LineQubit(2), cirq.X), (cirq.LineQubit(1), cirq.X), (cirq.LineQubit(4), cirq.Z), (cirq.LineQubit(6), cirq.Y)}): (-0.003344661999651179-0.0005510350669428012j), frozenset({(cirq.LineQubit(6), cirq.X), (cirq.LineQubit(5), cirq.Z), (cirq.LineQubit(3), cirq.X), (cirq.LineQubit(1), cirq.X), (cirq.LineQubit(4), cirq.Z), (cirq.LineQubit(2), cirq.Z)}): (0.0005510350669428016-0.0033446619996511814j), frozenset({(cirq.LineQubit(5), cirq.Z), (cirq.LineQubit(3), cirq.X), (cirq.LineQubit(1), cirq.X), (cirq.LineQubit(2), cirq.X), (cirq.LineQubit(0), cirq.Y), (cirq.LineQubit(4), cirq.Z), (cirq.LineQubit(6), cirq.Y)}): (0.0005510350669428016-0.0033446619996511814j), frozenset({(cirq.LineQubit(6), cirq.X), (cirq.LineQubit(5), cirq.Z), (cirq.LineQubit(1), cirq.X), (cirq.LineQubit(0), cirq.Y), (cirq.LineQubit(4), cirq.Z), (cirq.LineQubit(3), cirq.Z), (cirq.LineQubit(2), cirq.Z)}): (-0.0033446619996511835-0.000551035066942802j), frozenset({(cirq.LineQubit(6), cirq.Z), (cirq.LineQubit(2), cirq.X), (cirq.LineQubit(1), cirq.Y), (cirq.LineQubit(0), cirq.X)}): (-0.0033446619996511744-0.0005510350669428004j), frozenset({(cirq.LineQubit(3), cirq.Y), (cirq.LineQubit(2), cirq.Z), (cirq.LineQubit(1), cirq.Y), (cirq.LineQubit(0), cirq.X)}): (0.0005510350669428009-0.0033446619996511766j), frozenset({(cirq.LineQubit(2), cirq.X), (cirq.LineQubit(0), cirq.Z), (cirq.LineQubit(6), cirq.Z), (cirq.LineQubit(3), cirq.Y), (cirq.LineQubit(1), cirq.Y)}): (-0.0005510350669428009+0.0033446619996511766j), frozenset({(cirq.LineQubit(2), cirq.Z), (cirq.LineQubit(1), cirq.Y), (cirq.LineQubit(0), cirq.Z)}): (-0.003344661999651179-0.0005510350669428012j), frozenset({(cirq.LineQubit(2), cirq.X), (cirq.LineQubit(0), cirq.Z), (cirq.LineQubit(5), cirq.Y), (cirq.LineQubit(6), cirq.Z), (cirq.LineQubit(4), cirq.Z), (cirq.LineQubit(1), cirq.Y)}): (0.0005510350669428009-0.0033446619996511766j), frozenset({(cirq.LineQubit(0), cirq.Z), (cirq.LineQubit(5), cirq.Y), (cirq.LineQubit(3), cirq.Y), (cirq.LineQubit(4), cirq.Z), (cirq.LineQubit(2), cirq.Z), (cirq.LineQubit(1), cirq.Y)}): (0.003344661999651179+0.0005510350669428012j), frozenset({(cirq.LineQubit(2), cirq.X), (cirq.LineQubit(5), cirq.Y), (cirq.LineQubit(6), cirq.Z), (cirq.LineQubit(4), cirq.Z), (cirq.LineQubit(3), cirq.Y), (cirq.LineQubit(1), cirq.Y), (cirq.LineQubit(0), cirq.X)}): (0.003344661999651179+0.0005510350669428012j), frozenset({(cirq.LineQubit(1), cirq.Y), (cirq.LineQubit(5), cirq.Y), (cirq.LineQubit(4), cirq.Z), (cirq.LineQubit(2), cirq.Z), (cirq.LineQubit(0), cirq.X)}): (-0.0005510350669428016+0.0033446619996511814j), frozenset({(cirq.LineQubit(2), cirq.X), (cirq.LineQubit(6), cirq.Z), (cirq.LineQubit(4), cirq.Z), (cirq.LineQubit(1), cirq.Y), (cirq.LineQubit(0), cirq.X)}): (-0.0033446619996511766-0.0005510350669428009j), frozenset({(cirq.LineQubit(0), cirq.X), (cirq.LineQubit(4), cirq.Z), (cirq.LineQubit(3), cirq.Y), (cirq.LineQubit(1), cirq.Y), (cirq.LineQubit(2), cirq.Z)}): (0.0005510350669428012-0.003344661999651179j), frozenset({(cirq.LineQubit(2), cirq.X), (cirq.LineQubit(0), cirq.Z), (cirq.LineQubit(6), cirq.Z), (cirq.LineQubit(4), cirq.Z), (cirq.LineQubit(3), cirq.Y), (cirq.LineQubit(1), cirq.Y)}): (-0.0005510350669428012+0.003344661999651179j), frozenset({(cirq.LineQubit(4), cirq.Z), (cirq.LineQubit(2), cirq.Z), (cirq.LineQubit(1), cirq.Y), (cirq.LineQubit(0), cirq.Z)}): (-0.0033446619996511814-0.0005510350669428016j), frozenset({(cirq.LineQubit(2), cirq.X), (cirq.LineQubit(0), cirq.Z), (cirq.LineQubit(5), cirq.Y), (cirq.LineQubit(6), cirq.Z), (cirq.LineQubit(1), cirq.Y)}): (0.0005510350669428012-0.003344661999651179j), frozenset({(cirq.LineQubit(0), cirq.Z), (cirq.LineQubit(5), cirq.Y), (cirq.LineQubit(3), cirq.Y), (cirq.LineQubit(1), cirq.Y), (cirq.LineQubit(2), cirq.Z)}): (0.0033446619996511814+0.0005510350669428016j), frozenset({(cirq.LineQubit(1), cirq.Y), (cirq.LineQubit(2), cirq.X), (cirq.LineQubit(5), cirq.Y), (cirq.LineQubit(6), cirq.Z), (cirq.LineQubit(3), cirq.Y), (cirq.LineQubit(0), cirq.X)}): (0.0033446619996511814+0.0005510350669428016j), frozenset({(cirq.LineQubit(0), cirq.X), (cirq.LineQubit(2), cirq.Z), (cirq.LineQubit(1), cirq.Y), (cirq.LineQubit(5), cirq.Y)}): (-0.000551035066942802+0.0033446619996511835j), frozenset({(cirq.LineQubit(0), cirq.Y), (cirq.LineQubit(6), cirq.Z), (cirq.LineQubit(5), cirq.X), (cirq.LineQubit(4), cirq.Z), (cirq.LineQubit(3), cirq.Z), (cirq.LineQubit(1), cirq.Y)}): (-0.0005510350669428012+0.003344661999651179j), frozenset({(cirq.LineQubit(1), cirq.Y), (cirq.LineQubit(3), cirq.X), (cirq.LineQubit(0), cirq.Y), (cirq.LineQubit(5), cirq.X), (cirq.LineQubit(4), cirq.Z), (cirq.LineQubit(2), cirq.Y)}): (0.0033446619996511814+0.0005510350669428016j), frozenset({(cirq.LineQubit(3), cirq.X), (cirq.LineQubit(6), cirq.Z), (cirq.LineQubit(5), cirq.X), (cirq.LineQubit(4), cirq.Z), (cirq.LineQubit(1), cirq.Y)}): (-0.0033446619996511814-0.0005510350669428016j), frozenset({(cirq.LineQubit(1), cirq.Y), (cirq.LineQubit(5), cirq.X), (cirq.LineQubit(4), cirq.Z), (cirq.LineQubit(3), cirq.Z), (cirq.LineQubit(2), cirq.Y)}): (0.000551035066942802-0.0033446619996511835j), frozenset({(cirq.LineQubit(3), cirq.Z), (cirq.LineQubit(6), cirq.Z), (cirq.LineQubit(1), cirq.Y), (cirq.LineQubit(5), cirq.Z)}): (-0.0033446619996511814-0.0005510350669428016j), frozenset({(cirq.LineQubit(2), cirq.Y), (cirq.LineQubit(3), cirq.X), (cirq.LineQubit(1), cirq.Y), (cirq.LineQubit(5), cirq.Z)}): (-0.000551035066942802+0.0033446619996511835j), frozenset({(cirq.LineQubit(5), cirq.Z), (cirq.LineQubit(3), cirq.X), (cirq.LineQubit(0), cirq.Y), (cirq.LineQubit(6), cirq.Z), (cirq.LineQubit(1), cirq.Y)}): (0.000551035066942802-0.0033446619996511835j), frozenset({(cirq.LineQubit(1), cirq.Y), (cirq.LineQubit(5), cirq.Z), (cirq.LineQubit(0), cirq.Y), (cirq.LineQubit(3), cirq.Z), (cirq.LineQubit(2), cirq.Y)}): (0.0033446619996511857+0.0005510350669428023j), frozenset({(cirq.LineQubit(0), cirq.Y), (cirq.LineQubit(6), cirq.Z), (cirq.LineQubit(5), cirq.X), (cirq.LineQubit(3), cirq.Z), (cirq.LineQubit(1), cirq.Y)}): (-0.0005510350669428016+0.0033446619996511814j), frozenset({(cirq.LineQubit(1), cirq.Y), (cirq.LineQubit(3), cirq.X), (cirq.LineQubit(0), cirq.Y), (cirq.LineQubit(5), cirq.X), (cirq.LineQubit(2), cirq.Y)}): (0.0033446619996511835+0.000551035066942802j), frozenset({(cirq.LineQubit(3), cirq.X), (cirq.LineQubit(6), cirq.Z), (cirq.LineQubit(5), cirq.X), (cirq.LineQubit(1), cirq.Y)}): (-0.0033446619996511835-0.000551035066942802j), frozenset({(cirq.LineQubit(2), cirq.Y), (cirq.LineQubit(3), cirq.Z), (cirq.LineQubit(5), cirq.X), (cirq.LineQubit(1), cirq.Y)}): (0.0005510350669428023-0.0033446619996511857j), frozenset({(cirq.LineQubit(5), cirq.Z), (cirq.LineQubit(6), cirq.Z), (cirq.LineQubit(4), cirq.Z), (cirq.LineQubit(3), cirq.Z), (cirq.LineQubit(1), cirq.Y)}): (-0.0033446619996511835-0.000551035066942802j), frozenset({(cirq.LineQubit(5), cirq.Z), (cirq.LineQubit(2), cirq.Y), (cirq.LineQubit(3), cirq.X), (cirq.LineQubit(4), cirq.Z), (cirq.LineQubit(1), cirq.Y)}): (-0.0005510350669428023+0.0033446619996511857j), frozenset({(cirq.LineQubit(5), cirq.Z), (cirq.LineQubit(3), cirq.X), (cirq.LineQubit(0), cirq.Y), (cirq.LineQubit(6), cirq.Z), (cirq.LineQubit(4), cirq.Z), (cirq.LineQubit(1), cirq.Y)}): (0.0005510350669428023-0.0033446619996511857j), frozenset({(cirq.LineQubit(5), cirq.Z), (cirq.LineQubit(2), cirq.Y), (cirq.LineQubit(0), cirq.Y), (cirq.LineQubit(4), cirq.Z), (cirq.LineQubit(3), cirq.Z), (cirq.LineQubit(1), cirq.Y)}): (0.003344661999651188+0.0005510350669428027j), frozenset({(cirq.LineQubit(6), cirq.Y), (cirq.LineQubit(1), cirq.Z), (cirq.LineQubit(2), cirq.Y), (cirq.LineQubit(0), cirq.Z)}): (-0.00334466199965117-0.0005510350669427998j), frozenset({(cirq.LineQubit(3), cirq.Y), (cirq.LineQubit(6), cirq.X), (cirq.LineQubit(1), cirq.Z), (cirq.LineQubit(0), cirq.Z)}): (0.0005510350669428001-0.0033446619996511722j), frozenset({(cirq.LineQubit(1), cirq.Z), (cirq.LineQubit(6), cirq.Y), (cirq.LineQubit(3), cirq.Y), (cirq.LineQubit(2), cirq.Y), (cirq.LineQubit(0), cirq.X)}): (0.0005510350669428001-0.0033446619996511722j), frozenset({(cirq.LineQubit(6), cirq.X), (cirq.LineQubit(1), cirq.Z), (cirq.LineQubit(0), cirq.X)}): (0.0033446619996511744+0.0005510350669428004j), frozenset({(cirq.LineQubit(5), cirq.Y), (cirq.LineQubit(4), cirq.Z), (cirq.LineQubit(6), cirq.Y), (cirq.LineQubit(1), cirq.Z), (cirq.LineQubit(2), cirq.Y), (cirq.LineQubit(0), cirq.X)}): (-0.0005510350669428001+0.0033446619996511722j), frozenset({(cirq.LineQubit(6), cirq.X), (cirq.LineQubit(5), cirq.Y), (cirq.LineQubit(3), cirq.Y), (cirq.LineQubit(4), cirq.Z), (cirq.LineQubit(1), cirq.Z), (cirq.LineQubit(0), cirq.X)}): (-0.0033446619996511744-0.0005510350669428004j), frozenset({(cirq.LineQubit(0), cirq.Z), (cirq.LineQubit(5), cirq.Y), (cirq.LineQubit(3), cirq.Y), (cirq.LineQubit(4), cirq.Z), (cirq.LineQubit(6), cirq.Y), (cirq.LineQubit(1), cirq.Z), (cirq.LineQubit(2), cirq.Y)}): (0.0033446619996511744+0.0005510350669428004j), frozenset({(cirq.LineQubit(6), cirq.X), (cirq.LineQubit(0), cirq.Z), (cirq.LineQubit(5), cirq.Y), (cirq.LineQubit(4), cirq.Z), (cirq.LineQubit(1), cirq.Z)}): (-0.0005510350669428009+0.0033446619996511766j), frozenset({(cirq.LineQubit(0), cirq.Z), (cirq.LineQubit(4), cirq.Z), (cirq.LineQubit(6), cirq.Y), (cirq.LineQubit(1), cirq.Z), (cirq.LineQubit(2), cirq.Y)}): (-0.0033446619996511722-0.0005510350669428001j), frozenset({(cirq.LineQubit(1), cirq.Z), (cirq.LineQubit(6), cirq.X), (cirq.LineQubit(0), cirq.Z), (cirq.LineQubit(4), cirq.Z), (cirq.LineQubit(3), cirq.Y)}): (0.0005510350669428004-0.0033446619996511744j), frozenset({(cirq.LineQubit(3), cirq.Y), (cirq.LineQubit(4), cirq.Z), (cirq.LineQubit(6), cirq.Y), (cirq.LineQubit(1), cirq.Z), (cirq.LineQubit(2), cirq.Y), (cirq.LineQubit(0), cirq.X)}): (0.0005510350669428004-0.0033446619996511744j), frozenset({(cirq.LineQubit(4), cirq.Z), (cirq.LineQubit(6), cirq.X), (cirq.LineQubit(1), cirq.Z), (cirq.LineQubit(0), cirq.X)}): (0.0033446619996511766+0.0005510350669428009j), frozenset({(cirq.LineQubit(2), cirq.Y), (cirq.LineQubit(5), cirq.Y), (cirq.LineQubit(6), cirq.Y), (cirq.LineQubit(1), cirq.Z), (cirq.LineQubit(0), cirq.X)}): (-0.0005510350669428004+0.0033446619996511744j), frozenset({(cirq.LineQubit(1), cirq.Z), (cirq.LineQubit(6), cirq.X), (cirq.LineQubit(5), cirq.Y), (cirq.LineQubit(3), cirq.Y), (cirq.LineQubit(0), cirq.X)}): (-0.0033446619996511766-0.0005510350669428009j), frozenset({(cirq.LineQubit(0), cirq.Z), (cirq.LineQubit(5), cirq.Y), (cirq.LineQubit(3), cirq.Y), (cirq.LineQubit(6), cirq.Y), (cirq.LineQubit(1), cirq.Z), (cirq.LineQubit(2), cirq.Y)}): (0.0033446619996511766+0.0005510350669428009j), frozenset({(cirq.LineQubit(0), cirq.Z), (cirq.LineQubit(6), cirq.X), (cirq.LineQubit(1), cirq.Z), (cirq.LineQubit(5), cirq.Y)}): (-0.0005510350669428012+0.003344661999651179j), frozenset({(cirq.LineQubit(3), cirq.Z), (cirq.LineQubit(5), cirq.X), (cirq.LineQubit(4), cirq.Z), (cirq.LineQubit(6), cirq.Y), (cirq.LineQubit(1), cirq.Z), (cirq.LineQubit(2), cirq.Z)}): (-0.0005510350669428004+0.0033446619996511744j), frozenset({(cirq.LineQubit(6), cirq.X), (cirq.LineQubit(3), cirq.X), (cirq.LineQubit(2), cirq.X), (cirq.LineQubit(5), cirq.X), (cirq.LineQubit(4), cirq.Z), (cirq.LineQubit(1), cirq.Z)}): (0.0033446619996511766+0.0005510350669428009j), frozenset({(cirq.LineQubit(3), cirq.X), (cirq.LineQubit(0), cirq.Y), (cirq.LineQubit(5), cirq.X), (cirq.LineQubit(4), cirq.Z), (cirq.LineQubit(6), cirq.Y), (cirq.LineQubit(1), cirq.Z), (cirq.LineQubit(2), cirq.Z)}): (-0.0033446619996511766-0.0005510350669428009j), frozenset({(cirq.LineQubit(6), cirq.X), (cirq.LineQubit(2), cirq.X), (cirq.LineQubit(0), cirq.Y), (cirq.LineQubit(5), cirq.X), (cirq.LineQubit(4), cirq.Z), (cirq.LineQubit(3), cirq.Z), (cirq.LineQubit(1), cirq.Z)}): (0.0005510350669428012-0.003344661999651179j), frozenset({(cirq.LineQubit(1), cirq.Z), (cirq.LineQubit(5), cirq.Z), (cirq.LineQubit(3), cirq.Z), (cirq.LineQubit(0), cirq.Y), (cirq.LineQubit(6), cirq.Y), (cirq.LineQubit(2), cirq.Z)}): (-0.0033446619996511766-0.0005510350669428009j), frozenset({(cirq.LineQubit(6), cirq.X), (cirq.LineQubit(5), cirq.Z), (cirq.LineQubit(3), cirq.X), (cirq.LineQubit(2), cirq.X), (cirq.LineQubit(0), cirq.Y), (cirq.LineQubit(1), cirq.Z)}): (-0.0005510350669428012+0.003344661999651179j), frozenset({(cirq.LineQubit(1), cirq.Z), (cirq.LineQubit(5), cirq.Z), (cirq.LineQubit(3), cirq.X), (cirq.LineQubit(6), cirq.Y), (cirq.LineQubit(2), cirq.Z)}): (0.0005510350669428012-0.003344661999651179j), frozenset({(cirq.LineQubit(6), cirq.X), (cirq.LineQubit(5), cirq.Z), (cirq.LineQubit(2), cirq.X), (cirq.LineQubit(3), cirq.Z), (cirq.LineQubit(1), cirq.Z)}): (0.0033446619996511814+0.0005510350669428016j), frozenset({(cirq.LineQubit(6), cirq.Y), (cirq.LineQubit(5), cirq.X), (cirq.LineQubit(3), cirq.Z), (cirq.LineQubit(1), cirq.Z), (cirq.LineQubit(2), cirq.Z)}): (-0.0005510350669428009+0.0033446619996511766j), frozenset({(cirq.LineQubit(6), cirq.X), (cirq.LineQubit(3), cirq.X), (cirq.LineQubit(2), cirq.X), (cirq.LineQubit(5), cirq.X), (cirq.LineQubit(1), cirq.Z)}): (0.003344661999651179+0.0005510350669428012j), frozenset({(cirq.LineQubit(3), cirq.X), (cirq.LineQubit(0), cirq.Y), (cirq.LineQubit(5), cirq.X), (cirq.LineQubit(6), cirq.Y), (cirq.LineQubit(1), cirq.Z), (cirq.LineQubit(2), cirq.Z)}): (-0.003344661999651179-0.0005510350669428012j), frozenset({(cirq.LineQubit(6), cirq.X), (cirq.LineQubit(2), cirq.X), (cirq.LineQubit(0), cirq.Y), (cirq.LineQubit(5), cirq.X), (cirq.LineQubit(3), cirq.Z), (cirq.LineQubit(1), cirq.Z)}): (0.0005510350669428016-0.0033446619996511814j), frozenset({(cirq.LineQubit(5), cirq.Z), (cirq.LineQubit(3), cirq.Z), (cirq.LineQubit(0), cirq.Y), (cirq.LineQubit(4), cirq.Z), (cirq.LineQubit(6), cirq.Y), (cirq.LineQubit(1), cirq.Z), (cirq.LineQubit(2), cirq.Z)}): (-0.003344661999651179-0.0005510350669428012j), frozenset({(cirq.LineQubit(6), cirq.X), (cirq.LineQubit(5), cirq.Z), (cirq.LineQubit(3), cirq.X), (cirq.LineQubit(2), cirq.X), (cirq.LineQubit(0), cirq.Y), (cirq.LineQubit(4), cirq.Z), (cirq.LineQubit(1), cirq.Z)}): (-0.0005510350669428016+0.0033446619996511814j), frozenset({(cirq.LineQubit(1), cirq.Z), (cirq.LineQubit(5), cirq.Z), (cirq.LineQubit(3), cirq.X), (cirq.LineQubit(4), cirq.Z), (cirq.LineQubit(6), cirq.Y), (cirq.LineQubit(2), cirq.Z)}): (0.0005510350669428016-0.0033446619996511814j), frozenset({(cirq.LineQubit(6), cirq.X), (cirq.LineQubit(5), cirq.Z), (cirq.LineQubit(2), cirq.X), (cirq.LineQubit(4), cirq.Z), (cirq.LineQubit(3), cirq.Z), (cirq.LineQubit(1), cirq.Z)}): (0.0033446619996511835+0.000551035066942802j), frozenset({(cirq.LineQubit(6), cirq.Z), (cirq.LineQubit(2), cirq.Z), (cirq.LineQubit(0), cirq.Z)}): (-0.0033446619996511744-0.0005510350669428004j), frozenset({(cirq.LineQubit(2), cirq.X), (cirq.LineQubit(3), cirq.Y), (cirq.LineQubit(0), cirq.Z)}): (-0.0005510350669428009+0.0033446619996511766j), frozenset({(cirq.LineQubit(3), cirq.Y), (cirq.LineQubit(6), cirq.Z), (cirq.LineQubit(2), cirq.Z), (cirq.LineQubit(0), cirq.X)}): (0.0005510350669428009-0.0033446619996511766j), frozenset({(cirq.LineQubit(2), cirq.X), (cirq.LineQubit(0), cirq.X)}): (-0.003344661999651179-0.0005510350669428012j), frozenset({(cirq.LineQubit(5), cirq.Y), (cirq.LineQubit(6), cirq.Z), (cirq.LineQubit(4), cirq.Z), (cirq.LineQubit(2), cirq.Z), (cirq.LineQubit(0), cirq.X)}): (-0.0005510350669428009+0.0033446619996511766j), frozenset({(cirq.LineQubit(2), cirq.X), (cirq.LineQubit(5), cirq.Y), (cirq.LineQubit(4), cirq.Z), (cirq.LineQubit(3), cirq.Y), (cirq.LineQubit(0), cirq.X)}): (0.003344661999651179+0.0005510350669428012j), frozenset({(cirq.LineQubit(0), cirq.Z), (cirq.LineQubit(5), cirq.Y), (cirq.LineQubit(6), cirq.Z), (cirq.LineQubit(3), cirq.Y), (cirq.LineQubit(4), cirq.Z), (cirq.LineQubit(2), cirq.Z)}): (0.003344661999651179+0.0005510350669428012j), frozenset({(cirq.LineQubit(4), cirq.Z), (cirq.LineQubit(5), cirq.Y), (cirq.LineQubit(2), cirq.X), (cirq.LineQubit(0), cirq.Z)}): (0.0005510350669428016-0.0033446619996511814j), frozenset({(cirq.LineQubit(4), cirq.Z), (cirq.LineQubit(6), cirq.Z), (cirq.LineQubit(2), cirq.Z), (cirq.LineQubit(0), cirq.Z)}): (-0.0033446619996511766-0.0005510350669428009j), frozenset({(cirq.LineQubit(4), cirq.Z), (cirq.LineQubit(2), cirq.X), (cirq.LineQubit(3), cirq.Y), (cirq.LineQubit(0), cirq.Z)}): (-0.0005510350669428012+0.003344661999651179j), frozenset({(cirq.LineQubit(6), cirq.Z), (cirq.LineQubit(4), cirq.Z), (cirq.LineQubit(3), cirq.Y), (cirq.LineQubit(0), cirq.X), (cirq.LineQubit(2), cirq.Z)}): (0.0005510350669428012-0.003344661999651179j), frozenset({(cirq.LineQubit(4), cirq.Z), (cirq.LineQubit(2), cirq.X), (cirq.LineQubit(0), cirq.X)}): (-0.0033446619996511814-0.0005510350669428016j), frozenset({(cirq.LineQubit(6), cirq.Z), (cirq.LineQubit(2), cirq.Z), (cirq.LineQubit(0), cirq.X), (cirq.LineQubit(5), cirq.Y)}): (-0.0005510350669428012+0.003344661999651179j), frozenset({(cirq.LineQubit(2), cirq.X), (cirq.LineQubit(3), cirq.Y), (cirq.LineQubit(0), cirq.X), (cirq.LineQubit(5), cirq.Y)}): (0.0033446619996511814+0.0005510350669428016j), frozenset({(cirq.LineQubit(0), cirq.Z), (cirq.LineQubit(5), cirq.Y), (cirq.LineQubit(6), cirq.Z), (cirq.LineQubit(3), cirq.Y), (cirq.LineQubit(2), cirq.Z)}): (0.0033446619996511814+0.0005510350669428016j), frozenset({(cirq.LineQubit(0), cirq.Z), (cirq.LineQubit(2), cirq.X), (cirq.LineQubit(5), cirq.Y)}): (0.000551035066942802-0.0033446619996511835j), frozenset({(cirq.LineQubit(6), cirq.Z), (cirq.LineQubit(5), cirq.X), (cirq.LineQubit(4), cirq.Z), (cirq.LineQubit(3), cirq.Z), (cirq.LineQubit(2), cirq.Y)}): (0.0005510350669428012-0.003344661999651179j), frozenset({(cirq.LineQubit(4), cirq.Z), (cirq.LineQubit(3), cirq.X), (cirq.LineQubit(5), cirq.X)}): (-0.0033446619996511814-0.0005510350669428016j), frozenset({(cirq.LineQubit(3), cirq.X), (cirq.LineQubit(0), cirq.Y), (cirq.LineQubit(6), cirq.Z), (cirq.LineQubit(5), cirq.X), (cirq.LineQubit(4), cirq.Z), (cirq.LineQubit(2), cirq.Y)}): (0.0033446619996511814+0.0005510350669428016j), frozenset({(cirq.LineQubit(0), cirq.Y), (cirq.LineQubit(4), cirq.Z), (cirq.LineQubit(3), cirq.Z), (cirq.LineQubit(5), cirq.X)}): (-0.000551035066942802+0.0033446619996511835j), frozenset({(cirq.LineQubit(5), cirq.Z), (cirq.LineQubit(0), cirq.Y), (cirq.LineQubit(6), cirq.Z), (cirq.LineQubit(3), cirq.Z), (cirq.LineQubit(2), cirq.Y)}): (0.0033446619996511814+0.0005510350669428016j), frozenset({(cirq.LineQubit(0), cirq.Y), (cirq.LineQubit(3), cirq.X), (cirq.LineQubit(5), cirq.Z)}): (0.000551035066942802-0.0033446619996511835j), frozenset({(cirq.LineQubit(3), cirq.X), (cirq.LineQubit(6), cirq.Z), (cirq.LineQubit(2), cirq.Y), (cirq.LineQubit(5), cirq.Z)}): (-0.000551035066942802+0.0033446619996511835j), frozenset({(cirq.LineQubit(3), cirq.Z), (cirq.LineQubit(5), cirq.Z)}): (-0.0033446619996511857-0.0005510350669428023j), frozenset({(cirq.LineQubit(3), cirq.Z), (cirq.LineQubit(6), cirq.Z), (cirq.LineQubit(2), cirq.Y), (cirq.LineQubit(5), cirq.X)}): (0.0005510350669428016-0.0033446619996511814j), frozenset({(cirq.LineQubit(3), cirq.X), (cirq.LineQubit(5), cirq.X)}): (-0.0033446619996511835-0.000551035066942802j), frozenset({(cirq.LineQubit(3), cirq.X), (cirq.LineQubit(0), cirq.Y), (cirq.LineQubit(6), cirq.Z), (cirq.LineQubit(5), cirq.X), (cirq.LineQubit(2), cirq.Y)}): (0.0033446619996511835+0.000551035066942802j), frozenset({(cirq.LineQubit(0), cirq.Y), (cirq.LineQubit(3), cirq.Z), (cirq.LineQubit(5), cirq.X)}): (-0.0005510350669428023+0.0033446619996511857j), frozenset({(cirq.LineQubit(5), cirq.Z), (cirq.LineQubit(0), cirq.Y), (cirq.LineQubit(6), cirq.Z), (cirq.LineQubit(4), cirq.Z), (cirq.LineQubit(3), cirq.Z), (cirq.LineQubit(2), cirq.Y)}): (0.0033446619996511835+0.000551035066942802j), frozenset({(cirq.LineQubit(0), cirq.Y), (cirq.LineQubit(4), cirq.Z), (cirq.LineQubit(3), cirq.X), (cirq.LineQubit(5), cirq.Z)}): (0.0005510350669428023-0.0033446619996511857j), frozenset({(cirq.LineQubit(5), cirq.Z), (cirq.LineQubit(3), cirq.X), (cirq.LineQubit(6), cirq.Z), (cirq.LineQubit(4), cirq.Z), (cirq.LineQubit(2), cirq.Y)}): (-0.0005510350669428023+0.0033446619996511857j), frozenset({(cirq.LineQubit(4), cirq.Z), (cirq.LineQubit(3), cirq.Z), (cirq.LineQubit(5), cirq.Z)}): (-0.003344661999651188-0.0005510350669428027j), frozenset({(cirq.LineQubit(4), cirq.X), (cirq.LineQubit(2), cirq.X), (cirq.LineQubit(6), cirq.Z), (cirq.LineQubit(5), cirq.X), (cirq.LineQubit(0), cirq.X)}): (0.0014897865366484033+0.0014815687975958498j), frozenset({(cirq.LineQubit(4), cirq.X), (cirq.LineQubit(5), cirq.X), (cirq.LineQubit(3), cirq.Y), (cirq.LineQubit(0), cirq.X), (cirq.LineQubit(2), cirq.Z)}): (0.0014815687975958509-0.0014897865366484044j), frozenset({(cirq.LineQubit(4), cirq.X), (cirq.LineQubit(2), cirq.X), (cirq.LineQubit(0), cirq.Z), (cirq.LineQubit(6), cirq.Z), (cirq.LineQubit(5), cirq.X), (cirq.LineQubit(3), cirq.Y)}): (-0.0014815687975958509+0.0014897865366484044j), frozenset({(cirq.LineQubit(4), cirq.X), (cirq.LineQubit(2), cirq.Z), (cirq.LineQubit(5), cirq.X), (cirq.LineQubit(0), cirq.Z)}): (0.0014897865366484055+0.0014815687975958517j), frozenset({(cirq.LineQubit(5), cirq.Z), (cirq.LineQubit(2), cirq.X), (cirq.LineQubit(0), cirq.Z), (cirq.LineQubit(6), cirq.Z), (cirq.LineQubit(4), cirq.Y)}): (-0.0014815687975958509+0.0014897865366484044j), frozenset({(cirq.LineQubit(5), cirq.Z), (cirq.LineQubit(0), cirq.Z), (cirq.LineQubit(3), cirq.Y), (cirq.LineQubit(4), cirq.Y), (cirq.LineQubit(2), cirq.Z)}): (0.0014897865366484055+0.0014815687975958517j), frozenset({(cirq.LineQubit(5), cirq.Z), (cirq.LineQubit(2), cirq.X), (cirq.LineQubit(6), cirq.Z), (cirq.LineQubit(4), cirq.Y), (cirq.LineQubit(3), cirq.Y), (cirq.LineQubit(0), cirq.X)}): (0.0014897865366484055+0.0014815687975958517j), frozenset({(cirq.LineQubit(4), cirq.Y), (cirq.LineQubit(2), cirq.Z), (cirq.LineQubit(0), cirq.X), (cirq.LineQubit(5), cirq.Z)}): (0.0014815687975958528-0.0014897865366484064j), frozenset({(cirq.LineQubit(2), cirq.X), (cirq.LineQubit(6), cirq.Z), (cirq.LineQubit(5), cirq.X), (cirq.LineQubit(4), cirq.Y), (cirq.LineQubit(0), cirq.X)}): (-0.0014815687975958509+0.0014897865366484044j), frozenset({(cirq.LineQubit(5), cirq.X), (cirq.LineQubit(4), cirq.Y), (cirq.LineQubit(3), cirq.Y), (cirq.LineQubit(0), cirq.X), (cirq.LineQubit(2), cirq.Z)}): (0.0014897865366484055+0.0014815687975958517j), frozenset({(cirq.LineQubit(2), cirq.X), (cirq.LineQubit(0), cirq.Z), (cirq.LineQubit(6), cirq.Z), (cirq.LineQubit(5), cirq.X), (cirq.LineQubit(4), cirq.Y), (cirq.LineQubit(3), cirq.Y)}): (-0.0014897865366484055-0.0014815687975958517j), frozenset({(cirq.LineQubit(4), cirq.Y), (cirq.LineQubit(2), cirq.Z), (cirq.LineQubit(5), cirq.X), (cirq.LineQubit(0), cirq.Z)}): (-0.0014815687975958528+0.0014897865366484064j), frozenset({(cirq.LineQubit(5), cirq.Z), (cirq.LineQubit(4), cirq.X), (cirq.LineQubit(2), cirq.X), (cirq.LineQubit(0), cirq.Z), (cirq.LineQubit(6), cirq.Z)}): (0.0014897865366484055+0.0014815687975958517j), frozenset({(cirq.LineQubit(5), cirq.Z), (cirq.LineQubit(4), cirq.X), (cirq.LineQubit(0), cirq.Z), (cirq.LineQubit(3), cirq.Y), (cirq.LineQubit(2), cirq.Z)}): (0.0014815687975958528-0.0014897865366484064j), frozenset({(cirq.LineQubit(5), cirq.Z), (cirq.LineQubit(4), cirq.X), (cirq.LineQubit(2), cirq.X), (cirq.LineQubit(6), cirq.Z), (cirq.LineQubit(3), cirq.Y), (cirq.LineQubit(0), cirq.X)}): (0.0014815687975958528-0.0014897865366484064j), frozenset({(cirq.LineQubit(4), cirq.X), (cirq.LineQubit(2), cirq.Z), (cirq.LineQubit(0), cirq.X), (cirq.LineQubit(5), cirq.Z)}): (-0.0014897865366484075-0.0014815687975958537j), frozenset({(cirq.LineQubit(0), cirq.Y), (cirq.LineQubit(4), cirq.Y), (cirq.LineQubit(3), cirq.Z), (cirq.LineQubit(6), cirq.Z)}): (0.0014897865366484055+0.0014815687975958517j), frozenset({(cirq.LineQubit(0), cirq.Y), (cirq.LineQubit(4), cirq.Y), (cirq.LineQubit(3), cirq.X), (cirq.LineQubit(2), cirq.Y)}): (-0.0014815687975958528+0.0014897865366484064j), frozenset({(cirq.LineQubit(4), cirq.Y), (cirq.LineQubit(3), cirq.X), (cirq.LineQubit(6), cirq.Z)}): (0.0014815687975958528-0.0014897865366484064j), frozenset({(cirq.LineQubit(4), cirq.Y), (cirq.LineQubit(3), cirq.Z), (cirq.LineQubit(2), cirq.Y)}): (-0.0014897865366484075-0.0014815687975958537j), frozenset({(cirq.LineQubit(4), cirq.X), (cirq.LineQubit(3), cirq.Z), (cirq.LineQubit(6), cirq.Z), (cirq.LineQubit(5), cirq.Y)}): (-0.0014815687975958528+0.0014897865366484064j), frozenset({(cirq.LineQubit(4), cirq.X), (cirq.LineQubit(3), cirq.X), (cirq.LineQubit(2), cirq.Y), (cirq.LineQubit(5), cirq.Y)}): (-0.0014897865366484075-0.0014815687975958537j), frozenset({(cirq.LineQubit(4), cirq.X), (cirq.LineQubit(3), cirq.X), (cirq.LineQubit(5), cirq.Y), (cirq.LineQubit(0), cirq.Y), (cirq.LineQubit(6), cirq.Z)}): (0.0014897865366484075+0.0014815687975958537j), frozenset({(cirq.LineQubit(4), cirq.X), (cirq.LineQubit(5), cirq.Y), (cirq.LineQubit(0), cirq.Y), (cirq.LineQubit(3), cirq.Z), (cirq.LineQubit(2), cirq.Y)}): (0.0014815687975958548-0.0014897865366484083j), frozenset({(cirq.LineQubit(0), cirq.Y), (cirq.LineQubit(3), cirq.Z), (cirq.LineQubit(6), cirq.Z), (cirq.LineQubit(4), cirq.X)}): (0.0014815687975958528-0.0014897865366484064j), frozenset({(cirq.LineQubit(0), cirq.Y), (cirq.LineQubit(3), cirq.X), (cirq.LineQubit(4), cirq.X), (cirq.LineQubit(2), cirq.Y)}): (0.0014897865366484075+0.0014815687975958537j), frozenset({(cirq.LineQubit(4), cirq.X), (cirq.LineQubit(3), cirq.X), (cirq.LineQubit(6), cirq.Z)}): (-0.0014897865366484075-0.0014815687975958537j), frozenset({(cirq.LineQubit(4), cirq.X), (cirq.LineQubit(3), cirq.Z), (cirq.LineQubit(2), cirq.Y)}): (-0.0014815687975958548+0.0014897865366484083j), frozenset({(cirq.LineQubit(4), cirq.Y), (cirq.LineQubit(3), cirq.Z), (cirq.LineQubit(6), cirq.Z), (cirq.LineQubit(5), cirq.Y)}): (-0.0014897865366484075-0.0014815687975958537j), frozenset({(cirq.LineQubit(4), cirq.Y), (cirq.LineQubit(3), cirq.X), (cirq.LineQubit(2), cirq.Y), (cirq.LineQubit(5), cirq.Y)}): (0.0014815687975958548-0.0014897865366484083j), frozenset({(cirq.LineQubit(3), cirq.X), (cirq.LineQubit(5), cirq.Y), (cirq.LineQubit(0), cirq.Y), (cirq.LineQubit(6), cirq.Z), (cirq.LineQubit(4), cirq.Y)}): (-0.0014815687975958548+0.0014897865366484083j), frozenset({(cirq.LineQubit(5), cirq.Y), (cirq.LineQubit(0), cirq.Y), (cirq.LineQubit(4), cirq.Y), (cirq.LineQubit(3), cirq.Z), (cirq.LineQubit(2), cirq.Y)}): (0.0014897865366484094+0.0014815687975958556j), frozenset({(cirq.LineQubit(4), cirq.X), (cirq.LineQubit(5), cirq.X), (cirq.LineQubit(6), cirq.Y), (cirq.LineQubit(1), cirq.Z), (cirq.LineQubit(0), cirq.X)}): (0.0014815687975958517-0.0014897865366484055j), frozenset({(cirq.LineQubit(6), cirq.X), (cirq.LineQubit(4), cirq.X), (cirq.LineQubit(3), cirq.Y), (cirq.LineQubit(5), cirq.X), (cirq.LineQubit(1), cirq.Z), (cirq.LineQubit(2), cirq.Y), (cirq.LineQubit(0), cirq.X)}): (-0.0014897865366484064-0.0014815687975958528j), frozenset({(cirq.LineQubit(1), cirq.Z), (cirq.LineQubit(4), cirq.X), (cirq.LineQubit(0), cirq.Z), (cirq.LineQubit(5), cirq.X), (cirq.LineQubit(6), cirq.Y), (cirq.LineQubit(3), cirq.Y)}): (0.0014897865366484064+0.0014815687975958528j), frozenset({(cirq.LineQubit(6), cirq.X), (cirq.LineQubit(4), cirq.X), (cirq.LineQubit(0), cirq.Z), (cirq.LineQubit(5), cirq.X), (cirq.LineQubit(1), cirq.Z), (cirq.LineQubit(2), cirq.Y)}): (0.0014815687975958537-0.0014897865366484075j), frozenset({(cirq.LineQubit(5), cirq.Z), (cirq.LineQubit(0), cirq.Z), (cirq.LineQubit(4), cirq.Y), (cirq.LineQubit(6), cirq.Y), (cirq.LineQubit(1), cirq.Z)}): (0.0014897865366484064+0.0014815687975958528j), frozenset({(cirq.LineQubit(1), cirq.Z), (cirq.LineQubit(6), cirq.X), (cirq.LineQubit(5), cirq.Z), (cirq.LineQubit(0), cirq.Z), (cirq.LineQubit(4), cirq.Y), (cirq.LineQubit(3), cirq.Y), (cirq.LineQubit(2), cirq.Y)}): (0.0014815687975958537-0.0014897865366484075j), frozenset({(cirq.LineQubit(1), cirq.Z), (cirq.LineQubit(5), cirq.Z), (cirq.LineQubit(4), cirq.Y), (cirq.LineQubit(6), cirq.Y), (cirq.LineQubit(3), cirq.Y), (cirq.LineQubit(0), cirq.X)}): (0.0014815687975958537-0.0014897865366484075j), frozenset({(cirq.LineQubit(6), cirq.X), (cirq.LineQubit(5), cirq.Z), (cirq.LineQubit(4), cirq.Y), (cirq.LineQubit(1), cirq.Z), (cirq.LineQubit(2), cirq.Y), (cirq.LineQubit(0), cirq.X)}): (-0.0014897865366484083-0.0014815687975958548j), frozenset({(cirq.LineQubit(5), cirq.X), (cirq.LineQubit(4), cirq.Y), (cirq.LineQubit(6), cirq.Y), (cirq.LineQubit(1), cirq.Z), (cirq.LineQubit(0), cirq.X)}): (0.0014897865366484064+0.0014815687975958528j), frozenset({(cirq.LineQubit(1), cirq.Z), (cirq.LineQubit(6), cirq.X), (cirq.LineQubit(5), cirq.X), (cirq.LineQubit(4), cirq.Y), (cirq.LineQubit(3), cirq.Y), (cirq.LineQubit(2), cirq.Y), (cirq.LineQubit(0), cirq.X)}): (0.0014815687975958537-0.0014897865366484075j), frozenset({(cirq.LineQubit(0), cirq.Z), (cirq.LineQubit(3), cirq.Y), (cirq.LineQubit(5), cirq.X), (cirq.LineQubit(4), cirq.Y), (cirq.LineQubit(6), cirq.Y), (cirq.LineQubit(1), cirq.Z)}): (-0.0014815687975958537+0.0014897865366484075j), frozenset({(cirq.LineQubit(6), cirq.X), (cirq.LineQubit(0), cirq.Z), (cirq.LineQubit(5), cirq.X), (cirq.LineQubit(4), cirq.Y), (cirq.LineQubit(1), cirq.Z), (cirq.LineQubit(2), cirq.Y)}): (0.0014897865366484083+0.0014815687975958548j), frozenset({(cirq.LineQubit(5), cirq.Z), (cirq.LineQubit(4), cirq.X), (cirq.LineQubit(0), cirq.Z), (cirq.LineQubit(6), cirq.Y), (cirq.LineQubit(1), cirq.Z)}): (0.0014815687975958537-0.0014897865366484075j), frozenset({(cirq.LineQubit(1), cirq.Z), (cirq.LineQubit(6), cirq.X), (cirq.LineQubit(5), cirq.Z), (cirq.LineQubit(4), cirq.X), (cirq.LineQubit(0), cirq.Z), (cirq.LineQubit(3), cirq.Y), (cirq.LineQubit(2), cirq.Y)}): (-0.0014897865366484083-0.0014815687975958548j), frozenset({(cirq.LineQubit(1), cirq.Z), (cirq.LineQubit(5), cirq.Z), (cirq.LineQubit(4), cirq.X), (cirq.LineQubit(6), cirq.Y), (cirq.LineQubit(3), cirq.Y), (cirq.LineQubit(0), cirq.X)}): (-0.0014897865366484083-0.0014815687975958548j), frozenset({(cirq.LineQubit(6), cirq.X), (cirq.LineQubit(5), cirq.Z), (cirq.LineQubit(4), cirq.X), (cirq.LineQubit(1), cirq.Z), (cirq.LineQubit(2), cirq.Y), (cirq.LineQubit(0), cirq.X)}): (-0.0014815687975958556+0.0014897865366484094j), frozenset({(cirq.LineQubit(6), cirq.Y), (cirq.LineQubit(2), cirq.X), (cirq.LineQubit(0), cirq.Y), (cirq.LineQubit(4), cirq.Y), (cirq.LineQubit(3), cirq.Z), (cirq.LineQubit(1), cirq.Z)}): (0.0014815687975958537-0.0014897865366484075j), frozenset({(cirq.LineQubit(1), cirq.Z), (cirq.LineQubit(6), cirq.X), (cirq.LineQubit(3), cirq.X), (cirq.LineQubit(0), cirq.Y), (cirq.LineQubit(4), cirq.Y), (cirq.LineQubit(2), cirq.Z)}): (-0.0014897865366484083-0.0014815687975958548j), frozenset({(cirq.LineQubit(3), cirq.X), (cirq.LineQubit(2), cirq.X), (cirq.LineQubit(4), cirq.Y), (cirq.LineQubit(6), cirq.Y), (cirq.LineQubit(1), cirq.Z)}): (-0.0014897865366484083-0.0014815687975958548j), frozenset({(cirq.LineQubit(6), cirq.X), (cirq.LineQubit(4), cirq.Y), (cirq.LineQubit(3), cirq.Z), (cirq.LineQubit(1), cirq.Z), (cirq.LineQubit(2), cirq.Z)}): (0.0014815687975958556-0.0014897865366484094j), frozenset({(cirq.LineQubit(4), cirq.X), (cirq.LineQubit(3), cirq.Z), (cirq.LineQubit(2), cirq.X), (cirq.LineQubit(5), cirq.Y), (cirq.LineQubit(6), cirq.Y), (cirq.LineQubit(1), cirq.Z)}): (0.0014897865366484083+0.0014815687975958548j), frozenset({(cirq.LineQubit(6), cirq.X), (cirq.LineQubit(4), cirq.X), (cirq.LineQubit(3), cirq.X), (cirq.LineQubit(5), cirq.Y), (cirq.LineQubit(1), cirq.Z), (cirq.LineQubit(2), cirq.Z)}): (0.0014815687975958556-0.0014897865366484094j), frozenset({(cirq.LineQubit(4), cirq.X), (cirq.LineQubit(3), cirq.X), (cirq.LineQubit(2), cirq.X), (cirq.LineQubit(5), cirq.Y), (cirq.LineQubit(0), cirq.Y), (cirq.LineQubit(6), cirq.Y), (cirq.LineQubit(1), cirq.Z)}): (0.0014815687975958556-0.0014897865366484094j), frozenset({(cirq.LineQubit(6), cirq.X), (cirq.LineQubit(4), cirq.X), (cirq.LineQubit(5), cirq.Y), (cirq.LineQubit(0), cirq.Y), (cirq.LineQubit(3), cirq.Z), (cirq.LineQubit(1), cirq.Z), (cirq.LineQubit(2), cirq.Z)}): (0.0014897865366484105+0.0014815687975958567j), frozenset({(cirq.LineQubit(4), cirq.X), (cirq.LineQubit(3), cirq.Z), (cirq.LineQubit(2), cirq.X), (cirq.LineQubit(0), cirq.Y), (cirq.LineQubit(6), cirq.Y), (cirq.LineQubit(1), cirq.Z)}): (-0.0014897865366484083-0.0014815687975958548j), frozenset({(cirq.LineQubit(6), cirq.X), (cirq.LineQubit(4), cirq.X), (cirq.LineQubit(3), cirq.X), (cirq.LineQubit(0), cirq.Y), (cirq.LineQubit(1), cirq.Z), (cirq.LineQubit(2), cirq.Z)}): (-0.0014815687975958556+0.0014897865366484094j), frozenset({(cirq.LineQubit(4), cirq.X), (cirq.LineQubit(3), cirq.X), (cirq.LineQubit(2), cirq.X), (cirq.LineQubit(6), cirq.Y), (cirq.LineQubit(1), cirq.Z)}): (-0.0014815687975958556+0.0014897865366484094j), frozenset({(cirq.LineQubit(6), cirq.X), (cirq.LineQubit(4), cirq.X), (cirq.LineQubit(3), cirq.Z), (cirq.LineQubit(1), cirq.Z), (cirq.LineQubit(2), cirq.Z)}): (-0.0014897865366484105-0.0014815687975958567j), frozenset({(cirq.LineQubit(6), cirq.Y), (cirq.LineQubit(2), cirq.X), (cirq.LineQubit(5), cirq.Y), (cirq.LineQubit(4), cirq.Y), (cirq.LineQubit(3), cirq.Z), (cirq.LineQubit(1), cirq.Z)}): (-0.0014815687975958556+0.0014897865366484094j), frozenset({(cirq.LineQubit(6), cirq.X), (cirq.LineQubit(3), cirq.X), (cirq.LineQubit(5), cirq.Y), (cirq.LineQubit(4), cirq.Y), (cirq.LineQubit(1), cirq.Z), (cirq.LineQubit(2), cirq.Z)}): (0.0014897865366484105+0.0014815687975958567j), frozenset({(cirq.LineQubit(3), cirq.X), (cirq.LineQubit(2), cirq.X), (cirq.LineQubit(5), cirq.Y), (cirq.LineQubit(0), cirq.Y), (cirq.LineQubit(4), cirq.Y), (cirq.LineQubit(6), cirq.Y), (cirq.LineQubit(1), cirq.Z)}): (0.0014897865366484105+0.0014815687975958567j), frozenset({(cirq.LineQubit(6), cirq.X), (cirq.LineQubit(5), cirq.Y), (cirq.LineQubit(0), cirq.Y), (cirq.LineQubit(4), cirq.Y), (cirq.LineQubit(3), cirq.Z), (cirq.LineQubit(1), cirq.Z), (cirq.LineQubit(2), cirq.Z)}): (-0.0014815687975958576+0.0014897865366484114j), frozenset({(cirq.LineQubit(4), cirq.X), (cirq.LineQubit(0), cirq.Z), (cirq.LineQubit(6), cirq.Z), (cirq.LineQubit(5), cirq.X), (cirq.LineQubit(2), cirq.Z), (cirq.LineQubit(1), cirq.Y)}): (0.0014897865366484033+0.0014815687975958498j), frozenset({(cirq.LineQubit(4), cirq.X), (cirq.LineQubit(2), cirq.X), (cirq.LineQubit(0), cirq.Z), (cirq.LineQubit(5), cirq.X), (cirq.LineQubit(3), cirq.Y), (cirq.LineQubit(1), cirq.Y)}): (-0.0014815687975958509+0.0014897865366484044j), frozenset({(cirq.LineQubit(1), cirq.Y), (cirq.LineQubit(4), cirq.X), (cirq.LineQubit(6), cirq.Z), (cirq.LineQubit(3), cirq.Y), (cirq.LineQubit(5), cirq.X), (cirq.LineQubit(2), cirq.Z), (cirq.LineQubit(0), cirq.X)}): (0.0014815687975958509-0.0014897865366484044j), frozenset({(cirq.LineQubit(4), cirq.X), (cirq.LineQubit(2), cirq.X), (cirq.LineQubit(5), cirq.X), (cirq.LineQubit(1), cirq.Y), (cirq.LineQubit(0), cirq.X)}): (0.0014897865366484055+0.0014815687975958517j), frozenset({(cirq.LineQubit(5), cirq.Z), (cirq.LineQubit(6), cirq.Z), (cirq.LineQubit(4), cirq.Y), (cirq.LineQubit(2), cirq.Z), (cirq.LineQubit(1), cirq.Y), (cirq.LineQubit(0), cirq.X)}): (0.0014815687975958509-0.0014897865366484044j), frozenset({(cirq.LineQubit(5), cirq.Z), (cirq.LineQubit(2), cirq.X), (cirq.LineQubit(4), cirq.Y), (cirq.LineQubit(3), cirq.Y), (cirq.LineQubit(1), cirq.Y), (cirq.LineQubit(0), cirq.X)}): (0.0014897865366484055+0.0014815687975958517j), frozenset({(cirq.LineQubit(5), cirq.Z), (cirq.LineQubit(0), cirq.Z), (cirq.LineQubit(6), cirq.Z), (cirq.LineQubit(3), cirq.Y), (cirq.LineQubit(4), cirq.Y), (cirq.LineQubit(2), cirq.Z), (cirq.LineQubit(1), cirq.Y)}): (0.0014897865366484055+0.0014815687975958517j), frozenset({(cirq.LineQubit(5), cirq.Z), (cirq.LineQubit(2), cirq.X), (cirq.LineQubit(0), cirq.Z), (cirq.LineQubit(4), cirq.Y), (cirq.LineQubit(1), cirq.Y)}): (-0.0014815687975958528+0.0014897865366484064j), frozenset({(cirq.LineQubit(0), cirq.Z), (cirq.LineQubit(6), cirq.Z), (cirq.LineQubit(5), cirq.X), (cirq.LineQubit(4), cirq.Y), (cirq.LineQubit(2), cirq.Z), (cirq.LineQubit(1), cirq.Y)}): (-0.0014815687975958509+0.0014897865366484044j), frozenset({(cirq.LineQubit(2), cirq.X), (cirq.LineQubit(0), cirq.Z), (cirq.LineQubit(5), cirq.X), (cirq.LineQubit(4), cirq.Y), (cirq.LineQubit(3), cirq.Y), (cirq.LineQubit(1), cirq.Y)}): (-0.0014897865366484055-0.0014815687975958517j), frozenset({(cirq.LineQubit(1), cirq.Y), (cirq.LineQubit(6), cirq.Z), (cirq.LineQubit(3), cirq.Y), (cirq.LineQubit(5), cirq.X), (cirq.LineQubit(4), cirq.Y), (cirq.LineQubit(2), cirq.Z), (cirq.LineQubit(0), cirq.X)}): (0.0014897865366484055+0.0014815687975958517j), frozenset({(cirq.LineQubit(2), cirq.X), (cirq.LineQubit(5), cirq.X), (cirq.LineQubit(4), cirq.Y), (cirq.LineQubit(1), cirq.Y), (cirq.LineQubit(0), cirq.X)}): (-0.0014815687975958528+0.0014897865366484064j), frozenset({(cirq.LineQubit(5), cirq.Z), (cirq.LineQubit(4), cirq.X), (cirq.LineQubit(6), cirq.Z), (cirq.LineQubit(2), cirq.Z), (cirq.LineQubit(1), cirq.Y), (cirq.LineQubit(0), cirq.X)}): (-0.0014897865366484055-0.0014815687975958517j), frozenset({(cirq.LineQubit(5), cirq.Z), (cirq.LineQubit(4), cirq.X), (cirq.LineQubit(2), cirq.X), (cirq.LineQubit(3), cirq.Y), (cirq.LineQubit(1), cirq.Y), (cirq.LineQubit(0), cirq.X)}): (0.0014815687975958528-0.0014897865366484064j), frozenset({(cirq.LineQubit(5), cirq.Z), (cirq.LineQubit(4), cirq.X), (cirq.LineQubit(0), cirq.Z), (cirq.LineQubit(6), cirq.Z), (cirq.LineQubit(3), cirq.Y), (cirq.LineQubit(2), cirq.Z), (cirq.LineQubit(1), cirq.Y)}): (0.0014815687975958528-0.0014897865366484064j), frozenset({(cirq.LineQubit(5), cirq.Z), (cirq.LineQubit(4), cirq.X), (cirq.LineQubit(2), cirq.X), (cirq.LineQubit(0), cirq.Z), (cirq.LineQubit(1), cirq.Y)}): (0.0014897865366484075+0.0014815687975958537j), frozenset({(cirq.LineQubit(1), cirq.Y), (cirq.LineQubit(6), cirq.Z), (cirq.LineQubit(4), cirq.Y), (cirq.LineQubit(3), cirq.Z), (cirq.LineQubit(2), cirq.Y)}): (-0.0014897865366484055-0.0014815687975958517j), frozenset({(cirq.LineQubit(4), cirq.Y), (cirq.LineQubit(3), cirq.X), (cirq.LineQubit(1), cirq.Y)}): (0.0014815687975958528-0.0014897865366484064j), frozenset({(cirq.LineQubit(1), cirq.Y), (cirq.LineQubit(3), cirq.X), (cirq.LineQubit(0), cirq.Y), (cirq.LineQubit(6), cirq.Z), (cirq.LineQubit(4), cirq.Y), (cirq.LineQubit(2), cirq.Y)}): (-0.0014815687975958528+0.0014897865366484064j), frozenset({(cirq.LineQubit(0), cirq.Y), (cirq.LineQubit(4), cirq.Y), (cirq.LineQubit(3), cirq.Z), (cirq.LineQubit(1), cirq.Y)}): (0.0014897865366484075+0.0014815687975958537j), frozenset({(cirq.LineQubit(1), cirq.Y), (cirq.LineQubit(4), cirq.X), (cirq.LineQubit(5), cirq.Y), (cirq.LineQubit(0), cirq.Y), (cirq.LineQubit(6), cirq.Z), (cirq.LineQubit(3), cirq.Z), (cirq.LineQubit(2), cirq.Y)}): (0.0014815687975958528-0.0014897865366484064j), frozenset({(cirq.LineQubit(4), cirq.X), (cirq.LineQubit(3), cirq.X), (cirq.LineQubit(5), cirq.Y), (cirq.LineQubit(0), cirq.Y), (cirq.LineQubit(1), cirq.Y)}): (0.0014897865366484075+0.0014815687975958537j), frozenset({(cirq.LineQubit(1), cirq.Y), (cirq.LineQubit(4), cirq.X), (cirq.LineQubit(3), cirq.X), (cirq.LineQubit(5), cirq.Y), (cirq.LineQubit(6), cirq.Z), (cirq.LineQubit(2), cirq.Y)}): (-0.0014897865366484075-0.0014815687975958537j), frozenset({(cirq.LineQubit(4), cirq.X), (cirq.LineQubit(3), cirq.Z), (cirq.LineQubit(1), cirq.Y), (cirq.LineQubit(5), cirq.Y)}): (-0.0014815687975958548+0.0014897865366484083j), frozenset({(cirq.LineQubit(1), cirq.Y), (cirq.LineQubit(4), cirq.X), (cirq.LineQubit(6), cirq.Z), (cirq.LineQubit(3), cirq.Z), (cirq.LineQubit(2), cirq.Y)}): (-0.0014815687975958528+0.0014897865366484064j), frozenset({(cirq.LineQubit(4), cirq.X), (cirq.LineQubit(3), cirq.X), (cirq.LineQubit(1), cirq.Y)}): (-0.0014897865366484075-0.0014815687975958537j), frozenset({(cirq.LineQubit(1), cirq.Y), (cirq.LineQubit(4), cirq.X), (cirq.LineQubit(3), cirq.X), (cirq.LineQubit(0), cirq.Y), (cirq.LineQubit(6), cirq.Z), (cirq.LineQubit(2), cirq.Y)}): (0.0014897865366484075+0.0014815687975958537j), frozenset({(cirq.LineQubit(0), cirq.Y), (cirq.LineQubit(3), cirq.Z), (cirq.LineQubit(4), cirq.X), (cirq.LineQubit(1), cirq.Y)}): (0.0014815687975958548-0.0014897865366484083j), frozenset({(cirq.LineQubit(1), cirq.Y), (cirq.LineQubit(5), cirq.Y), (cirq.LineQubit(0), cirq.Y), (cirq.LineQubit(6), cirq.Z), (cirq.LineQubit(4), cirq.Y), (cirq.LineQubit(3), cirq.Z), (cirq.LineQubit(2), cirq.Y)}): (0.0014897865366484075+0.0014815687975958537j), frozenset({(cirq.LineQubit(3), cirq.X), (cirq.LineQubit(5), cirq.Y), (cirq.LineQubit(0), cirq.Y), (cirq.LineQubit(4), cirq.Y), (cirq.LineQubit(1), cirq.Y)}): (-0.0014815687975958548+0.0014897865366484083j), frozenset({(cirq.LineQubit(1), cirq.Y), (cirq.LineQubit(3), cirq.X), (cirq.LineQubit(5), cirq.Y), (cirq.LineQubit(6), cirq.Z), (cirq.LineQubit(4), cirq.Y), (cirq.LineQubit(2), cirq.Y)}): (0.0014815687975958548-0.0014897865366484083j), frozenset({(cirq.LineQubit(4), cirq.Y), (cirq.LineQubit(3), cirq.Z), (cirq.LineQubit(1), cirq.Y), (cirq.LineQubit(5), cirq.Y)}): (-0.0014897865366484094-0.0014815687975958556j), frozenset({(cirq.LineQubit(4), cirq.X), (cirq.LineQubit(1), cirq.X), (cirq.LineQubit(0), cirq.Z), (cirq.LineQubit(5), cirq.X), (cirq.LineQubit(6), cirq.Y), (cirq.LineQubit(2), cirq.Y)}): (-0.0014815687975958517+0.0014897865366484055j), frozenset({(cirq.LineQubit(6), cirq.X), (cirq.LineQubit(4), cirq.X), (cirq.LineQubit(1), cirq.X), (cirq.LineQubit(0), cirq.Z), (cirq.LineQubit(5), cirq.X), (cirq.LineQubit(3), cirq.Y)}): (0.0014897865366484064+0.0014815687975958528j), frozenset({(cirq.LineQubit(4), cirq.X), (cirq.LineQubit(1), cirq.X), (cirq.LineQubit(5), cirq.X), (cirq.LineQubit(6), cirq.Y), (cirq.LineQubit(3), cirq.Y), (cirq.LineQubit(2), cirq.Y), (cirq.LineQubit(0), cirq.X)}): (0.0014897865366484064+0.0014815687975958528j), frozenset({(cirq.LineQubit(6), cirq.X), (cirq.LineQubit(4), cirq.X), (cirq.LineQubit(1), cirq.X), (cirq.LineQubit(5), cirq.X), (cirq.LineQubit(0), cirq.X)}): (0.0014815687975958537-0.0014897865366484075j), frozenset({(cirq.LineQubit(5), cirq.Z), (cirq.LineQubit(1), cirq.X), (cirq.LineQubit(4), cirq.Y), (cirq.LineQubit(6), cirq.Y), (cirq.LineQubit(2), cirq.Y), (cirq.LineQubit(0), cirq.X)}): (0.0014897865366484064+0.0014815687975958528j), frozenset({(cirq.LineQubit(6), cirq.X), (cirq.LineQubit(5), cirq.Z), (cirq.LineQubit(1), cirq.X), (cirq.LineQubit(4), cirq.Y), (cirq.LineQubit(3), cirq.Y), (cirq.LineQubit(0), cirq.X)}): (0.0014815687975958537-0.0014897865366484075j), frozenset({(cirq.LineQubit(5), cirq.Z), (cirq.LineQubit(1), cirq.X), (cirq.LineQubit(0), cirq.Z), (cirq.LineQubit(4), cirq.Y), (cirq.LineQubit(6), cirq.Y), (cirq.LineQubit(3), cirq.Y), (cirq.LineQubit(2), cirq.Y)}): (-0.0014815687975958537+0.0014897865366484075j), frozenset({(cirq.LineQubit(6), cirq.X), (cirq.LineQubit(5), cirq.Z), (cirq.LineQubit(1), cirq.X), (cirq.LineQubit(0), cirq.Z), (cirq.LineQubit(4), cirq.Y)}): (0.0014897865366484083+0.0014815687975958548j), frozenset({(cirq.LineQubit(1), cirq.X), (cirq.LineQubit(0), cirq.Z), (cirq.LineQubit(5), cirq.X), (cirq.LineQubit(4), cirq.Y), (cirq.LineQubit(6), cirq.Y), (cirq.LineQubit(2), cirq.Y)}): (-0.0014897865366484064-0.0014815687975958528j), frozenset({(cirq.LineQubit(6), cirq.X), (cirq.LineQubit(1), cirq.X), (cirq.LineQubit(0), cirq.Z), (cirq.LineQubit(5), cirq.X), (cirq.LineQubit(4), cirq.Y), (cirq.LineQubit(3), cirq.Y)}): (-0.0014815687975958537+0.0014897865366484075j), frozenset({(cirq.LineQubit(1), cirq.X), (cirq.LineQubit(5), cirq.X), (cirq.LineQubit(4), cirq.Y), (cirq.LineQubit(6), cirq.Y), (cirq.LineQubit(3), cirq.Y), (cirq.LineQubit(2), cirq.Y), (cirq.LineQubit(0), cirq.X)}): (-0.0014815687975958537+0.0014897865366484075j), frozenset({(cirq.LineQubit(6), cirq.X), (cirq.LineQubit(1), cirq.X), (cirq.LineQubit(5), cirq.X), (cirq.LineQubit(4), cirq.Y), (cirq.LineQubit(0), cirq.X)}): (0.0014897865366484083+0.0014815687975958548j), frozenset({(cirq.LineQubit(5), cirq.Z), (cirq.LineQubit(4), cirq.X), (cirq.LineQubit(1), cirq.X), (cirq.LineQubit(6), cirq.Y), (cirq.LineQubit(2), cirq.Y), (cirq.LineQubit(0), cirq.X)}): (0.0014815687975958537-0.0014897865366484075j), frozenset({(cirq.LineQubit(6), cirq.X), (cirq.LineQubit(5), cirq.Z), (cirq.LineQubit(4), cirq.X), (cirq.LineQubit(1), cirq.X), (cirq.LineQubit(3), cirq.Y), (cirq.LineQubit(0), cirq.X)}): (-0.0014897865366484083-0.0014815687975958548j), frozenset({(cirq.LineQubit(5), cirq.Z), (cirq.LineQubit(4), cirq.X), (cirq.LineQubit(1), cirq.X), (cirq.LineQubit(0), cirq.Z), (cirq.LineQubit(6), cirq.Y), (cirq.LineQubit(3), cirq.Y), (cirq.LineQubit(2), cirq.Y)}): (0.0014897865366484083+0.0014815687975958548j), frozenset({(cirq.LineQubit(6), cirq.X), (cirq.LineQubit(5), cirq.Z), (cirq.LineQubit(4), cirq.X), (cirq.LineQubit(1), cirq.X), (cirq.LineQubit(0), cirq.Z)}): (0.0014815687975958556-0.0014897865366484094j), frozenset({(cirq.LineQubit(6), cirq.Y), (cirq.LineQubit(1), cirq.X), (cirq.LineQubit(4), cirq.Y), (cirq.LineQubit(3), cirq.Z), (cirq.LineQubit(2), cirq.Z)}): (-0.0014815687975958537+0.0014897865366484075j), frozenset({(cirq.LineQubit(6), cirq.X), (cirq.LineQubit(3), cirq.X), (cirq.LineQubit(2), cirq.X), (cirq.LineQubit(1), cirq.X), (cirq.LineQubit(4), cirq.Y)}): (-0.0014897865366484083-0.0014815687975958548j), frozenset({(cirq.LineQubit(3), cirq.X), (cirq.LineQubit(1), cirq.X), (cirq.LineQubit(0), cirq.Y), (cirq.LineQubit(4), cirq.Y), (cirq.LineQubit(6), cirq.Y), (cirq.LineQubit(2), cirq.Z)}): (0.0014897865366484083+0.0014815687975958548j), frozenset({(cirq.LineQubit(6), cirq.X), (cirq.LineQubit(2), cirq.X), (cirq.LineQubit(1), cirq.X), (cirq.LineQubit(0), cirq.Y), (cirq.LineQubit(4), cirq.Y), (cirq.LineQubit(3), cirq.Z)}): (0.0014815687975958556-0.0014897865366484094j), frozenset({(cirq.LineQubit(4), cirq.X), (cirq.LineQubit(3), cirq.Z), (cirq.LineQubit(1), cirq.X), (cirq.LineQubit(5), cirq.Y), (cirq.LineQubit(0), cirq.Y), (cirq.LineQubit(6), cirq.Y), (cirq.LineQubit(2), cirq.Z)}): (-0.0014897865366484083-0.0014815687975958548j), frozenset({(cirq.LineQubit(6), cirq.X), (cirq.LineQubit(4), cirq.X), (cirq.LineQubit(3), cirq.X), (cirq.LineQubit(2), cirq.X), (cirq.LineQubit(1), cirq.X), (cirq.LineQubit(5), cirq.Y), (cirq.LineQubit(0), cirq.Y)}): (0.0014815687975958556-0.0014897865366484094j), frozenset({(cirq.LineQubit(4), cirq.X), (cirq.LineQubit(3), cirq.X), (cirq.LineQubit(1), cirq.X), (cirq.LineQubit(5), cirq.Y), (cirq.LineQubit(6), cirq.Y), (cirq.LineQubit(2), cirq.Z)}): (-0.0014815687975958556+0.0014897865366484094j), frozenset({(cirq.LineQubit(6), cirq.X), (cirq.LineQubit(4), cirq.X), (cirq.LineQubit(2), cirq.X), (cirq.LineQubit(1), cirq.X), (cirq.LineQubit(5), cirq.Y), (cirq.LineQubit(3), cirq.Z)}): (0.0014897865366484105+0.0014815687975958567j), frozenset({(cirq.LineQubit(4), cirq.X), (cirq.LineQubit(3), cirq.Z), (cirq.LineQubit(1), cirq.X), (cirq.LineQubit(6), cirq.Y), (cirq.LineQubit(2), cirq.Z)}): (0.0014897865366484083+0.0014815687975958548j), frozenset({(cirq.LineQubit(6), cirq.X), (cirq.LineQubit(4), cirq.X), (cirq.LineQubit(3), cirq.X), (cirq.LineQubit(2), cirq.X), (cirq.LineQubit(1), cirq.X)}): (-0.0014815687975958556+0.0014897865366484094j), frozenset({(cirq.LineQubit(4), cirq.X), (cirq.LineQubit(3), cirq.X), (cirq.LineQubit(1), cirq.X), (cirq.LineQubit(0), cirq.Y), (cirq.LineQubit(6), cirq.Y), (cirq.LineQubit(2), cirq.Z)}): (0.0014815687975958556-0.0014897865366484094j), frozenset({(cirq.LineQubit(6), cirq.X), (cirq.LineQubit(4), cirq.X), (cirq.LineQubit(2), cirq.X), (cirq.LineQubit(1), cirq.X), (cirq.LineQubit(0), cirq.Y), (cirq.LineQubit(3), cirq.Z)}): (-0.0014897865366484105-0.0014815687975958567j), frozenset({(cirq.LineQubit(6), cirq.Y), (cirq.LineQubit(1), cirq.X), (cirq.LineQubit(5), cirq.Y), (cirq.LineQubit(0), cirq.Y), (cirq.LineQubit(4), cirq.Y), (cirq.LineQubit(3), cirq.Z), (cirq.LineQubit(2), cirq.Z)}): (0.0014815687975958556-0.0014897865366484094j), frozenset({(cirq.LineQubit(6), cirq.X), (cirq.LineQubit(3), cirq.X), (cirq.LineQubit(2), cirq.X), (cirq.LineQubit(1), cirq.X), (cirq.LineQubit(5), cirq.Y), (cirq.LineQubit(0), cirq.Y), (cirq.LineQubit(4), cirq.Y)}): (0.0014897865366484105+0.0014815687975958567j), frozenset({(cirq.LineQubit(3), cirq.X), (cirq.LineQubit(1), cirq.X), (cirq.LineQubit(5), cirq.Y), (cirq.LineQubit(4), cirq.Y), (cirq.LineQubit(6), cirq.Y), (cirq.LineQubit(2), cirq.Z)}): (-0.0014897865366484105-0.0014815687975958567j), frozenset({(cirq.LineQubit(6), cirq.X), (cirq.LineQubit(2), cirq.X), (cirq.LineQubit(1), cirq.X), (cirq.LineQubit(5), cirq.Y), (cirq.LineQubit(4), cirq.Y), (cirq.LineQubit(3), cirq.Z)}): (-0.0014815687975958576+0.0014897865366484114j), frozenset({(cirq.LineQubit(4), cirq.X), (cirq.LineQubit(1), cirq.X), (cirq.LineQubit(2), cirq.X), (cirq.LineQubit(0), cirq.Y), (cirq.LineQubit(5), cirq.X), (cirq.LineQubit(6), cirq.Y)}): (0.0009407871334615287-0.011447396880785266j), frozenset({(cirq.LineQubit(6), cirq.X), (cirq.LineQubit(4), cirq.X), (cirq.LineQubit(1), cirq.X), (cirq.LineQubit(0), cirq.Y), (cirq.LineQubit(5), cirq.X), (cirq.LineQubit(3), cirq.Y), (cirq.LineQubit(2), cirq.Z)}): (0.0009407871334615294-0.011447396880785273j), frozenset({(cirq.LineQubit(4), cirq.X), (cirq.LineQubit(1), cirq.X), (cirq.LineQubit(2), cirq.X), (cirq.LineQubit(5), cirq.X), (cirq.LineQubit(6), cirq.Y), (cirq.LineQubit(3), cirq.Y)}): (0.0009407871334615294-0.011447396880785273j), frozenset({(cirq.LineQubit(6), cirq.X), (cirq.LineQubit(4), cirq.X), (cirq.LineQubit(1), cirq.X), (cirq.LineQubit(5), cirq.X), (cirq.LineQubit(2), cirq.Z)}): (0.00094078713346153-0.011447396880785282j), frozenset({(cirq.LineQubit(5), cirq.Z), (cirq.LineQubit(2), cirq.X), (cirq.LineQubit(1), cirq.X), (cirq.LineQubit(4), cirq.Y), (cirq.LineQubit(6), cirq.Y)}): (-0.0009407871334615294+0.011447396880785273j), frozenset({(cirq.LineQubit(6), cirq.X), (cirq.LineQubit(5), cirq.Z), (cirq.LineQubit(1), cirq.X), (cirq.LineQubit(4), cirq.Y), (cirq.LineQubit(3), cirq.Y), (cirq.LineQubit(2), cirq.Z)}): (-0.00094078713346153+0.011447396880785282j), frozenset({(cirq.LineQubit(5), cirq.Z), (cirq.LineQubit(1), cirq.X), (cirq.LineQubit(2), cirq.X), (cirq.LineQubit(0), cirq.Y), (cirq.LineQubit(4), cirq.Y), (cirq.LineQubit(6), cirq.Y), (cirq.LineQubit(3), cirq.Y)}): (-0.00094078713346153+0.011447396880785282j), frozenset({(cirq.LineQubit(6), cirq.X), (cirq.LineQubit(5), cirq.Z), (cirq.LineQubit(1), cirq.X), (cirq.LineQubit(0), cirq.Y), (cirq.LineQubit(4), cirq.Y), (cirq.LineQubit(2), cirq.Z)}): (-0.0009407871334615306+0.011447396880785289j), frozenset({(cirq.LineQubit(1), cirq.X), (cirq.LineQubit(2), cirq.X), (cirq.LineQubit(0), cirq.Y), (cirq.LineQubit(5), cirq.X), (cirq.LineQubit(4), cirq.Y), (cirq.LineQubit(6), cirq.Y)}): (0.011447396880785273+0.0009407871334615294j), frozenset({(cirq.LineQubit(6), cirq.X), (cirq.LineQubit(1), cirq.X), (cirq.LineQubit(0), cirq.Y), (cirq.LineQubit(5), cirq.X), (cirq.LineQubit(4), cirq.Y), (cirq.LineQubit(3), cirq.Y), (cirq.LineQubit(2), cirq.Z)}): (0.011447396880785282+0.00094078713346153j), frozenset({(cirq.LineQubit(1), cirq.X), (cirq.LineQubit(2), cirq.X), (cirq.LineQubit(5), cirq.X), (cirq.LineQubit(4), cirq.Y), (cirq.LineQubit(6), cirq.Y), (cirq.LineQubit(3), cirq.Y)}): (0.011447396880785282+0.00094078713346153j), frozenset({(cirq.LineQubit(6), cirq.X), (cirq.LineQubit(1), cirq.X), (cirq.LineQubit(5), cirq.X), (cirq.LineQubit(4), cirq.Y), (cirq.LineQubit(2), cirq.Z)}): (0.011447396880785289+0.0009407871334615306j), frozenset({(cirq.LineQubit(5), cirq.Z), (cirq.LineQubit(4), cirq.X), (cirq.LineQubit(1), cirq.X), (cirq.LineQubit(2), cirq.X), (cirq.LineQubit(6), cirq.Y)}): (0.011447396880785282+0.00094078713346153j), frozenset({(cirq.LineQubit(6), cirq.X), (cirq.LineQubit(5), cirq.Z), (cirq.LineQubit(4), cirq.X), (cirq.LineQubit(1), cirq.X), (cirq.LineQubit(3), cirq.Y), (cirq.LineQubit(2), cirq.Z)}): (0.011447396880785289+0.0009407871334615306j), frozenset({(cirq.LineQubit(5), cirq.Z), (cirq.LineQubit(4), cirq.X), (cirq.LineQubit(1), cirq.X), (cirq.LineQubit(2), cirq.X), (cirq.LineQubit(0), cirq.Y), (cirq.LineQubit(6), cirq.Y), (cirq.LineQubit(3), cirq.Y)}): (0.011447396880785289+0.0009407871334615306j), frozenset({(cirq.LineQubit(6), cirq.X), (cirq.LineQubit(5), cirq.Z), (cirq.LineQubit(4), cirq.X), (cirq.LineQubit(1), cirq.X), (cirq.LineQubit(0), cirq.Y), (cirq.LineQubit(2), cirq.Z)}): (0.011447396880785296+0.0009407871334615312j), frozenset({(cirq.LineQubit(3), cirq.Z), (cirq.LineQubit(1), cirq.X), (cirq.LineQubit(4), cirq.Y), (cirq.LineQubit(6), cirq.Y), (cirq.LineQubit(0), cirq.X)}): (0.00094078713346153-0.011447396880785282j), frozenset({(cirq.LineQubit(6), cirq.X), (cirq.LineQubit(2), cirq.Y), (cirq.LineQubit(3), cirq.X), (cirq.LineQubit(1), cirq.X), (cirq.LineQubit(4), cirq.Y), (cirq.LineQubit(0), cirq.X)}): (-0.0009407871334615306+0.011447396880785289j), frozenset({(cirq.LineQubit(3), cirq.X), (cirq.LineQubit(1), cirq.X), (cirq.LineQubit(0), cirq.Z), (cirq.LineQubit(4), cirq.Y), (cirq.LineQubit(6), cirq.Y)}): (0.0009407871334615306-0.011447396880785289j), frozenset({(cirq.LineQubit(6), cirq.X), (cirq.LineQubit(1), cirq.X), (cirq.LineQubit(0), cirq.Z), (cirq.LineQubit(4), cirq.Y), (cirq.LineQubit(3), cirq.Z), (cirq.LineQubit(2), cirq.Y)}): (0.0009407871334615312-0.011447396880785296j), frozenset({(cirq.LineQubit(4), cirq.X), (cirq.LineQubit(3), cirq.Z), (cirq.LineQubit(1), cirq.X), (cirq.LineQubit(5), cirq.Y), (cirq.LineQubit(0), cirq.Z), (cirq.LineQubit(6), cirq.Y)}): (0.0009407871334615306-0.011447396880785289j), frozenset({(cirq.LineQubit(6), cirq.X), (cirq.LineQubit(4), cirq.X), (cirq.LineQubit(3), cirq.X), (cirq.LineQubit(1), cirq.X), (cirq.LineQubit(5), cirq.Y), (cirq.LineQubit(0), cirq.Z), (cirq.LineQubit(2), cirq.Y)}): (-0.0009407871334615312+0.011447396880785296j), frozenset({(cirq.LineQubit(4), cirq.X), (cirq.LineQubit(3), cirq.X), (cirq.LineQubit(1), cirq.X), (cirq.LineQubit(5), cirq.Y), (cirq.LineQubit(6), cirq.Y), (cirq.LineQubit(0), cirq.X)}): (-0.0009407871334615312+0.011447396880785296j), frozenset({(cirq.LineQubit(6), cirq.X), (cirq.LineQubit(4), cirq.X), (cirq.LineQubit(2), cirq.Y), (cirq.LineQubit(1), cirq.X), (cirq.LineQubit(5), cirq.Y), (cirq.LineQubit(3), cirq.Z), (cirq.LineQubit(0), cirq.X)}): (-0.0009407871334615319+0.011447396880785304j), frozenset({(cirq.LineQubit(4), cirq.X), (cirq.LineQubit(3), cirq.Z), (cirq.LineQubit(1), cirq.X), (cirq.LineQubit(6), cirq.Y), (cirq.LineQubit(0), cirq.X)}): (-0.011447396880785289-0.0009407871334615306j), frozenset({(cirq.LineQubit(6), cirq.X), (cirq.LineQubit(4), cirq.X), (cirq.LineQubit(2), cirq.Y), (cirq.LineQubit(3), cirq.X), (cirq.LineQubit(1), cirq.X), (cirq.LineQubit(0), cirq.X)}): (0.011447396880785296+0.0009407871334615312j), frozenset({(cirq.LineQubit(4), cirq.X), (cirq.LineQubit(3), cirq.X), (cirq.LineQubit(1), cirq.X), (cirq.LineQubit(0), cirq.Z), (cirq.LineQubit(6), cirq.Y)}): (-0.011447396880785296-0.0009407871334615312j), frozenset({(cirq.LineQubit(6), cirq.X), (cirq.LineQubit(4), cirq.X), (cirq.LineQubit(1), cirq.X), (cirq.LineQubit(0), cirq.Z), (cirq.LineQubit(3), cirq.Z), (cirq.LineQubit(2), cirq.Y)}): (-0.011447396880785304-0.0009407871334615319j), frozenset({(cirq.LineQubit(3), cirq.Z), (cirq.LineQubit(1), cirq.X), (cirq.LineQubit(5), cirq.Y), (cirq.LineQubit(0), cirq.Z), (cirq.LineQubit(4), cirq.Y), (cirq.LineQubit(6), cirq.Y)}): (0.011447396880785296+0.0009407871334615312j), frozenset({(cirq.LineQubit(6), cirq.X), (cirq.LineQubit(3), cirq.X), (cirq.LineQubit(1), cirq.X), (cirq.LineQubit(5), cirq.Y), (cirq.LineQubit(0), cirq.Z), (cirq.LineQubit(4), cirq.Y), (cirq.LineQubit(2), cirq.Y)}): (-0.011447396880785304-0.0009407871334615319j), frozenset({(cirq.LineQubit(3), cirq.X), (cirq.LineQubit(1), cirq.X), (cirq.LineQubit(5), cirq.Y), (cirq.LineQubit(4), cirq.Y), (cirq.LineQubit(6), cirq.Y), (cirq.LineQubit(0), cirq.X)}): (-0.011447396880785304-0.0009407871334615319j), frozenset({(cirq.LineQubit(6), cirq.X), (cirq.LineQubit(2), cirq.Y), (cirq.LineQubit(1), cirq.X), (cirq.LineQubit(5), cirq.Y), (cirq.LineQubit(4), cirq.Y), (cirq.LineQubit(3), cirq.Z), (cirq.LineQubit(0), cirq.X)}): (-0.011447396880785311-0.0009407871334615325j), frozenset({(cirq.LineQubit(4), cirq.X), (cirq.LineQubit(0), cirq.Y), (cirq.LineQubit(6), cirq.Z), (cirq.LineQubit(5), cirq.X), (cirq.LineQubit(1), cirq.Y)}): (-0.00094078713346153+0.011447396880785282j), frozenset({(cirq.LineQubit(4), cirq.X), (cirq.LineQubit(2), cirq.Y), (cirq.LineQubit(0), cirq.Y), (cirq.LineQubit(5), cirq.X), (cirq.LineQubit(3), cirq.Y), (cirq.LineQubit(1), cirq.Y)}): (0.0009407871334615306-0.011447396880785289j), frozenset({(cirq.LineQubit(4), cirq.X), (cirq.LineQubit(6), cirq.Z), (cirq.LineQubit(5), cirq.X), (cirq.LineQubit(3), cirq.Y), (cirq.LineQubit(1), cirq.Y)}): (-0.0009407871334615306+0.011447396880785289j), frozenset({(cirq.LineQubit(4), cirq.X), (cirq.LineQubit(2), cirq.Y), (cirq.LineQubit(1), cirq.Y), (cirq.LineQubit(5), cirq.X)}): (0.0009407871334615312-0.011447396880785296j), frozenset({(cirq.LineQubit(4), cirq.Y), (cirq.LineQubit(6), cirq.Z), (cirq.LineQubit(1), cirq.Y), (cirq.LineQubit(5), cirq.Z)}): (0.0009407871334615306-0.011447396880785289j), frozenset({(cirq.LineQubit(1), cirq.Y), (cirq.LineQubit(5), cirq.Z), (cirq.LineQubit(4), cirq.Y), (cirq.LineQubit(3), cirq.Y), (cirq.LineQubit(2), cirq.Y)}): (-0.0009407871334615312+0.011447396880785296j), frozenset({(cirq.LineQubit(5), cirq.Z), (cirq.LineQubit(0), cirq.Y), (cirq.LineQubit(6), cirq.Z), (cirq.LineQubit(4), cirq.Y), (cirq.LineQubit(3), cirq.Y), (cirq.LineQubit(1), cirq.Y)}): (0.0009407871334615312-0.011447396880785296j), frozenset({(cirq.LineQubit(1), cirq.Y), (cirq.LineQubit(5), cirq.Z), (cirq.LineQubit(0), cirq.Y), (cirq.LineQubit(4), cirq.Y), (cirq.LineQubit(2), cirq.Y)}): (-0.0009407871334615319+0.011447396880785304j), frozenset({(cirq.LineQubit(0), cirq.Y), (cirq.LineQubit(6), cirq.Z), (cirq.LineQubit(5), cirq.X), (cirq.LineQubit(4), cirq.Y), (cirq.LineQubit(1), cirq.Y)}): (-0.011447396880785289-0.0009407871334615306j), frozenset({(cirq.LineQubit(2), cirq.Y), (cirq.LineQubit(0), cirq.Y), (cirq.LineQubit(5), cirq.X), (cirq.LineQubit(4), cirq.Y), (cirq.LineQubit(3), cirq.Y), (cirq.LineQubit(1), cirq.Y)}): (0.011447396880785296+0.0009407871334615312j), frozenset({(cirq.LineQubit(6), cirq.Z), (cirq.LineQubit(5), cirq.X), (cirq.LineQubit(4), cirq.Y), (cirq.LineQubit(3), cirq.Y), (cirq.LineQubit(1), cirq.Y)}): (-0.011447396880785296-0.0009407871334615312j), frozenset({(cirq.LineQubit(2), cirq.Y), (cirq.LineQubit(4), cirq.Y), (cirq.LineQubit(1), cirq.Y), (cirq.LineQubit(5), cirq.X)}): (0.011447396880785304+0.0009407871334615319j), frozenset({(cirq.LineQubit(4), cirq.X), (cirq.LineQubit(6), cirq.Z), (cirq.LineQubit(1), cirq.Y), (cirq.LineQubit(5), cirq.Z)}): (-0.011447396880785296-0.0009407871334615312j), frozenset({(cirq.LineQubit(1), cirq.Y), (cirq.LineQubit(4), cirq.X), (cirq.LineQubit(5), cirq.Z), (cirq.LineQubit(3), cirq.Y), (cirq.LineQubit(2), cirq.Y)}): (0.011447396880785304+0.0009407871334615319j), frozenset({(cirq.LineQubit(5), cirq.Z), (cirq.LineQubit(4), cirq.X), (cirq.LineQubit(0), cirq.Y), (cirq.LineQubit(6), cirq.Z), (cirq.LineQubit(3), cirq.Y), (cirq.LineQubit(1), cirq.Y)}): (-0.011447396880785304-0.0009407871334615319j), frozenset({(cirq.LineQubit(1), cirq.Y), (cirq.LineQubit(4), cirq.X), (cirq.LineQubit(5), cirq.Z), (cirq.LineQubit(0), cirq.Y), (cirq.LineQubit(2), cirq.Y)}): (0.011447396880785311+0.0009407871334615325j), frozenset({(cirq.LineQubit(1), cirq.Y), (cirq.LineQubit(2), cirq.X), (cirq.LineQubit(6), cirq.Z), (cirq.LineQubit(4), cirq.Y), (cirq.LineQubit(3), cirq.Z), (cirq.LineQubit(0), cirq.X)}): (-0.0009407871334615312+0.011447396880785296j), frozenset({(cirq.LineQubit(1), cirq.Y), (cirq.LineQubit(3), cirq.X), (cirq.LineQubit(4), cirq.Y), (cirq.LineQubit(2), cirq.Z), (cirq.LineQubit(0), cirq.X)}): (0.0009407871334615319-0.011447396880785304j), frozenset({(cirq.LineQubit(3), cirq.X), (cirq.LineQubit(2), cirq.X), (cirq.LineQubit(0), cirq.Z), (cirq.LineQubit(6), cirq.Z), (cirq.LineQubit(4), cirq.Y), (cirq.LineQubit(1), cirq.Y)}): (-0.0009407871334615319+0.011447396880785304j), frozenset({(cirq.LineQubit(0), cirq.Z), (cirq.LineQubit(4), cirq.Y), (cirq.LineQubit(3), cirq.Z), (cirq.LineQubit(2), cirq.Z), (cirq.LineQubit(1), cirq.Y)}): (-0.0009407871334615325+0.011447396880785311j), frozenset({(cirq.LineQubit(4), cirq.X), (cirq.LineQubit(2), cirq.X), (cirq.LineQubit(5), cirq.Y), (cirq.LineQubit(0), cirq.Z), (cirq.LineQubit(6), cirq.Z), (cirq.LineQubit(3), cirq.Z), (cirq.LineQubit(1), cirq.Y)}): (-0.0009407871334615319+0.011447396880785304j), frozenset({(cirq.LineQubit(4), cirq.X), (cirq.LineQubit(3), cirq.X), (cirq.LineQubit(5), cirq.Y), (cirq.LineQubit(0), cirq.Z), (cirq.LineQubit(2), cirq.Z), (cirq.LineQubit(1), cirq.Y)}): (0.0009407871334615325-0.011447396880785311j), frozenset({(cirq.LineQubit(1), cirq.Y), (cirq.LineQubit(4), cirq.X), (cirq.LineQubit(3), cirq.X), (cirq.LineQubit(2), cirq.X), (cirq.LineQubit(5), cirq.Y), (cirq.LineQubit(6), cirq.Z), (cirq.LineQubit(0), cirq.X)}): (0.0009407871334615325-0.011447396880785311j), frozenset({(cirq.LineQubit(1), cirq.Y), (cirq.LineQubit(4), cirq.X), (cirq.LineQubit(5), cirq.Y), (cirq.LineQubit(3), cirq.Z), (cirq.LineQubit(2), cirq.Z), (cirq.LineQubit(0), cirq.X)}): (0.0009407871334615331-0.01144739688078532j), frozenset({(cirq.LineQubit(1), cirq.Y), (cirq.LineQubit(4), cirq.X), (cirq.LineQubit(2), cirq.X), (cirq.LineQubit(6), cirq.Z), (cirq.LineQubit(3), cirq.Z), (cirq.LineQubit(0), cirq.X)}): (0.011447396880785304+0.0009407871334615319j), frozenset({(cirq.LineQubit(1), cirq.Y), (cirq.LineQubit(4), cirq.X), (cirq.LineQubit(3), cirq.X), (cirq.LineQubit(2), cirq.Z), (cirq.LineQubit(0), cirq.X)}): (-0.011447396880785311-0.0009407871334615325j), frozenset({(cirq.LineQubit(4), cirq.X), (cirq.LineQubit(3), cirq.X), (cirq.LineQubit(2), cirq.X), (cirq.LineQubit(0), cirq.Z), (cirq.LineQubit(6), cirq.Z), (cirq.LineQubit(1), cirq.Y)}): (0.011447396880785311+0.0009407871334615325j), frozenset({(cirq.LineQubit(4), cirq.X), (cirq.LineQubit(0), cirq.Z), (cirq.LineQubit(3), cirq.Z), (cirq.LineQubit(2), cirq.Z), (cirq.LineQubit(1), cirq.Y)}): (0.01144739688078532+0.0009407871334615331j), frozenset({(cirq.LineQubit(2), cirq.X), (cirq.LineQubit(5), cirq.Y), (cirq.LineQubit(0), cirq.Z), (cirq.LineQubit(6), cirq.Z), (cirq.LineQubit(4), cirq.Y), (cirq.LineQubit(3), cirq.Z), (cirq.LineQubit(1), cirq.Y)}): (-0.011447396880785311-0.0009407871334615325j), frozenset({(cirq.LineQubit(3), cirq.X), (cirq.LineQubit(5), cirq.Y), (cirq.LineQubit(0), cirq.Z), (cirq.LineQubit(4), cirq.Y), (cirq.LineQubit(2), cirq.Z), (cirq.LineQubit(1), cirq.Y)}): (0.01144739688078532+0.0009407871334615331j), frozenset({(cirq.LineQubit(1), cirq.Y), (cirq.LineQubit(3), cirq.X), (cirq.LineQubit(2), cirq.X), (cirq.LineQubit(5), cirq.Y), (cirq.LineQubit(6), cirq.Z), (cirq.LineQubit(4), cirq.Y), (cirq.LineQubit(0), cirq.X)}): (0.01144739688078532+0.0009407871334615331j), frozenset({(cirq.LineQubit(1), cirq.Y), (cirq.LineQubit(5), cirq.Y), (cirq.LineQubit(4), cirq.Y), (cirq.LineQubit(3), cirq.Z), (cirq.LineQubit(2), cirq.Z), (cirq.LineQubit(0), cirq.X)}): (0.011447396880785327+0.0009407871334615337j), frozenset({(cirq.LineQubit(4), cirq.X), (cirq.LineQubit(5), cirq.X), (cirq.LineQubit(6), cirq.Y), (cirq.LineQubit(1), cirq.Z), (cirq.LineQubit(2), cirq.Z)}): (0.0009407871334615287-0.011447396880785266j), frozenset({(cirq.LineQubit(6), cirq.X), (cirq.LineQubit(4), cirq.X), (cirq.LineQubit(2), cirq.X), (cirq.LineQubit(3), cirq.Y), (cirq.LineQubit(5), cirq.X), (cirq.LineQubit(1), cirq.Z)}): (-0.0009407871334615294+0.011447396880785273j), frozenset({(cirq.LineQubit(4), cirq.X), (cirq.LineQubit(0), cirq.Y), (cirq.LineQubit(3), cirq.Y), (cirq.LineQubit(5), cirq.X), (cirq.LineQubit(6), cirq.Y), (cirq.LineQubit(1), cirq.Z), (cirq.LineQubit(2), cirq.Z)}): (0.0009407871334615294-0.011447396880785273j), frozenset({(cirq.LineQubit(6), cirq.X), (cirq.LineQubit(4), cirq.X), (cirq.LineQubit(2), cirq.X), (cirq.LineQubit(0), cirq.Y), (cirq.LineQubit(5), cirq.X), (cirq.LineQubit(1), cirq.Z)}): (-0.00094078713346153+0.011447396880785282j), frozenset({(cirq.LineQubit(5), cirq.Z), (cirq.LineQubit(0), cirq.Y), (cirq.LineQubit(4), cirq.Y), (cirq.LineQubit(6), cirq.Y), (cirq.LineQubit(1), cirq.Z), (cirq.LineQubit(2), cirq.Z)}): (-0.0009407871334615294+0.011447396880785273j), frozenset({(cirq.LineQubit(6), cirq.X), (cirq.LineQubit(5), cirq.Z), (cirq.LineQubit(2), cirq.X), (cirq.LineQubit(0), cirq.Y), (cirq.LineQubit(3), cirq.Y), (cirq.LineQubit(4), cirq.Y), (cirq.LineQubit(1), cirq.Z)}): (0.00094078713346153-0.011447396880785282j), frozenset({(cirq.LineQubit(5), cirq.Z), (cirq.LineQubit(3), cirq.Y), (cirq.LineQubit(4), cirq.Y), (cirq.LineQubit(6), cirq.Y), (cirq.LineQubit(1), cirq.Z), (cirq.LineQubit(2), cirq.Z)}): (-0.00094078713346153+0.011447396880785282j), frozenset({(cirq.LineQubit(6), cirq.X), (cirq.LineQubit(5), cirq.Z), (cirq.LineQubit(2), cirq.X), (cirq.LineQubit(4), cirq.Y), (cirq.LineQubit(1), cirq.Z)}): (0.0009407871334615306-0.011447396880785289j), frozenset({(cirq.LineQubit(5), cirq.X), (cirq.LineQubit(4), cirq.Y), (cirq.LineQubit(6), cirq.Y), (cirq.LineQubit(1), cirq.Z), (cirq.LineQubit(2), cirq.Z)}): (0.011447396880785273+0.0009407871334615294j), frozenset({(cirq.LineQubit(6), cirq.X), (cirq.LineQubit(2), cirq.X), (cirq.LineQubit(3), cirq.Y), (cirq.LineQubit(5), cirq.X), (cirq.LineQubit(4), cirq.Y), (cirq.LineQubit(1), cirq.Z)}): (-0.011447396880785282-0.00094078713346153j), frozenset({(cirq.LineQubit(0), cirq.Y), (cirq.LineQubit(3), cirq.Y), (cirq.LineQubit(5), cirq.X), (cirq.LineQubit(4), cirq.Y), (cirq.LineQubit(6), cirq.Y), (cirq.LineQubit(1), cirq.Z), (cirq.LineQubit(2), cirq.Z)}): (0.011447396880785282+0.00094078713346153j), frozenset({(cirq.LineQubit(6), cirq.X), (cirq.LineQubit(2), cirq.X), (cirq.LineQubit(0), cirq.Y), (cirq.LineQubit(5), cirq.X), (cirq.LineQubit(4), cirq.Y), (cirq.LineQubit(1), cirq.Z)}): (-0.011447396880785289-0.0009407871334615306j), frozenset({(cirq.LineQubit(5), cirq.Z), (cirq.LineQubit(4), cirq.X), (cirq.LineQubit(0), cirq.Y), (cirq.LineQubit(6), cirq.Y), (cirq.LineQubit(1), cirq.Z), (cirq.LineQubit(2), cirq.Z)}): (0.011447396880785282+0.00094078713346153j), frozenset({(cirq.LineQubit(6), cirq.X), (cirq.LineQubit(5), cirq.Z), (cirq.LineQubit(4), cirq.X), (cirq.LineQubit(2), cirq.X), (cirq.LineQubit(0), cirq.Y), (cirq.LineQubit(3), cirq.Y), (cirq.LineQubit(1), cirq.Z)}): (-0.011447396880785289-0.0009407871334615306j), frozenset({(cirq.LineQubit(5), cirq.Z), (cirq.LineQubit(4), cirq.X), (cirq.LineQubit(3), cirq.Y), (cirq.LineQubit(6), cirq.Y), (cirq.LineQubit(1), cirq.Z), (cirq.LineQubit(2), cirq.Z)}): (0.011447396880785289+0.0009407871334615306j), frozenset({(cirq.LineQubit(6), cirq.X), (cirq.LineQubit(5), cirq.Z), (cirq.LineQubit(4), cirq.X), (cirq.LineQubit(2), cirq.X), (cirq.LineQubit(1), cirq.Z)}): (-0.011447396880785296-0.0009407871334615312j), frozenset({(cirq.LineQubit(3), cirq.Z), (cirq.LineQubit(0), cirq.Z), (cirq.LineQubit(4), cirq.Y), (cirq.LineQubit(6), cirq.Y), (cirq.LineQubit(1), cirq.Z), (cirq.LineQubit(2), cirq.Y)}): (0.00094078713346153-0.011447396880785282j), frozenset({(cirq.LineQubit(6), cirq.X), (cirq.LineQubit(3), cirq.X), (cirq.LineQubit(0), cirq.Z), (cirq.LineQubit(4), cirq.Y), (cirq.LineQubit(1), cirq.Z)}): (-0.0009407871334615306+0.011447396880785289j), frozenset({(cirq.LineQubit(2), cirq.Y), (cirq.LineQubit(3), cirq.X), (cirq.LineQubit(4), cirq.Y), (cirq.LineQubit(6), cirq.Y), (cirq.LineQubit(1), cirq.Z), (cirq.LineQubit(0), cirq.X)}): (-0.0009407871334615306+0.011447396880785289j), frozenset({(cirq.LineQubit(6), cirq.X), (cirq.LineQubit(4), cirq.Y), (cirq.LineQubit(3), cirq.Z), (cirq.LineQubit(1), cirq.Z), (cirq.LineQubit(0), cirq.X)}): (-0.0009407871334615312+0.011447396880785296j), frozenset({(cirq.LineQubit(4), cirq.X), (cirq.LineQubit(2), cirq.Y), (cirq.LineQubit(3), cirq.Z), (cirq.LineQubit(5), cirq.Y), (cirq.LineQubit(6), cirq.Y), (cirq.LineQubit(1), cirq.Z), (cirq.LineQubit(0), cirq.X)}): (-0.0009407871334615306+0.011447396880785289j), frozenset({(cirq.LineQubit(6), cirq.X), (cirq.LineQubit(4), cirq.X), (cirq.LineQubit(3), cirq.X), (cirq.LineQubit(5), cirq.Y), (cirq.LineQubit(1), cirq.Z), (cirq.LineQubit(0), cirq.X)}): (0.0009407871334615312-0.011447396880785296j), frozenset({(cirq.LineQubit(4), cirq.X), (cirq.LineQubit(3), cirq.X), (cirq.LineQubit(5), cirq.Y), (cirq.LineQubit(0), cirq.Z), (cirq.LineQubit(6), cirq.Y), (cirq.LineQubit(1), cirq.Z), (cirq.LineQubit(2), cirq.Y)}): (-0.0009407871334615312+0.011447396880785296j), frozenset({(cirq.LineQubit(6), cirq.X), (cirq.LineQubit(4), cirq.X), (cirq.LineQubit(5), cirq.Y), (cirq.LineQubit(0), cirq.Z), (cirq.LineQubit(3), cirq.Z), (cirq.LineQubit(1), cirq.Z)}): (-0.0009407871334615319+0.011447396880785304j), frozenset({(cirq.LineQubit(4), cirq.X), (cirq.LineQubit(3), cirq.Z), (cirq.LineQubit(0), cirq.Z), (cirq.LineQubit(6), cirq.Y), (cirq.LineQubit(1), cirq.Z), (cirq.LineQubit(2), cirq.Y)}): (-0.011447396880785289-0.0009407871334615306j), frozenset({(cirq.LineQubit(6), cirq.X), (cirq.LineQubit(4), cirq.X), (cirq.LineQubit(3), cirq.X), (cirq.LineQubit(0), cirq.Z), (cirq.LineQubit(1), cirq.Z)}): (0.011447396880785296+0.0009407871334615312j), frozenset({(cirq.LineQubit(4), cirq.X), (cirq.LineQubit(2), cirq.Y), (cirq.LineQubit(3), cirq.X), (cirq.LineQubit(6), cirq.Y), (cirq.LineQubit(1), cirq.Z), (cirq.LineQubit(0), cirq.X)}): (0.011447396880785296+0.0009407871334615312j), frozenset({(cirq.LineQubit(6), cirq.X), (cirq.LineQubit(4), cirq.X), (cirq.LineQubit(3), cirq.Z), (cirq.LineQubit(1), cirq.Z), (cirq.LineQubit(0), cirq.X)}): (0.011447396880785304+0.0009407871334615319j), frozenset({(cirq.LineQubit(2), cirq.Y), (cirq.LineQubit(3), cirq.Z), (cirq.LineQubit(5), cirq.Y), (cirq.LineQubit(4), cirq.Y), (cirq.LineQubit(6), cirq.Y), (cirq.LineQubit(1), cirq.Z), (cirq.LineQubit(0), cirq.X)}): (-0.011447396880785296-0.0009407871334615312j), frozenset({(cirq.LineQubit(6), cirq.X), (cirq.LineQubit(3), cirq.X), (cirq.LineQubit(5), cirq.Y), (cirq.LineQubit(4), cirq.Y), (cirq.LineQubit(1), cirq.Z), (cirq.LineQubit(0), cirq.X)}): (0.011447396880785304+0.0009407871334615319j), frozenset({(cirq.LineQubit(3), cirq.X), (cirq.LineQubit(5), cirq.Y), (cirq.LineQubit(0), cirq.Z), (cirq.LineQubit(4), cirq.Y), (cirq.LineQubit(6), cirq.Y), (cirq.LineQubit(1), cirq.Z), (cirq.LineQubit(2), cirq.Y)}): (-0.011447396880785304-0.0009407871334615319j), frozenset({(cirq.LineQubit(6), cirq.X), (cirq.LineQubit(5), cirq.Y), (cirq.LineQubit(0), cirq.Z), (cirq.LineQubit(4), cirq.Y), (cirq.LineQubit(3), cirq.Z), (cirq.LineQubit(1), cirq.Z)}): (-0.011447396880785311-0.0009407871334615325j), frozenset({(cirq.LineQubit(4), cirq.X), (cirq.LineQubit(2), cirq.Y), (cirq.LineQubit(6), cirq.Z), (cirq.LineQubit(5), cirq.X)}): (0.00094078713346153-0.011447396880785282j), frozenset({(cirq.LineQubit(4), cirq.X), (cirq.LineQubit(3), cirq.Y), (cirq.LineQubit(5), cirq.X)}): (-0.0009407871334615306+0.011447396880785289j), frozenset({(cirq.LineQubit(4), cirq.X), (cirq.LineQubit(0), cirq.Y), (cirq.LineQubit(6), cirq.Z), (cirq.LineQubit(5), cirq.X), (cirq.LineQubit(3), cirq.Y), (cirq.LineQubit(2), cirq.Y)}): (0.0009407871334615306-0.011447396880785289j), frozenset({(cirq.LineQubit(0), cirq.Y), (cirq.LineQubit(4), cirq.X), (cirq.LineQubit(5), cirq.X)}): (-0.0009407871334615312+0.011447396880785296j), frozenset({(cirq.LineQubit(5), cirq.Z), (cirq.LineQubit(0), cirq.Y), (cirq.LineQubit(6), cirq.Z), (cirq.LineQubit(4), cirq.Y), (cirq.LineQubit(2), cirq.Y)}): (-0.0009407871334615306+0.011447396880785289j), frozenset({(cirq.LineQubit(0), cirq.Y), (cirq.LineQubit(4), cirq.Y), (cirq.LineQubit(3), cirq.Y), (cirq.LineQubit(5), cirq.Z)}): (0.0009407871334615312-0.011447396880785296j), frozenset({(cirq.LineQubit(5), cirq.Z), (cirq.LineQubit(6), cirq.Z), (cirq.LineQubit(4), cirq.Y), (cirq.LineQubit(3), cirq.Y), (cirq.LineQubit(2), cirq.Y)}): (-0.0009407871334615312+0.011447396880785296j), frozenset({(cirq.LineQubit(4), cirq.Y), (cirq.LineQubit(5), cirq.Z)}): (0.0009407871334615319-0.011447396880785304j), frozenset({(cirq.LineQubit(2), cirq.Y), (cirq.LineQubit(4), cirq.Y), (cirq.LineQubit(6), cirq.Z), (cirq.LineQubit(5), cirq.X)}): (0.011447396880785289+0.0009407871334615306j), frozenset({(cirq.LineQubit(4), cirq.Y), (cirq.LineQubit(3), cirq.Y), (cirq.LineQubit(5), cirq.X)}): (-0.011447396880785296-0.0009407871334615312j), frozenset({(cirq.LineQubit(0), cirq.Y), (cirq.LineQubit(6), cirq.Z), (cirq.LineQubit(5), cirq.X), (cirq.LineQubit(4), cirq.Y), (cirq.LineQubit(3), cirq.Y), (cirq.LineQubit(2), cirq.Y)}): (0.011447396880785296+0.0009407871334615312j), frozenset({(cirq.LineQubit(0), cirq.Y), (cirq.LineQubit(4), cirq.Y), (cirq.LineQubit(5), cirq.X)}): (-0.011447396880785304-0.0009407871334615319j), frozenset({(cirq.LineQubit(5), cirq.Z), (cirq.LineQubit(4), cirq.X), (cirq.LineQubit(0), cirq.Y), (cirq.LineQubit(6), cirq.Z), (cirq.LineQubit(2), cirq.Y)}): (0.011447396880785296+0.0009407871334615312j), frozenset({(cirq.LineQubit(0), cirq.Y), (cirq.LineQubit(4), cirq.X), (cirq.LineQubit(3), cirq.Y), (cirq.LineQubit(5), cirq.Z)}): (-0.011447396880785304-0.0009407871334615319j), frozenset({(cirq.LineQubit(5), cirq.Z), (cirq.LineQubit(4), cirq.X), (cirq.LineQubit(6), cirq.Z), (cirq.LineQubit(3), cirq.Y), (cirq.LineQubit(2), cirq.Y)}): (0.011447396880785304+0.0009407871334615319j), frozenset({(cirq.LineQubit(4), cirq.X), (cirq.LineQubit(5), cirq.Z)}): (-0.011447396880785311-0.0009407871334615325j), frozenset({(cirq.LineQubit(0), cirq.Z), (cirq.LineQubit(6), cirq.Z), (cirq.LineQubit(4), cirq.Y), (cirq.LineQubit(3), cirq.Z), (cirq.LineQubit(2), cirq.Z)}): (-0.0009407871334615312+0.011447396880785296j), frozenset({(cirq.LineQubit(4), cirq.Y), (cirq.LineQubit(3), cirq.X), (cirq.LineQubit(2), cirq.X), (cirq.LineQubit(0), cirq.Z)}): (-0.0009407871334615319+0.011447396880785304j), frozenset({(cirq.LineQubit(3), cirq.X), (cirq.LineQubit(6), cirq.Z), (cirq.LineQubit(4), cirq.Y), (cirq.LineQubit(2), cirq.Z), (cirq.LineQubit(0), cirq.X)}): (0.0009407871334615319-0.011447396880785304j), frozenset({(cirq.LineQubit(2), cirq.X), (cirq.LineQubit(4), cirq.Y), (cirq.LineQubit(3), cirq.Z), (cirq.LineQubit(0), cirq.X)}): (-0.0009407871334615325+0.011447396880785311j), frozenset({(cirq.LineQubit(4), cirq.X), (cirq.LineQubit(5), cirq.Y), (cirq.LineQubit(6), cirq.Z), (cirq.LineQubit(3), cirq.Z), (cirq.LineQubit(2), cirq.Z), (cirq.LineQubit(0), cirq.X)}): (0.0009407871334615319-0.011447396880785304j), frozenset({(cirq.LineQubit(4), cirq.X), (cirq.LineQubit(3), cirq.X), (cirq.LineQubit(2), cirq.X), (cirq.LineQubit(5), cirq.Y), (cirq.LineQubit(0), cirq.X)}): (0.0009407871334615325-0.011447396880785311j), frozenset({(cirq.LineQubit(4), cirq.X), (cirq.LineQubit(3), cirq.X), (cirq.LineQubit(5), cirq.Y), (cirq.LineQubit(0), cirq.Z), (cirq.LineQubit(6), cirq.Z), (cirq.LineQubit(2), cirq.Z)}): (0.0009407871334615325-0.011447396880785311j), frozenset({(cirq.LineQubit(4), cirq.X), (cirq.LineQubit(2), cirq.X), (cirq.LineQubit(5), cirq.Y), (cirq.LineQubit(0), cirq.Z), (cirq.LineQubit(3), cirq.Z)}): (-0.0009407871334615331+0.01144739688078532j), frozenset({(cirq.LineQubit(4), cirq.X), (cirq.LineQubit(0), cirq.Z), (cirq.LineQubit(6), cirq.Z), (cirq.LineQubit(3), cirq.Z), (cirq.LineQubit(2), cirq.Z)}): (0.011447396880785304+0.0009407871334615319j), frozenset({(cirq.LineQubit(4), cirq.X), (cirq.LineQubit(3), cirq.X), (cirq.LineQubit(2), cirq.X), (cirq.LineQubit(0), cirq.Z)}): (0.011447396880785311+0.0009407871334615325j), frozenset({(cirq.LineQubit(4), cirq.X), (cirq.LineQubit(3), cirq.X), (cirq.LineQubit(6), cirq.Z), (cirq.LineQubit(2), cirq.Z), (cirq.LineQubit(0), cirq.X)}): (-0.011447396880785311-0.0009407871334615325j), frozenset({(cirq.LineQubit(4), cirq.X), (cirq.LineQubit(2), cirq.X), (cirq.LineQubit(3), cirq.Z), (cirq.LineQubit(0), cirq.X)}): (0.01144739688078532+0.0009407871334615331j), frozenset({(cirq.LineQubit(5), cirq.Y), (cirq.LineQubit(6), cirq.Z), (cirq.LineQubit(4), cirq.Y), (cirq.LineQubit(3), cirq.Z), (cirq.LineQubit(2), cirq.Z), (cirq.LineQubit(0), cirq.X)}): (0.011447396880785311+0.0009407871334615325j), frozenset({(cirq.LineQubit(3), cirq.X), (cirq.LineQubit(2), cirq.X), (cirq.LineQubit(5), cirq.Y), (cirq.LineQubit(4), cirq.Y), (cirq.LineQubit(0), cirq.X)}): (0.01144739688078532+0.0009407871334615331j), frozenset({(cirq.LineQubit(3), cirq.X), (cirq.LineQubit(5), cirq.Y), (cirq.LineQubit(0), cirq.Z), (cirq.LineQubit(6), cirq.Z), (cirq.LineQubit(4), cirq.Y), (cirq.LineQubit(2), cirq.Z)}): (0.01144739688078532+0.0009407871334615331j), frozenset({(cirq.LineQubit(2), cirq.X), (cirq.LineQubit(5), cirq.Y), (cirq.LineQubit(0), cirq.Z), (cirq.LineQubit(4), cirq.Y), (cirq.LineQubit(3), cirq.Z)}): (-0.011447396880785327-0.0009407871334615337j), frozenset({(cirq.LineQubit(0), cirq.Y), (cirq.LineQubit(4), cirq.Z), (cirq.LineQubit(6), cirq.Z), (cirq.LineQubit(5), cirq.Z)}): (0.006823214049332195-0.0015259611571305886j), frozenset({(cirq.LineQubit(5), cirq.Z), (cirq.LineQubit(0), cirq.Y), (cirq.LineQubit(4), cirq.Z), (cirq.LineQubit(3), cirq.Y), (cirq.LineQubit(2), cirq.Y)}): (-0.006823214049332199+0.0015259611571305895j), frozenset({(cirq.LineQubit(4), cirq.Z), (cirq.LineQubit(6), cirq.Z), (cirq.LineQubit(3), cirq.Y), (cirq.LineQubit(5), cirq.Z)}): (-0.006823214049332199+0.0015259611571305895j), frozenset({(cirq.LineQubit(4), cirq.Z), (cirq.LineQubit(2), cirq.Y), (cirq.LineQubit(5), cirq.Z)}): (0.0068232140493322034-0.0015259611571305906j), frozenset({(cirq.LineQubit(6), cirq.Z), (cirq.LineQubit(5), cirq.X)}): (-0.0015259611571305895-0.006823214049332199j), frozenset({(cirq.LineQubit(2), cirq.Y), (cirq.LineQubit(3), cirq.Y), (cirq.LineQubit(5), cirq.X)}): (0.0015259611571305906+0.0068232140493322034j), frozenset({(cirq.LineQubit(0), cirq.Y), (cirq.LineQubit(6), cirq.Z), (cirq.LineQubit(3), cirq.Y), (cirq.LineQubit(5), cirq.X)}): (0.0015259611571305906+0.0068232140493322034j), frozenset({(cirq.LineQubit(0), cirq.Y), (cirq.LineQubit(2), cirq.Y), (cirq.LineQubit(5), cirq.X)}): (-0.0015259611571305917-0.006823214049332208j), frozenset({(cirq.LineQubit(0), cirq.Y), (cirq.LineQubit(6), cirq.Z), (cirq.LineQubit(5), cirq.Z)}): (-0.006823214049332199+0.0015259611571305895j), frozenset({(cirq.LineQubit(0), cirq.Y), (cirq.LineQubit(3), cirq.Y), (cirq.LineQubit(2), cirq.Y), (cirq.LineQubit(5), cirq.Z)}): (0.0068232140493322034-0.0015259611571305906j), frozenset({(cirq.LineQubit(6), cirq.Z), (cirq.LineQubit(3), cirq.Y), (cirq.LineQubit(5), cirq.Z)}): (0.0068232140493322034-0.0015259611571305906j), frozenset({(cirq.LineQubit(2), cirq.Y), (cirq.LineQubit(5), cirq.Z)}): (-0.006823214049332208+0.0015259611571305917j), frozenset({(cirq.LineQubit(4), cirq.Z), (cirq.LineQubit(6), cirq.Z), (cirq.LineQubit(5), cirq.X)}): (0.0015259611571305906+0.0068232140493322034j), frozenset({(cirq.LineQubit(4), cirq.Z), (cirq.LineQubit(2), cirq.Y), (cirq.LineQubit(3), cirq.Y), (cirq.LineQubit(5), cirq.X)}): (-0.0015259611571305917-0.006823214049332208j), frozenset({(cirq.LineQubit(0), cirq.Y), (cirq.LineQubit(6), cirq.Z), (cirq.LineQubit(5), cirq.X), (cirq.LineQubit(4), cirq.Z), (cirq.LineQubit(3), cirq.Y)}): (-0.0015259611571305917-0.006823214049332208j), frozenset({(cirq.LineQubit(0), cirq.Y), (cirq.LineQubit(4), cirq.Z), (cirq.LineQubit(2), cirq.Y), (cirq.LineQubit(5), cirq.X)}): (0.0015259611571305925+0.006823214049332213j), frozenset({(cirq.LineQubit(2), cirq.X), (cirq.LineQubit(5), cirq.Y), (cirq.LineQubit(6), cirq.Z), (cirq.LineQubit(3), cirq.Z), (cirq.LineQubit(0), cirq.X)}): (-0.0068232140493322034+0.0015259611571305906j), frozenset({(cirq.LineQubit(3), cirq.X), (cirq.LineQubit(2), cirq.Z), (cirq.LineQubit(0), cirq.X), (cirq.LineQubit(5), cirq.Y)}): (0.006823214049332208-0.0015259611571305917j), frozenset({(cirq.LineQubit(3), cirq.X), (cirq.LineQubit(2), cirq.X), (cirq.LineQubit(0), cirq.Z), (cirq.LineQubit(5), cirq.Y), (cirq.LineQubit(6), cirq.Z)}): (0.006823214049332208-0.0015259611571305917j), frozenset({(cirq.LineQubit(0), cirq.Z), (cirq.LineQubit(3), cirq.Z), (cirq.LineQubit(2), cirq.Z), (cirq.LineQubit(5), cirq.Y)}): (0.006823214049332213-0.0015259611571305925j), frozenset({(cirq.LineQubit(2), cirq.X), (cirq.LineQubit(0), cirq.Z), (cirq.LineQubit(6), cirq.Z), (cirq.LineQubit(4), cirq.Z), (cirq.LineQubit(3), cirq.Z)}): (-0.0015259611571305917-0.006823214049332208j), frozenset({(cirq.LineQubit(4), cirq.Z), (cirq.LineQubit(3), cirq.X), (cirq.LineQubit(2), cirq.Z), (cirq.LineQubit(0), cirq.Z)}): (0.0015259611571305925+0.006823214049332213j), frozenset({(cirq.LineQubit(3), cirq.X), (cirq.LineQubit(2), cirq.X), (cirq.LineQubit(6), cirq.Z), (cirq.LineQubit(4), cirq.Z), (cirq.LineQubit(0), cirq.X)}): (-0.0015259611571305925-0.006823214049332213j), frozenset({(cirq.LineQubit(4), cirq.Z), (cirq.LineQubit(3), cirq.Z), (cirq.LineQubit(2), cirq.Z), (cirq.LineQubit(0), cirq.X)}): (-0.0015259611571305936-0.006823214049332217j), frozenset({(cirq.LineQubit(2), cirq.X), (cirq.LineQubit(5), cirq.Y), (cirq.LineQubit(6), cirq.Z), (cirq.LineQubit(4), cirq.Z), (cirq.LineQubit(3), cirq.Z), (cirq.LineQubit(0), cirq.X)}): (0.006823214049332208-0.0015259611571305917j), frozenset({(cirq.LineQubit(3), cirq.X), (cirq.LineQubit(5), cirq.Y), (cirq.LineQubit(4), cirq.Z), (cirq.LineQubit(2), cirq.Z), (cirq.LineQubit(0), cirq.X)}): (-0.006823214049332213+0.0015259611571305925j), frozenset({(cirq.LineQubit(3), cirq.X), (cirq.LineQubit(2), cirq.X), (cirq.LineQubit(0), cirq.Z), (cirq.LineQubit(5), cirq.Y), (cirq.LineQubit(6), cirq.Z), (cirq.LineQubit(4), cirq.Z)}): (-0.006823214049332213+0.0015259611571305925j), frozenset({(cirq.LineQubit(0), cirq.Z), (cirq.LineQubit(5), cirq.Y), (cirq.LineQubit(4), cirq.Z), (cirq.LineQubit(3), cirq.Z), (cirq.LineQubit(2), cirq.Z)}): (-0.006823214049332217+0.0015259611571305936j), frozenset({(cirq.LineQubit(2), cirq.X), (cirq.LineQubit(6), cirq.Z), (cirq.LineQubit(3), cirq.Z), (cirq.LineQubit(0), cirq.Z)}): (0.0015259611571305925+0.006823214049332213j), frozenset({(cirq.LineQubit(3), cirq.X), (cirq.LineQubit(2), cirq.Z), (cirq.LineQubit(0), cirq.Z)}): (-0.0015259611571305936-0.006823214049332217j), frozenset({(cirq.LineQubit(6), cirq.Z), (cirq.LineQubit(3), cirq.X), (cirq.LineQubit(2), cirq.X), (cirq.LineQubit(0), cirq.X)}): (0.0015259611571305936+0.006823214049332217j), frozenset({(cirq.LineQubit(3), cirq.Z), (cirq.LineQubit(2), cirq.Z), (cirq.LineQubit(0), cirq.X)}): (0.0015259611571305947+0.006823214049332222j), frozenset({(cirq.LineQubit(5), cirq.Z), (cirq.LineQubit(2), cirq.X), (cirq.LineQubit(0), cirq.Y), (cirq.LineQubit(4), cirq.Z), (cirq.LineQubit(6), cirq.Y), (cirq.LineQubit(1), cirq.Z)}): (-0.0015259611571305906-0.0068232140493322034j), frozenset({(cirq.LineQubit(1), cirq.Z), (cirq.LineQubit(6), cirq.X), (cirq.LineQubit(5), cirq.Z), (cirq.LineQubit(0), cirq.Y), (cirq.LineQubit(4), cirq.Z), (cirq.LineQubit(3), cirq.Y), (cirq.LineQubit(2), cirq.Z)}): (-0.0015259611571305917-0.006823214049332208j), frozenset({(cirq.LineQubit(1), cirq.Z), (cirq.LineQubit(5), cirq.Z), (cirq.LineQubit(2), cirq.X), (cirq.LineQubit(4), cirq.Z), (cirq.LineQubit(6), cirq.Y), (cirq.LineQubit(3), cirq.Y)}): (0.0015259611571305917+0.006823214049332208j), frozenset({(cirq.LineQubit(1), cirq.Z), (cirq.LineQubit(6), cirq.X), (cirq.LineQubit(5), cirq.Z), (cirq.LineQubit(4), cirq.Z), (cirq.LineQubit(2), cirq.Z)}): (0.0015259611571305925+0.006823214049332213j), frozenset({(cirq.LineQubit(6), cirq.Y), (cirq.LineQubit(2), cirq.X), (cirq.LineQubit(1), cirq.Z), (cirq.LineQubit(5), cirq.X)}): (-0.006823214049332208+0.0015259611571305917j), frozenset({(cirq.LineQubit(1), cirq.Z), (cirq.LineQubit(6), cirq.X), (cirq.LineQubit(5), cirq.X), (cirq.LineQubit(3), cirq.Y), (cirq.LineQubit(2), cirq.Z)}): (-0.006823214049332213+0.0015259611571305925j), frozenset({(cirq.LineQubit(1), cirq.Z), (cirq.LineQubit(2), cirq.X), (cirq.LineQubit(0), cirq.Y), (cirq.LineQubit(5), cirq.X), (cirq.LineQubit(6), cirq.Y), (cirq.LineQubit(3), cirq.Y)}): (0.006823214049332213-0.0015259611571305925j), frozenset({(cirq.LineQubit(6), cirq.X), (cirq.LineQubit(0), cirq.Y), (cirq.LineQubit(5), cirq.X), (cirq.LineQubit(1), cirq.Z), (cirq.LineQubit(2), cirq.Z)}): (0.006823214049332217-0.0015259611571305936j), frozenset({(cirq.LineQubit(5), cirq.Z), (cirq.LineQubit(2), cirq.X), (cirq.LineQubit(0), cirq.Y), (cirq.LineQubit(6), cirq.Y), (cirq.LineQubit(1), cirq.Z)}): (0.0015259611571305917+0.006823214049332208j), frozenset({(cirq.LineQubit(1), cirq.Z), (cirq.LineQubit(6), cirq.X), (cirq.LineQubit(5), cirq.Z), (cirq.LineQubit(0), cirq.Y), (cirq.LineQubit(3), cirq.Y), (cirq.LineQubit(2), cirq.Z)}): (0.0015259611571305925+0.006823214049332213j), frozenset({(cirq.LineQubit(1), cirq.Z), (cirq.LineQubit(5), cirq.Z), (cirq.LineQubit(2), cirq.X), (cirq.LineQubit(6), cirq.Y), (cirq.LineQubit(3), cirq.Y)}): (-0.0015259611571305925-0.006823214049332213j), frozenset({(cirq.LineQubit(6), cirq.X), (cirq.LineQubit(2), cirq.Z), (cirq.LineQubit(1), cirq.Z), (cirq.LineQubit(5), cirq.Z)}): (-0.0015259611571305936-0.006823214049332217j), frozenset({(cirq.LineQubit(2), cirq.X), (cirq.LineQubit(5), cirq.X), (cirq.LineQubit(4), cirq.Z), (cirq.LineQubit(6), cirq.Y), (cirq.LineQubit(1), cirq.Z)}): (0.006823214049332213-0.0015259611571305925j), frozenset({(cirq.LineQubit(1), cirq.Z), (cirq.LineQubit(6), cirq.X), (cirq.LineQubit(5), cirq.X), (cirq.LineQubit(4), cirq.Z), (cirq.LineQubit(3), cirq.Y), (cirq.LineQubit(2), cirq.Z)}): (0.006823214049332217-0.0015259611571305936j), frozenset({(cirq.LineQubit(1), cirq.Z), (cirq.LineQubit(2), cirq.X), (cirq.LineQubit(0), cirq.Y), (cirq.LineQubit(5), cirq.X), (cirq.LineQubit(4), cirq.Z), (cirq.LineQubit(6), cirq.Y), (cirq.LineQubit(3), cirq.Y)}): (-0.006823214049332217+0.0015259611571305936j), frozenset({(cirq.LineQubit(6), cirq.X), (cirq.LineQubit(0), cirq.Y), (cirq.LineQubit(5), cirq.X), (cirq.LineQubit(4), cirq.Z), (cirq.LineQubit(1), cirq.Z), (cirq.LineQubit(2), cirq.Z)}): (-0.006823214049332222+0.0015259611571305947j), frozenset({(cirq.LineQubit(3), cirq.Z), (cirq.LineQubit(5), cirq.Y), (cirq.LineQubit(6), cirq.Y), (cirq.LineQubit(1), cirq.Z), (cirq.LineQubit(0), cirq.X)}): (0.0015259611571305925+0.006823214049332213j), frozenset({(cirq.LineQubit(6), cirq.X), (cirq.LineQubit(3), cirq.X), (cirq.LineQubit(5), cirq.Y), (cirq.LineQubit(1), cirq.Z), (cirq.LineQubit(2), cirq.Y), (cirq.LineQubit(0), cirq.X)}): (-0.0015259611571305936-0.006823214049332217j), frozenset({(cirq.LineQubit(3), cirq.X), (cirq.LineQubit(0), cirq.Z), (cirq.LineQubit(5), cirq.Y), (cirq.LineQubit(6), cirq.Y), (cirq.LineQubit(1), cirq.Z)}): (-0.0015259611571305936-0.006823214049332217j), frozenset({(cirq.LineQubit(6), cirq.X), (cirq.LineQubit(0), cirq.Z), (cirq.LineQubit(5), cirq.Y), (cirq.LineQubit(3), cirq.Z), (cirq.LineQubit(1), cirq.Z), (cirq.LineQubit(2), cirq.Y)}): (-0.0015259611571305947-0.006823214049332222j), frozenset({(cirq.LineQubit(3), cirq.Z), (cirq.LineQubit(0), cirq.Z), (cirq.LineQubit(4), cirq.Z), (cirq.LineQubit(6), cirq.Y), (cirq.LineQubit(1), cirq.Z)}): (-0.006823214049332217+0.0015259611571305936j), frozenset({(cirq.LineQubit(6), cirq.X), (cirq.LineQubit(3), cirq.X), (cirq.LineQubit(0), cirq.Z), (cirq.LineQubit(4), cirq.Z), (cirq.LineQubit(1), cirq.Z), (cirq.LineQubit(2), cirq.Y)}): (0.006823214049332222-0.0015259611571305947j), frozenset({(cirq.LineQubit(3), cirq.X), (cirq.LineQubit(4), cirq.Z), (cirq.LineQubit(6), cirq.Y), (cirq.LineQubit(1), cirq.Z), (cirq.LineQubit(0), cirq.X)}): (-0.006823214049332222+0.0015259611571305947j), frozenset({(cirq.LineQubit(6), cirq.X), (cirq.LineQubit(4), cirq.Z), (cirq.LineQubit(3), cirq.Z), (cirq.LineQubit(1), cirq.Z), (cirq.LineQubit(2), cirq.Y), (cirq.LineQubit(0), cirq.X)}): (-0.006823214049332226+0.0015259611571305956j), frozenset({(cirq.LineQubit(6), cirq.Y), (cirq.LineQubit(5), cirq.Y), (cirq.LineQubit(4), cirq.Z), (cirq.LineQubit(3), cirq.Z), (cirq.LineQubit(1), cirq.Z), (cirq.LineQubit(0), cirq.X)}): (-0.0015259611571305936-0.006823214049332217j), frozenset({(cirq.LineQubit(6), cirq.X), (cirq.LineQubit(2), cirq.Y), (cirq.LineQubit(3), cirq.X), (cirq.LineQubit(5), cirq.Y), (cirq.LineQubit(4), cirq.Z), (cirq.LineQubit(1), cirq.Z), (cirq.LineQubit(0), cirq.X)}): (0.0015259611571305947+0.006823214049332222j), frozenset({(cirq.LineQubit(3), cirq.X), (cirq.LineQubit(0), cirq.Z), (cirq.LineQubit(5), cirq.Y), (cirq.LineQubit(4), cirq.Z), (cirq.LineQubit(6), cirq.Y), (cirq.LineQubit(1), cirq.Z)}): (0.0015259611571305947+0.006823214049332222j), frozenset({(cirq.LineQubit(6), cirq.X), (cirq.LineQubit(0), cirq.Z), (cirq.LineQubit(5), cirq.Y), (cirq.LineQubit(4), cirq.Z), (cirq.LineQubit(3), cirq.Z), (cirq.LineQubit(1), cirq.Z), (cirq.LineQubit(2), cirq.Y)}): (0.0015259611571305956+0.006823214049332226j), frozenset({(cirq.LineQubit(6), cirq.Y), (cirq.LineQubit(3), cirq.Z), (cirq.LineQubit(1), cirq.Z), (cirq.LineQubit(0), cirq.Z)}): (0.006823214049332222-0.0015259611571305947j), frozenset({(cirq.LineQubit(6), cirq.X), (cirq.LineQubit(3), cirq.X), (cirq.LineQubit(0), cirq.Z), (cirq.LineQubit(1), cirq.Z), (cirq.LineQubit(2), cirq.Y)}): (-0.006823214049332226+0.0015259611571305956j), frozenset({(cirq.LineQubit(3), cirq.X), (cirq.LineQubit(6), cirq.Y), (cirq.LineQubit(1), cirq.Z), (cirq.LineQubit(0), cirq.X)}): (0.006823214049332226-0.0015259611571305956j), frozenset({(cirq.LineQubit(6), cirq.X), (cirq.LineQubit(3), cirq.Z), (cirq.LineQubit(1), cirq.Z), (cirq.LineQubit(2), cirq.Y), (cirq.LineQubit(0), cirq.X)}): (0.006823214049332231-0.0015259611571305967j), frozenset({(cirq.LineQubit(1), cirq.Y), (cirq.LineQubit(5), cirq.Z), (cirq.LineQubit(6), cirq.Z), (cirq.LineQubit(4), cirq.Z), (cirq.LineQubit(2), cirq.Y)}): (-0.006823214049332195+0.0015259611571305886j), frozenset({(cirq.LineQubit(4), cirq.Z), (cirq.LineQubit(3), cirq.Y), (cirq.LineQubit(1), cirq.Y), (cirq.LineQubit(5), cirq.Z)}): (0.006823214049332199-0.0015259611571305895j), frozenset({(cirq.LineQubit(5), cirq.Z), (cirq.LineQubit(2), cirq.Y), (cirq.LineQubit(0), cirq.Y), (cirq.LineQubit(6), cirq.Z), (cirq.LineQubit(4), cirq.Z), (cirq.LineQubit(3), cirq.Y), (cirq.LineQubit(1), cirq.Y)}): (0.006823214049332199-0.0015259611571305895j), frozenset({(cirq.LineQubit(0), cirq.Y), (cirq.LineQubit(4), cirq.Z), (cirq.LineQubit(1), cirq.Y), (cirq.LineQubit(5), cirq.Z)}): (-0.0068232140493322034+0.0015259611571305906j), frozenset({(cirq.LineQubit(1), cirq.Y), (cirq.LineQubit(0), cirq.Y), (cirq.LineQubit(6), cirq.Z), (cirq.LineQubit(5), cirq.X), (cirq.LineQubit(2), cirq.Y)}): (0.0015259611571305895+0.006823214049332199j), frozenset({(cirq.LineQubit(0), cirq.Y), (cirq.LineQubit(3), cirq.Y), (cirq.LineQubit(1), cirq.Y), (cirq.LineQubit(5), cirq.X)}): (-0.0015259611571305906-0.0068232140493322034j), frozenset({(cirq.LineQubit(1), cirq.Y), (cirq.LineQubit(6), cirq.Z), (cirq.LineQubit(5), cirq.X), (cirq.LineQubit(3), cirq.Y), (cirq.LineQubit(2), cirq.Y)}): (-0.0015259611571305906-0.0068232140493322034j), frozenset({(cirq.LineQubit(1), cirq.Y), (cirq.LineQubit(5), cirq.X)}): (0.0015259611571305917+0.006823214049332208j), frozenset({(cirq.LineQubit(2), cirq.Y), (cirq.LineQubit(6), cirq.Z), (cirq.LineQubit(1), cirq.Y), (cirq.LineQubit(5), cirq.Z)}): (0.006823214049332199-0.0015259611571305895j), frozenset({(cirq.LineQubit(3), cirq.Y), (cirq.LineQubit(1), cirq.Y), (cirq.LineQubit(5), cirq.Z)}): (-0.0068232140493322034+0.0015259611571305906j), frozenset({(cirq.LineQubit(1), cirq.Y), (cirq.LineQubit(5), cirq.Z), (cirq.LineQubit(0), cirq.Y), (cirq.LineQubit(6), cirq.Z), (cirq.LineQubit(3), cirq.Y), (cirq.LineQubit(2), cirq.Y)}): (-0.0068232140493322034+0.0015259611571305906j), frozenset({(cirq.LineQubit(0), cirq.Y), (cirq.LineQubit(1), cirq.Y), (cirq.LineQubit(5), cirq.Z)}): (0.006823214049332208-0.0015259611571305917j), frozenset({(cirq.LineQubit(1), cirq.Y), (cirq.LineQubit(0), cirq.Y), (cirq.LineQubit(6), cirq.Z), (cirq.LineQubit(5), cirq.X), (cirq.LineQubit(4), cirq.Z), (cirq.LineQubit(2), cirq.Y)}): (-0.0015259611571305906-0.0068232140493322034j), frozenset({(cirq.LineQubit(0), cirq.Y), (cirq.LineQubit(5), cirq.X), (cirq.LineQubit(4), cirq.Z), (cirq.LineQubit(3), cirq.Y), (cirq.LineQubit(1), cirq.Y)}): (0.0015259611571305917+0.006823214049332208j), frozenset({(cirq.LineQubit(1), cirq.Y), (cirq.LineQubit(6), cirq.Z), (cirq.LineQubit(5), cirq.X), (cirq.LineQubit(4), cirq.Z), (cirq.LineQubit(3), cirq.Y), (cirq.LineQubit(2), cirq.Y)}): (0.0015259611571305917+0.006823214049332208j), frozenset({(cirq.LineQubit(4), cirq.Z), (cirq.LineQubit(1), cirq.Y), (cirq.LineQubit(5), cirq.X)}): (-0.0015259611571305925-0.006823214049332213j), frozenset({(cirq.LineQubit(0), cirq.Z), (cirq.LineQubit(5), cirq.Y), (cirq.LineQubit(6), cirq.Z), (cirq.LineQubit(3), cirq.Z), (cirq.LineQubit(2), cirq.Z), (cirq.LineQubit(1), cirq.Y)}): (-0.0068232140493322034+0.0015259611571305906j), frozenset({(cirq.LineQubit(3), cirq.X), (cirq.LineQubit(2), cirq.X), (cirq.LineQubit(0), cirq.Z), (cirq.LineQubit(5), cirq.Y), (cirq.LineQubit(1), cirq.Y)}): (-0.006823214049332208+0.0015259611571305917j), frozenset({(cirq.LineQubit(1), cirq.Y), (cirq.LineQubit(3), cirq.X), (cirq.LineQubit(5), cirq.Y), (cirq.LineQubit(6), cirq.Z), (cirq.LineQubit(2), cirq.Z), (cirq.LineQubit(0), cirq.X)}): (-0.006823214049332208+0.0015259611571305917j), frozenset({(cirq.LineQubit(1), cirq.Y), (cirq.LineQubit(2), cirq.X), (cirq.LineQubit(5), cirq.Y), (cirq.LineQubit(3), cirq.Z), (cirq.LineQubit(0), cirq.X)}): (0.006823214049332213-0.0015259611571305925j), frozenset({(cirq.LineQubit(6), cirq.Z), (cirq.LineQubit(4), cirq.Z), (cirq.LineQubit(3), cirq.Z), (cirq.LineQubit(2), cirq.Z), (cirq.LineQubit(1), cirq.Y), (cirq.LineQubit(0), cirq.X)}): (0.0015259611571305917+0.006823214049332208j), frozenset({(cirq.LineQubit(3), cirq.X), (cirq.LineQubit(2), cirq.X), (cirq.LineQubit(4), cirq.Z), (cirq.LineQubit(1), cirq.Y), (cirq.LineQubit(0), cirq.X)}): (0.0015259611571305925+0.006823214049332213j), frozenset({(cirq.LineQubit(3), cirq.X), (cirq.LineQubit(0), cirq.Z), (cirq.LineQubit(6), cirq.Z), (cirq.LineQubit(4), cirq.Z), (cirq.LineQubit(2), cirq.Z), (cirq.LineQubit(1), cirq.Y)}): (-0.0015259611571305925-0.006823214049332213j), frozenset({(cirq.LineQubit(2), cirq.X), (cirq.LineQubit(0), cirq.Z), (cirq.LineQubit(4), cirq.Z), (cirq.LineQubit(3), cirq.Z), (cirq.LineQubit(1), cirq.Y)}): (0.0015259611571305936+0.006823214049332217j), frozenset({(cirq.LineQubit(0), cirq.Z), (cirq.LineQubit(5), cirq.Y), (cirq.LineQubit(6), cirq.Z), (cirq.LineQubit(4), cirq.Z), (cirq.LineQubit(3), cirq.Z), (cirq.LineQubit(2), cirq.Z), (cirq.LineQubit(1), cirq.Y)}): (0.006823214049332208-0.0015259611571305917j), frozenset({(cirq.LineQubit(3), cirq.X), (cirq.LineQubit(2), cirq.X), (cirq.LineQubit(0), cirq.Z), (cirq.LineQubit(5), cirq.Y), (cirq.LineQubit(4), cirq.Z), (cirq.LineQubit(1), cirq.Y)}): (0.006823214049332213-0.0015259611571305925j), frozenset({(cirq.LineQubit(1), cirq.Y), (cirq.LineQubit(3), cirq.X), (cirq.LineQubit(5), cirq.Y), (cirq.LineQubit(6), cirq.Z), (cirq.LineQubit(4), cirq.Z), (cirq.LineQubit(2), cirq.Z), (cirq.LineQubit(0), cirq.X)}): (0.006823214049332213-0.0015259611571305925j), frozenset({(cirq.LineQubit(1), cirq.Y), (cirq.LineQubit(2), cirq.X), (cirq.LineQubit(5), cirq.Y), (cirq.LineQubit(4), cirq.Z), (cirq.LineQubit(3), cirq.Z), (cirq.LineQubit(0), cirq.X)}): (-0.006823214049332217+0.0015259611571305936j), frozenset({(cirq.LineQubit(6), cirq.Z), (cirq.LineQubit(3), cirq.Z), (cirq.LineQubit(2), cirq.Z), (cirq.LineQubit(1), cirq.Y), (cirq.LineQubit(0), cirq.X)}): (-0.0015259611571305925-0.006823214049332213j), frozenset({(cirq.LineQubit(3), cirq.X), (cirq.LineQubit(2), cirq.X), (cirq.LineQubit(1), cirq.Y), (cirq.LineQubit(0), cirq.X)}): (-0.0015259611571305936-0.006823214049332217j), frozenset({(cirq.LineQubit(3), cirq.X), (cirq.LineQubit(0), cirq.Z), (cirq.LineQubit(6), cirq.Z), (cirq.LineQubit(2), cirq.Z), (cirq.LineQubit(1), cirq.Y)}): (0.0015259611571305936+0.006823214049332217j), frozenset({(cirq.LineQubit(2), cirq.X), (cirq.LineQubit(3), cirq.Z), (cirq.LineQubit(1), cirq.Y), (cirq.LineQubit(0), cirq.Z)}): (-0.0015259611571305947-0.006823214049332222j), frozenset({(cirq.LineQubit(5), cirq.Z), (cirq.LineQubit(1), cirq.X), (cirq.LineQubit(4), cirq.Z), (cirq.LineQubit(6), cirq.Y), (cirq.LineQubit(2), cirq.Z)}): (0.0015259611571305906+0.0068232140493322034j), frozenset({(cirq.LineQubit(6), cirq.X), (cirq.LineQubit(5), cirq.Z), (cirq.LineQubit(2), cirq.X), (cirq.LineQubit(1), cirq.X), (cirq.LineQubit(4), cirq.Z), (cirq.LineQubit(3), cirq.Y)}): (-0.0015259611571305917-0.006823214049332208j), frozenset({(cirq.LineQubit(5), cirq.Z), (cirq.LineQubit(1), cirq.X), (cirq.LineQubit(0), cirq.Y), (cirq.LineQubit(4), cirq.Z), (cirq.LineQubit(6), cirq.Y), (cirq.LineQubit(3), cirq.Y), (cirq.LineQubit(2), cirq.Z)}): (-0.0015259611571305917-0.006823214049332208j), frozenset({(cirq.LineQubit(6), cirq.X), (cirq.LineQubit(5), cirq.Z), (cirq.LineQubit(1), cirq.X), (cirq.LineQubit(2), cirq.X), (cirq.LineQubit(0), cirq.Y), (cirq.LineQubit(4), cirq.Z)}): (0.0015259611571305925+0.006823214049332213j), frozenset({(cirq.LineQubit(1), cirq.X), (cirq.LineQubit(0), cirq.Y), (cirq.LineQubit(5), cirq.X), (cirq.LineQubit(6), cirq.Y), (cirq.LineQubit(2), cirq.Z)}): (0.006823214049332208-0.0015259611571305917j), frozenset({(cirq.LineQubit(6), cirq.X), (cirq.LineQubit(2), cirq.X), (cirq.LineQubit(1), cirq.X), (cirq.LineQubit(0), cirq.Y), (cirq.LineQubit(5), cirq.X), (cirq.LineQubit(3), cirq.Y)}): (-0.006823214049332213+0.0015259611571305925j), frozenset({(cirq.LineQubit(1), cirq.X), (cirq.LineQubit(5), cirq.X), (cirq.LineQubit(6), cirq.Y), (cirq.LineQubit(3), cirq.Y), (cirq.LineQubit(2), cirq.Z)}): (-0.006823214049332213+0.0015259611571305925j), frozenset({(cirq.LineQubit(2), cirq.X), (cirq.LineQubit(6), cirq.X), (cirq.LineQubit(1), cirq.X), (cirq.LineQubit(5), cirq.X)}): (0.006823214049332217-0.0015259611571305936j), frozenset({(cirq.LineQubit(6), cirq.Y), (cirq.LineQubit(1), cirq.X), (cirq.LineQubit(2), cirq.Z), (cirq.LineQubit(5), cirq.Z)}): (-0.0015259611571305917-0.006823214049332208j), frozenset({(cirq.LineQubit(6), cirq.X), (cirq.LineQubit(5), cirq.Z), (cirq.LineQubit(2), cirq.X), (cirq.LineQubit(1), cirq.X), (cirq.LineQubit(3), cirq.Y)}): (0.0015259611571305925+0.006823214049332213j), frozenset({(cirq.LineQubit(5), cirq.Z), (cirq.LineQubit(1), cirq.X), (cirq.LineQubit(0), cirq.Y), (cirq.LineQubit(3), cirq.Y), (cirq.LineQubit(6), cirq.Y), (cirq.LineQubit(2), cirq.Z)}): (0.0015259611571305925+0.006823214049332213j), frozenset({(cirq.LineQubit(6), cirq.X), (cirq.LineQubit(5), cirq.Z), (cirq.LineQubit(2), cirq.X), (cirq.LineQubit(1), cirq.X), (cirq.LineQubit(0), cirq.Y)}): (-0.0015259611571305936-0.006823214049332217j), frozenset({(cirq.LineQubit(1), cirq.X), (cirq.LineQubit(0), cirq.Y), (cirq.LineQubit(5), cirq.X), (cirq.LineQubit(4), cirq.Z), (cirq.LineQubit(6), cirq.Y), (cirq.LineQubit(2), cirq.Z)}): (-0.006823214049332213+0.0015259611571305925j), frozenset({(cirq.LineQubit(6), cirq.X), (cirq.LineQubit(1), cirq.X), (cirq.LineQubit(2), cirq.X), (cirq.LineQubit(0), cirq.Y), (cirq.LineQubit(5), cirq.X), (cirq.LineQubit(4), cirq.Z), (cirq.LineQubit(3), cirq.Y)}): (0.006823214049332217-0.0015259611571305936j), frozenset({(cirq.LineQubit(1), cirq.X), (cirq.LineQubit(5), cirq.X), (cirq.LineQubit(4), cirq.Z), (cirq.LineQubit(6), cirq.Y), (cirq.LineQubit(3), cirq.Y), (cirq.LineQubit(2), cirq.Z)}): (0.006823214049332217-0.0015259611571305936j), frozenset({(cirq.LineQubit(6), cirq.X), (cirq.LineQubit(2), cirq.X), (cirq.LineQubit(1), cirq.X), (cirq.LineQubit(5), cirq.X), (cirq.LineQubit(4), cirq.Z)}): (-0.006823214049332222+0.0015259611571305947j), frozenset({(cirq.LineQubit(6), cirq.Y), (cirq.LineQubit(1), cirq.X), (cirq.LineQubit(0), cirq.Z), (cirq.LineQubit(5), cirq.Y), (cirq.LineQubit(3), cirq.Z), (cirq.LineQubit(2), cirq.Y)}): (-0.0015259611571305925-0.006823214049332213j), frozenset({(cirq.LineQubit(6), cirq.X), (cirq.LineQubit(3), cirq.X), (cirq.LineQubit(1), cirq.X), (cirq.LineQubit(0), cirq.Z), (cirq.LineQubit(5), cirq.Y)}): (0.0015259611571305936+0.006823214049332217j), frozenset({(cirq.LineQubit(3), cirq.X), (cirq.LineQubit(1), cirq.X), (cirq.LineQubit(5), cirq.Y), (cirq.LineQubit(6), cirq.Y), (cirq.LineQubit(2), cirq.Y), (cirq.LineQubit(0), cirq.X)}): (-0.0015259611571305936-0.006823214049332217j), frozenset({(cirq.LineQubit(6), cirq.X), (cirq.LineQubit(1), cirq.X), (cirq.LineQubit(5), cirq.Y), (cirq.LineQubit(3), cirq.Z), (cirq.LineQubit(0), cirq.X)}): (-0.0015259611571305947-0.006823214049332222j), frozenset({(cirq.LineQubit(6), cirq.Y), (cirq.LineQubit(1), cirq.X), (cirq.LineQubit(4), cirq.Z), (cirq.LineQubit(3), cirq.Z), (cirq.LineQubit(2), cirq.Y), (cirq.LineQubit(0), cirq.X)}): (-0.006823214049332217+0.0015259611571305936j), frozenset({(cirq.LineQubit(6), cirq.X), (cirq.LineQubit(3), cirq.X), (cirq.LineQubit(1), cirq.X), (cirq.LineQubit(4), cirq.Z), (cirq.LineQubit(0), cirq.X)}): (0.006823214049332222-0.0015259611571305947j), frozenset({(cirq.LineQubit(3), cirq.X), (cirq.LineQubit(1), cirq.X), (cirq.LineQubit(0), cirq.Z), (cirq.LineQubit(4), cirq.Z), (cirq.LineQubit(6), cirq.Y), (cirq.LineQubit(2), cirq.Y)}): (0.006823214049332222-0.0015259611571305947j), frozenset({(cirq.LineQubit(6), cirq.X), (cirq.LineQubit(1), cirq.X), (cirq.LineQubit(0), cirq.Z), (cirq.LineQubit(4), cirq.Z), (cirq.LineQubit(3), cirq.Z)}): (0.006823214049332226-0.0015259611571305956j), frozenset({(cirq.LineQubit(6), cirq.Y), (cirq.LineQubit(1), cirq.X), (cirq.LineQubit(0), cirq.Z), (cirq.LineQubit(5), cirq.Y), (cirq.LineQubit(4), cirq.Z), (cirq.LineQubit(3), cirq.Z), (cirq.LineQubit(2), cirq.Y)}): (0.0015259611571305936+0.006823214049332217j), frozenset({(cirq.LineQubit(6), cirq.X), (cirq.LineQubit(3), cirq.X), (cirq.LineQubit(1), cirq.X), (cirq.LineQubit(0), cirq.Z), (cirq.LineQubit(5), cirq.Y), (cirq.LineQubit(4), cirq.Z)}): (-0.0015259611571305947-0.006823214049332222j), frozenset({(cirq.LineQubit(2), cirq.Y), (cirq.LineQubit(3), cirq.X), (cirq.LineQubit(1), cirq.X), (cirq.LineQubit(5), cirq.Y), (cirq.LineQubit(4), cirq.Z), (cirq.LineQubit(6), cirq.Y), (cirq.LineQubit(0), cirq.X)}): (0.0015259611571305947+0.006823214049332222j), frozenset({(cirq.LineQubit(6), cirq.X), (cirq.LineQubit(1), cirq.X), (cirq.LineQubit(5), cirq.Y), (cirq.LineQubit(4), cirq.Z), (cirq.LineQubit(3), cirq.Z), (cirq.LineQubit(0), cirq.X)}): (0.0015259611571305956+0.006823214049332226j), frozenset({(cirq.LineQubit(6), cirq.Y), (cirq.LineQubit(1), cirq.X), (cirq.LineQubit(3), cirq.Z), (cirq.LineQubit(2), cirq.Y), (cirq.LineQubit(0), cirq.X)}): (0.006823214049332222-0.0015259611571305947j), frozenset({(cirq.LineQubit(3), cirq.X), (cirq.LineQubit(1), cirq.X), (cirq.LineQubit(6), cirq.X), (cirq.LineQubit(0), cirq.X)}): (-0.006823214049332226+0.0015259611571305956j), frozenset({(cirq.LineQubit(3), cirq.X), (cirq.LineQubit(1), cirq.X), (cirq.LineQubit(0), cirq.Z), (cirq.LineQubit(6), cirq.Y), (cirq.LineQubit(2), cirq.Y)}): (-0.006823214049332226+0.0015259611571305956j), frozenset({(cirq.LineQubit(3), cirq.Z), (cirq.LineQubit(1), cirq.X), (cirq.LineQubit(6), cirq.X), (cirq.LineQubit(0), cirq.Z)}): (-0.006823214049332231+0.0015259611571305967j), frozenset({(cirq.LineQubit(5), cirq.Z), (cirq.LineQubit(1), cirq.X), (cirq.LineQubit(6), cirq.Z), (cirq.LineQubit(4), cirq.Z), (cirq.LineQubit(3), cirq.Z), (cirq.LineQubit(0), cirq.X)}): (-0.0012235566670829267-0.0014754418419601258j), frozenset({(cirq.LineQubit(5), cirq.Z), (cirq.LineQubit(2), cirq.Y), (cirq.LineQubit(3), cirq.X), (cirq.LineQubit(1), cirq.X), (cirq.LineQubit(4), cirq.Z), (cirq.LineQubit(0), cirq.X)}): (0.0014754418419601267-0.0012235566670829275j), frozenset({(cirq.LineQubit(5), cirq.Z), (cirq.LineQubit(3), cirq.X), (cirq.LineQubit(1), cirq.X), (cirq.LineQubit(0), cirq.Z), (cirq.LineQubit(6), cirq.Z), (cirq.LineQubit(4), cirq.Z)}): (-0.0012235566670829275-0.0014754418419601267j), frozenset({(cirq.LineQubit(5), cirq.Z), (cirq.LineQubit(1), cirq.X), (cirq.LineQubit(0), cirq.Z), (cirq.LineQubit(4), cirq.Z), (cirq.LineQubit(3), cirq.Z), (cirq.LineQubit(2), cirq.Y)}): (-0.0014754418419601278+0.0012235566670829284j), frozenset({(cirq.LineQubit(1), cirq.X), (cirq.LineQubit(0), cirq.Z), (cirq.LineQubit(6), cirq.Z), (cirq.LineQubit(5), cirq.X), (cirq.LineQubit(3), cirq.Z)}): (0.0012235566670829275+0.0014754418419601267j), frozenset({(cirq.LineQubit(3), cirq.X), (cirq.LineQubit(1), cirq.X), (cirq.LineQubit(0), cirq.Z), (cirq.LineQubit(5), cirq.X), (cirq.LineQubit(2), cirq.Y)}): (-0.0014754418419601278+0.0012235566670829284j), frozenset({(cirq.LineQubit(3), cirq.X), (cirq.LineQubit(1), cirq.X), (cirq.LineQubit(6), cirq.Z), (cirq.LineQubit(5), cirq.X), (cirq.LineQubit(0), cirq.X)}): (-0.0012235566670829284-0.0014754418419601278j), frozenset({(cirq.LineQubit(1), cirq.X), (cirq.LineQubit(5), cirq.X), (cirq.LineQubit(3), cirq.Z), (cirq.LineQubit(2), cirq.Y), (cirq.LineQubit(0), cirq.X)}): (-0.0014754418419601286+0.001223556667082929j), frozenset({(cirq.LineQubit(5), cirq.Z), (cirq.LineQubit(1), cirq.X), (cirq.LineQubit(6), cirq.Z), (cirq.LineQubit(3), cirq.Z), (cirq.LineQubit(0), cirq.X)}): (-0.0012235566670829275-0.0014754418419601267j), frozenset({(cirq.LineQubit(5), cirq.Z), (cirq.LineQubit(3), cirq.X), (cirq.LineQubit(1), cirq.X), (cirq.LineQubit(2), cirq.Y), (cirq.LineQubit(0), cirq.X)}): (0.0014754418419601278-0.0012235566670829284j), frozenset({(cirq.LineQubit(5), cirq.Z), (cirq.LineQubit(3), cirq.X), (cirq.LineQubit(1), cirq.X), (cirq.LineQubit(0), cirq.Z), (cirq.LineQubit(6), cirq.Z)}): (-0.0012235566670829284-0.0014754418419601278j), frozenset({(cirq.LineQubit(5), cirq.Z), (cirq.LineQubit(1), cirq.X), (cirq.LineQubit(0), cirq.Z), (cirq.LineQubit(3), cirq.Z), (cirq.LineQubit(2), cirq.Y)}): (-0.0014754418419601286+0.001223556667082929j), frozenset({(cirq.LineQubit(1), cirq.X), (cirq.LineQubit(0), cirq.Z), (cirq.LineQubit(6), cirq.Z), (cirq.LineQubit(5), cirq.X), (cirq.LineQubit(4), cirq.Z), (cirq.LineQubit(3), cirq.Z)}): (0.0012235566670829284+0.0014754418419601278j), frozenset({(cirq.LineQubit(3), cirq.X), (cirq.LineQubit(1), cirq.X), (cirq.LineQubit(0), cirq.Z), (cirq.LineQubit(5), cirq.X), (cirq.LineQubit(4), cirq.Z), (cirq.LineQubit(2), cirq.Y)}): (-0.0014754418419601286+0.001223556667082929j), frozenset({(cirq.LineQubit(3), cirq.X), (cirq.LineQubit(1), cirq.X), (cirq.LineQubit(6), cirq.Z), (cirq.LineQubit(5), cirq.X), (cirq.LineQubit(4), cirq.Z), (cirq.LineQubit(0), cirq.X)}): (-0.001223556667082929-0.0014754418419601286j), frozenset({(cirq.LineQubit(2), cirq.Y), (cirq.LineQubit(1), cirq.X), (cirq.LineQubit(5), cirq.X), (cirq.LineQubit(4), cirq.Z), (cirq.LineQubit(3), cirq.Z), (cirq.LineQubit(0), cirq.X)}): (-0.0014754418419601297+0.00122355666708293j), frozenset({(cirq.LineQubit(1), cirq.X), (cirq.LineQubit(2), cirq.X), (cirq.LineQubit(5), cirq.Y), (cirq.LineQubit(0), cirq.Y), (cirq.LineQubit(6), cirq.Z)}): (0.0012235566670829284+0.0014754418419601278j), frozenset({(cirq.LineQubit(1), cirq.X), (cirq.LineQubit(5), cirq.Y), (cirq.LineQubit(0), cirq.Y), (cirq.LineQubit(3), cirq.Y), (cirq.LineQubit(2), cirq.Z)}): (0.0014754418419601286-0.001223556667082929j), frozenset({(cirq.LineQubit(2), cirq.X), (cirq.LineQubit(1), cirq.X), (cirq.LineQubit(5), cirq.Y), (cirq.LineQubit(6), cirq.Z), (cirq.LineQubit(3), cirq.Y)}): (0.001223556667082929+0.0014754418419601286j), frozenset({(cirq.LineQubit(1), cirq.X), (cirq.LineQubit(2), cirq.Z), (cirq.LineQubit(5), cirq.Y)}): (0.0014754418419601297-0.00122355666708293j), frozenset({(cirq.LineQubit(6), cirq.Z), (cirq.LineQubit(4), cirq.Z), (cirq.LineQubit(1), cirq.X), (cirq.LineQubit(2), cirq.X)}): (-0.001223556667082929-0.0014754418419601286j), frozenset({(cirq.LineQubit(4), cirq.Z), (cirq.LineQubit(1), cirq.X), (cirq.LineQubit(3), cirq.Y), (cirq.LineQubit(2), cirq.Z)}): (-0.0014754418419601297+0.00122355666708293j), frozenset({(cirq.LineQubit(1), cirq.X), (cirq.LineQubit(2), cirq.X), (cirq.LineQubit(0), cirq.Y), (cirq.LineQubit(6), cirq.Z), (cirq.LineQubit(4), cirq.Z), (cirq.LineQubit(3), cirq.Y)}): (-0.00122355666708293-0.0014754418419601297j), frozenset({(cirq.LineQubit(0), cirq.Y), (cirq.LineQubit(4), cirq.Z), (cirq.LineQubit(1), cirq.X), (cirq.LineQubit(2), cirq.Z)}): (-0.0014754418419601306+0.0012235566670829308j), frozenset({(cirq.LineQubit(1), cirq.X), (cirq.LineQubit(2), cirq.X), (cirq.LineQubit(5), cirq.Y), (cirq.LineQubit(0), cirq.Y), (cirq.LineQubit(6), cirq.Z), (cirq.LineQubit(4), cirq.Z)}): (0.001223556667082929+0.0014754418419601286j), frozenset({(cirq.LineQubit(1), cirq.X), (cirq.LineQubit(5), cirq.Y), (cirq.LineQubit(0), cirq.Y), (cirq.LineQubit(4), cirq.Z), (cirq.LineQubit(3), cirq.Y), (cirq.LineQubit(2), cirq.Z)}): (0.0014754418419601297-0.00122355666708293j), frozenset({(cirq.LineQubit(1), cirq.X), (cirq.LineQubit(2), cirq.X), (cirq.LineQubit(5), cirq.Y), (cirq.LineQubit(6), cirq.Z), (cirq.LineQubit(4), cirq.Z), (cirq.LineQubit(3), cirq.Y)}): (0.00122355666708293+0.0014754418419601297j), frozenset({(cirq.LineQubit(4), cirq.Z), (cirq.LineQubit(1), cirq.X), (cirq.LineQubit(2), cirq.Z), (cirq.LineQubit(5), cirq.Y)}): (0.0014754418419601306-0.0012235566670829308j), frozenset({(cirq.LineQubit(6), cirq.Z), (cirq.LineQubit(2), cirq.X), (cirq.LineQubit(1), cirq.X)}): (-0.00122355666708293-0.0014754418419601297j), frozenset({(cirq.LineQubit(1), cirq.X), (cirq.LineQubit(3), cirq.Y), (cirq.LineQubit(2), cirq.Z)}): (-0.0014754418419601306+0.0012235566670829308j), frozenset({(cirq.LineQubit(1), cirq.X), (cirq.LineQubit(2), cirq.X), (cirq.LineQubit(0), cirq.Y), (cirq.LineQubit(6), cirq.Z), (cirq.LineQubit(3), cirq.Y)}): (-0.0012235566670829308-0.0014754418419601306j), frozenset({(cirq.LineQubit(0), cirq.Y), (cirq.LineQubit(1), cirq.X), (cirq.LineQubit(2), cirq.Z)}): (-0.0014754418419601317+0.0012235566670829316j), frozenset({(cirq.LineQubit(5), cirq.Z), (cirq.LineQubit(1), cirq.Y), (cirq.LineQubit(3), cirq.Z), (cirq.LineQubit(2), cirq.X), (cirq.LineQubit(4), cirq.Z), (cirq.LineQubit(6), cirq.Y), (cirq.LineQubit(0), cirq.X)}): (-0.0012235566670829284-0.0014754418419601278j), frozenset({(cirq.LineQubit(6), cirq.X), (cirq.LineQubit(5), cirq.Z), (cirq.LineQubit(1), cirq.Y), (cirq.LineQubit(3), cirq.X), (cirq.LineQubit(4), cirq.Z), (cirq.LineQubit(2), cirq.Z), (cirq.LineQubit(0), cirq.X)}): (-0.0014754418419601286+0.001223556667082929j), frozenset({(cirq.LineQubit(5), cirq.Z), (cirq.LineQubit(3), cirq.X), (cirq.LineQubit(2), cirq.X), (cirq.LineQubit(0), cirq.Z), (cirq.LineQubit(4), cirq.Z), (cirq.LineQubit(6), cirq.Y), (cirq.LineQubit(1), cirq.Y)}): (-0.001223556667082929-0.0014754418419601286j), frozenset({(cirq.LineQubit(6), cirq.X), (cirq.LineQubit(5), cirq.Z), (cirq.LineQubit(0), cirq.Z), (cirq.LineQubit(4), cirq.Z), (cirq.LineQubit(3), cirq.Z), (cirq.LineQubit(2), cirq.Z), (cirq.LineQubit(1), cirq.Y)}): (0.0014754418419601297-0.00122355666708293j), frozenset({(cirq.LineQubit(3), cirq.Z), (cirq.LineQubit(2), cirq.X), (cirq.LineQubit(0), cirq.Z), (cirq.LineQubit(5), cirq.X), (cirq.LineQubit(6), cirq.Y), (cirq.LineQubit(1), cirq.Y)}): (0.001223556667082929+0.0014754418419601286j), frozenset({(cirq.LineQubit(6), cirq.X), (cirq.LineQubit(3), cirq.X), (cirq.LineQubit(0), cirq.Z), (cirq.LineQubit(5), cirq.X), (cirq.LineQubit(2), cirq.Z), (cirq.LineQubit(1), cirq.Y)}): (0.0014754418419601297-0.00122355666708293j), frozenset({(cirq.LineQubit(1), cirq.Y), (cirq.LineQubit(3), cirq.X), (cirq.LineQubit(2), cirq.X), (cirq.LineQubit(5), cirq.X), (cirq.LineQubit(6), cirq.Y), (cirq.LineQubit(0), cirq.X)}): (-0.00122355666708293-0.0014754418419601297j), frozenset({(cirq.LineQubit(6), cirq.X), (cirq.LineQubit(1), cirq.Y), (cirq.LineQubit(5), cirq.X), (cirq.LineQubit(3), cirq.Z), (cirq.LineQubit(2), cirq.Z), (cirq.LineQubit(0), cirq.X)}): (0.0014754418419601306-0.0012235566670829308j), frozenset({(cirq.LineQubit(5), cirq.Z), (cirq.LineQubit(1), cirq.Y), (cirq.LineQubit(3), cirq.Z), (cirq.LineQubit(2), cirq.X), (cirq.LineQubit(6), cirq.Y), (cirq.LineQubit(0), cirq.X)}): (-0.001223556667082929-0.0014754418419601286j), frozenset({(cirq.LineQubit(6), cirq.X), (cirq.LineQubit(5), cirq.Z), (cirq.LineQubit(1), cirq.Y), (cirq.LineQubit(3), cirq.X), (cirq.LineQubit(2), cirq.Z), (cirq.LineQubit(0), cirq.X)}): (-0.0014754418419601297+0.00122355666708293j), frozenset({(cirq.LineQubit(5), cirq.Z), (cirq.LineQubit(3), cirq.X), (cirq.LineQubit(2), cirq.X), (cirq.LineQubit(0), cirq.Z), (cirq.LineQubit(6), cirq.Y), (cirq.LineQubit(1), cirq.Y)}): (-0.00122355666708293-0.0014754418419601297j), frozenset({(cirq.LineQubit(6), cirq.X), (cirq.LineQubit(5), cirq.Z), (cirq.LineQubit(0), cirq.Z), (cirq.LineQubit(3), cirq.Z), (cirq.LineQubit(2), cirq.Z), (cirq.LineQubit(1), cirq.Y)}): (0.0014754418419601306-0.0012235566670829308j), frozenset({(cirq.LineQubit(3), cirq.Z), (cirq.LineQubit(2), cirq.X), (cirq.LineQubit(0), cirq.Z), (cirq.LineQubit(5), cirq.X), (cirq.LineQubit(4), cirq.Z), (cirq.LineQubit(6), cirq.Y), (cirq.LineQubit(1), cirq.Y)}): (0.00122355666708293+0.0014754418419601297j), frozenset({(cirq.LineQubit(6), cirq.X), (cirq.LineQubit(3), cirq.X), (cirq.LineQubit(0), cirq.Z), (cirq.LineQubit(5), cirq.X), (cirq.LineQubit(4), cirq.Z), (cirq.LineQubit(2), cirq.Z), (cirq.LineQubit(1), cirq.Y)}): (0.0014754418419601306-0.0012235566670829308j), frozenset({(cirq.LineQubit(1), cirq.Y), (cirq.LineQubit(3), cirq.X), (cirq.LineQubit(2), cirq.X), (cirq.LineQubit(5), cirq.X), (cirq.LineQubit(4), cirq.Z), (cirq.LineQubit(6), cirq.Y), (cirq.LineQubit(0), cirq.X)}): (-0.0012235566670829308-0.0014754418419601306j), frozenset({(cirq.LineQubit(6), cirq.X), (cirq.LineQubit(1), cirq.Y), (cirq.LineQubit(5), cirq.X), (cirq.LineQubit(4), cirq.Z), (cirq.LineQubit(3), cirq.Z), (cirq.LineQubit(2), cirq.Z), (cirq.LineQubit(0), cirq.X)}): (0.0014754418419601317-0.0012235566670829316j), frozenset({(cirq.LineQubit(0), cirq.Y), (cirq.LineQubit(6), cirq.Y), (cirq.LineQubit(1), cirq.Y), (cirq.LineQubit(5), cirq.Y)}): (0.00122355666708293+0.0014754418419601297j), frozenset({(cirq.LineQubit(6), cirq.X), (cirq.LineQubit(2), cirq.Y), (cirq.LineQubit(5), cirq.Y), (cirq.LineQubit(0), cirq.Y), (cirq.LineQubit(3), cirq.Y), (cirq.LineQubit(1), cirq.Y)}): (0.0014754418419601306-0.0012235566670829308j), frozenset({(cirq.LineQubit(6), cirq.Y), (cirq.LineQubit(3), cirq.Y), (cirq.LineQubit(1), cirq.Y), (cirq.LineQubit(5), cirq.Y)}): (0.0012235566670829308+0.0014754418419601306j), frozenset({(cirq.LineQubit(2), cirq.Y), (cirq.LineQubit(6), cirq.X), (cirq.LineQubit(1), cirq.Y), (cirq.LineQubit(5), cirq.Y)}): (0.0014754418419601317-0.0012235566670829316j), frozenset({(cirq.LineQubit(4), cirq.Z), (cirq.LineQubit(6), cirq.Y), (cirq.LineQubit(1), cirq.Y)}): (-0.0012235566670829308-0.0014754418419601306j), frozenset({(cirq.LineQubit(6), cirq.X), (cirq.LineQubit(1), cirq.Y), (cirq.LineQubit(4), cirq.Z), (cirq.LineQubit(3), cirq.Y), (cirq.LineQubit(2), cirq.Y)}): (-0.0014754418419601317+0.0012235566670829316j), frozenset({(cirq.LineQubit(0), cirq.Y), (cirq.LineQubit(4), cirq.Z), (cirq.LineQubit(6), cirq.Y), (cirq.LineQubit(3), cirq.Y), (cirq.LineQubit(1), cirq.Y)}): (-0.0012235566670829316-0.0014754418419601317j), frozenset({(cirq.LineQubit(6), cirq.X), (cirq.LineQubit(2), cirq.Y), (cirq.LineQubit(0), cirq.Y), (cirq.LineQubit(4), cirq.Z), (cirq.LineQubit(1), cirq.Y)}): (-0.0014754418419601328+0.0012235566670829323j), frozenset({(cirq.LineQubit(5), cirq.Y), (cirq.LineQubit(0), cirq.Y), (cirq.LineQubit(4), cirq.Z), (cirq.LineQubit(6), cirq.Y), (cirq.LineQubit(1), cirq.Y)}): (0.0012235566670829308+0.0014754418419601306j), frozenset({(cirq.LineQubit(6), cirq.X), (cirq.LineQubit(2), cirq.Y), (cirq.LineQubit(5), cirq.Y), (cirq.LineQubit(0), cirq.Y), (cirq.LineQubit(4), cirq.Z), (cirq.LineQubit(3), cirq.Y), (cirq.LineQubit(1), cirq.Y)}): (0.0014754418419601317-0.0012235566670829316j), frozenset({(cirq.LineQubit(5), cirq.Y), (cirq.LineQubit(4), cirq.Z), (cirq.LineQubit(6), cirq.Y), (cirq.LineQubit(3), cirq.Y), (cirq.LineQubit(1), cirq.Y)}): (0.0012235566670829316+0.0014754418419601317j), frozenset({(cirq.LineQubit(6), cirq.X), (cirq.LineQubit(1), cirq.Y), (cirq.LineQubit(5), cirq.Y), (cirq.LineQubit(4), cirq.Z), (cirq.LineQubit(2), cirq.Y)}): (0.0014754418419601328-0.0012235566670829323j), frozenset({(cirq.LineQubit(6), cirq.Y), (cirq.LineQubit(1), cirq.Y)}): (-0.0012235566670829316-0.0014754418419601317j), frozenset({(cirq.LineQubit(2), cirq.Y), (cirq.LineQubit(6), cirq.X), (cirq.LineQubit(3), cirq.Y), (cirq.LineQubit(1), cirq.Y)}): (-0.0014754418419601328+0.0012235566670829323j), frozenset({(cirq.LineQubit(0), cirq.Y), (cirq.LineQubit(6), cirq.Y), (cirq.LineQubit(3), cirq.Y), (cirq.LineQubit(1), cirq.Y)}): (-0.0012235566670829323-0.0014754418419601328j), frozenset({(cirq.LineQubit(0), cirq.Y), (cirq.LineQubit(2), cirq.Y), (cirq.LineQubit(6), cirq.X), (cirq.LineQubit(1), cirq.Y)}): (-0.0014754418419601336+0.0012235566670829332j), frozenset({(cirq.LineQubit(5), cirq.Z), (cirq.LineQubit(0), cirq.Z), (cirq.LineQubit(6), cirq.Z), (cirq.LineQubit(4), cirq.Z), (cirq.LineQubit(3), cirq.Z), (cirq.LineQubit(1), cirq.Z), (cirq.LineQubit(2), cirq.Y)}): (-0.0012235566670829267-0.0014754418419601258j), frozenset({(cirq.LineQubit(5), cirq.Z), (cirq.LineQubit(3), cirq.X), (cirq.LineQubit(0), cirq.Z), (cirq.LineQubit(4), cirq.Z), (cirq.LineQubit(1), cirq.Z)}): (0.0014754418419601267-0.0012235566670829275j), frozenset({(cirq.LineQubit(5), cirq.Z), (cirq.LineQubit(2), cirq.Y), (cirq.LineQubit(3), cirq.X), (cirq.LineQubit(6), cirq.Z), (cirq.LineQubit(4), cirq.Z), (cirq.LineQubit(1), cirq.Z), (cirq.LineQubit(0), cirq.X)}): (0.0012235566670829275+0.0014754418419601267j), frozenset({(cirq.LineQubit(5), cirq.Z), (cirq.LineQubit(4), cirq.Z), (cirq.LineQubit(3), cirq.Z), (cirq.LineQubit(1), cirq.Z), (cirq.LineQubit(0), cirq.X)}): (0.0014754418419601278-0.0012235566670829284j), frozenset({(cirq.LineQubit(2), cirq.Y), (cirq.LineQubit(6), cirq.Z), (cirq.LineQubit(5), cirq.X), (cirq.LineQubit(3), cirq.Z), (cirq.LineQubit(1), cirq.Z), (cirq.LineQubit(0), cirq.X)}): (-0.0012235566670829275-0.0014754418419601267j), frozenset({(cirq.LineQubit(3), cirq.X), (cirq.LineQubit(1), cirq.Z), (cirq.LineQubit(0), cirq.X), (cirq.LineQubit(5), cirq.X)}): (0.0014754418419601278-0.0012235566670829284j), frozenset({(cirq.LineQubit(3), cirq.X), (cirq.LineQubit(0), cirq.Z), (cirq.LineQubit(6), cirq.Z), (cirq.LineQubit(5), cirq.X), (cirq.LineQubit(1), cirq.Z), (cirq.LineQubit(2), cirq.Y)}): (-0.0012235566670829284-0.0014754418419601278j), frozenset({(cirq.LineQubit(3), cirq.Z), (cirq.LineQubit(1), cirq.Z), (cirq.LineQubit(5), cirq.X), (cirq.LineQubit(0), cirq.Z)}): (-0.0014754418419601286+0.001223556667082929j), frozenset({(cirq.LineQubit(5), cirq.Z), (cirq.LineQubit(0), cirq.Z), (cirq.LineQubit(6), cirq.Z), (cirq.LineQubit(3), cirq.Z), (cirq.LineQubit(1), cirq.Z), (cirq.LineQubit(2), cirq.Y)}): (-0.0012235566670829275-0.0014754418419601267j), frozenset({(cirq.LineQubit(3), cirq.X), (cirq.LineQubit(5), cirq.Z), (cirq.LineQubit(1), cirq.Z), (cirq.LineQubit(0), cirq.Z)}): (0.0014754418419601278-0.0012235566670829284j), frozenset({(cirq.LineQubit(5), cirq.Z), (cirq.LineQubit(2), cirq.Y), (cirq.LineQubit(3), cirq.X), (cirq.LineQubit(6), cirq.Z), (cirq.LineQubit(1), cirq.Z), (cirq.LineQubit(0), cirq.X)}): (0.0012235566670829284+0.0014754418419601278j), frozenset({(cirq.LineQubit(3), cirq.Z), (cirq.LineQubit(1), cirq.Z), (cirq.LineQubit(0), cirq.X), (cirq.LineQubit(5), cirq.Z)}): (0.0014754418419601286-0.001223556667082929j), frozenset({(cirq.LineQubit(2), cirq.Y), (cirq.LineQubit(6), cirq.Z), (cirq.LineQubit(5), cirq.X), (cirq.LineQubit(4), cirq.Z), (cirq.LineQubit(3), cirq.Z), (cirq.LineQubit(1), cirq.Z), (cirq.LineQubit(0), cirq.X)}): (-0.0012235566670829284-0.0014754418419601278j), frozenset({(cirq.LineQubit(3), cirq.X), (cirq.LineQubit(5), cirq.X), (cirq.LineQubit(4), cirq.Z), (cirq.LineQubit(1), cirq.Z), (cirq.LineQubit(0), cirq.X)}): (0.0014754418419601286-0.001223556667082929j), frozenset({(cirq.LineQubit(3), cirq.X), (cirq.LineQubit(0), cirq.Z), (cirq.LineQubit(6), cirq.Z), (cirq.LineQubit(5), cirq.X), (cirq.LineQubit(4), cirq.Z), (cirq.LineQubit(1), cirq.Z), (cirq.LineQubit(2), cirq.Y)}): (-0.001223556667082929-0.0014754418419601286j), frozenset({(cirq.LineQubit(0), cirq.Z), (cirq.LineQubit(5), cirq.X), (cirq.LineQubit(4), cirq.Z), (cirq.LineQubit(3), cirq.Z), (cirq.LineQubit(1), cirq.Z)}): (-0.0014754418419601297+0.00122355666708293j), frozenset({(cirq.LineQubit(2), cirq.Z), (cirq.LineQubit(6), cirq.Z), (cirq.LineQubit(1), cirq.Z), (cirq.LineQubit(5), cirq.Y)}): (0.0012235566670829284+0.0014754418419601278j), frozenset({(cirq.LineQubit(1), cirq.Z), (cirq.LineQubit(2), cirq.X), (cirq.LineQubit(3), cirq.Y), (cirq.LineQubit(5), cirq.Y)}): (-0.0014754418419601286+0.001223556667082929j), frozenset({(cirq.LineQubit(5), cirq.Y), (cirq.LineQubit(0), cirq.Y), (cirq.LineQubit(6), cirq.Z), (cirq.LineQubit(3), cirq.Y), (cirq.LineQubit(1), cirq.Z), (cirq.LineQubit(2), cirq.Z)}): (0.001223556667082929+0.0014754418419601286j), frozenset({(cirq.LineQubit(0), cirq.Y), (cirq.LineQubit(2), cirq.X), (cirq.LineQubit(1), cirq.Z), (cirq.LineQubit(5), cirq.Y)}): (-0.0014754418419601297+0.00122355666708293j), frozenset({(cirq.LineQubit(0), cirq.Y), (cirq.LineQubit(6), cirq.Z), (cirq.LineQubit(4), cirq.Z), (cirq.LineQubit(1), cirq.Z), (cirq.LineQubit(2), cirq.Z)}): (-0.001223556667082929-0.0014754418419601286j), frozenset({(cirq.LineQubit(2), cirq.X), (cirq.LineQubit(0), cirq.Y), (cirq.LineQubit(3), cirq.Y), (cirq.LineQubit(4), cirq.Z), (cirq.LineQubit(1), cirq.Z)}): (0.0014754418419601297-0.00122355666708293j), frozenset({(cirq.LineQubit(6), cirq.Z), (cirq.LineQubit(3), cirq.Y), (cirq.LineQubit(4), cirq.Z), (cirq.LineQubit(1), cirq.Z), (cirq.LineQubit(2), cirq.Z)}): (-0.00122355666708293-0.0014754418419601297j), frozenset({(cirq.LineQubit(4), cirq.Z), (cirq.LineQubit(2), cirq.X), (cirq.LineQubit(1), cirq.Z)}): (0.0014754418419601306-0.0012235566670829308j), frozenset({(cirq.LineQubit(1), cirq.Z), (cirq.LineQubit(5), cirq.Y), (cirq.LineQubit(6), cirq.Z), (cirq.LineQubit(4), cirq.Z), (cirq.LineQubit(2), cirq.Z)}): (0.001223556667082929+0.0014754418419601286j), frozenset({(cirq.LineQubit(2), cirq.X), (cirq.LineQubit(5), cirq.Y), (cirq.LineQubit(3), cirq.Y), (cirq.LineQubit(4), cirq.Z), (cirq.LineQubit(1), cirq.Z)}): (-0.0014754418419601297+0.00122355666708293j), frozenset({(cirq.LineQubit(5), cirq.Y), (cirq.LineQubit(0), cirq.Y), (cirq.LineQubit(6), cirq.Z), (cirq.LineQubit(3), cirq.Y), (cirq.LineQubit(4), cirq.Z), (cirq.LineQubit(1), cirq.Z), (cirq.LineQubit(2), cirq.Z)}): (0.00122355666708293+0.0014754418419601297j), frozenset({(cirq.LineQubit(2), cirq.X), (cirq.LineQubit(5), cirq.Y), (cirq.LineQubit(0), cirq.Y), (cirq.LineQubit(4), cirq.Z), (cirq.LineQubit(1), cirq.Z)}): (-0.0014754418419601306+0.0012235566670829308j), frozenset({(cirq.LineQubit(0), cirq.Y), (cirq.LineQubit(6), cirq.Z), (cirq.LineQubit(1), cirq.Z), (cirq.LineQubit(2), cirq.Z)}): (-0.00122355666708293-0.0014754418419601297j), frozenset({(cirq.LineQubit(0), cirq.Y), (cirq.LineQubit(1), cirq.Z), (cirq.LineQubit(2), cirq.X), (cirq.LineQubit(3), cirq.Y)}): (0.0014754418419601306-0.0012235566670829308j), frozenset({(cirq.LineQubit(1), cirq.Z), (cirq.LineQubit(6), cirq.Z), (cirq.LineQubit(3), cirq.Y), (cirq.LineQubit(2), cirq.Z)}): (-0.0012235566670829308-0.0014754418419601306j), frozenset({(cirq.LineQubit(2), cirq.X), (cirq.LineQubit(1), cirq.Z)}): (0.0014754418419601317-0.0012235566670829316j), frozenset({(cirq.LineQubit(5), cirq.Z), (cirq.LineQubit(3), cirq.Z), (cirq.LineQubit(0), cirq.Z), (cirq.LineQubit(4), cirq.Z), (cirq.LineQubit(6), cirq.Y), (cirq.LineQubit(2), cirq.Z)}): (-0.0012235566670829284-0.0014754418419601278j), frozenset({(cirq.LineQubit(6), cirq.X), (cirq.LineQubit(5), cirq.Z), (cirq.LineQubit(3), cirq.X), (cirq.LineQubit(2), cirq.X), (cirq.LineQubit(0), cirq.Z), (cirq.LineQubit(4), cirq.Z)}): (0.0014754418419601286-0.001223556667082929j), frozenset({(cirq.LineQubit(5), cirq.Z), (cirq.LineQubit(3), cirq.X), (cirq.LineQubit(4), cirq.Z), (cirq.LineQubit(6), cirq.Y), (cirq.LineQubit(2), cirq.Z), (cirq.LineQubit(0), cirq.X)}): (0.001223556667082929+0.0014754418419601286j), frozenset({(cirq.LineQubit(6), cirq.X), (cirq.LineQubit(5), cirq.Z), (cirq.LineQubit(2), cirq.X), (cirq.LineQubit(4), cirq.Z), (cirq.LineQubit(3), cirq.Z), (cirq.LineQubit(0), cirq.X)}): (0.0014754418419601297-0.00122355666708293j), frozenset({(cirq.LineQubit(3), cirq.Z), (cirq.LineQubit(5), cirq.X), (cirq.LineQubit(6), cirq.Y), (cirq.LineQubit(2), cirq.Z), (cirq.LineQubit(0), cirq.X)}): (-0.001223556667082929-0.0014754418419601286j), frozenset({(cirq.LineQubit(6), cirq.X), (cirq.LineQubit(3), cirq.X), (cirq.LineQubit(2), cirq.X), (cirq.LineQubit(5), cirq.X), (cirq.LineQubit(0), cirq.X)}): (0.0014754418419601297-0.00122355666708293j), frozenset({(cirq.LineQubit(3), cirq.X), (cirq.LineQubit(0), cirq.Z), (cirq.LineQubit(5), cirq.X), (cirq.LineQubit(6), cirq.Y), (cirq.LineQubit(2), cirq.Z)}): (-0.00122355666708293-0.0014754418419601297j), frozenset({(cirq.LineQubit(6), cirq.X), (cirq.LineQubit(2), cirq.X), (cirq.LineQubit(0), cirq.Z), (cirq.LineQubit(5), cirq.X), (cirq.LineQubit(3), cirq.Z)}): (-0.0014754418419601306+0.0012235566670829308j), frozenset({(cirq.LineQubit(5), cirq.Z), (cirq.LineQubit(3), cirq.Z), (cirq.LineQubit(0), cirq.Z), (cirq.LineQubit(6), cirq.Y), (cirq.LineQubit(2), cirq.Z)}): (-0.001223556667082929-0.0014754418419601286j), frozenset({(cirq.LineQubit(6), cirq.X), (cirq.LineQubit(5), cirq.Z), (cirq.LineQubit(3), cirq.X), (cirq.LineQubit(2), cirq.X), (cirq.LineQubit(0), cirq.Z)}): (0.0014754418419601297-0.00122355666708293j), frozenset({(cirq.LineQubit(5), cirq.Z), (cirq.LineQubit(3), cirq.X), (cirq.LineQubit(6), cirq.Y), (cirq.LineQubit(2), cirq.Z), (cirq.LineQubit(0), cirq.X)}): (0.00122355666708293+0.0014754418419601297j), frozenset({(cirq.LineQubit(6), cirq.X), (cirq.LineQubit(5), cirq.Z), (cirq.LineQubit(2), cirq.X), (cirq.LineQubit(3), cirq.Z), (cirq.LineQubit(0), cirq.X)}): (0.0014754418419601306-0.0012235566670829308j), frozenset({(cirq.LineQubit(3), cirq.Z), (cirq.LineQubit(5), cirq.X), (cirq.LineQubit(4), cirq.Z), (cirq.LineQubit(6), cirq.Y), (cirq.LineQubit(2), cirq.Z), (cirq.LineQubit(0), cirq.X)}): (-0.00122355666708293-0.0014754418419601297j), frozenset({(cirq.LineQubit(6), cirq.X), (cirq.LineQubit(3), cirq.X), (cirq.LineQubit(2), cirq.X), (cirq.LineQubit(5), cirq.X), (cirq.LineQubit(4), cirq.Z), (cirq.LineQubit(0), cirq.X)}): (0.0014754418419601306-0.0012235566670829308j), frozenset({(cirq.LineQubit(3), cirq.X), (cirq.LineQubit(0), cirq.Z), (cirq.LineQubit(5), cirq.X), (cirq.LineQubit(4), cirq.Z), (cirq.LineQubit(6), cirq.Y), (cirq.LineQubit(2), cirq.Z)}): (-0.0012235566670829308-0.0014754418419601306j), frozenset({(cirq.LineQubit(6), cirq.X), (cirq.LineQubit(2), cirq.X), (cirq.LineQubit(0), cirq.Z), (cirq.LineQubit(5), cirq.X), (cirq.LineQubit(4), cirq.Z), (cirq.LineQubit(3), cirq.Z)}): (-0.0014754418419601317+0.0012235566670829316j), frozenset({(cirq.LineQubit(6), cirq.Y), (cirq.LineQubit(2), cirq.Y), (cirq.LineQubit(5), cirq.Y)}): (-0.00122355666708293-0.0014754418419601297j), frozenset({(cirq.LineQubit(6), cirq.X), (cirq.LineQubit(3), cirq.Y), (cirq.LineQubit(5), cirq.Y)}): (-0.0014754418419601306+0.0012235566670829308j), frozenset({(cirq.LineQubit(5), cirq.Y), (cirq.LineQubit(0), cirq.Y), (cirq.LineQubit(6), cirq.Y), (cirq.LineQubit(3), cirq.Y), (cirq.LineQubit(2), cirq.Y)}): (-0.0012235566670829308-0.0014754418419601306j), frozenset({(cirq.LineQubit(0), cirq.Y), (cirq.LineQubit(6), cirq.X), (cirq.LineQubit(5), cirq.Y)}): (-0.0014754418419601317+0.0012235566670829316j), frozenset({(cirq.LineQubit(0), cirq.Y), (cirq.LineQubit(4), cirq.Z), (cirq.LineQubit(6), cirq.Y), (cirq.LineQubit(2), cirq.Y)}): (0.0012235566670829308+0.0014754418419601306j), frozenset({(cirq.LineQubit(0), cirq.Y), (cirq.LineQubit(4), cirq.Z), (cirq.LineQubit(6), cirq.X), (cirq.LineQubit(3), cirq.Y)}): (0.0014754418419601317-0.0012235566670829316j), frozenset({(cirq.LineQubit(4), cirq.Z), (cirq.LineQubit(6), cirq.Y), (cirq.LineQubit(3), cirq.Y), (cirq.LineQubit(2), cirq.Y)}): (0.0012235566670829316+0.0014754418419601317j), frozenset({(cirq.LineQubit(4), cirq.Z), (cirq.LineQubit(6), cirq.X)}): (0.0014754418419601328-0.0012235566670829323j), frozenset({(cirq.LineQubit(4), cirq.Z), (cirq.LineQubit(6), cirq.Y), (cirq.LineQubit(2), cirq.Y), (cirq.LineQubit(5), cirq.Y)}): (-0.0012235566670829308-0.0014754418419601306j), frozenset({(cirq.LineQubit(4), cirq.Z), (cirq.LineQubit(6), cirq.X), (cirq.LineQubit(3), cirq.Y), (cirq.LineQubit(5), cirq.Y)}): (-0.0014754418419601317+0.0012235566670829316j), frozenset({(cirq.LineQubit(5), cirq.Y), (cirq.LineQubit(0), cirq.Y), (cirq.LineQubit(4), cirq.Z), (cirq.LineQubit(6), cirq.Y), (cirq.LineQubit(3), cirq.Y), (cirq.LineQubit(2), cirq.Y)}): (-0.0012235566670829316-0.0014754418419601317j), frozenset({(cirq.LineQubit(0), cirq.Y), (cirq.LineQubit(4), cirq.Z), (cirq.LineQubit(6), cirq.X), (cirq.LineQubit(5), cirq.Y)}): (-0.0014754418419601328+0.0012235566670829323j), frozenset({(cirq.LineQubit(0), cirq.Y), (cirq.LineQubit(6), cirq.Y), (cirq.LineQubit(2), cirq.Y)}): (0.0012235566670829316+0.0014754418419601317j), frozenset({(cirq.LineQubit(0), cirq.Y), (cirq.LineQubit(6), cirq.X), (cirq.LineQubit(3), cirq.Y)}): (0.0014754418419601328-0.0012235566670829323j), frozenset({(cirq.LineQubit(6), cirq.Y), (cirq.LineQubit(3), cirq.Y), (cirq.LineQubit(2), cirq.Y)}): (0.0012235566670829323+0.0014754418419601328j), frozenset({(cirq.LineQubit(6), cirq.X)}): (0.0014754418419601336-0.0012235566670829332j), frozenset({(cirq.LineQubit(0), cirq.Y), (cirq.LineQubit(4), cirq.Z), (cirq.LineQubit(6), cirq.Y), (cirq.LineQubit(5), cirq.Z)}): (0.002835790023068961-0.003490156422125684j), frozenset({(cirq.LineQubit(6), cirq.X), (cirq.LineQubit(5), cirq.Z), (cirq.LineQubit(0), cirq.Y), (cirq.LineQubit(4), cirq.Z), (cirq.LineQubit(3), cirq.Y), (cirq.LineQubit(2), cirq.Y)}): (0.0034901564221256867+0.002835790023068963j), frozenset({(cirq.LineQubit(4), cirq.Z), (cirq.LineQubit(6), cirq.Y), (cirq.LineQubit(3), cirq.Y), (cirq.LineQubit(5), cirq.Z)}): (0.002835790023068963-0.0034901564221256867j), frozenset({(cirq.LineQubit(4), cirq.Z), (cirq.LineQubit(6), cirq.X), (cirq.LineQubit(2), cirq.Y), (cirq.LineQubit(5), cirq.Z)}): (0.003490156422125689+0.0028357900230689646j), frozenset({(cirq.LineQubit(6), cirq.Y), (cirq.LineQubit(5), cirq.X)}): (0.0034901564221256867+0.002835790023068963j), frozenset({(cirq.LineQubit(2), cirq.Y), (cirq.LineQubit(6), cirq.X), (cirq.LineQubit(3), cirq.Y), (cirq.LineQubit(5), cirq.X)}): (-0.0028357900230689646+0.003490156422125689j), frozenset({(cirq.LineQubit(0), cirq.Y), (cirq.LineQubit(6), cirq.Y), (cirq.LineQubit(3), cirq.Y), (cirq.LineQubit(5), cirq.X)}): (0.003490156422125689+0.0028357900230689646j), frozenset({(cirq.LineQubit(0), cirq.Y), (cirq.LineQubit(2), cirq.Y), (cirq.LineQubit(6), cirq.X), (cirq.LineQubit(5), cirq.X)}): (-0.002835790023068967+0.0034901564221256915j), frozenset({(cirq.LineQubit(0), cirq.Y), (cirq.LineQubit(6), cirq.Y), (cirq.LineQubit(5), cirq.Z)}): (-0.002835790023068963+0.0034901564221256867j), frozenset({(cirq.LineQubit(6), cirq.X), (cirq.LineQubit(5), cirq.Z), (cirq.LineQubit(0), cirq.Y), (cirq.LineQubit(3), cirq.Y), (cirq.LineQubit(2), cirq.Y)}): (-0.003490156422125689-0.0028357900230689646j), frozenset({(cirq.LineQubit(6), cirq.Y), (cirq.LineQubit(3), cirq.Y), (cirq.LineQubit(5), cirq.Z)}): (-0.0028357900230689646+0.003490156422125689j), frozenset({(cirq.LineQubit(6), cirq.X), (cirq.LineQubit(2), cirq.Y), (cirq.LineQubit(5), cirq.Z)}): (-0.0034901564221256915-0.002835790023068967j), frozenset({(cirq.LineQubit(4), cirq.Z), (cirq.LineQubit(6), cirq.Y), (cirq.LineQubit(5), cirq.X)}): (-0.003490156422125689-0.0028357900230689646j), frozenset({(cirq.LineQubit(6), cirq.X), (cirq.LineQubit(5), cirq.X), (cirq.LineQubit(4), cirq.Z), (cirq.LineQubit(3), cirq.Y), (cirq.LineQubit(2), cirq.Y)}): (0.002835790023068967-0.0034901564221256915j), frozenset({(cirq.LineQubit(0), cirq.Y), (cirq.LineQubit(5), cirq.X), (cirq.LineQubit(4), cirq.Z), (cirq.LineQubit(6), cirq.Y), (cirq.LineQubit(3), cirq.Y)}): (-0.0034901564221256915-0.002835790023068967j), frozenset({(cirq.LineQubit(6), cirq.X), (cirq.LineQubit(0), cirq.Y), (cirq.LineQubit(5), cirq.X), (cirq.LineQubit(4), cirq.Z), (cirq.LineQubit(2), cirq.Y)}): (0.0028357900230689685-0.0034901564221256937j), frozenset({(cirq.LineQubit(3), cirq.Z), (cirq.LineQubit(2), cirq.X), (cirq.LineQubit(5), cirq.Y), (cirq.LineQubit(6), cirq.Y), (cirq.LineQubit(0), cirq.X)}): (0.0028357900230689646-0.003490156422125689j), frozenset({(cirq.LineQubit(6), cirq.X), (cirq.LineQubit(3), cirq.X), (cirq.LineQubit(5), cirq.Y), (cirq.LineQubit(2), cirq.Z), (cirq.LineQubit(0), cirq.X)}): (0.0034901564221256915+0.002835790023068967j), frozenset({(cirq.LineQubit(3), cirq.X), (cirq.LineQubit(2), cirq.X), (cirq.LineQubit(0), cirq.Z), (cirq.LineQubit(5), cirq.Y), (cirq.LineQubit(6), cirq.Y)}): (0.002835790023068967-0.0034901564221256915j), frozenset({(cirq.LineQubit(6), cirq.X), (cirq.LineQubit(0), cirq.Z), (cirq.LineQubit(5), cirq.Y), (cirq.LineQubit(3), cirq.Z), (cirq.LineQubit(2), cirq.Z)}): (-0.0034901564221256937-0.0028357900230689685j), frozenset({(cirq.LineQubit(3), cirq.Z), (cirq.LineQubit(2), cirq.X), (cirq.LineQubit(0), cirq.Z), (cirq.LineQubit(4), cirq.Z), (cirq.LineQubit(6), cirq.Y)}): (-0.0034901564221256915-0.002835790023068967j), frozenset({(cirq.LineQubit(6), cirq.X), (cirq.LineQubit(3), cirq.X), (cirq.LineQubit(0), cirq.Z), (cirq.LineQubit(4), cirq.Z), (cirq.LineQubit(2), cirq.Z)}): (0.0028357900230689685-0.0034901564221256937j), frozenset({(cirq.LineQubit(3), cirq.X), (cirq.LineQubit(2), cirq.X), (cirq.LineQubit(4), cirq.Z), (cirq.LineQubit(6), cirq.Y), (cirq.LineQubit(0), cirq.X)}): (0.0034901564221256937+0.0028357900230689685j), frozenset({(cirq.LineQubit(6), cirq.X), (cirq.LineQubit(4), cirq.Z), (cirq.LineQubit(3), cirq.Z), (cirq.LineQubit(2), cirq.Z), (cirq.LineQubit(0), cirq.X)}): (0.0028357900230689703-0.003490156422125696j), frozenset({(cirq.LineQubit(6), cirq.Y), (cirq.LineQubit(2), cirq.X), (cirq.LineQubit(5), cirq.Y), (cirq.LineQubit(4), cirq.Z), (cirq.LineQubit(3), cirq.Z), (cirq.LineQubit(0), cirq.X)}): (-0.002835790023068967+0.0034901564221256915j), frozenset({(cirq.LineQubit(6), cirq.X), (cirq.LineQubit(3), cirq.X), (cirq.LineQubit(5), cirq.Y), (cirq.LineQubit(4), cirq.Z), (cirq.LineQubit(2), cirq.Z), (cirq.LineQubit(0), cirq.X)}): (-0.0034901564221256937-0.0028357900230689685j), frozenset({(cirq.LineQubit(3), cirq.X), (cirq.LineQubit(2), cirq.X), (cirq.LineQubit(0), cirq.Z), (cirq.LineQubit(5), cirq.Y), (cirq.LineQubit(4), cirq.Z), (cirq.LineQubit(6), cirq.Y)}): (-0.0028357900230689685+0.0034901564221256937j), frozenset({(cirq.LineQubit(6), cirq.X), (cirq.LineQubit(0), cirq.Z), (cirq.LineQubit(5), cirq.Y), (cirq.LineQubit(4), cirq.Z), (cirq.LineQubit(3), cirq.Z), (cirq.LineQubit(2), cirq.Z)}): (0.003490156422125696+0.0028357900230689703j), frozenset({(cirq.LineQubit(2), cirq.X), (cirq.LineQubit(6), cirq.Y), (cirq.LineQubit(3), cirq.Z), (cirq.LineQubit(0), cirq.Z)}): (0.0034901564221256937+0.0028357900230689685j), frozenset({(cirq.LineQubit(6), cirq.X), (cirq.LineQubit(3), cirq.X), (cirq.LineQubit(2), cirq.Z), (cirq.LineQubit(0), cirq.Z)}): (-0.0028357900230689703+0.003490156422125696j), frozenset({(cirq.LineQubit(6), cirq.Y), (cirq.LineQubit(3), cirq.X), (cirq.LineQubit(2), cirq.X), (cirq.LineQubit(0), cirq.X)}): (-0.003490156422125696-0.0028357900230689703j), frozenset({(cirq.LineQubit(6), cirq.X), (cirq.LineQubit(3), cirq.Z), (cirq.LineQubit(2), cirq.Z), (cirq.LineQubit(0), cirq.X)}): (-0.0028357900230689724+0.0034901564221256984j), frozenset({(cirq.LineQubit(5), cirq.Z), (cirq.LineQubit(2), cirq.X), (cirq.LineQubit(0), cirq.Y), (cirq.LineQubit(6), cirq.Z), (cirq.LineQubit(4), cirq.Z), (cirq.LineQubit(1), cirq.Z)}): (0.003490156422125689+0.0028357900230689646j), frozenset({(cirq.LineQubit(1), cirq.Z), (cirq.LineQubit(5), cirq.Z), (cirq.LineQubit(0), cirq.Y), (cirq.LineQubit(4), cirq.Z), (cirq.LineQubit(3), cirq.Y), (cirq.LineQubit(2), cirq.Z)}): (-0.002835790023068967+0.0034901564221256915j), frozenset({(cirq.LineQubit(1), cirq.Z), (cirq.LineQubit(5), cirq.Z), (cirq.LineQubit(2), cirq.X), (cirq.LineQubit(6), cirq.Z), (cirq.LineQubit(4), cirq.Z), (cirq.LineQubit(3), cirq.Y)}): (0.0034901564221256915+0.002835790023068967j), frozenset({(cirq.LineQubit(4), cirq.Z), (cirq.LineQubit(2), cirq.Z), (cirq.LineQubit(1), cirq.Z), (cirq.LineQubit(5), cirq.Z)}): (-0.0028357900230689685+0.0034901564221256937j), frozenset({(cirq.LineQubit(6), cirq.Z), (cirq.LineQubit(2), cirq.X), (cirq.LineQubit(1), cirq.Z), (cirq.LineQubit(5), cirq.X)}): (-0.002835790023068967+0.0034901564221256915j), frozenset({(cirq.LineQubit(3), cirq.Y), (cirq.LineQubit(1), cirq.Z), (cirq.LineQubit(5), cirq.X), (cirq.LineQubit(2), cirq.Z)}): (-0.0034901564221256937-0.0028357900230689685j), frozenset({(cirq.LineQubit(1), cirq.Z), (cirq.LineQubit(2), cirq.X), (cirq.LineQubit(0), cirq.Y), (cirq.LineQubit(6), cirq.Z), (cirq.LineQubit(5), cirq.X), (cirq.LineQubit(3), cirq.Y)}): (-0.0028357900230689685+0.0034901564221256937j), frozenset({(cirq.LineQubit(0), cirq.Y), (cirq.LineQubit(1), cirq.Z), (cirq.LineQubit(5), cirq.X), (cirq.LineQubit(2), cirq.Z)}): (-0.003490156422125696-0.0028357900230689703j), frozenset({(cirq.LineQubit(5), cirq.Z), (cirq.LineQubit(2), cirq.X), (cirq.LineQubit(0), cirq.Y), (cirq.LineQubit(6), cirq.Z), (cirq.LineQubit(1), cirq.Z)}): (-0.0034901564221256915-0.002835790023068967j), frozenset({(cirq.LineQubit(1), cirq.Z), (cirq.LineQubit(5), cirq.Z), (cirq.LineQubit(0), cirq.Y), (cirq.LineQubit(3), cirq.Y), (cirq.LineQubit(2), cirq.Z)}): (0.0028357900230689685-0.0034901564221256937j), frozenset({(cirq.LineQubit(1), cirq.Z), (cirq.LineQubit(5), cirq.Z), (cirq.LineQubit(2), cirq.X), (cirq.LineQubit(6), cirq.Z), (cirq.LineQubit(3), cirq.Y)}): (-0.0034901564221256937-0.0028357900230689685j), frozenset({(cirq.LineQubit(2), cirq.Z), (cirq.LineQubit(1), cirq.Z), (cirq.LineQubit(5), cirq.Z)}): (0.0028357900230689703-0.003490156422125696j), frozenset({(cirq.LineQubit(2), cirq.X), (cirq.LineQubit(6), cirq.Z), (cirq.LineQubit(5), cirq.X), (cirq.LineQubit(4), cirq.Z), (cirq.LineQubit(1), cirq.Z)}): (0.0028357900230689685-0.0034901564221256937j), frozenset({(cirq.LineQubit(1), cirq.Z), (cirq.LineQubit(5), cirq.X), (cirq.LineQubit(4), cirq.Z), (cirq.LineQubit(3), cirq.Y), (cirq.LineQubit(2), cirq.Z)}): (0.003490156422125696+0.0028357900230689703j), frozenset({(cirq.LineQubit(1), cirq.Z), (cirq.LineQubit(2), cirq.X), (cirq.LineQubit(0), cirq.Y), (cirq.LineQubit(6), cirq.Z), (cirq.LineQubit(5), cirq.X), (cirq.LineQubit(4), cirq.Z), (cirq.LineQubit(3), cirq.Y)}): (0.0028357900230689703-0.003490156422125696j), frozenset({(cirq.LineQubit(0), cirq.Y), (cirq.LineQubit(5), cirq.X), (cirq.LineQubit(4), cirq.Z), (cirq.LineQubit(1), cirq.Z), (cirq.LineQubit(2), cirq.Z)}): (0.0034901564221256984+0.0028357900230689724j), frozenset({(cirq.LineQubit(5), cirq.Y), (cirq.LineQubit(6), cirq.Z), (cirq.LineQubit(3), cirq.Z), (cirq.LineQubit(1), cirq.Z), (cirq.LineQubit(0), cirq.X)}): (0.0034901564221256937+0.0028357900230689685j), frozenset({(cirq.LineQubit(3), cirq.X), (cirq.LineQubit(5), cirq.Y), (cirq.LineQubit(1), cirq.Z), (cirq.LineQubit(2), cirq.Y), (cirq.LineQubit(0), cirq.X)}): (0.0028357900230689703-0.003490156422125696j), frozenset({(cirq.LineQubit(3), cirq.X), (cirq.LineQubit(0), cirq.Z), (cirq.LineQubit(5), cirq.Y), (cirq.LineQubit(6), cirq.Z), (cirq.LineQubit(1), cirq.Z)}): (0.003490156422125696+0.0028357900230689703j), frozenset({(cirq.LineQubit(0), cirq.Z), (cirq.LineQubit(5), cirq.Y), (cirq.LineQubit(3), cirq.Z), (cirq.LineQubit(1), cirq.Z), (cirq.LineQubit(2), cirq.Y)}): (-0.0028357900230689724+0.0034901564221256984j), frozenset({(cirq.LineQubit(0), cirq.Z), (cirq.LineQubit(6), cirq.Z), (cirq.LineQubit(4), cirq.Z), (cirq.LineQubit(3), cirq.Z), (cirq.LineQubit(1), cirq.Z)}): (0.0028357900230689703-0.003490156422125696j), frozenset({(cirq.LineQubit(3), cirq.X), (cirq.LineQubit(0), cirq.Z), (cirq.LineQubit(4), cirq.Z), (cirq.LineQubit(1), cirq.Z), (cirq.LineQubit(2), cirq.Y)}): (-0.0034901564221256984-0.0028357900230689724j), frozenset({(cirq.LineQubit(3), cirq.X), (cirq.LineQubit(6), cirq.Z), (cirq.LineQubit(4), cirq.Z), (cirq.LineQubit(1), cirq.Z), (cirq.LineQubit(0), cirq.X)}): (-0.0028357900230689724+0.0034901564221256984j), frozenset({(cirq.LineQubit(4), cirq.Z), (cirq.LineQubit(3), cirq.Z), (cirq.LineQubit(1), cirq.Z), (cirq.LineQubit(2), cirq.Y), (cirq.LineQubit(0), cirq.X)}): (-0.0034901564221257006-0.002835790023068974j), frozenset({(cirq.LineQubit(5), cirq.Y), (cirq.LineQubit(6), cirq.Z), (cirq.LineQubit(4), cirq.Z), (cirq.LineQubit(3), cirq.Z), (cirq.LineQubit(1), cirq.Z), (cirq.LineQubit(0), cirq.X)}): (-0.003490156422125696-0.0028357900230689703j), frozenset({(cirq.LineQubit(2), cirq.Y), (cirq.LineQubit(3), cirq.X), (cirq.LineQubit(5), cirq.Y), (cirq.LineQubit(4), cirq.Z), (cirq.LineQubit(1), cirq.Z), (cirq.LineQubit(0), cirq.X)}): (-0.0028357900230689724+0.0034901564221256984j), frozenset({(cirq.LineQubit(3), cirq.X), (cirq.LineQubit(0), cirq.Z), (cirq.LineQubit(5), cirq.Y), (cirq.LineQubit(6), cirq.Z), (cirq.LineQubit(4), cirq.Z), (cirq.LineQubit(1), cirq.Z)}): (-0.0034901564221256984-0.0028357900230689724j), frozenset({(cirq.LineQubit(0), cirq.Z), (cirq.LineQubit(5), cirq.Y), (cirq.LineQubit(4), cirq.Z), (cirq.LineQubit(3), cirq.Z), (cirq.LineQubit(1), cirq.Z), (cirq.LineQubit(2), cirq.Y)}): (0.002835790023068974-0.0034901564221257006j), frozenset({(cirq.LineQubit(6), cirq.Z), (cirq.LineQubit(3), cirq.Z), (cirq.LineQubit(1), cirq.Z), (cirq.LineQubit(0), cirq.Z)}): (-0.0028357900230689724+0.0034901564221256984j), frozenset({(cirq.LineQubit(3), cirq.X), (cirq.LineQubit(1), cirq.Z), (cirq.LineQubit(2), cirq.Y), (cirq.LineQubit(0), cirq.Z)}): (0.0034901564221257006+0.002835790023068974j), frozenset({(cirq.LineQubit(3), cirq.X), (cirq.LineQubit(6), cirq.Z), (cirq.LineQubit(1), cirq.Z), (cirq.LineQubit(0), cirq.X)}): (0.002835790023068974-0.0034901564221257006j), frozenset({(cirq.LineQubit(2), cirq.Y), (cirq.LineQubit(3), cirq.Z), (cirq.LineQubit(1), cirq.Z), (cirq.LineQubit(0), cirq.X)}): (0.0034901564221257028+0.002835790023068976j), frozenset({(cirq.LineQubit(1), cirq.Y), (cirq.LineQubit(5), cirq.Z), (cirq.LineQubit(4), cirq.Z), (cirq.LineQubit(6), cirq.Y), (cirq.LineQubit(2), cirq.Y)}): (-0.002835790023068961+0.003490156422125684j), frozenset({(cirq.LineQubit(6), cirq.X), (cirq.LineQubit(5), cirq.Z), (cirq.LineQubit(4), cirq.Z), (cirq.LineQubit(3), cirq.Y), (cirq.LineQubit(1), cirq.Y)}): (-0.0034901564221256867-0.002835790023068963j), frozenset({(cirq.LineQubit(5), cirq.Z), (cirq.LineQubit(2), cirq.Y), (cirq.LineQubit(0), cirq.Y), (cirq.LineQubit(4), cirq.Z), (cirq.LineQubit(6), cirq.Y), (cirq.LineQubit(3), cirq.Y), (cirq.LineQubit(1), cirq.Y)}): (-0.002835790023068963+0.0034901564221256867j), frozenset({(cirq.LineQubit(6), cirq.X), (cirq.LineQubit(5), cirq.Z), (cirq.LineQubit(0), cirq.Y), (cirq.LineQubit(4), cirq.Z), (cirq.LineQubit(1), cirq.Y)}): (-0.003490156422125689-0.0028357900230689646j), frozenset({(cirq.LineQubit(1), cirq.Y), (cirq.LineQubit(0), cirq.Y), (cirq.LineQubit(5), cirq.X), (cirq.LineQubit(6), cirq.Y), (cirq.LineQubit(2), cirq.Y)}): (-0.0034901564221256867-0.002835790023068963j), frozenset({(cirq.LineQubit(6), cirq.X), (cirq.LineQubit(0), cirq.Y), (cirq.LineQubit(5), cirq.X), (cirq.LineQubit(3), cirq.Y), (cirq.LineQubit(1), cirq.Y)}): (0.0028357900230689646-0.003490156422125689j), frozenset({(cirq.LineQubit(1), cirq.Y), (cirq.LineQubit(5), cirq.X), (cirq.LineQubit(6), cirq.Y), (cirq.LineQubit(3), cirq.Y), (cirq.LineQubit(2), cirq.Y)}): (-0.003490156422125689-0.0028357900230689646j), frozenset({(cirq.LineQubit(6), cirq.X), (cirq.LineQubit(1), cirq.Y), (cirq.LineQubit(5), cirq.X)}): (0.002835790023068967-0.0034901564221256915j), frozenset({(cirq.LineQubit(2), cirq.Y), (cirq.LineQubit(6), cirq.Y), (cirq.LineQubit(1), cirq.Y), (cirq.LineQubit(5), cirq.Z)}): (0.002835790023068963-0.0034901564221256867j), frozenset({(cirq.LineQubit(6), cirq.X), (cirq.LineQubit(3), cirq.Y), (cirq.LineQubit(1), cirq.Y), (cirq.LineQubit(5), cirq.Z)}): (0.003490156422125689+0.0028357900230689646j), frozenset({(cirq.LineQubit(1), cirq.Y), (cirq.LineQubit(5), cirq.Z), (cirq.LineQubit(0), cirq.Y), (cirq.LineQubit(6), cirq.Y), (cirq.LineQubit(3), cirq.Y), (cirq.LineQubit(2), cirq.Y)}): (0.0028357900230689646-0.003490156422125689j), frozenset({(cirq.LineQubit(0), cirq.Y), (cirq.LineQubit(6), cirq.X), (cirq.LineQubit(1), cirq.Y), (cirq.LineQubit(5), cirq.Z)}): (0.0034901564221256915+0.002835790023068967j), frozenset({(cirq.LineQubit(1), cirq.Y), (cirq.LineQubit(0), cirq.Y), (cirq.LineQubit(5), cirq.X), (cirq.LineQubit(4), cirq.Z), (cirq.LineQubit(6), cirq.Y), (cirq.LineQubit(2), cirq.Y)}): (0.003490156422125689+0.0028357900230689646j), frozenset({(cirq.LineQubit(6), cirq.X), (cirq.LineQubit(0), cirq.Y), (cirq.LineQubit(5), cirq.X), (cirq.LineQubit(4), cirq.Z), (cirq.LineQubit(3), cirq.Y), (cirq.LineQubit(1), cirq.Y)}): (-0.002835790023068967+0.0034901564221256915j), frozenset({(cirq.LineQubit(1), cirq.Y), (cirq.LineQubit(5), cirq.X), (cirq.LineQubit(4), cirq.Z), (cirq.LineQubit(6), cirq.Y), (cirq.LineQubit(3), cirq.Y), (cirq.LineQubit(2), cirq.Y)}): (0.0034901564221256915+0.002835790023068967j), frozenset({(cirq.LineQubit(4), cirq.Z), (cirq.LineQubit(6), cirq.X), (cirq.LineQubit(1), cirq.Y), (cirq.LineQubit(5), cirq.X)}): (-0.0028357900230689685+0.0034901564221256937j), frozenset({(cirq.LineQubit(6), cirq.Y), (cirq.LineQubit(0), cirq.Z), (cirq.LineQubit(5), cirq.Y), (cirq.LineQubit(3), cirq.Z), (cirq.LineQubit(2), cirq.Z), (cirq.LineQubit(1), cirq.Y)}): (0.0028357900230689646-0.003490156422125689j), frozenset({(cirq.LineQubit(6), cirq.X), (cirq.LineQubit(3), cirq.X), (cirq.LineQubit(2), cirq.X), (cirq.LineQubit(0), cirq.Z), (cirq.LineQubit(5), cirq.Y), (cirq.LineQubit(1), cirq.Y)}): (-0.0034901564221256915-0.002835790023068967j), frozenset({(cirq.LineQubit(1), cirq.Y), (cirq.LineQubit(3), cirq.X), (cirq.LineQubit(5), cirq.Y), (cirq.LineQubit(6), cirq.Y), (cirq.LineQubit(2), cirq.Z), (cirq.LineQubit(0), cirq.X)}): (-0.002835790023068967+0.0034901564221256915j), frozenset({(cirq.LineQubit(6), cirq.X), (cirq.LineQubit(1), cirq.Y), (cirq.LineQubit(2), cirq.X), (cirq.LineQubit(5), cirq.Y), (cirq.LineQubit(3), cirq.Z), (cirq.LineQubit(0), cirq.X)}): (-0.0034901564221256937-0.0028357900230689685j), frozenset({(cirq.LineQubit(6), cirq.Y), (cirq.LineQubit(4), cirq.Z), (cirq.LineQubit(3), cirq.Z), (cirq.LineQubit(2), cirq.Z), (cirq.LineQubit(1), cirq.Y), (cirq.LineQubit(0), cirq.X)}): (0.0034901564221256915+0.002835790023068967j), frozenset({(cirq.LineQubit(6), cirq.X), (cirq.LineQubit(3), cirq.X), (cirq.LineQubit(2), cirq.X), (cirq.LineQubit(4), cirq.Z), (cirq.LineQubit(1), cirq.Y), (cirq.LineQubit(0), cirq.X)}): (0.0028357900230689685-0.0034901564221256937j), frozenset({(cirq.LineQubit(3), cirq.X), (cirq.LineQubit(0), cirq.Z), (cirq.LineQubit(4), cirq.Z), (cirq.LineQubit(6), cirq.Y), (cirq.LineQubit(2), cirq.Z), (cirq.LineQubit(1), cirq.Y)}): (0.0034901564221256937+0.0028357900230689685j), frozenset({(cirq.LineQubit(6), cirq.X), (cirq.LineQubit(2), cirq.X), (cirq.LineQubit(0), cirq.Z), (cirq.LineQubit(4), cirq.Z), (cirq.LineQubit(3), cirq.Z), (cirq.LineQubit(1), cirq.Y)}): (-0.0028357900230689703+0.003490156422125696j), frozenset({(cirq.LineQubit(6), cirq.Y), (cirq.LineQubit(0), cirq.Z), (cirq.LineQubit(5), cirq.Y), (cirq.LineQubit(4), cirq.Z), (cirq.LineQubit(3), cirq.Z), (cirq.LineQubit(2), cirq.Z), (cirq.LineQubit(1), cirq.Y)}): (-0.002835790023068967+0.0034901564221256915j), frozenset({(cirq.LineQubit(6), cirq.X), (cirq.LineQubit(3), cirq.X), (cirq.LineQubit(2), cirq.X), (cirq.LineQubit(0), cirq.Z), (cirq.LineQubit(5), cirq.Y), (cirq.LineQubit(4), cirq.Z), (cirq.LineQubit(1), cirq.Y)}): (0.0034901564221256937+0.0028357900230689685j), frozenset({(cirq.LineQubit(1), cirq.Y), (cirq.LineQubit(3), cirq.X), (cirq.LineQubit(5), cirq.Y), (cirq.LineQubit(4), cirq.Z), (cirq.LineQubit(6), cirq.Y), (cirq.LineQubit(2), cirq.Z), (cirq.LineQubit(0), cirq.X)}): (0.0028357900230689685-0.0034901564221256937j), frozenset({(cirq.LineQubit(6), cirq.X), (cirq.LineQubit(1), cirq.Y), (cirq.LineQubit(2), cirq.X), (cirq.LineQubit(5), cirq.Y), (cirq.LineQubit(4), cirq.Z), (cirq.LineQubit(3), cirq.Z), (cirq.LineQubit(0), cirq.X)}): (0.003490156422125696+0.0028357900230689703j), frozenset({(cirq.LineQubit(3), cirq.Z), (cirq.LineQubit(6), cirq.Y), (cirq.LineQubit(2), cirq.Z), (cirq.LineQubit(1), cirq.Y), (cirq.LineQubit(0), cirq.X)}): (-0.0034901564221256937-0.0028357900230689685j), frozenset({(cirq.LineQubit(6), cirq.X), (cirq.LineQubit(3), cirq.X), (cirq.LineQubit(2), cirq.X), (cirq.LineQubit(1), cirq.Y), (cirq.LineQubit(0), cirq.X)}): (-0.0028357900230689703+0.003490156422125696j), frozenset({(cirq.LineQubit(3), cirq.X), (cirq.LineQubit(0), cirq.Z), (cirq.LineQubit(6), cirq.Y), (cirq.LineQubit(2), cirq.Z), (cirq.LineQubit(1), cirq.Y)}): (-0.003490156422125696-0.0028357900230689703j), frozenset({(cirq.LineQubit(6), cirq.X), (cirq.LineQubit(2), cirq.X), (cirq.LineQubit(0), cirq.Z), (cirq.LineQubit(3), cirq.Z), (cirq.LineQubit(1), cirq.Y)}): (0.0028357900230689724-0.0034901564221256984j), frozenset({(cirq.LineQubit(5), cirq.Z), (cirq.LineQubit(1), cirq.X), (cirq.LineQubit(6), cirq.Z), (cirq.LineQubit(4), cirq.Z), (cirq.LineQubit(2), cirq.Z)}): (-0.003490156422125689-0.0028357900230689646j), frozenset({(cirq.LineQubit(5), cirq.Z), (cirq.LineQubit(2), cirq.X), (cirq.LineQubit(1), cirq.X), (cirq.LineQubit(4), cirq.Z), (cirq.LineQubit(3), cirq.Y)}): (-0.002835790023068967+0.0034901564221256915j), frozenset({(cirq.LineQubit(5), cirq.Z), (cirq.LineQubit(1), cirq.X), (cirq.LineQubit(0), cirq.Y), (cirq.LineQubit(6), cirq.Z), (cirq.LineQubit(4), cirq.Z), (cirq.LineQubit(3), cirq.Y), (cirq.LineQubit(2), cirq.Z)}): (-0.0034901564221256915-0.002835790023068967j), frozenset({(cirq.LineQubit(5), cirq.Z), (cirq.LineQubit(1), cirq.X), (cirq.LineQubit(2), cirq.X), (cirq.LineQubit(0), cirq.Y), (cirq.LineQubit(4), cirq.Z)}): (-0.0028357900230689685+0.0034901564221256937j), frozenset({(cirq.LineQubit(1), cirq.X), (cirq.LineQubit(0), cirq.Y), (cirq.LineQubit(6), cirq.Z), (cirq.LineQubit(5), cirq.X), (cirq.LineQubit(2), cirq.Z)}): (0.002835790023068967-0.0034901564221256915j), frozenset({(cirq.LineQubit(2), cirq.X), (cirq.LineQubit(1), cirq.X), (cirq.LineQubit(0), cirq.Y), (cirq.LineQubit(5), cirq.X), (cirq.LineQubit(3), cirq.Y)}): (-0.0034901564221256937-0.0028357900230689685j), frozenset({(cirq.LineQubit(1), cirq.X), (cirq.LineQubit(6), cirq.Z), (cirq.LineQubit(5), cirq.X), (cirq.LineQubit(3), cirq.Y), (cirq.LineQubit(2), cirq.Z)}): (0.0028357900230689685-0.0034901564221256937j), frozenset({(cirq.LineQubit(2), cirq.X), (cirq.LineQubit(1), cirq.X), (cirq.LineQubit(5), cirq.X)}): (-0.003490156422125696-0.0028357900230689703j), frozenset({(cirq.LineQubit(6), cirq.Z), (cirq.LineQubit(1), cirq.X), (cirq.LineQubit(2), cirq.Z), (cirq.LineQubit(5), cirq.Z)}): (0.0034901564221256915+0.002835790023068967j), frozenset({(cirq.LineQubit(2), cirq.X), (cirq.LineQubit(1), cirq.X), (cirq.LineQubit(3), cirq.Y), (cirq.LineQubit(5), cirq.Z)}): (0.0028357900230689685-0.0034901564221256937j), frozenset({(cirq.LineQubit(5), cirq.Z), (cirq.LineQubit(1), cirq.X), (cirq.LineQubit(0), cirq.Y), (cirq.LineQubit(6), cirq.Z), (cirq.LineQubit(3), cirq.Y), (cirq.LineQubit(2), cirq.Z)}): (0.0034901564221256937+0.0028357900230689685j), frozenset({(cirq.LineQubit(0), cirq.Y), (cirq.LineQubit(2), cirq.X), (cirq.LineQubit(1), cirq.X), (cirq.LineQubit(5), cirq.Z)}): (0.0028357900230689703-0.003490156422125696j), frozenset({(cirq.LineQubit(1), cirq.X), (cirq.LineQubit(0), cirq.Y), (cirq.LineQubit(6), cirq.Z), (cirq.LineQubit(5), cirq.X), (cirq.LineQubit(4), cirq.Z), (cirq.LineQubit(2), cirq.Z)}): (-0.0028357900230689685+0.0034901564221256937j), frozenset({(cirq.LineQubit(1), cirq.X), (cirq.LineQubit(2), cirq.X), (cirq.LineQubit(0), cirq.Y), (cirq.LineQubit(5), cirq.X), (cirq.LineQubit(4), cirq.Z), (cirq.LineQubit(3), cirq.Y)}): (0.003490156422125696+0.0028357900230689703j), frozenset({(cirq.LineQubit(1), cirq.X), (cirq.LineQubit(6), cirq.Z), (cirq.LineQubit(5), cirq.X), (cirq.LineQubit(4), cirq.Z), (cirq.LineQubit(3), cirq.Y), (cirq.LineQubit(2), cirq.Z)}): (-0.0028357900230689703+0.003490156422125696j), frozenset({(cirq.LineQubit(2), cirq.X), (cirq.LineQubit(4), cirq.Z), (cirq.LineQubit(1), cirq.X), (cirq.LineQubit(5), cirq.X)}): (0.0034901564221256984+0.0028357900230689724j), frozenset({(cirq.LineQubit(1), cirq.X), (cirq.LineQubit(0), cirq.Z), (cirq.LineQubit(5), cirq.Y), (cirq.LineQubit(6), cirq.Z), (cirq.LineQubit(3), cirq.Z), (cirq.LineQubit(2), cirq.Y)}): (-0.0034901564221256937-0.0028357900230689685j), frozenset({(cirq.LineQubit(0), cirq.Z), (cirq.LineQubit(3), cirq.X), (cirq.LineQubit(1), cirq.X), (cirq.LineQubit(5), cirq.Y)}): (-0.0028357900230689703+0.003490156422125696j), frozenset({(cirq.LineQubit(3), cirq.X), (cirq.LineQubit(1), cirq.X), (cirq.LineQubit(5), cirq.Y), (cirq.LineQubit(6), cirq.Z), (cirq.LineQubit(2), cirq.Y), (cirq.LineQubit(0), cirq.X)}): (0.003490156422125696+0.0028357900230689703j), frozenset({(cirq.LineQubit(3), cirq.Z), (cirq.LineQubit(1), cirq.X), (cirq.LineQubit(0), cirq.X), (cirq.LineQubit(5), cirq.Y)}): (-0.0028357900230689724+0.0034901564221256984j), frozenset({(cirq.LineQubit(1), cirq.X), (cirq.LineQubit(6), cirq.Z), (cirq.LineQubit(4), cirq.Z), (cirq.LineQubit(3), cirq.Z), (cirq.LineQubit(2), cirq.Y), (cirq.LineQubit(0), cirq.X)}): (0.0028357900230689703-0.003490156422125696j), frozenset({(cirq.LineQubit(4), cirq.Z), (cirq.LineQubit(3), cirq.X), (cirq.LineQubit(1), cirq.X), (cirq.LineQubit(0), cirq.X)}): (-0.0034901564221256984-0.0028357900230689724j), frozenset({(cirq.LineQubit(3), cirq.X), (cirq.LineQubit(1), cirq.X), (cirq.LineQubit(0), cirq.Z), (cirq.LineQubit(6), cirq.Z), (cirq.LineQubit(4), cirq.Z), (cirq.LineQubit(2), cirq.Y)}): (0.0028357900230689724-0.0034901564221256984j), frozenset({(cirq.LineQubit(4), cirq.Z), (cirq.LineQubit(3), cirq.Z), (cirq.LineQubit(1), cirq.X), (cirq.LineQubit(0), cirq.Z)}): (0.0034901564221257006+0.002835790023068974j), frozenset({(cirq.LineQubit(1), cirq.X), (cirq.LineQubit(0), cirq.Z), (cirq.LineQubit(5), cirq.Y), (cirq.LineQubit(6), cirq.Z), (cirq.LineQubit(4), cirq.Z), (cirq.LineQubit(3), cirq.Z), (cirq.LineQubit(2), cirq.Y)}): (0.003490156422125696+0.0028357900230689703j), frozenset({(cirq.LineQubit(3), cirq.X), (cirq.LineQubit(1), cirq.X), (cirq.LineQubit(0), cirq.Z), (cirq.LineQubit(5), cirq.Y), (cirq.LineQubit(4), cirq.Z)}): (0.0028357900230689724-0.0034901564221256984j), frozenset({(cirq.LineQubit(2), cirq.Y), (cirq.LineQubit(3), cirq.X), (cirq.LineQubit(1), cirq.X), (cirq.LineQubit(5), cirq.Y), (cirq.LineQubit(6), cirq.Z), (cirq.LineQubit(4), cirq.Z), (cirq.LineQubit(0), cirq.X)}): (-0.0034901564221256984-0.0028357900230689724j), frozenset({(cirq.LineQubit(1), cirq.X), (cirq.LineQubit(5), cirq.Y), (cirq.LineQubit(4), cirq.Z), (cirq.LineQubit(3), cirq.Z), (cirq.LineQubit(0), cirq.X)}): (0.002835790023068974-0.0034901564221257006j), frozenset({(cirq.LineQubit(1), cirq.X), (cirq.LineQubit(6), cirq.Z), (cirq.LineQubit(3), cirq.Z), (cirq.LineQubit(2), cirq.Y), (cirq.LineQubit(0), cirq.X)}): (-0.0028357900230689724+0.0034901564221256984j), frozenset({(cirq.LineQubit(3), cirq.X), (cirq.LineQubit(1), cirq.X), (cirq.LineQubit(0), cirq.X)}): (0.0034901564221257006+0.002835790023068974j), frozenset({(cirq.LineQubit(3), cirq.X), (cirq.LineQubit(1), cirq.X), (cirq.LineQubit(0), cirq.Z), (cirq.LineQubit(6), cirq.Z), (cirq.LineQubit(2), cirq.Y)}): (-0.002835790023068974+0.0034901564221257006j), frozenset({(cirq.LineQubit(3), cirq.Z), (cirq.LineQubit(1), cirq.X), (cirq.LineQubit(0), cirq.Z)}): (-0.0034901564221257028-0.002835790023068976j), frozenset({(cirq.LineQubit(6), cirq.Y), (cirq.LineQubit(5), cirq.Z), (cirq.LineQubit(1), cirq.X), (cirq.LineQubit(4), cirq.Z), (cirq.LineQubit(3), cirq.Z), (cirq.LineQubit(0), cirq.X)}): (-0.023571367536864382+0j), frozenset({(cirq.LineQubit(6), cirq.X), (cirq.LineQubit(5), cirq.Z), (cirq.LineQubit(2), cirq.Y), (cirq.LineQubit(3), cirq.X), (cirq.LineQubit(1), cirq.X), (cirq.LineQubit(4), cirq.Z), (cirq.LineQubit(0), cirq.X)}): (-0.004194753125451925+0j), frozenset({(cirq.LineQubit(5), cirq.Z), (cirq.LineQubit(3), cirq.X), (cirq.LineQubit(1), cirq.X), (cirq.LineQubit(0), cirq.Z), (cirq.LineQubit(4), cirq.Z), (cirq.LineQubit(6), cirq.Y)}): (0.006518329190269521+0j), frozenset({(cirq.LineQubit(6), cirq.X), (cirq.LineQubit(5), cirq.Z), (cirq.LineQubit(1), cirq.X), (cirq.LineQubit(0), cirq.Z), (cirq.LineQubit(4), cirq.Z), (cirq.LineQubit(3), cirq.Z), (cirq.LineQubit(2), cirq.Y)}): (0.004155594470765434+0j), frozenset({(cirq.LineQubit(3), cirq.Z), (cirq.LineQubit(1), cirq.X), (cirq.LineQubit(0), cirq.Z), (cirq.LineQubit(5), cirq.X), (cirq.LineQubit(6), cirq.Y)}): (0.015171176871948147+0j), frozenset({(cirq.LineQubit(6), cirq.X), (cirq.LineQubit(3), cirq.X), (cirq.LineQubit(1), cirq.X), (cirq.LineQubit(0), cirq.Z), (cirq.LineQubit(5), cirq.X), (cirq.LineQubit(2), cirq.Y)}): (0.013907117185836905+0j), frozenset({(cirq.LineQubit(3), cirq.X), (cirq.LineQubit(1), cirq.X), (cirq.LineQubit(5), cirq.X), (cirq.LineQubit(6), cirq.Y), (cirq.LineQubit(0), cirq.X)}): (0.00976687710206273+0j), frozenset({(cirq.LineQubit(6), cirq.X), (cirq.LineQubit(1), cirq.X), (cirq.LineQubit(5), cirq.X), (cirq.LineQubit(3), cirq.Z), (cirq.LineQubit(2), cirq.Y), (cirq.LineQubit(0), cirq.X)}): (0.00019987333442604387+0j), frozenset({(cirq.LineQubit(5), cirq.Z), (cirq.LineQubit(3), cirq.Z), (cirq.LineQubit(1), cirq.X), (cirq.LineQubit(6), cirq.Y), (cirq.LineQubit(0), cirq.X)}): (-0.0050237580078571625+0j), frozenset({(cirq.LineQubit(6), cirq.X), (cirq.LineQubit(5), cirq.Z), (cirq.LineQubit(3), cirq.X), (cirq.LineQubit(1), cirq.X), (cirq.LineQubit(2), cirq.Y), (cirq.LineQubit(0), cirq.X)}): (-0.0037596983217459156+0j), frozenset({(cirq.LineQubit(5), cirq.Z), (cirq.LineQubit(3), cirq.X), (cirq.LineQubit(1), cirq.X), (cirq.LineQubit(0), cirq.Z), (cirq.LineQubit(6), cirq.Y)}): (0.019130748528120117+0j), frozenset({(cirq.LineQubit(6), cirq.X), (cirq.LineQubit(5), cirq.Z), (cirq.LineQubit(1), cirq.X), (cirq.LineQubit(0), cirq.Z), (cirq.LineQubit(3), cirq.Z), (cirq.LineQubit(2), cirq.Y)}): (-0.009163998091631346+0j), frozenset({(cirq.LineQubit(6), cirq.Y), (cirq.LineQubit(1), cirq.X), (cirq.LineQubit(0), cirq.Z), (cirq.LineQubit(5), cirq.X), (cirq.LineQubit(4), cirq.Z), (cirq.LineQubit(3), cirq.Z)}): (-0.0106124744959806+0j), frozenset({(cirq.LineQubit(6), cirq.X), (cirq.LineQubit(3), cirq.X), (cirq.LineQubit(1), cirq.X), (cirq.LineQubit(0), cirq.Z), (cirq.LineQubit(5), cirq.X), (cirq.LineQubit(4), cirq.Z), (cirq.LineQubit(2), cirq.Y)}): (-0.029989088907393102+0j), frozenset({(cirq.LineQubit(3), cirq.X), (cirq.LineQubit(1), cirq.X), (cirq.LineQubit(5), cirq.X), (cirq.LineQubit(4), cirq.Z), (cirq.LineQubit(6), cirq.Y), (cirq.LineQubit(0), cirq.X)}): (-0.0022621268997632393+0j), frozenset({(cirq.LineQubit(6), cirq.X), (cirq.LineQubit(2), cirq.Y), (cirq.LineQubit(1), cirq.X), (cirq.LineQubit(5), cirq.X), (cirq.LineQubit(4), cirq.Z), (cirq.LineQubit(3), cirq.Z), (cirq.LineQubit(0), cirq.X)}): (0.012936050560798214+0j), frozenset({(cirq.LineQubit(2), cirq.X), (cirq.LineQubit(1), cirq.X), (cirq.LineQubit(5), cirq.Y), (cirq.LineQubit(0), cirq.Y), (cirq.LineQubit(6), cirq.Y)}): (-0.007991353103435496+0j), frozenset({(cirq.LineQubit(6), cirq.X), (cirq.LineQubit(1), cirq.X), (cirq.LineQubit(5), cirq.Y), (cirq.LineQubit(0), cirq.Y), (cirq.LineQubit(3), cirq.Y), (cirq.LineQubit(2), cirq.Z)}): (-0.002682570557599466+0j), frozenset({(cirq.LineQubit(2), cirq.X), (cirq.LineQubit(1), cirq.X), (cirq.LineQubit(5), cirq.Y), (cirq.LineQubit(6), cirq.Y), (cirq.LineQubit(3), cirq.Y)}): (0.02209834362369846+0j), frozenset({(cirq.LineQubit(6), cirq.X), (cirq.LineQubit(1), cirq.X), (cirq.LineQubit(2), cirq.Z), (cirq.LineQubit(5), cirq.Y)}): (-0.002721729212285963+0j), frozenset({(cirq.LineQubit(2), cirq.X), (cirq.LineQubit(4), cirq.Z), (cirq.LineQubit(1), cirq.X), (cirq.LineQubit(6), cirq.Y)}): (0.008293853188896767+0j), frozenset({(cirq.LineQubit(6), cirq.X), (cirq.LineQubit(1), cirq.X), (cirq.LineQubit(4), cirq.Z), (cirq.LineQubit(3), cirq.Y), (cirq.LineQubit(2), cirq.Z)}): (0.0016728972475920168+0j), frozenset({(cirq.LineQubit(1), cirq.X), (cirq.LineQubit(2), cirq.X), (cirq.LineQubit(0), cirq.Y), (cirq.LineQubit(4), cirq.Z), (cirq.LineQubit(6), cirq.Y), (cirq.LineQubit(3), cirq.Y)}): (-0.01664420078511415+0j), frozenset({(cirq.LineQubit(6), cirq.X), (cirq.LineQubit(1), cirq.X), (cirq.LineQubit(0), cirq.Y), (cirq.LineQubit(4), cirq.Z), (cirq.LineQubit(2), cirq.Z)}): (0.015380141099002905+0j), frozenset({(cirq.LineQubit(1), cirq.X), (cirq.LineQubit(2), cirq.X), (cirq.LineQubit(5), cirq.Y), (cirq.LineQubit(0), cirq.Y), (cirq.LineQubit(4), cirq.Z), (cirq.LineQubit(6), cirq.Y)}): (-0.020603772441286097+0j), frozenset({(cirq.LineQubit(6), cirq.X), (cirq.LineQubit(1), cirq.X), (cirq.LineQubit(5), cirq.Y), (cirq.LineQubit(0), cirq.Y), (cirq.LineQubit(4), cirq.Z), (cirq.LineQubit(3), cirq.Y), (cirq.LineQubit(2), cirq.Z)}): (0.010637022004797325+0j), frozenset({(cirq.LineQubit(2), cirq.X), (cirq.LineQubit(1), cirq.X), (cirq.LineQubit(5), cirq.Y), (cirq.LineQubit(4), cirq.Z), (cirq.LineQubit(6), cirq.Y), (cirq.LineQubit(3), cirq.Y)}): (0.0035507340946912018+0j), frozenset({(cirq.LineQubit(6), cirq.X), (cirq.LineQubit(1), cirq.X), (cirq.LineQubit(5), cirq.Y), (cirq.LineQubit(4), cirq.Z), (cirq.LineQubit(2), cirq.Z)}): (-0.00228667440857995+0j), frozenset({(cirq.LineQubit(2), cirq.X), (cirq.LineQubit(6), cirq.Y), (cirq.LineQubit(1), cirq.X)}): (-0.0037351508129292122+0j), frozenset({(cirq.LineQubit(6), cirq.X), (cirq.LineQubit(1), cirq.X), (cirq.LineQubit(3), cirq.Y), (cirq.LineQubit(2), cirq.Z)}): (0.014409074473964195+0j), frozenset({(cirq.LineQubit(2), cirq.X), (cirq.LineQubit(1), cirq.X), (cirq.LineQubit(0), cirq.Y), (cirq.LineQubit(6), cirq.Y), (cirq.LineQubit(3), cirq.Y)}): (0.00913945058281465+0j), frozenset({(cirq.LineQubit(0), cirq.Y), (cirq.LineQubit(6), cirq.X), (cirq.LineQubit(1), cirq.X), (cirq.LineQubit(2), cirq.Z)}): (-0.028516064994227187+0j), frozenset({(cirq.LineQubit(1), cirq.Y), (cirq.LineQubit(5), cirq.Z), (cirq.LineQubit(2), cirq.X), (cirq.LineQubit(6), cirq.Z), (cirq.LineQubit(4), cirq.Z), (cirq.LineQubit(3), cirq.Z), (cirq.LineQubit(0), cirq.X)}): (-0.015332539854991261+0j), frozenset({(cirq.LineQubit(1), cirq.Y), (cirq.LineQubit(5), cirq.Z), (cirq.LineQubit(3), cirq.X), (cirq.LineQubit(4), cirq.Z), (cirq.LineQubit(2), cirq.Z), (cirq.LineQubit(0), cirq.X)}): (0.00013436239442982806+0j), frozenset({(cirq.LineQubit(5), cirq.Z), (cirq.LineQubit(3), cirq.X), (cirq.LineQubit(2), cirq.X), (cirq.LineQubit(0), cirq.Z), (cirq.LineQubit(6), cirq.Z), (cirq.LineQubit(4), cirq.Z), (cirq.LineQubit(1), cirq.Y)}): (0.027592599613200035+0j), frozenset({(cirq.LineQubit(5), cirq.Z), (cirq.LineQubit(0), cirq.Z), (cirq.LineQubit(4), cirq.Z), (cirq.LineQubit(3), cirq.Z), (cirq.LineQubit(2), cirq.Z), (cirq.LineQubit(1), cirq.Y)}): (-0.013008963790173685+0j), frozenset({(cirq.LineQubit(2), cirq.X), (cirq.LineQubit(0), cirq.Z), (cirq.LineQubit(6), cirq.Z), (cirq.LineQubit(5), cirq.X), (cirq.LineQubit(3), cirq.Z), (cirq.LineQubit(1), cirq.Y)}): (-0.011560487385824415+0j), frozenset({(cirq.LineQubit(3), cirq.X), (cirq.LineQubit(0), cirq.Z), (cirq.LineQubit(5), cirq.X), (cirq.LineQubit(2), cirq.Z), (cirq.LineQubit(1), cirq.Y)}): (-0.016734259233927073+0j), frozenset({(cirq.LineQubit(1), cirq.Y), (cirq.LineQubit(3), cirq.X), (cirq.LineQubit(2), cirq.X), (cirq.LineQubit(6), cirq.Z), (cirq.LineQubit(5), cirq.X), (cirq.LineQubit(0), cirq.X)}): (-0.0013632090275528521+0j), frozenset({(cirq.LineQubit(1), cirq.Y), (cirq.LineQubit(5), cirq.X), (cirq.LineQubit(3), cirq.Z), (cirq.LineQubit(2), cirq.Z), (cirq.LineQubit(0), cirq.X)}): (0.007420247302050249+0j), frozenset({(cirq.LineQubit(1), cirq.Y), (cirq.LineQubit(5), cirq.Z), (cirq.LineQubit(2), cirq.X), (cirq.LineQubit(6), cirq.Z), (cirq.LineQubit(3), cirq.Z), (cirq.LineQubit(0), cirq.X)}): (0.0021966159597670235+0j), frozenset({(cirq.LineQubit(1), cirq.Y), (cirq.LineQubit(5), cirq.Z), (cirq.LineQubit(3), cirq.X), (cirq.LineQubit(2), cirq.Z), (cirq.LineQubit(0), cirq.X)}): (0.007370387807869675+0j), frozenset({(cirq.LineQubit(5), cirq.Z), (cirq.LineQubit(3), cirq.X), (cirq.LineQubit(2), cirq.X), (cirq.LineQubit(0), cirq.Z), (cirq.LineQubit(6), cirq.Z), (cirq.LineQubit(1), cirq.Y)}): (-0.011510627891643855+0j), frozenset({(cirq.LineQubit(5), cirq.Z), (cirq.LineQubit(0), cirq.Z), (cirq.LineQubit(3), cirq.Z), (cirq.LineQubit(2), cirq.Z), (cirq.LineQubit(1), cirq.Y)}): (0.017567666166141256+0j), frozenset({(cirq.LineQubit(2), cirq.X), (cirq.LineQubit(0), cirq.Z), (cirq.LineQubit(6), cirq.Z), (cirq.LineQubit(5), cirq.X), (cirq.LineQubit(4), cirq.Z), (cirq.LineQubit(3), cirq.Z), (cirq.LineQubit(1), cirq.Y)}): (0.006552083764958508+0j), frozenset({(cirq.LineQubit(3), cirq.X), (cirq.LineQubit(0), cirq.Z), (cirq.LineQubit(5), cirq.X), (cirq.LineQubit(4), cirq.Z), (cirq.LineQubit(2), cirq.Z), (cirq.LineQubit(1), cirq.Y)}): (-0.008914818484462607+0j), frozenset({(cirq.LineQubit(1), cirq.Y), (cirq.LineQubit(3), cirq.X), (cirq.LineQubit(2), cirq.X), (cirq.LineQubit(6), cirq.Z), (cirq.LineQubit(5), cirq.X), (cirq.LineQubit(4), cirq.Z), (cirq.LineQubit(0), cirq.X)}): (-0.006591242419645007+0j), frozenset({(cirq.LineQubit(1), cirq.Y), (cirq.LineQubit(5), cirq.X), (cirq.LineQubit(4), cirq.Z), (cirq.LineQubit(3), cirq.Z), (cirq.LineQubit(2), cirq.Z), (cirq.LineQubit(0), cirq.X)}): (0.021174878242671405+0j), frozenset({(cirq.LineQubit(0), cirq.Y), (cirq.LineQubit(6), cirq.Z), (cirq.LineQubit(1), cirq.Y), (cirq.LineQubit(5), cirq.Y)}): (-0.026119575700034085+0j), frozenset({(cirq.LineQubit(1), cirq.Y), (cirq.LineQubit(5), cirq.Y), (cirq.LineQubit(0), cirq.Y), (cirq.LineQubit(3), cirq.Y), (cirq.LineQubit(2), cirq.Y)}): (-0.011535939877007722+0j), frozenset({(cirq.LineQubit(6), cirq.Z), (cirq.LineQubit(3), cirq.Y), (cirq.LineQubit(1), cirq.Y), (cirq.LineQubit(5), cirq.Y)}): (0.016805563768157266+0j), frozenset({(cirq.LineQubit(2), cirq.Y), (cirq.LineQubit(1), cirq.Y), (cirq.LineQubit(5), cirq.Y)}): (0.001338661518736144+0j), frozenset({(cirq.LineQubit(4), cirq.Z), (cirq.LineQubit(6), cirq.Z), (cirq.LineQubit(1), cirq.Y)}): (0.00010981488561312078+0j), frozenset({(cirq.LineQubit(4), cirq.Z), (cirq.LineQubit(2), cirq.Y), (cirq.LineQubit(3), cirq.Y), (cirq.LineQubit(1), cirq.Y)}): (-0.00594722338888428+0j), frozenset({(cirq.LineQubit(0), cirq.Y), (cirq.LineQubit(6), cirq.Z), (cirq.LineQubit(4), cirq.Z), (cirq.LineQubit(3), cirq.Y), (cirq.LineQubit(1), cirq.Y)}): (0.013033511298990412+0j), frozenset({(cirq.LineQubit(0), cirq.Y), (cirq.LineQubit(4), cirq.Z), (cirq.LineQubit(2), cirq.Y), (cirq.LineQubit(1), cirq.Y)}): (0.01820728314709308+0j), frozenset({(cirq.LineQubit(5), cirq.Y), (cirq.LineQubit(0), cirq.Y), (cirq.LineQubit(6), cirq.Z), (cirq.LineQubit(4), cirq.Z), (cirq.LineQubit(1), cirq.Y)}): (0.012983651804809836+0j), frozenset({(cirq.LineQubit(2), cirq.Y), (cirq.LineQubit(5), cirq.Y), (cirq.LineQubit(0), cirq.Y), (cirq.LineQubit(4), cirq.Z), (cirq.LineQubit(3), cirq.Y), (cirq.LineQubit(1), cirq.Y)}): (0.019040690079307244+0j), frozenset({(cirq.LineQubit(5), cirq.Y), (cirq.LineQubit(6), cirq.Z), (cirq.LineQubit(4), cirq.Z), (cirq.LineQubit(3), cirq.Y), (cirq.LineQubit(1), cirq.Y)}): (-0.0007235920466010515+0j), frozenset({(cirq.LineQubit(4), cirq.Z), (cirq.LineQubit(2), cirq.Y), (cirq.LineQubit(1), cirq.Y), (cirq.LineQubit(5), cirq.Y)}): (-0.005897363894703717+0j), frozenset({(cirq.LineQubit(6), cirq.Z), (cirq.LineQubit(1), cirq.Y)}): (-0.005118218506479043+0j), frozenset({(cirq.LineQubit(2), cirq.Y), (cirq.LineQubit(3), cirq.Y), (cirq.LineQubit(1), cirq.Y)}): (-0.01970185432950544+0j), frozenset({(cirq.LineQubit(0), cirq.Y), (cirq.LineQubit(6), cirq.Z), (cirq.LineQubit(3), cirq.Y), (cirq.LineQubit(1), cirq.Y)}): (-0.005079059851792548+0j), frozenset({(cirq.LineQubit(0), cirq.Y), (cirq.LineQubit(2), cirq.Y), (cirq.LineQubit(1), cirq.Y)}): (0.010387842397628598+0j), frozenset({(cirq.LineQubit(6), cirq.Y), (cirq.LineQubit(5), cirq.Z), (cirq.LineQubit(0), cirq.Z), (cirq.LineQubit(4), cirq.Z), (cirq.LineQubit(3), cirq.Z), (cirq.LineQubit(1), cirq.Z), (cirq.LineQubit(2), cirq.Y)}): (-0.023571367536864382+0j), frozenset({(cirq.LineQubit(6), cirq.X), (cirq.LineQubit(5), cirq.Z), (cirq.LineQubit(3), cirq.X), (cirq.LineQubit(0), cirq.Z), (cirq.LineQubit(4), cirq.Z), (cirq.LineQubit(1), cirq.Z)}): (-0.004194753125451925+0j), frozenset({(cirq.LineQubit(5), cirq.Z), (cirq.LineQubit(2), cirq.Y), (cirq.LineQubit(3), cirq.X), (cirq.LineQubit(4), cirq.Z), (cirq.LineQubit(6), cirq.Y), (cirq.LineQubit(1), cirq.Z), (cirq.LineQubit(0), cirq.X)}): (-0.006518329190269521+0j), frozenset({(cirq.LineQubit(6), cirq.X), (cirq.LineQubit(5), cirq.Z), (cirq.LineQubit(4), cirq.Z), (cirq.LineQubit(3), cirq.Z), (cirq.LineQubit(1), cirq.Z), (cirq.LineQubit(0), cirq.X)}): (-0.004155594470765434+0j), frozenset({(cirq.LineQubit(6), cirq.Y), (cirq.LineQubit(5), cirq.X), (cirq.LineQubit(3), cirq.Z), (cirq.LineQubit(1), cirq.Z), (cirq.LineQubit(2), cirq.Y), (cirq.LineQubit(0), cirq.X)}): (-0.015171176871948147+0j), frozenset({(cirq.LineQubit(6), cirq.X), (cirq.LineQubit(3), cirq.X), (cirq.LineQubit(5), cirq.X), (cirq.LineQubit(1), cirq.Z), (cirq.LineQubit(0), cirq.X)}): (-0.013907117185836905+0j), frozenset({(cirq.LineQubit(3), cirq.X), (cirq.LineQubit(0), cirq.Z), (cirq.LineQubit(5), cirq.X), (cirq.LineQubit(6), cirq.Y), (cirq.LineQubit(1), cirq.Z), (cirq.LineQubit(2), cirq.Y)}): (0.00976687710206273+0j), frozenset({(cirq.LineQubit(6), cirq.X), (cirq.LineQubit(0), cirq.Z), (cirq.LineQubit(5), cirq.X), (cirq.LineQubit(3), cirq.Z), (cirq.LineQubit(1), cirq.Z)}): (0.00019987333442604387+0j), frozenset({(cirq.LineQubit(6), cirq.Y), (cirq.LineQubit(5), cirq.Z), (cirq.LineQubit(0), cirq.Z), (cirq.LineQubit(3), cirq.Z), (cirq.LineQubit(1), cirq.Z), (cirq.LineQubit(2), cirq.Y)}): (-0.0050237580078571625+0j), frozenset({(cirq.LineQubit(6), cirq.X), (cirq.LineQubit(5), cirq.Z), (cirq.LineQubit(3), cirq.X), (cirq.LineQubit(0), cirq.Z), (cirq.LineQubit(1), cirq.Z)}): (-0.0037596983217459156+0j), frozenset({(cirq.LineQubit(5), cirq.Z), (cirq.LineQubit(3), cirq.X), (cirq.LineQubit(6), cirq.Y), (cirq.LineQubit(1), cirq.Z), (cirq.LineQubit(2), cirq.Y), (cirq.LineQubit(0), cirq.X)}): (-0.019130748528120117+0j), frozenset({(cirq.LineQubit(6), cirq.X), (cirq.LineQubit(5), cirq.Z), (cirq.LineQubit(3), cirq.Z), (cirq.LineQubit(1), cirq.Z), (cirq.LineQubit(0), cirq.X)}): (0.009163998091631346+0j), frozenset({(cirq.LineQubit(6), cirq.Y), (cirq.LineQubit(2), cirq.Y), (cirq.LineQubit(5), cirq.X), (cirq.LineQubit(4), cirq.Z), (cirq.LineQubit(3), cirq.Z), (cirq.LineQubit(1), cirq.Z), (cirq.LineQubit(0), cirq.X)}): (0.0106124744959806+0j), frozenset({(cirq.LineQubit(6), cirq.X), (cirq.LineQubit(3), cirq.X), (cirq.LineQubit(5), cirq.X), (cirq.LineQubit(4), cirq.Z), (cirq.LineQubit(1), cirq.Z), (cirq.LineQubit(0), cirq.X)}): (0.029989088907393102+0j), frozenset({(cirq.LineQubit(3), cirq.X), (cirq.LineQubit(0), cirq.Z), (cirq.LineQubit(5), cirq.X), (cirq.LineQubit(4), cirq.Z), (cirq.LineQubit(6), cirq.Y), (cirq.LineQubit(1), cirq.Z), (cirq.LineQubit(2), cirq.Y)}): (-0.0022621268997632393+0j), frozenset({(cirq.LineQubit(6), cirq.X), (cirq.LineQubit(0), cirq.Z), (cirq.LineQubit(5), cirq.X), (cirq.LineQubit(4), cirq.Z), (cirq.LineQubit(3), cirq.Z), (cirq.LineQubit(1), cirq.Z)}): (0.012936050560798214+0j), frozenset({(cirq.LineQubit(2), cirq.Z), (cirq.LineQubit(6), cirq.Y), (cirq.LineQubit(1), cirq.Z), (cirq.LineQubit(5), cirq.Y)}): (-0.007991353103435496+0j), frozenset({(cirq.LineQubit(6), cirq.X), (cirq.LineQubit(2), cirq.X), (cirq.LineQubit(5), cirq.Y), (cirq.LineQubit(3), cirq.Y), (cirq.LineQubit(1), cirq.Z)}): (0.002682570557599466+0j), frozenset({(cirq.LineQubit(1), cirq.Z), (cirq.LineQubit(5), cirq.Y), (cirq.LineQubit(0), cirq.Y), (cirq.LineQubit(6), cirq.Y), (cirq.LineQubit(3), cirq.Y), (cirq.LineQubit(2), cirq.Z)}): (0.02209834362369846+0j), frozenset({(cirq.LineQubit(6), cirq.X), (cirq.LineQubit(2), cirq.X), (cirq.LineQubit(5), cirq.Y), (cirq.LineQubit(0), cirq.Y), (cirq.LineQubit(1), cirq.Z)}): (0.002721729212285963+0j), frozenset({(cirq.LineQubit(0), cirq.Y), (cirq.LineQubit(4), cirq.Z), (cirq.LineQubit(6), cirq.Y), (cirq.LineQubit(1), cirq.Z), (cirq.LineQubit(2), cirq.Z)}): (0.008293853188896767+0j), frozenset({(cirq.LineQubit(1), cirq.Z), (cirq.LineQubit(6), cirq.X), (cirq.LineQubit(2), cirq.X), (cirq.LineQubit(0), cirq.Y), (cirq.LineQubit(4), cirq.Z), (cirq.LineQubit(3), cirq.Y)}): (-0.0016728972475920168+0j), frozenset({(cirq.LineQubit(1), cirq.Z), (cirq.LineQubit(4), cirq.Z), (cirq.LineQubit(6), cirq.Y), (cirq.LineQubit(3), cirq.Y), (cirq.LineQubit(2), cirq.Z)}): (-0.01664420078511415+0j), frozenset({(cirq.LineQubit(4), cirq.Z), (cirq.LineQubit(6), cirq.X), (cirq.LineQubit(2), cirq.X), (cirq.LineQubit(1), cirq.Z)}): (-0.015380141099002905+0j), frozenset({(cirq.LineQubit(1), cirq.Z), (cirq.LineQubit(5), cirq.Y), (cirq.LineQubit(4), cirq.Z), (cirq.LineQubit(6), cirq.Y), (cirq.LineQubit(2), cirq.Z)}): (-0.020603772441286097+0j), frozenset({(cirq.LineQubit(1), cirq.Z), (cirq.LineQubit(6), cirq.X), (cirq.LineQubit(2), cirq.X), (cirq.LineQubit(5), cirq.Y), (cirq.LineQubit(4), cirq.Z), (cirq.LineQubit(3), cirq.Y)}): (-0.010637022004797325+0j), frozenset({(cirq.LineQubit(1), cirq.Z), (cirq.LineQubit(5), cirq.Y), (cirq.LineQubit(0), cirq.Y), (cirq.LineQubit(4), cirq.Z), (cirq.LineQubit(6), cirq.Y), (cirq.LineQubit(3), cirq.Y), (cirq.LineQubit(2), cirq.Z)}): (0.0035507340946912018+0j), frozenset({(cirq.LineQubit(6), cirq.X), (cirq.LineQubit(2), cirq.X), (cirq.LineQubit(5), cirq.Y), (cirq.LineQubit(0), cirq.Y), (cirq.LineQubit(4), cirq.Z), (cirq.LineQubit(1), cirq.Z)}): (0.00228667440857995+0j), frozenset({(cirq.LineQubit(0), cirq.Y), (cirq.LineQubit(6), cirq.Y), (cirq.LineQubit(1), cirq.Z), (cirq.LineQubit(2), cirq.Z)}): (-0.0037351508129292122+0j), frozenset({(cirq.LineQubit(6), cirq.X), (cirq.LineQubit(2), cirq.X), (cirq.LineQubit(0), cirq.Y), (cirq.LineQubit(3), cirq.Y), (cirq.LineQubit(1), cirq.Z)}): (-0.014409074473964195+0j), frozenset({(cirq.LineQubit(1), cirq.Z), (cirq.LineQubit(6), cirq.Y), (cirq.LineQubit(3), cirq.Y), (cirq.LineQubit(2), cirq.Z)}): (0.00913945058281465+0j), frozenset({(cirq.LineQubit(6), cirq.X), (cirq.LineQubit(2), cirq.X), (cirq.LineQubit(1), cirq.Z)}): (0.028516064994227187+0j), frozenset({(cirq.LineQubit(5), cirq.Z), (cirq.LineQubit(0), cirq.Z), (cirq.LineQubit(6), cirq.Z), (cirq.LineQubit(4), cirq.Z), (cirq.LineQubit(3), cirq.Z), (cirq.LineQubit(2), cirq.Z)}): (-0.015332539854991261+0j), frozenset({(cirq.LineQubit(5), cirq.Z), (cirq.LineQubit(3), cirq.X), (cirq.LineQubit(2), cirq.X), (cirq.LineQubit(0), cirq.Z), (cirq.LineQubit(4), cirq.Z)}): (-0.00013436239442982806+0j), frozenset({(cirq.LineQubit(5), cirq.Z), (cirq.LineQubit(3), cirq.X), (cirq.LineQubit(6), cirq.Z), (cirq.LineQubit(4), cirq.Z), (cirq.LineQubit(2), cirq.Z), (cirq.LineQubit(0), cirq.X)}): (-0.027592599613200035+0j), frozenset({(cirq.LineQubit(5), cirq.Z), (cirq.LineQubit(2), cirq.X), (cirq.LineQubit(4), cirq.Z), (cirq.LineQubit(3), cirq.Z), (cirq.LineQubit(0), cirq.X)}): (-0.013008963790173685+0j), frozenset({(cirq.LineQubit(6), cirq.Z), (cirq.LineQubit(5), cirq.X), (cirq.LineQubit(3), cirq.Z), (cirq.LineQubit(2), cirq.Z), (cirq.LineQubit(0), cirq.X)}): (0.011560487385824415+0j), frozenset({(cirq.LineQubit(3), cirq.X), (cirq.LineQubit(2), cirq.X), (cirq.LineQubit(5), cirq.X), (cirq.LineQubit(0), cirq.X)}): (-0.016734259233927073+0j), frozenset({(cirq.LineQubit(3), cirq.X), (cirq.LineQubit(0), cirq.Z), (cirq.LineQubit(6), cirq.Z), (cirq.LineQubit(5), cirq.X), (cirq.LineQubit(2), cirq.Z)}): (-0.0013632090275528521+0j), frozenset({(cirq.LineQubit(2), cirq.X), (cirq.LineQubit(3), cirq.Z), (cirq.LineQubit(5), cirq.X), (cirq.LineQubit(0), cirq.Z)}): (-0.007420247302050249+0j), frozenset({(cirq.LineQubit(5), cirq.Z), (cirq.LineQubit(0), cirq.Z), (cirq.LineQubit(6), cirq.Z), (cirq.LineQubit(3), cirq.Z), (cirq.LineQubit(2), cirq.Z)}): (0.0021966159597670235+0j), frozenset({(cirq.LineQubit(0), cirq.Z), (cirq.LineQubit(3), cirq.X), (cirq.LineQubit(2), cirq.X), (cirq.LineQubit(5), cirq.Z)}): (-0.007370387807869675+0j), frozenset({(cirq.LineQubit(5), cirq.Z), (cirq.LineQubit(3), cirq.X), (cirq.LineQubit(6), cirq.Z), (cirq.LineQubit(2), cirq.Z), (cirq.LineQubit(0), cirq.X)}): (0.011510627891643855+0j), frozenset({(cirq.LineQubit(2), cirq.X), (cirq.LineQubit(3), cirq.Z), (cirq.LineQubit(0), cirq.X), (cirq.LineQubit(5), cirq.Z)}): (0.017567666166141256+0j), frozenset({(cirq.LineQubit(6), cirq.Z), (cirq.LineQubit(5), cirq.X), (cirq.LineQubit(4), cirq.Z), (cirq.LineQubit(3), cirq.Z), (cirq.LineQubit(2), cirq.Z), (cirq.LineQubit(0), cirq.X)}): (-0.006552083764958508+0j), frozenset({(cirq.LineQubit(3), cirq.X), (cirq.LineQubit(2), cirq.X), (cirq.LineQubit(5), cirq.X), (cirq.LineQubit(4), cirq.Z), (cirq.LineQubit(0), cirq.X)}): (-0.008914818484462607+0j), frozenset({(cirq.LineQubit(3), cirq.X), (cirq.LineQubit(0), cirq.Z), (cirq.LineQubit(6), cirq.Z), (cirq.LineQubit(5), cirq.X), (cirq.LineQubit(4), cirq.Z), (cirq.LineQubit(2), cirq.Z)}): (-0.006591242419645007+0j), frozenset({(cirq.LineQubit(2), cirq.X), (cirq.LineQubit(0), cirq.Z), (cirq.LineQubit(5), cirq.X), (cirq.LineQubit(4), cirq.Z), (cirq.LineQubit(3), cirq.Z)}): (-0.021174878242671405+0j), frozenset({(cirq.LineQubit(6), cirq.Z), (cirq.LineQubit(2), cirq.Y), (cirq.LineQubit(5), cirq.Y)}): (0.026119575700034085+0j), frozenset({(cirq.LineQubit(3), cirq.Y), (cirq.LineQubit(5), cirq.Y)}): (0.011535939877007722+0j), frozenset({(cirq.LineQubit(5), cirq.Y), (cirq.LineQubit(0), cirq.Y), (cirq.LineQubit(6), cirq.Z), (cirq.LineQubit(3), cirq.Y), (cirq.LineQubit(2), cirq.Y)}): (-0.016805563768157266+0j), frozenset({(cirq.LineQubit(0), cirq.Y), (cirq.LineQubit(5), cirq.Y)}): (-0.001338661518736144+0j), frozenset({(cirq.LineQubit(0), cirq.Y), (cirq.LineQubit(4), cirq.Z), (cirq.LineQubit(6), cirq.Z), (cirq.LineQubit(2), cirq.Y)}): (-0.00010981488561312078+0j), frozenset({(cirq.LineQubit(0), cirq.Y), (cirq.LineQubit(4), cirq.Z), (cirq.LineQubit(3), cirq.Y)}): (0.00594722338888428+0j), frozenset({(cirq.LineQubit(4), cirq.Z), (cirq.LineQubit(6), cirq.Z), (cirq.LineQubit(3), cirq.Y), (cirq.LineQubit(2), cirq.Y)}): (-0.013033511298990412+0j), frozenset({(cirq.LineQubit(4), cirq.Z)}): (-0.01820728314709308+0j), frozenset({(cirq.LineQubit(4), cirq.Z), (cirq.LineQubit(6), cirq.Z), (cirq.LineQubit(2), cirq.Y), (cirq.LineQubit(5), cirq.Y)}): (-0.012983651804809836+0j), frozenset({(cirq.LineQubit(4), cirq.Z), (cirq.LineQubit(3), cirq.Y), (cirq.LineQubit(5), cirq.Y)}): (-0.019040690079307244+0j), frozenset({(cirq.LineQubit(5), cirq.Y), (cirq.LineQubit(0), cirq.Y), (cirq.LineQubit(6), cirq.Z), (cirq.LineQubit(4), cirq.Z), (cirq.LineQubit(3), cirq.Y), (cirq.LineQubit(2), cirq.Y)}): (0.0007235920466010515+0j), frozenset({(cirq.LineQubit(0), cirq.Y), (cirq.LineQubit(4), cirq.Z), (cirq.LineQubit(5), cirq.Y)}): (0.005897363894703717+0j), frozenset({(cirq.LineQubit(0), cirq.Y), (cirq.LineQubit(6), cirq.Z), (cirq.LineQubit(2), cirq.Y)}): (0.005118218506479043+0j), frozenset({(cirq.LineQubit(0), cirq.Y), (cirq.LineQubit(3), cirq.Y)}): (0.01970185432950544+0j), frozenset({(cirq.LineQubit(6), cirq.Z), (cirq.LineQubit(3), cirq.Y), (cirq.LineQubit(2), cirq.Y)}): (0.005079059851792548+0j), frozenset(): (-0.010387842397628598+0j)}))"
      ]
     },
     "execution_count": 82,
     "metadata": {},
     "output_type": "execute_result"
    }
   ],
   "source": [
    "d2"
   ]
  },
  {
   "cell_type": "markdown",
   "id": "69cec49d",
   "metadata": {},
   "source": [
    "time evolve pauli sum, project_pauli in .py file, count number of nonzero elements (len), apply measurement"
   ]
  },
  {
   "cell_type": "code",
   "execution_count": null,
   "id": "11dc31d8",
   "metadata": {},
   "outputs": [],
   "source": []
  }
 ],
 "metadata": {
  "kernelspec": {
   "display_name": "Python 3",
   "language": "python",
   "name": "python3"
  },
  "language_info": {
   "codemirror_mode": {
    "name": "ipython",
    "version": 3
   },
   "file_extension": ".py",
   "mimetype": "text/x-python",
   "name": "python",
   "nbconvert_exporter": "python",
   "pygments_lexer": "ipython3",
   "version": "3.8.8"
  },
  "varInspector": {
   "cols": {
    "lenName": 16,
    "lenType": 16,
    "lenVar": 40
   },
   "kernels_config": {
    "python": {
     "delete_cmd_postfix": "",
     "delete_cmd_prefix": "del ",
     "library": "var_list.py",
     "varRefreshCmd": "print(var_dic_list())"
    },
    "r": {
     "delete_cmd_postfix": ") ",
     "delete_cmd_prefix": "rm(",
     "library": "var_list.r",
     "varRefreshCmd": "cat(var_dic_list()) "
    }
   },
   "types_to_exclude": [
    "module",
    "function",
    "builtin_function_or_method",
    "instance",
    "_Feature"
   ],
   "window_display": false
  }
 },
 "nbformat": 4,
 "nbformat_minor": 5
}
